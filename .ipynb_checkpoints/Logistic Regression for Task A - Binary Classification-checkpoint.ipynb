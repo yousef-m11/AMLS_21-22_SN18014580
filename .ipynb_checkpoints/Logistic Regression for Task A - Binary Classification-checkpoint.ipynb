{
 "cells": [
  {
   "cell_type": "markdown",
   "id": "36bc357e",
   "metadata": {},
   "source": [
    "# Applied Machine Learning Systems (MLS-1) - ELEC0134\n",
    "\n",
    "# Final Assignment - Classification of Tumours\n",
    "\n",
    "## Task A - Binary Classification using Logistic Regression\n",
    "\n",
    "## Completed by Student Number - 18014580"
   ]
  },
  {
   "cell_type": "markdown",
   "id": "9025d3cb",
   "metadata": {},
   "source": [
    "This is a Jupyter Notebook submitted as part of the final assignment for the Applied Machine Learning Systems (MLS-1) coursework which involves tumor classification and identification.\n",
    "\n",
    "This particular notebook tests the logistic regression method on Task A to find the accuracy of logistic regression for this particular task."
   ]
  },
  {
   "cell_type": "markdown",
   "id": "adabd67b",
   "metadata": {},
   "source": [
    "### Importing different packages\n",
    "\n",
    "Initially, we must import the different packages needed for this task. The packages required to implement logistic regression for this binary task are pandas, sklearn, numpy and scipy."
   ]
  },
  {
   "cell_type": "code",
   "execution_count": 1,
   "id": "a5b9cb16",
   "metadata": {},
   "outputs": [
    {
     "name": "stdout",
     "output_type": "stream",
     "text": [
      "All imports carried out successfully\n"
     ]
    }
   ],
   "source": [
    "import pandas as pd\n",
    "import numpy as np\n",
    "# import tensorflow as tf\n",
    "from sklearn.model_selection import train_test_split\n",
    "from sklearn.linear_model import LogisticRegression\n",
    "from sklearn.metrics import confusion_matrix, classification_report,accuracy_score\n",
    "\n",
    "from skimage import io\n",
    "from skimage.io import imread, imshow\n",
    "\n",
    "from keras.preprocessing import image\n",
    "import matplotlib.pyplot as plt\n",
    "\n",
    "import os\n",
    "from os import listdir\n",
    "\n",
    "from datetime import datetime\n",
    "\n",
    "print(\"All imports carried out successfully\")"
   ]
  },
  {
   "cell_type": "markdown",
   "id": "280637b1",
   "metadata": {},
   "source": [
    "### Loading the data from the data sets"
   ]
  },
  {
   "cell_type": "code",
   "execution_count": 2,
   "id": "fe838ff6",
   "metadata": {},
   "outputs": [
    {
     "name": "stdout",
     "output_type": "stream",
     "text": [
      "(3000, 2)\n"
     ]
    }
   ],
   "source": [
    "#Loading the CSV file containing the labels\n",
    "tumour_labels = pd.read_csv('./dataset/label.csv')\n",
    "print(tumour_labels.shape) #outputs array with the number of features + feature number\n",
    "tumour_labels.loc[tumour_labels['label']!= 'no_tumor', 'label'] = 'tumor'"
   ]
  },
  {
   "cell_type": "code",
   "execution_count": 3,
   "id": "b3ed5673",
   "metadata": {},
   "outputs": [
    {
     "data": {
      "text/html": [
       "<div>\n",
       "<style scoped>\n",
       "    .dataframe tbody tr th:only-of-type {\n",
       "        vertical-align: middle;\n",
       "    }\n",
       "\n",
       "    .dataframe tbody tr th {\n",
       "        vertical-align: top;\n",
       "    }\n",
       "\n",
       "    .dataframe thead th {\n",
       "        text-align: right;\n",
       "    }\n",
       "</style>\n",
       "<table border=\"1\" class=\"dataframe\">\n",
       "  <thead>\n",
       "    <tr style=\"text-align: right;\">\n",
       "      <th></th>\n",
       "      <th>file_name</th>\n",
       "      <th>label</th>\n",
       "    </tr>\n",
       "  </thead>\n",
       "  <tbody>\n",
       "    <tr>\n",
       "      <th>0</th>\n",
       "      <td>IMAGE_0000.jpg</td>\n",
       "      <td>tumor</td>\n",
       "    </tr>\n",
       "    <tr>\n",
       "      <th>1</th>\n",
       "      <td>IMAGE_0001.jpg</td>\n",
       "      <td>no_tumor</td>\n",
       "    </tr>\n",
       "    <tr>\n",
       "      <th>2</th>\n",
       "      <td>IMAGE_0002.jpg</td>\n",
       "      <td>tumor</td>\n",
       "    </tr>\n",
       "    <tr>\n",
       "      <th>3</th>\n",
       "      <td>IMAGE_0003.jpg</td>\n",
       "      <td>tumor</td>\n",
       "    </tr>\n",
       "    <tr>\n",
       "      <th>4</th>\n",
       "      <td>IMAGE_0004.jpg</td>\n",
       "      <td>tumor</td>\n",
       "    </tr>\n",
       "    <tr>\n",
       "      <th>...</th>\n",
       "      <td>...</td>\n",
       "      <td>...</td>\n",
       "    </tr>\n",
       "    <tr>\n",
       "      <th>2995</th>\n",
       "      <td>IMAGE_2995.jpg</td>\n",
       "      <td>no_tumor</td>\n",
       "    </tr>\n",
       "    <tr>\n",
       "      <th>2996</th>\n",
       "      <td>IMAGE_2996.jpg</td>\n",
       "      <td>tumor</td>\n",
       "    </tr>\n",
       "    <tr>\n",
       "      <th>2997</th>\n",
       "      <td>IMAGE_2997.jpg</td>\n",
       "      <td>tumor</td>\n",
       "    </tr>\n",
       "    <tr>\n",
       "      <th>2998</th>\n",
       "      <td>IMAGE_2998.jpg</td>\n",
       "      <td>tumor</td>\n",
       "    </tr>\n",
       "    <tr>\n",
       "      <th>2999</th>\n",
       "      <td>IMAGE_2999.jpg</td>\n",
       "      <td>tumor</td>\n",
       "    </tr>\n",
       "  </tbody>\n",
       "</table>\n",
       "<p>3000 rows × 2 columns</p>\n",
       "</div>"
      ],
      "text/plain": [
       "           file_name     label\n",
       "0     IMAGE_0000.jpg     tumor\n",
       "1     IMAGE_0001.jpg  no_tumor\n",
       "2     IMAGE_0002.jpg     tumor\n",
       "3     IMAGE_0003.jpg     tumor\n",
       "4     IMAGE_0004.jpg     tumor\n",
       "...              ...       ...\n",
       "2995  IMAGE_2995.jpg  no_tumor\n",
       "2996  IMAGE_2996.jpg     tumor\n",
       "2997  IMAGE_2997.jpg     tumor\n",
       "2998  IMAGE_2998.jpg     tumor\n",
       "2999  IMAGE_2999.jpg     tumor\n",
       "\n",
       "[3000 rows x 2 columns]"
      ]
     },
     "execution_count": 3,
     "metadata": {},
     "output_type": "execute_result"
    }
   ],
   "source": [
    "tumour_labels"
   ]
  },
  {
   "cell_type": "code",
   "execution_count": 4,
   "id": "6cd2e8b8",
   "metadata": {},
   "outputs": [],
   "source": [
    "tumour_labels.loc[tumour_labels['label'] == 'tumor', 'binary label'] = int(1)\n",
    "tumour_labels.loc[tumour_labels['label'] == 'no_tumor', 'binary label'] = int(0)"
   ]
  },
  {
   "cell_type": "code",
   "execution_count": 5,
   "id": "69a82984",
   "metadata": {},
   "outputs": [
    {
     "data": {
      "text/html": [
       "<div>\n",
       "<style scoped>\n",
       "    .dataframe tbody tr th:only-of-type {\n",
       "        vertical-align: middle;\n",
       "    }\n",
       "\n",
       "    .dataframe tbody tr th {\n",
       "        vertical-align: top;\n",
       "    }\n",
       "\n",
       "    .dataframe thead th {\n",
       "        text-align: right;\n",
       "    }\n",
       "</style>\n",
       "<table border=\"1\" class=\"dataframe\">\n",
       "  <thead>\n",
       "    <tr style=\"text-align: right;\">\n",
       "      <th></th>\n",
       "      <th>file_name</th>\n",
       "      <th>label</th>\n",
       "      <th>binary label</th>\n",
       "    </tr>\n",
       "  </thead>\n",
       "  <tbody>\n",
       "    <tr>\n",
       "      <th>0</th>\n",
       "      <td>IMAGE_0000.jpg</td>\n",
       "      <td>tumor</td>\n",
       "      <td>1.0</td>\n",
       "    </tr>\n",
       "    <tr>\n",
       "      <th>1</th>\n",
       "      <td>IMAGE_0001.jpg</td>\n",
       "      <td>no_tumor</td>\n",
       "      <td>0.0</td>\n",
       "    </tr>\n",
       "    <tr>\n",
       "      <th>2</th>\n",
       "      <td>IMAGE_0002.jpg</td>\n",
       "      <td>tumor</td>\n",
       "      <td>1.0</td>\n",
       "    </tr>\n",
       "    <tr>\n",
       "      <th>3</th>\n",
       "      <td>IMAGE_0003.jpg</td>\n",
       "      <td>tumor</td>\n",
       "      <td>1.0</td>\n",
       "    </tr>\n",
       "    <tr>\n",
       "      <th>4</th>\n",
       "      <td>IMAGE_0004.jpg</td>\n",
       "      <td>tumor</td>\n",
       "      <td>1.0</td>\n",
       "    </tr>\n",
       "    <tr>\n",
       "      <th>...</th>\n",
       "      <td>...</td>\n",
       "      <td>...</td>\n",
       "      <td>...</td>\n",
       "    </tr>\n",
       "    <tr>\n",
       "      <th>2995</th>\n",
       "      <td>IMAGE_2995.jpg</td>\n",
       "      <td>no_tumor</td>\n",
       "      <td>0.0</td>\n",
       "    </tr>\n",
       "    <tr>\n",
       "      <th>2996</th>\n",
       "      <td>IMAGE_2996.jpg</td>\n",
       "      <td>tumor</td>\n",
       "      <td>1.0</td>\n",
       "    </tr>\n",
       "    <tr>\n",
       "      <th>2997</th>\n",
       "      <td>IMAGE_2997.jpg</td>\n",
       "      <td>tumor</td>\n",
       "      <td>1.0</td>\n",
       "    </tr>\n",
       "    <tr>\n",
       "      <th>2998</th>\n",
       "      <td>IMAGE_2998.jpg</td>\n",
       "      <td>tumor</td>\n",
       "      <td>1.0</td>\n",
       "    </tr>\n",
       "    <tr>\n",
       "      <th>2999</th>\n",
       "      <td>IMAGE_2999.jpg</td>\n",
       "      <td>tumor</td>\n",
       "      <td>1.0</td>\n",
       "    </tr>\n",
       "  </tbody>\n",
       "</table>\n",
       "<p>3000 rows × 3 columns</p>\n",
       "</div>"
      ],
      "text/plain": [
       "           file_name     label  binary label\n",
       "0     IMAGE_0000.jpg     tumor           1.0\n",
       "1     IMAGE_0001.jpg  no_tumor           0.0\n",
       "2     IMAGE_0002.jpg     tumor           1.0\n",
       "3     IMAGE_0003.jpg     tumor           1.0\n",
       "4     IMAGE_0004.jpg     tumor           1.0\n",
       "...              ...       ...           ...\n",
       "2995  IMAGE_2995.jpg  no_tumor           0.0\n",
       "2996  IMAGE_2996.jpg     tumor           1.0\n",
       "2997  IMAGE_2997.jpg     tumor           1.0\n",
       "2998  IMAGE_2998.jpg     tumor           1.0\n",
       "2999  IMAGE_2999.jpg     tumor           1.0\n",
       "\n",
       "[3000 rows x 3 columns]"
      ]
     },
     "execution_count": 5,
     "metadata": {},
     "output_type": "execute_result"
    }
   ],
   "source": [
    "tumour_labels "
   ]
  },
  {
   "cell_type": "markdown",
   "id": "f048d778",
   "metadata": {},
   "source": [
    "### Loading the images"
   ]
  },
  {
   "cell_type": "code",
   "execution_count": 6,
   "id": "63a5dd69",
   "metadata": {},
   "outputs": [
    {
     "name": "stdout",
     "output_type": "stream",
     "text": [
      "(3000, 512, 512, 3)\n"
     ]
    }
   ],
   "source": [
    "#example of loading one image\n",
    "#image = imread('./dataset/image/IMAGE_0009.jpg')\n",
    "#plt.imshow(image)\n",
    "\n",
    "#image2 = imread('./dataset/image/IMAGE_0010.jpg')\n",
    "#plt.figure()\n",
    "#plt.imshow(image2)\n",
    "#imarr = np.array(image2)\n",
    "#plt.figure()\n",
    "#plt.imshow(imarr)\n",
    "\n",
    "images = []\n",
    "#x=0\n",
    "#t = time.process_time()\n",
    "\n",
    "#dirname = './dataset/image'\n",
    "#print(listdir(dirname))\n",
    "\n",
    "#start = datetime.now()\n",
    "#start = datetime.now().time()\n",
    "#print('start: ')\n",
    "#print(start)\n",
    "\n",
    "for file in listdir('./dataset/image'):\n",
    "\n",
    "    img = io.imread('./dataset/image/' + file)\n",
    "    #plt.figure()\n",
    "    #plt.imshow(img)\n",
    "    \n",
    "    #print(x)\n",
    "    #x += 1\n",
    "    img = np.array(img)\n",
    "    images.append(img)\n",
    "\n",
    "print(np.array(images).shape)\n",
    "    \n",
    "#end = datetime.now()\n",
    "#end = datetime.now().time()\n",
    "#print('end: ')\n",
    "#print(end)\n",
    "#elapsed = end - start\n",
    "#print(elapsed)\n",
    "#current = elapsed\n",
    "    \n",
    "#ETA = time.process_time() - t\n",
    "#print(ETA)\n",
    "    \n"
   ]
  },
  {
   "cell_type": "markdown",
   "id": "694b19a5",
   "metadata": {},
   "source": [
    "### Splitting the data into training and testing data"
   ]
  },
  {
   "cell_type": "code",
   "execution_count": null,
   "id": "eddf9a47",
   "metadata": {},
   "outputs": [],
   "source": [
    "X = np.array(images)\n",
    "Y = tumour_labels['binary label']\n",
    "\n",
    "xTrain, xTest, yTrain, yTest = train_test_split(X,Y)\n",
    "\n",
    "print(xTrain.shape)\n",
    "print(xTest.shape)"
   ]
  },
  {
   "cell_type": "markdown",
   "id": "6c99dbc8",
   "metadata": {},
   "source": [
    "### Feature extraction + training?"
   ]
  },
  {
   "cell_type": "markdown",
   "id": "72acce9f",
   "metadata": {},
   "source": [
    "### Logistic Regression + Results"
   ]
  },
  {
   "cell_type": "code",
   "execution_count": null,
   "id": "ba4345b9",
   "metadata": {},
   "outputs": [],
   "source": [
    "xTrain = xTrain.reshape(2250, 512*512*3)"
   ]
  },
  {
   "cell_type": "code",
   "execution_count": null,
   "id": "d1a8d76f",
   "metadata": {},
   "outputs": [],
   "source": [
    "xTrain.shape"
   ]
  },
  {
   "cell_type": "markdown",
   "id": "1c30f47f",
   "metadata": {},
   "source": [
    "### Training"
   ]
  },
  {
   "cell_type": "code",
   "execution_count": null,
   "id": "054afc61",
   "metadata": {},
   "outputs": [],
   "source": [
    "def LogRegClassification(xTrain, yTrain, xTest):\n",
    "\n",
    "    model = LogisticRegression()\n",
    "    model.fit(xTrain, yTrain)\n",
    "    y_Pred = model.predict(xTest)\n",
    "    \n",
    "    return y_Pred"
   ]
  },
  {
   "cell_type": "code",
   "execution_count": 1,
   "id": "286218cd",
   "metadata": {},
   "outputs": [
    {
     "ename": "NameError",
     "evalue": "name 'LogRegClassification' is not defined",
     "output_type": "error",
     "traceback": [
      "\u001b[1;31m---------------------------------------------------------------------------\u001b[0m",
      "\u001b[1;31mNameError\u001b[0m                                 Traceback (most recent call last)",
      "\u001b[1;32mC:\\Users\\YOUSEF~1\\AppData\\Local\\Temp/ipykernel_5648/32401617.py\u001b[0m in \u001b[0;36m<module>\u001b[1;34m\u001b[0m\n\u001b[1;32m----> 1\u001b[1;33m \u001b[0my_Pred\u001b[0m \u001b[1;33m=\u001b[0m \u001b[0mLogRegClassification\u001b[0m\u001b[1;33m(\u001b[0m\u001b[0mxTrain\u001b[0m\u001b[1;33m,\u001b[0m \u001b[0myTrain\u001b[0m\u001b[1;33m,\u001b[0m \u001b[0mxTest\u001b[0m\u001b[1;33m)\u001b[0m\u001b[1;33m\u001b[0m\u001b[1;33m\u001b[0m\u001b[0m\n\u001b[0m\u001b[0;32m      2\u001b[0m \u001b[0mprint\u001b[0m\u001b[1;33m(\u001b[0m\u001b[1;34m'Accuracy on test set: '\u001b[0m\u001b[1;33m+\u001b[0m\u001b[0mstr\u001b[0m\u001b[1;33m(\u001b[0m\u001b[0maccuracy_score\u001b[0m\u001b[1;33m(\u001b[0m\u001b[0myTest\u001b[0m\u001b[1;33m,\u001b[0m\u001b[0my_Pred\u001b[0m\u001b[1;33m)\u001b[0m\u001b[1;33m)\u001b[0m\u001b[1;33m)\u001b[0m\u001b[1;33m\u001b[0m\u001b[1;33m\u001b[0m\u001b[0m\n\u001b[0;32m      3\u001b[0m \u001b[0mprint\u001b[0m\u001b[1;33m(\u001b[0m\u001b[0mclassification_report\u001b[0m\u001b[1;33m(\u001b[0m\u001b[0myTest\u001b[0m\u001b[1;33m,\u001b[0m\u001b[0my_Pred\u001b[0m\u001b[1;33m)\u001b[0m\u001b[1;33m)\u001b[0m\u001b[1;31m#text report showing the main classification metrics\u001b[0m\u001b[1;33m\u001b[0m\u001b[1;33m\u001b[0m\u001b[0m\n",
      "\u001b[1;31mNameError\u001b[0m: name 'LogRegClassification' is not defined"
     ]
    }
   ],
   "source": [
    "y_Pred = LogRegClassification(xTrain, yTrain, xTest)\n",
    "print('Accuracy on test set: '+str(accuracy_score(yTest,y_Pred)))\n",
    "print(classification_report(yTest,y_Pred))#text report showing the main classification metrics"
   ]
  },
  {
   "cell_type": "code",
   "execution_count": null,
   "id": "8e91310c",
   "metadata": {},
   "outputs": [],
   "source": []
  },
  {
   "cell_type": "code",
   "execution_count": null,
   "id": "3a3c6fd4",
   "metadata": {},
   "outputs": [],
   "source": []
  }
 ],
 "metadata": {
  "kernelspec": {
   "display_name": "Python 3 (ipykernel)",
   "language": "python",
   "name": "python3"
  },
  "language_info": {
   "codemirror_mode": {
    "name": "ipython",
    "version": 3
   },
   "file_extension": ".py",
   "mimetype": "text/x-python",
   "name": "python",
   "nbconvert_exporter": "python",
   "pygments_lexer": "ipython3",
   "version": "3.7.11"
  }
 },
 "nbformat": 4,
 "nbformat_minor": 5
}
