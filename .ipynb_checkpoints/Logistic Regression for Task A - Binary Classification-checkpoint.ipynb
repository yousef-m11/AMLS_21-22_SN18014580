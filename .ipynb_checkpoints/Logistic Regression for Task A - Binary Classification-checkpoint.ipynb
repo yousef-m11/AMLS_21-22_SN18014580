{
 "cells": [
  {
   "cell_type": "markdown",
   "id": "cd23a8ca",
   "metadata": {},
   "source": [
    "# Applied Machine Learning Systems (MLS-1) - ELEC0134\n",
    "\n",
    "# Final Assignment - Classification of Tumours\n",
    "\n",
    "## Task A - Binary Classification using Logistic Regression\n",
    "\n",
    "## Completed by Student Number - 18014580"
   ]
  },
  {
   "cell_type": "markdown",
   "id": "77f8a1eb",
   "metadata": {},
   "source": [
    "This is a Jupyter Notebook submitted as part of the final assignment submission package for the Applied Machine Learning Systems (MLS-1) coursework which involves tumor classification and identification.\n",
    "\n",
    "This particular notebook tests the logistic regression method on Task A to find the accuracy of logistic regression for this particular task."
   ]
  },
  {
   "cell_type": "markdown",
   "id": "50e1bd0f",
   "metadata": {},
   "source": [
    "### Importing different packages\n",
    "\n",
    "Initially, we must import the different packages needed for this task. The packages required to implement logistic regression for this binary task are pandas, sklearn (scikit-learn), skimage (scikit-image), and numpy. Please ensure these are installed in your virtualenv before running this code."
   ]
  },
  {
   "cell_type": "code",
   "execution_count": 1,
   "id": "97b4759b",
   "metadata": {},
   "outputs": [
    {
     "name": "stdout",
     "output_type": "stream",
     "text": [
      "All imports carried out successfully\n"
     ]
    }
   ],
   "source": [
    "import pandas as pd\n",
    "import numpy as np\n",
    "\n",
    "from sklearn.model_selection import train_test_split\n",
    "from sklearn.linear_model import LogisticRegression\n",
    "from sklearn.metrics import confusion_matrix, classification_report,accuracy_score\n",
    "\n",
    "from skimage import io\n",
    "from skimage.io import imread, imshow\n",
    "from skimage.color import rgb2grey, rgb2gray\n",
    "\n",
    "#import tensorflow as tf\n",
    "#from keras.preprocessing import image\n",
    "import matplotlib.pyplot as plt\n",
    "\n",
    "import os\n",
    "from os import listdir\n",
    "\n",
    "from datetime import datetime\n",
    "\n",
    "print(\"All imports carried out successfully\")"
   ]
  },
  {
   "cell_type": "markdown",
   "id": "45d3f2dc",
   "metadata": {},
   "source": [
    "### Loading the data from the data sets\n",
    "\n",
    "In this cell we are using read_csv to load the labels for each image into a dataframe. We then display the dataframe to ensure the data from the .csv file was loaded correctly."
   ]
  },
  {
   "cell_type": "code",
   "execution_count": 2,
   "id": "b8f55693",
   "metadata": {},
   "outputs": [
    {
     "name": "stdout",
     "output_type": "stream",
     "text": [
      "(3000, 2)\n"
     ]
    }
   ],
   "source": [
    "#Loading the CSV file 'label' containing the different labels for each MRI Scan\n",
    "\n",
    "tumour_labels = pd.read_csv('./dataset/label.csv')\n",
    "print(tumour_labels.shape) #Outputs array with the shape of the dataframe to ensure all images, filenames and labels loaded"
   ]
  },
  {
   "cell_type": "code",
   "execution_count": 3,
   "id": "71c50634",
   "metadata": {},
   "outputs": [
    {
     "data": {
      "text/html": [
       "<div>\n",
       "<style scoped>\n",
       "    .dataframe tbody tr th:only-of-type {\n",
       "        vertical-align: middle;\n",
       "    }\n",
       "\n",
       "    .dataframe tbody tr th {\n",
       "        vertical-align: top;\n",
       "    }\n",
       "\n",
       "    .dataframe thead th {\n",
       "        text-align: right;\n",
       "    }\n",
       "</style>\n",
       "<table border=\"1\" class=\"dataframe\">\n",
       "  <thead>\n",
       "    <tr style=\"text-align: right;\">\n",
       "      <th></th>\n",
       "      <th>file_name</th>\n",
       "      <th>label</th>\n",
       "    </tr>\n",
       "  </thead>\n",
       "  <tbody>\n",
       "    <tr>\n",
       "      <th>0</th>\n",
       "      <td>IMAGE_0000.jpg</td>\n",
       "      <td>meningioma_tumor</td>\n",
       "    </tr>\n",
       "    <tr>\n",
       "      <th>1</th>\n",
       "      <td>IMAGE_0001.jpg</td>\n",
       "      <td>no_tumor</td>\n",
       "    </tr>\n",
       "    <tr>\n",
       "      <th>2</th>\n",
       "      <td>IMAGE_0002.jpg</td>\n",
       "      <td>meningioma_tumor</td>\n",
       "    </tr>\n",
       "    <tr>\n",
       "      <th>3</th>\n",
       "      <td>IMAGE_0003.jpg</td>\n",
       "      <td>glioma_tumor</td>\n",
       "    </tr>\n",
       "    <tr>\n",
       "      <th>4</th>\n",
       "      <td>IMAGE_0004.jpg</td>\n",
       "      <td>meningioma_tumor</td>\n",
       "    </tr>\n",
       "    <tr>\n",
       "      <th>...</th>\n",
       "      <td>...</td>\n",
       "      <td>...</td>\n",
       "    </tr>\n",
       "    <tr>\n",
       "      <th>2995</th>\n",
       "      <td>IMAGE_2995.jpg</td>\n",
       "      <td>no_tumor</td>\n",
       "    </tr>\n",
       "    <tr>\n",
       "      <th>2996</th>\n",
       "      <td>IMAGE_2996.jpg</td>\n",
       "      <td>meningioma_tumor</td>\n",
       "    </tr>\n",
       "    <tr>\n",
       "      <th>2997</th>\n",
       "      <td>IMAGE_2997.jpg</td>\n",
       "      <td>glioma_tumor</td>\n",
       "    </tr>\n",
       "    <tr>\n",
       "      <th>2998</th>\n",
       "      <td>IMAGE_2998.jpg</td>\n",
       "      <td>glioma_tumor</td>\n",
       "    </tr>\n",
       "    <tr>\n",
       "      <th>2999</th>\n",
       "      <td>IMAGE_2999.jpg</td>\n",
       "      <td>pituitary_tumor</td>\n",
       "    </tr>\n",
       "  </tbody>\n",
       "</table>\n",
       "<p>3000 rows × 2 columns</p>\n",
       "</div>"
      ],
      "text/plain": [
       "           file_name             label\n",
       "0     IMAGE_0000.jpg  meningioma_tumor\n",
       "1     IMAGE_0001.jpg          no_tumor\n",
       "2     IMAGE_0002.jpg  meningioma_tumor\n",
       "3     IMAGE_0003.jpg      glioma_tumor\n",
       "4     IMAGE_0004.jpg  meningioma_tumor\n",
       "...              ...               ...\n",
       "2995  IMAGE_2995.jpg          no_tumor\n",
       "2996  IMAGE_2996.jpg  meningioma_tumor\n",
       "2997  IMAGE_2997.jpg      glioma_tumor\n",
       "2998  IMAGE_2998.jpg      glioma_tumor\n",
       "2999  IMAGE_2999.jpg   pituitary_tumor\n",
       "\n",
       "[3000 rows x 2 columns]"
      ]
     },
     "execution_count": 3,
     "metadata": {},
     "output_type": "execute_result"
    }
   ],
   "source": [
    "tumour_labels #Displaying data frame to visually ensure data loaded correctly"
   ]
  },
  {
   "cell_type": "markdown",
   "id": "99171443",
   "metadata": {},
   "source": [
    "### Printing out dataset to ensure labels changed accordingly\n",
    "\n",
    "This is a binary classification task, so in the cells below, we modify the data frame by locating all the images whose label is not \"no_tumor\" and setting them to tumor rather than having them as the types of tumor."
   ]
  },
  {
   "cell_type": "code",
   "execution_count": 4,
   "id": "954ba73b",
   "metadata": {},
   "outputs": [],
   "source": [
    "#change anything in the label column that is not equal to \"no_tumor\" to \"tumor\" rather than the type of tumor\n",
    "tumour_labels.loc[tumour_labels['label']!= 'no_tumor', 'label'] = 'tumor' "
   ]
  },
  {
   "cell_type": "code",
   "execution_count": 5,
   "id": "289a6814",
   "metadata": {},
   "outputs": [
    {
     "data": {
      "text/html": [
       "<div>\n",
       "<style scoped>\n",
       "    .dataframe tbody tr th:only-of-type {\n",
       "        vertical-align: middle;\n",
       "    }\n",
       "\n",
       "    .dataframe tbody tr th {\n",
       "        vertical-align: top;\n",
       "    }\n",
       "\n",
       "    .dataframe thead th {\n",
       "        text-align: right;\n",
       "    }\n",
       "</style>\n",
       "<table border=\"1\" class=\"dataframe\">\n",
       "  <thead>\n",
       "    <tr style=\"text-align: right;\">\n",
       "      <th></th>\n",
       "      <th>file_name</th>\n",
       "      <th>label</th>\n",
       "    </tr>\n",
       "  </thead>\n",
       "  <tbody>\n",
       "    <tr>\n",
       "      <th>0</th>\n",
       "      <td>IMAGE_0000.jpg</td>\n",
       "      <td>tumor</td>\n",
       "    </tr>\n",
       "    <tr>\n",
       "      <th>1</th>\n",
       "      <td>IMAGE_0001.jpg</td>\n",
       "      <td>no_tumor</td>\n",
       "    </tr>\n",
       "    <tr>\n",
       "      <th>2</th>\n",
       "      <td>IMAGE_0002.jpg</td>\n",
       "      <td>tumor</td>\n",
       "    </tr>\n",
       "    <tr>\n",
       "      <th>3</th>\n",
       "      <td>IMAGE_0003.jpg</td>\n",
       "      <td>tumor</td>\n",
       "    </tr>\n",
       "    <tr>\n",
       "      <th>4</th>\n",
       "      <td>IMAGE_0004.jpg</td>\n",
       "      <td>tumor</td>\n",
       "    </tr>\n",
       "    <tr>\n",
       "      <th>...</th>\n",
       "      <td>...</td>\n",
       "      <td>...</td>\n",
       "    </tr>\n",
       "    <tr>\n",
       "      <th>2995</th>\n",
       "      <td>IMAGE_2995.jpg</td>\n",
       "      <td>no_tumor</td>\n",
       "    </tr>\n",
       "    <tr>\n",
       "      <th>2996</th>\n",
       "      <td>IMAGE_2996.jpg</td>\n",
       "      <td>tumor</td>\n",
       "    </tr>\n",
       "    <tr>\n",
       "      <th>2997</th>\n",
       "      <td>IMAGE_2997.jpg</td>\n",
       "      <td>tumor</td>\n",
       "    </tr>\n",
       "    <tr>\n",
       "      <th>2998</th>\n",
       "      <td>IMAGE_2998.jpg</td>\n",
       "      <td>tumor</td>\n",
       "    </tr>\n",
       "    <tr>\n",
       "      <th>2999</th>\n",
       "      <td>IMAGE_2999.jpg</td>\n",
       "      <td>tumor</td>\n",
       "    </tr>\n",
       "  </tbody>\n",
       "</table>\n",
       "<p>3000 rows × 2 columns</p>\n",
       "</div>"
      ],
      "text/plain": [
       "           file_name     label\n",
       "0     IMAGE_0000.jpg     tumor\n",
       "1     IMAGE_0001.jpg  no_tumor\n",
       "2     IMAGE_0002.jpg     tumor\n",
       "3     IMAGE_0003.jpg     tumor\n",
       "4     IMAGE_0004.jpg     tumor\n",
       "...              ...       ...\n",
       "2995  IMAGE_2995.jpg  no_tumor\n",
       "2996  IMAGE_2996.jpg     tumor\n",
       "2997  IMAGE_2997.jpg     tumor\n",
       "2998  IMAGE_2998.jpg     tumor\n",
       "2999  IMAGE_2999.jpg     tumor\n",
       "\n",
       "[3000 rows x 2 columns]"
      ]
     },
     "execution_count": 5,
     "metadata": {},
     "output_type": "execute_result"
    }
   ],
   "source": [
    "tumour_labels #Displaying data frame to visually ensure labels changed as specified in cell above"
   ]
  },
  {
   "cell_type": "markdown",
   "id": "59270ca9",
   "metadata": {},
   "source": [
    "### Adding binary integer representation to the data frame\n",
    "\n",
    "In the cells below, we add another column to the data frame and assign a numeric value label to each label. Since our problem is binary, the numeric label can only be 1 or 0.\n",
    "\n",
    "If the label indicates \"tumor\" it is assigned a numeric label 1, and if the label does not indicate a tumour \"no_tumor\" it is assigned the numeric label 0. It also increases adaptability or convenience of the code if deep-learning models were to be used to have numeric label rather than a text label."
   ]
  },
  {
   "cell_type": "code",
   "execution_count": 6,
   "id": "ae0a996b",
   "metadata": {},
   "outputs": [],
   "source": [
    "#Accessing all columns where the 'label' column is 'tumor' and assigning it the value 1 in a new numeric label colum\n",
    "#Accessing all columns where the 'label' column is 'no_tumor' and assigning it the value 0 in a new numeric label colum\n",
    "\n",
    "tumour_labels.loc[tumour_labels['label'] == 'tumor', 'numeric label'] = int(1) # 'tumor' in label column assigned 1\n",
    "tumour_labels.loc[tumour_labels['label'] == 'no_tumor', 'numeric label'] = int(0) #'no_tumor' in label column assigned 0"
   ]
  },
  {
   "cell_type": "code",
   "execution_count": 7,
   "id": "f5b5e62b",
   "metadata": {},
   "outputs": [
    {
     "data": {
      "text/html": [
       "<div>\n",
       "<style scoped>\n",
       "    .dataframe tbody tr th:only-of-type {\n",
       "        vertical-align: middle;\n",
       "    }\n",
       "\n",
       "    .dataframe tbody tr th {\n",
       "        vertical-align: top;\n",
       "    }\n",
       "\n",
       "    .dataframe thead th {\n",
       "        text-align: right;\n",
       "    }\n",
       "</style>\n",
       "<table border=\"1\" class=\"dataframe\">\n",
       "  <thead>\n",
       "    <tr style=\"text-align: right;\">\n",
       "      <th></th>\n",
       "      <th>file_name</th>\n",
       "      <th>label</th>\n",
       "      <th>numeric label</th>\n",
       "    </tr>\n",
       "  </thead>\n",
       "  <tbody>\n",
       "    <tr>\n",
       "      <th>0</th>\n",
       "      <td>IMAGE_0000.jpg</td>\n",
       "      <td>tumor</td>\n",
       "      <td>1.0</td>\n",
       "    </tr>\n",
       "    <tr>\n",
       "      <th>1</th>\n",
       "      <td>IMAGE_0001.jpg</td>\n",
       "      <td>no_tumor</td>\n",
       "      <td>0.0</td>\n",
       "    </tr>\n",
       "    <tr>\n",
       "      <th>2</th>\n",
       "      <td>IMAGE_0002.jpg</td>\n",
       "      <td>tumor</td>\n",
       "      <td>1.0</td>\n",
       "    </tr>\n",
       "    <tr>\n",
       "      <th>3</th>\n",
       "      <td>IMAGE_0003.jpg</td>\n",
       "      <td>tumor</td>\n",
       "      <td>1.0</td>\n",
       "    </tr>\n",
       "    <tr>\n",
       "      <th>4</th>\n",
       "      <td>IMAGE_0004.jpg</td>\n",
       "      <td>tumor</td>\n",
       "      <td>1.0</td>\n",
       "    </tr>\n",
       "    <tr>\n",
       "      <th>...</th>\n",
       "      <td>...</td>\n",
       "      <td>...</td>\n",
       "      <td>...</td>\n",
       "    </tr>\n",
       "    <tr>\n",
       "      <th>2995</th>\n",
       "      <td>IMAGE_2995.jpg</td>\n",
       "      <td>no_tumor</td>\n",
       "      <td>0.0</td>\n",
       "    </tr>\n",
       "    <tr>\n",
       "      <th>2996</th>\n",
       "      <td>IMAGE_2996.jpg</td>\n",
       "      <td>tumor</td>\n",
       "      <td>1.0</td>\n",
       "    </tr>\n",
       "    <tr>\n",
       "      <th>2997</th>\n",
       "      <td>IMAGE_2997.jpg</td>\n",
       "      <td>tumor</td>\n",
       "      <td>1.0</td>\n",
       "    </tr>\n",
       "    <tr>\n",
       "      <th>2998</th>\n",
       "      <td>IMAGE_2998.jpg</td>\n",
       "      <td>tumor</td>\n",
       "      <td>1.0</td>\n",
       "    </tr>\n",
       "    <tr>\n",
       "      <th>2999</th>\n",
       "      <td>IMAGE_2999.jpg</td>\n",
       "      <td>tumor</td>\n",
       "      <td>1.0</td>\n",
       "    </tr>\n",
       "  </tbody>\n",
       "</table>\n",
       "<p>3000 rows × 3 columns</p>\n",
       "</div>"
      ],
      "text/plain": [
       "           file_name     label  numeric label\n",
       "0     IMAGE_0000.jpg     tumor            1.0\n",
       "1     IMAGE_0001.jpg  no_tumor            0.0\n",
       "2     IMAGE_0002.jpg     tumor            1.0\n",
       "3     IMAGE_0003.jpg     tumor            1.0\n",
       "4     IMAGE_0004.jpg     tumor            1.0\n",
       "...              ...       ...            ...\n",
       "2995  IMAGE_2995.jpg  no_tumor            0.0\n",
       "2996  IMAGE_2996.jpg     tumor            1.0\n",
       "2997  IMAGE_2997.jpg     tumor            1.0\n",
       "2998  IMAGE_2998.jpg     tumor            1.0\n",
       "2999  IMAGE_2999.jpg     tumor            1.0\n",
       "\n",
       "[3000 rows x 3 columns]"
      ]
     },
     "execution_count": 7,
     "metadata": {},
     "output_type": "execute_result"
    }
   ],
   "source": [
    "tumour_labels #Displaying dataframe to ensure new column created and values are being assigned properly"
   ]
  },
  {
   "cell_type": "markdown",
   "id": "f46945a8",
   "metadata": {},
   "source": [
    "### Choosing mode and loading the images\n",
    "\n",
    "In the cell below, we give the user the option to select whether or not to convert the images from RGB to greyscale as their could be different in runtime and accuracy. Any such results will be reported in the written report. Below are some average metrics for RGB and Greyscale.\n",
    "\n",
    "In the runs carried out, the average metrics for each are:\n",
    "\n",
    "RGB (Accuracy, Time Taken ...)\n",
    "Grayscale (Accuracy, Time Taken ... )"
   ]
  },
  {
   "cell_type": "code",
   "execution_count": 22,
   "id": "09ff30f1",
   "metadata": {},
   "outputs": [
    {
     "name": "stdout",
     "output_type": "stream",
     "text": [
      "As default, this program loads images with their RGB channels. Would you like to change the images to grayscale? \n",
      "\n",
      "Please type in Yes or No: No\n",
      "\n",
      " You selected No. The images will be loaded with their RGB channels.\n"
     ]
    }
   ],
   "source": [
    "print('As default, this program loads images with their RGB channels. Would you like to change the images to grayscale? \\n')\n",
    "color_mode = input('Please type in Yes or No: ')\n",
    "\n",
    "if color_mode.lower().startswith(\"y\"):\n",
    "    print(\"\\n You selected Yes. The images will be loaded as Grayscale images.\")\n",
    "elif color_mode.lower().startswith(\"n\"):\n",
    "    print(\"\\n You selected No. The images will be loaded with their RGB channels.\")\n",
    "else:\n",
    "    print(\"\\n Invalid choice. Please select Yes or No.\")\n",
    "    color_mode = input('\\n Please type in Yes or No: ')"
   ]
  },
  {
   "cell_type": "markdown",
   "id": "5477d01a",
   "metadata": {},
   "source": [
    "In the cell below, we load the image files using the imread functions from the scikit-image package. We convert the images to numpy arrays before appending them to a list. This list of arrays is then converted to a numpy array of arrays to allow us to print the shape to verify all the images have been loaded.\n",
    "\n",
    "This cell also uses datetime.now() to output the time elapsed to load the image set. This was used to compare efficiency of different imread functions from different packages including skimage, cv2 etc. In the end, skimage was chosen as it produced slightly favourable results."
   ]
  },
  {
   "cell_type": "code",
   "execution_count": 23,
   "id": "63fba3f7",
   "metadata": {},
   "outputs": [
    {
     "name": "stdout",
     "output_type": "stream",
     "text": [
      "The time elapsed to load the images was:  0:00:58.627635\n",
      "(3000, 512, 512)\n"
     ]
    }
   ],
   "source": [
    "#Uncomment to verify contents of the directory loaded\n",
    "\n",
    "#dirname = './dataset/image'\n",
    "#print(listdir(dirname))\n",
    "\n",
    "#Code used to test timing\n",
    "\n",
    "start = datetime.now() #Stores the time at which loading starts\n",
    "\n",
    "images = [] #An empty list is created\n",
    "\n",
    "#If statement uses user input color_mode to decide whether to convert images to greyscale or not before populating list\n",
    "#The for loops reads all images from the directory as listdir allows it loop through name of all files in the directory\n",
    "\n",
    "if color_mode.lower().startswith(\"n\"):\n",
    "    for file in listdir('./dataset/image'): \n",
    "        img = io.imread('./dataset/image/' + file) \n",
    "        img = np.array(img) #Converting image loaded to a numpy array\n",
    "        images.append(img) #Appending the img as a numpy array into the list images\n",
    "        \n",
    "        #This can be uncommented if we want to show all the images but data is too large so we usually don't\n",
    "        #plt.figure()\n",
    "        #plt.imshow(img)\n",
    "        \n",
    "elif color_mode.lower().startswith(\"y\"):\n",
    "    for file in listdir('./dataset/image'):\n",
    "        img = io.imread('./dataset/image/' + file)\n",
    "        greyimg = rgb2gray(img) #Converting each image to grayscale \n",
    "        greyimg = np.array(greyimg) #Converting image loaded to a numpy array\n",
    "        images.append(greyimg) #Appending the img as a numpy array into the list images\n",
    "        \n",
    "        #plt.figure()\n",
    "        #plt.imshow(img)\n",
    "    \n",
    "#Marking the end of the code\n",
    "end = datetime.now()\n",
    "elapsed = end - start #Calculating time elapsed while comparing different packages used to load images\n",
    "print('The time elapsed to load the images was: ', + elapsed) \n",
    "\n",
    "print(np.array(images).shape) #Converting list images to a numpy array before outputting shape to verify "
   ]
  },
  {
   "cell_type": "markdown",
   "id": "a9217522",
   "metadata": {},
   "source": [
    "### Splitting the data into training and testing data\n",
    "\n",
    "In the cells below, we use train_test_split from the model_selection part of the sklearn package. This splits the data into training and testing data before we train the model. The testing data is left unseen so we can test our trained model using it."
   ]
  },
  {
   "cell_type": "code",
   "execution_count": 24,
   "id": "a1acfe6c",
   "metadata": {},
   "outputs": [
    {
     "name": "stdout",
     "output_type": "stream",
     "text": [
      "(2250, 512, 512)\n",
      "(750, 512, 512)\n"
     ]
    }
   ],
   "source": [
    "X = np.array(images) #Set X to contain the array of images\n",
    "Y = tumour_labels['numeric label'] #Set Y to contain the corresponding numeric labels of each image\n",
    "\n",
    "xTrain, xTest, yTrain, yTest = train_test_split(X,Y, random_state = 0) #Set random_state to 0 for reproducibility\n",
    "\n",
    "print(xTrain.shape) #Printing the shape of xTrain to veryify data was split correctly\n",
    "print(xTest.shape) #Printing the shape of xTest to verify  data was split correctly"
   ]
  },
  {
   "cell_type": "markdown",
   "id": "48523134",
   "metadata": {},
   "source": [
    "### Logistic Regression + Results"
   ]
  },
  {
   "cell_type": "code",
   "execution_count": 10,
   "id": "94ea5ba3",
   "metadata": {},
   "outputs": [
    {
     "ename": "IndexError",
     "evalue": "tuple index out of range",
     "output_type": "error",
     "traceback": [
      "\u001b[1;31m---------------------------------------------------------------------------\u001b[0m",
      "\u001b[1;31mIndexError\u001b[0m                                Traceback (most recent call last)",
      "\u001b[1;32mC:\\Users\\YOUSEF~1\\AppData\\Local\\Temp/ipykernel_2364/1060197896.py\u001b[0m in \u001b[0;36m<module>\u001b[1;34m\u001b[0m\n\u001b[1;32m----> 1\u001b[1;33m \u001b[0mxTrain\u001b[0m \u001b[1;33m=\u001b[0m \u001b[0mxTrain\u001b[0m\u001b[1;33m.\u001b[0m\u001b[0mreshape\u001b[0m\u001b[1;33m(\u001b[0m\u001b[1;36m2250\u001b[0m\u001b[1;33m,\u001b[0m \u001b[0mxTrain\u001b[0m\u001b[1;33m.\u001b[0m\u001b[0mshape\u001b[0m\u001b[1;33m[\u001b[0m\u001b[1;36m1\u001b[0m\u001b[1;33m]\u001b[0m\u001b[1;33m*\u001b[0m\u001b[0mxTrain\u001b[0m\u001b[1;33m.\u001b[0m\u001b[0mshape\u001b[0m\u001b[1;33m[\u001b[0m\u001b[1;36m2\u001b[0m\u001b[1;33m]\u001b[0m\u001b[1;33m*\u001b[0m\u001b[0mxTrain\u001b[0m\u001b[1;33m.\u001b[0m\u001b[0mshape\u001b[0m\u001b[1;33m[\u001b[0m\u001b[1;36m3\u001b[0m\u001b[1;33m]\u001b[0m\u001b[1;33m)\u001b[0m\u001b[1;33m\u001b[0m\u001b[1;33m\u001b[0m\u001b[0m\n\u001b[0m",
      "\u001b[1;31mIndexError\u001b[0m: tuple index out of range"
     ]
    }
   ],
   "source": [
    "#Reshaping xTrain to a 2-dimensional to allow it to be input into models such as Logistic Reg and SVMs\n",
    "\n",
    "if len(xTrain.shape) == 3:\n",
    "    xTrain = xTrain.reshape(2250, xTrain.shape[1]*xTrain.shape[2]*xTrain.shape[3])\n",
    "elif len(xTrain.shape) == 2:\n",
    "    xTrain = xTrain.reshape(2250, xTrain.shape[1]*xTrain.shape[2])"
   ]
  },
  {
   "cell_type": "code",
   "execution_count": 9,
   "id": "d42d0f51",
   "metadata": {},
   "outputs": [
    {
     "data": {
      "text/plain": [
       "(2250, 786432)"
      ]
     },
     "execution_count": 9,
     "metadata": {},
     "output_type": "execute_result"
    }
   ],
   "source": [
    "xTrain.shape #Verifying the "
   ]
  },
  {
   "cell_type": "markdown",
   "id": "d2d1c5ed",
   "metadata": {},
   "source": [
    "### Training"
   ]
  },
  {
   "cell_type": "code",
   "execution_count": 10,
   "id": "146a8c78",
   "metadata": {},
   "outputs": [],
   "source": [
    "def LogRegClassification(xTrain, yTrain, xTest):\n",
    "\n",
    "    model = LogisticRegression()\n",
    "    model.fit(xTrain, yTrain)\n",
    "    y_Pred = model.predict(xTest)\n",
    "    \n",
    "    return y_Pred"
   ]
  },
  {
   "cell_type": "code",
   "execution_count": null,
   "id": "dc706515",
   "metadata": {},
   "outputs": [],
   "source": [
    "y_Pred = LogRegClassification(xTrain, yTrain, xTest)\n",
    "print('Accuracy on test set: '+str(accuracy_score(yTest,y_Pred)))\n",
    "print(classification_report(yTest,y_Pred))#text report showing the main classification metrics"
   ]
  },
  {
   "cell_type": "markdown",
   "id": "880545ca",
   "metadata": {},
   "source": [
    "### Testing and reporting new accuracy score using updated test set uploaded on XX Dec"
   ]
  },
  {
   "cell_type": "code",
   "execution_count": null,
   "id": "85edc149",
   "metadata": {},
   "outputs": [],
   "source": []
  },
  {
   "cell_type": "markdown",
   "id": "649692ee",
   "metadata": {},
   "source": [
    "### Plot the confusion matrix and then show which images were misclassified and see if they are the same each time"
   ]
  },
  {
   "cell_type": "code",
   "execution_count": null,
   "id": "94ea9be0",
   "metadata": {},
   "outputs": [],
   "source": []
  },
  {
   "cell_type": "markdown",
   "id": "bb88d30a",
   "metadata": {},
   "source": [
    "### See if any specific techniques can be used to help with the images"
   ]
  },
  {
   "cell_type": "code",
   "execution_count": null,
   "id": "554964f7",
   "metadata": {},
   "outputs": [],
   "source": []
  },
  {
   "cell_type": "markdown",
   "id": "0da0f548",
   "metadata": {},
   "source": [
    "### Training loss, validation loss and hyperpara tuning"
   ]
  },
  {
   "cell_type": "code",
   "execution_count": null,
   "id": "5e8e84c7",
   "metadata": {},
   "outputs": [],
   "source": []
  }
 ],
 "metadata": {
  "kernelspec": {
   "display_name": "Python 3 (ipykernel)",
   "language": "python",
   "name": "python3"
  },
  "language_info": {
   "codemirror_mode": {
    "name": "ipython",
    "version": 3
   },
   "file_extension": ".py",
   "mimetype": "text/x-python",
   "name": "python",
   "nbconvert_exporter": "python",
   "pygments_lexer": "ipython3",
   "version": "3.7.11"
  }
 },
 "nbformat": 4,
 "nbformat_minor": 5
}
