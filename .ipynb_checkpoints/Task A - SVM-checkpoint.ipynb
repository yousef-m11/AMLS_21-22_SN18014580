{
 "cells": [
  {
   "cell_type": "markdown",
   "id": "bfc46925",
   "metadata": {},
   "source": [
    "# Applied Machine Learning Systems (MLS-1) - ELEC0134\n",
    "\n",
    "# Final Assignment - Classification of Tumours\n",
    "\n",
    "## Task A - Binary Classification using Support Vector Machines (SVM)\n",
    "\n",
    "## Completed by Student Number - 18014580"
   ]
  },
  {
   "cell_type": "markdown",
   "id": "d96ec717",
   "metadata": {},
   "source": [
    "This is a Jupyter Notebook submitted as part of the final assignment for the Applied Machine Learning Systems (MLS-1) coursework which involves tumor classification and identification.\n",
    "\n",
    "This particular notebook tests the SVM method using the SVC model from the sklearn library on Task A to find the accuracy of using support vector machines classification for this particular task."
   ]
  },
  {
   "cell_type": "markdown",
   "id": "6d6047e2",
   "metadata": {},
   "source": [
    "### Importing different packages\n",
    "\n",
    "Initially, we must import the different packages needed for this task. The packages required to implement suport vector machines for this binary task can be found in pandas, sklearn (scikit-learn), skimage (scikit-image), and numpy. Please ensure these are installed in your virtualenv before running this code."
   ]
  },
  {
   "cell_type": "code",
   "execution_count": 2,
   "id": "8d310631",
   "metadata": {},
   "outputs": [
    {
     "name": "stdout",
     "output_type": "stream",
     "text": [
      "All imports carried out successfully\n"
     ]
    }
   ],
   "source": [
    "import pandas as pd\n",
    "import numpy as np\n",
    "\n",
    "from sklearn.model_selection import train_test_split, GridSearchCV\n",
    "from sklearn.svm import SVC\n",
    "from sklearn.metrics import confusion_matrix, classification_report,accuracy_score\n",
    "\n",
    "from skimage import io\n",
    "from skimage.io import imread, imshow\n",
    "from skimage.color import rgb2gray\n",
    "from skimage.feature import hog\n",
    "\n",
    "# import tensorflow as tf\n",
    "#from keras.preprocessing import image\n",
    "import matplotlib.pyplot as plt\n",
    "\n",
    "import os\n",
    "from os import listdir\n",
    "\n",
    "import seaborn as sns\n",
    "\n",
    "from datetime import datetime\n",
    "\n",
    "print(\"All imports carried out successfully\")"
   ]
  },
  {
   "cell_type": "markdown",
   "id": "28b663ef",
   "metadata": {},
   "source": [
    "### Loading the data from the data sets\n",
    "\n",
    "In this cell we are using read_csv to load the labels for each image into a dataframe. We then display the dataframe to ensure the data from the .csv file was loaded correctly."
   ]
  },
  {
   "cell_type": "code",
   "execution_count": 3,
   "id": "27ea6dea",
   "metadata": {},
   "outputs": [
    {
     "name": "stdout",
     "output_type": "stream",
     "text": [
      "(3000, 2)\n"
     ]
    }
   ],
   "source": [
    "#Loading the CSV file 'label' containing the different labels for each MRI Scan\n",
    "\n",
    "tumour_labels = pd.read_csv('./dataset/label.csv')\n",
    "print(tumour_labels.shape) #Outputs array with the shape of the dataframe to ensure all images, filenames and labels loaded"
   ]
  },
  {
   "cell_type": "code",
   "execution_count": 4,
   "id": "f6e171b3",
   "metadata": {},
   "outputs": [
    {
     "data": {
      "text/html": [
       "<div>\n",
       "<style scoped>\n",
       "    .dataframe tbody tr th:only-of-type {\n",
       "        vertical-align: middle;\n",
       "    }\n",
       "\n",
       "    .dataframe tbody tr th {\n",
       "        vertical-align: top;\n",
       "    }\n",
       "\n",
       "    .dataframe thead th {\n",
       "        text-align: right;\n",
       "    }\n",
       "</style>\n",
       "<table border=\"1\" class=\"dataframe\">\n",
       "  <thead>\n",
       "    <tr style=\"text-align: right;\">\n",
       "      <th></th>\n",
       "      <th>file_name</th>\n",
       "      <th>label</th>\n",
       "    </tr>\n",
       "  </thead>\n",
       "  <tbody>\n",
       "    <tr>\n",
       "      <th>0</th>\n",
       "      <td>IMAGE_0000.jpg</td>\n",
       "      <td>meningioma_tumor</td>\n",
       "    </tr>\n",
       "    <tr>\n",
       "      <th>1</th>\n",
       "      <td>IMAGE_0001.jpg</td>\n",
       "      <td>no_tumor</td>\n",
       "    </tr>\n",
       "    <tr>\n",
       "      <th>2</th>\n",
       "      <td>IMAGE_0002.jpg</td>\n",
       "      <td>meningioma_tumor</td>\n",
       "    </tr>\n",
       "    <tr>\n",
       "      <th>3</th>\n",
       "      <td>IMAGE_0003.jpg</td>\n",
       "      <td>glioma_tumor</td>\n",
       "    </tr>\n",
       "    <tr>\n",
       "      <th>4</th>\n",
       "      <td>IMAGE_0004.jpg</td>\n",
       "      <td>meningioma_tumor</td>\n",
       "    </tr>\n",
       "    <tr>\n",
       "      <th>...</th>\n",
       "      <td>...</td>\n",
       "      <td>...</td>\n",
       "    </tr>\n",
       "    <tr>\n",
       "      <th>2995</th>\n",
       "      <td>IMAGE_2995.jpg</td>\n",
       "      <td>no_tumor</td>\n",
       "    </tr>\n",
       "    <tr>\n",
       "      <th>2996</th>\n",
       "      <td>IMAGE_2996.jpg</td>\n",
       "      <td>meningioma_tumor</td>\n",
       "    </tr>\n",
       "    <tr>\n",
       "      <th>2997</th>\n",
       "      <td>IMAGE_2997.jpg</td>\n",
       "      <td>glioma_tumor</td>\n",
       "    </tr>\n",
       "    <tr>\n",
       "      <th>2998</th>\n",
       "      <td>IMAGE_2998.jpg</td>\n",
       "      <td>glioma_tumor</td>\n",
       "    </tr>\n",
       "    <tr>\n",
       "      <th>2999</th>\n",
       "      <td>IMAGE_2999.jpg</td>\n",
       "      <td>pituitary_tumor</td>\n",
       "    </tr>\n",
       "  </tbody>\n",
       "</table>\n",
       "<p>3000 rows × 2 columns</p>\n",
       "</div>"
      ],
      "text/plain": [
       "           file_name             label\n",
       "0     IMAGE_0000.jpg  meningioma_tumor\n",
       "1     IMAGE_0001.jpg          no_tumor\n",
       "2     IMAGE_0002.jpg  meningioma_tumor\n",
       "3     IMAGE_0003.jpg      glioma_tumor\n",
       "4     IMAGE_0004.jpg  meningioma_tumor\n",
       "...              ...               ...\n",
       "2995  IMAGE_2995.jpg          no_tumor\n",
       "2996  IMAGE_2996.jpg  meningioma_tumor\n",
       "2997  IMAGE_2997.jpg      glioma_tumor\n",
       "2998  IMAGE_2998.jpg      glioma_tumor\n",
       "2999  IMAGE_2999.jpg   pituitary_tumor\n",
       "\n",
       "[3000 rows x 2 columns]"
      ]
     },
     "execution_count": 4,
     "metadata": {},
     "output_type": "execute_result"
    }
   ],
   "source": [
    "tumour_labels #Displaying data frame to visually ensure data loaded correctly"
   ]
  },
  {
   "cell_type": "markdown",
   "id": "287331dd",
   "metadata": {},
   "source": [
    "### Printing out dataset to ensure labels changed accordingly\n",
    "\n",
    "This is a binary classification task, so in the cells below, we modify the data frame by locating all the images whose label is not \"no_tumor\" and setting them to tumor rather than having them as the types of tumor."
   ]
  },
  {
   "cell_type": "code",
   "execution_count": 5,
   "id": "f565f175",
   "metadata": {},
   "outputs": [],
   "source": [
    "#change anything in the label column that is not equal to \"no_tumor\" to \"tumor\" rather than the type of tumor\n",
    "tumour_labels.loc[tumour_labels['label']!= 'no_tumor', 'label'] = 'tumor' "
   ]
  },
  {
   "cell_type": "code",
   "execution_count": 6,
   "id": "3350cd8a",
   "metadata": {},
   "outputs": [
    {
     "data": {
      "text/html": [
       "<div>\n",
       "<style scoped>\n",
       "    .dataframe tbody tr th:only-of-type {\n",
       "        vertical-align: middle;\n",
       "    }\n",
       "\n",
       "    .dataframe tbody tr th {\n",
       "        vertical-align: top;\n",
       "    }\n",
       "\n",
       "    .dataframe thead th {\n",
       "        text-align: right;\n",
       "    }\n",
       "</style>\n",
       "<table border=\"1\" class=\"dataframe\">\n",
       "  <thead>\n",
       "    <tr style=\"text-align: right;\">\n",
       "      <th></th>\n",
       "      <th>file_name</th>\n",
       "      <th>label</th>\n",
       "    </tr>\n",
       "  </thead>\n",
       "  <tbody>\n",
       "    <tr>\n",
       "      <th>0</th>\n",
       "      <td>IMAGE_0000.jpg</td>\n",
       "      <td>tumor</td>\n",
       "    </tr>\n",
       "    <tr>\n",
       "      <th>1</th>\n",
       "      <td>IMAGE_0001.jpg</td>\n",
       "      <td>no_tumor</td>\n",
       "    </tr>\n",
       "    <tr>\n",
       "      <th>2</th>\n",
       "      <td>IMAGE_0002.jpg</td>\n",
       "      <td>tumor</td>\n",
       "    </tr>\n",
       "    <tr>\n",
       "      <th>3</th>\n",
       "      <td>IMAGE_0003.jpg</td>\n",
       "      <td>tumor</td>\n",
       "    </tr>\n",
       "    <tr>\n",
       "      <th>4</th>\n",
       "      <td>IMAGE_0004.jpg</td>\n",
       "      <td>tumor</td>\n",
       "    </tr>\n",
       "    <tr>\n",
       "      <th>...</th>\n",
       "      <td>...</td>\n",
       "      <td>...</td>\n",
       "    </tr>\n",
       "    <tr>\n",
       "      <th>2995</th>\n",
       "      <td>IMAGE_2995.jpg</td>\n",
       "      <td>no_tumor</td>\n",
       "    </tr>\n",
       "    <tr>\n",
       "      <th>2996</th>\n",
       "      <td>IMAGE_2996.jpg</td>\n",
       "      <td>tumor</td>\n",
       "    </tr>\n",
       "    <tr>\n",
       "      <th>2997</th>\n",
       "      <td>IMAGE_2997.jpg</td>\n",
       "      <td>tumor</td>\n",
       "    </tr>\n",
       "    <tr>\n",
       "      <th>2998</th>\n",
       "      <td>IMAGE_2998.jpg</td>\n",
       "      <td>tumor</td>\n",
       "    </tr>\n",
       "    <tr>\n",
       "      <th>2999</th>\n",
       "      <td>IMAGE_2999.jpg</td>\n",
       "      <td>tumor</td>\n",
       "    </tr>\n",
       "  </tbody>\n",
       "</table>\n",
       "<p>3000 rows × 2 columns</p>\n",
       "</div>"
      ],
      "text/plain": [
       "           file_name     label\n",
       "0     IMAGE_0000.jpg     tumor\n",
       "1     IMAGE_0001.jpg  no_tumor\n",
       "2     IMAGE_0002.jpg     tumor\n",
       "3     IMAGE_0003.jpg     tumor\n",
       "4     IMAGE_0004.jpg     tumor\n",
       "...              ...       ...\n",
       "2995  IMAGE_2995.jpg  no_tumor\n",
       "2996  IMAGE_2996.jpg     tumor\n",
       "2997  IMAGE_2997.jpg     tumor\n",
       "2998  IMAGE_2998.jpg     tumor\n",
       "2999  IMAGE_2999.jpg     tumor\n",
       "\n",
       "[3000 rows x 2 columns]"
      ]
     },
     "execution_count": 6,
     "metadata": {},
     "output_type": "execute_result"
    }
   ],
   "source": [
    "tumour_labels #Displaying data frame to visually ensure labels changed as specified in cell above"
   ]
  },
  {
   "cell_type": "markdown",
   "id": "ddb96249",
   "metadata": {},
   "source": [
    "### Adding numeric representation to the data frame¶\n",
    "\n",
    "In the cells below, we add another column to the data frame and assign a numeric value label to each label. Since our problem is binary, the numeric label can only be 1 or 0.\n",
    "\n",
    "If the label indicates \"tumor\" it is assigned a numeric label 1, and if the label does not indicate a tumour \"no_tumor\" it is assigned the numeric label 0. It also increases adaptability or convenience of the code if deep-learning models were to be used to have numeric label rather than a text label."
   ]
  },
  {
   "cell_type": "code",
   "execution_count": 7,
   "id": "3f6cf7c9",
   "metadata": {},
   "outputs": [],
   "source": [
    "classes = ['no_tumor', 'tumor']\n",
    "for CLASS in classes:\n",
    "    tumour_labels.loc[tumour_labels['label'] == CLASS, 'numeric label'] = classes.index(CLASS)"
   ]
  },
  {
   "cell_type": "code",
   "execution_count": 8,
   "id": "a4374bca",
   "metadata": {},
   "outputs": [
    {
     "data": {
      "text/html": [
       "<div>\n",
       "<style scoped>\n",
       "    .dataframe tbody tr th:only-of-type {\n",
       "        vertical-align: middle;\n",
       "    }\n",
       "\n",
       "    .dataframe tbody tr th {\n",
       "        vertical-align: top;\n",
       "    }\n",
       "\n",
       "    .dataframe thead th {\n",
       "        text-align: right;\n",
       "    }\n",
       "</style>\n",
       "<table border=\"1\" class=\"dataframe\">\n",
       "  <thead>\n",
       "    <tr style=\"text-align: right;\">\n",
       "      <th></th>\n",
       "      <th>file_name</th>\n",
       "      <th>label</th>\n",
       "      <th>numeric label</th>\n",
       "    </tr>\n",
       "  </thead>\n",
       "  <tbody>\n",
       "    <tr>\n",
       "      <th>0</th>\n",
       "      <td>IMAGE_0000.jpg</td>\n",
       "      <td>tumor</td>\n",
       "      <td>1.0</td>\n",
       "    </tr>\n",
       "    <tr>\n",
       "      <th>1</th>\n",
       "      <td>IMAGE_0001.jpg</td>\n",
       "      <td>no_tumor</td>\n",
       "      <td>0.0</td>\n",
       "    </tr>\n",
       "    <tr>\n",
       "      <th>2</th>\n",
       "      <td>IMAGE_0002.jpg</td>\n",
       "      <td>tumor</td>\n",
       "      <td>1.0</td>\n",
       "    </tr>\n",
       "    <tr>\n",
       "      <th>3</th>\n",
       "      <td>IMAGE_0003.jpg</td>\n",
       "      <td>tumor</td>\n",
       "      <td>1.0</td>\n",
       "    </tr>\n",
       "    <tr>\n",
       "      <th>4</th>\n",
       "      <td>IMAGE_0004.jpg</td>\n",
       "      <td>tumor</td>\n",
       "      <td>1.0</td>\n",
       "    </tr>\n",
       "    <tr>\n",
       "      <th>...</th>\n",
       "      <td>...</td>\n",
       "      <td>...</td>\n",
       "      <td>...</td>\n",
       "    </tr>\n",
       "    <tr>\n",
       "      <th>2995</th>\n",
       "      <td>IMAGE_2995.jpg</td>\n",
       "      <td>no_tumor</td>\n",
       "      <td>0.0</td>\n",
       "    </tr>\n",
       "    <tr>\n",
       "      <th>2996</th>\n",
       "      <td>IMAGE_2996.jpg</td>\n",
       "      <td>tumor</td>\n",
       "      <td>1.0</td>\n",
       "    </tr>\n",
       "    <tr>\n",
       "      <th>2997</th>\n",
       "      <td>IMAGE_2997.jpg</td>\n",
       "      <td>tumor</td>\n",
       "      <td>1.0</td>\n",
       "    </tr>\n",
       "    <tr>\n",
       "      <th>2998</th>\n",
       "      <td>IMAGE_2998.jpg</td>\n",
       "      <td>tumor</td>\n",
       "      <td>1.0</td>\n",
       "    </tr>\n",
       "    <tr>\n",
       "      <th>2999</th>\n",
       "      <td>IMAGE_2999.jpg</td>\n",
       "      <td>tumor</td>\n",
       "      <td>1.0</td>\n",
       "    </tr>\n",
       "  </tbody>\n",
       "</table>\n",
       "<p>3000 rows × 3 columns</p>\n",
       "</div>"
      ],
      "text/plain": [
       "           file_name     label  numeric label\n",
       "0     IMAGE_0000.jpg     tumor            1.0\n",
       "1     IMAGE_0001.jpg  no_tumor            0.0\n",
       "2     IMAGE_0002.jpg     tumor            1.0\n",
       "3     IMAGE_0003.jpg     tumor            1.0\n",
       "4     IMAGE_0004.jpg     tumor            1.0\n",
       "...              ...       ...            ...\n",
       "2995  IMAGE_2995.jpg  no_tumor            0.0\n",
       "2996  IMAGE_2996.jpg     tumor            1.0\n",
       "2997  IMAGE_2997.jpg     tumor            1.0\n",
       "2998  IMAGE_2998.jpg     tumor            1.0\n",
       "2999  IMAGE_2999.jpg     tumor            1.0\n",
       "\n",
       "[3000 rows x 3 columns]"
      ]
     },
     "execution_count": 8,
     "metadata": {},
     "output_type": "execute_result"
    }
   ],
   "source": [
    "tumour_labels #Displaying dataframe to ensure new column created and values are being assigned properly"
   ]
  },
  {
   "cell_type": "markdown",
   "id": "af7f4cd5",
   "metadata": {},
   "source": [
    "### Choosing mode and loading the images"
   ]
  },
  {
   "cell_type": "markdown",
   "id": "7fb3e1e1",
   "metadata": {},
   "source": [
    "In the cell below, we load the image files using the imread functions from the scikit-image package. We convert the images to grayscale as a form of preprocessing. \n",
    "\n",
    "The images (whether grayscale or not) numpy arrays before appending them to a list. This list of arrays is then converted to a numpy array of arrays to allow us to print the shape to verify all the images have been loaded.\n",
    "\n",
    "This cell also uses datetime.now() to output the time elapsed to load the image set. This was used to compare efficiency of different imread functions from different packages including skimage, cv2 etc. In the end, skimage was chosen as it produced slightly favourable results."
   ]
  },
  {
   "cell_type": "code",
   "execution_count": 34,
   "id": "244081ca",
   "metadata": {},
   "outputs": [
    {
     "name": "stdout",
     "output_type": "stream",
     "text": [
      "The time elapsed to load the images was:  0:00:50.621401\n",
      "(3000, 512, 512)\n"
     ]
    },
    {
     "data": {
      "image/png": "[encoded data removed]",
      "text/plain": [
       "<Figure size 432x288 with 1 Axes>"
      ]
     },
     "metadata": {
      "needs_background": "light"
     },
     "output_type": "display_data"
    }
   ],
   "source": [
    "#Uncomment to verify contents of the directory loaded\n",
    "\n",
    "#Defines the directory name and stores it in dirname\n",
    "dirname = './dataset/image'\n",
    "#print(listdir(dirname))\n",
    "\n",
    "#Code used to test timing\n",
    "\n",
    "start = datetime.now() #Stores the time at which loading starts\n",
    "\n",
    "images = [] #An empty list is created\n",
    "\n",
    "\"\"\"The for loop below uses listdir to iterate through names of all the files in the directory and uses to\n",
    "populate the list images. The image is converted into grayscale using rgb2gray as this grayscale images only\n",
    "have one channel which will increase efficiency of the code as we and decrease complexity whilst still yielding \n",
    "similar results. Testing carried out by me showed that we should stick to grayscale.\n",
    "\n",
    "The user can optionally comment out lines 23-25 and uncomment lines 27 and 28 to leave the image in RGB rather\n",
    "than convert it to grayscale\"\"\"\n",
    "\n",
    "for file in listdir(dirname):\n",
    "    img = io.imread(dirname + '/' + file)\n",
    "    gray_img = rgb2gray(img)\n",
    "    gray_img = np.array(gray_img)\n",
    "    images.append(gray_img)\n",
    "    \n",
    "    #img = np.array(img)\n",
    "    #images.append(img) \n",
    "        \n",
    "#Marking the end of the code loading the images \n",
    "end = datetime.now()\n",
    "elapsed = end - start #Calculating time elapsed while comparing different packages used to load images\n",
    "print('The time elapsed to load the images was: ', + elapsed) \n",
    "\n",
    "\"\"\"Below we chose a random image from the dataset (image[45]) to show below so the user can visually verify\n",
    "the type of image. We apply a red colormap in the imshow function so that if the image is shown with red tones\n",
    "the user knows it was converted to grayscale and if it shows as a regular black and white MRI then it was not.\"\"\"\n",
    "\n",
    "io.imshow(np.array(images[45]), cmap='Reds') #red colormap only appears if grayscale image\n",
    "print(np.array(images).shape) #Converting list images to a numpy array before outputting shape to verify "
   ]
  },
  {
   "cell_type": "markdown",
   "id": "8fad702d",
   "metadata": {},
   "source": [
    "### HOG for feature extraction"
   ]
  },
  {
   "cell_type": "code",
   "execution_count": 35,
   "id": "b5561c54",
   "metadata": {},
   "outputs": [
    {
     "ename": "KeyboardInterrupt",
     "evalue": "",
     "output_type": "error",
     "traceback": [
      "\u001b[1;31m---------------------------------------------------------------------------\u001b[0m",
      "\u001b[1;31mKeyboardInterrupt\u001b[0m                         Traceback (most recent call last)",
      "\u001b[1;32mC:\\Users\\YOUSEF~1\\AppData\\Local\\Temp/ipykernel_8516/3462658973.py\u001b[0m in \u001b[0;36m<module>\u001b[1;34m\u001b[0m\n\u001b[0;32m      3\u001b[0m \u001b[1;33m\u001b[0m\u001b[0m\n\u001b[0;32m      4\u001b[0m \u001b[1;32mfor\u001b[0m \u001b[0mindex\u001b[0m \u001b[1;32min\u001b[0m \u001b[0mrange\u001b[0m\u001b[1;33m(\u001b[0m\u001b[0mlen\u001b[0m\u001b[1;33m(\u001b[0m\u001b[0mimages\u001b[0m\u001b[1;33m)\u001b[0m\u001b[1;33m)\u001b[0m\u001b[1;33m:\u001b[0m\u001b[1;33m\u001b[0m\u001b[1;33m\u001b[0m\u001b[0m\n\u001b[1;32m----> 5\u001b[1;33m     \u001b[0mhog_feature\u001b[0m\u001b[1;33m,\u001b[0m \u001b[0mhog_image\u001b[0m \u001b[1;33m=\u001b[0m \u001b[0mhog\u001b[0m\u001b[1;33m(\u001b[0m\u001b[0mimages\u001b[0m\u001b[1;33m[\u001b[0m\u001b[0mindex\u001b[0m\u001b[1;33m]\u001b[0m\u001b[1;33m,\u001b[0m \u001b[0mvisualize\u001b[0m \u001b[1;33m=\u001b[0m \u001b[1;32mTrue\u001b[0m\u001b[1;33m,\u001b[0m \u001b[0mblock_norm\u001b[0m \u001b[1;33m=\u001b[0m \u001b[1;34m'L2-Hys'\u001b[0m\u001b[1;33m,\u001b[0m \u001b[0mpixels_per_cell\u001b[0m\u001b[1;33m=\u001b[0m\u001b[1;33m(\u001b[0m\u001b[1;36m16\u001b[0m\u001b[1;33m,\u001b[0m\u001b[1;36m16\u001b[0m\u001b[1;33m)\u001b[0m\u001b[1;33m)\u001b[0m\u001b[1;33m\u001b[0m\u001b[1;33m\u001b[0m\u001b[0m\n\u001b[0m\u001b[0;32m      6\u001b[0m     \u001b[0mfeatures_hog\u001b[0m\u001b[1;33m.\u001b[0m\u001b[0mappend\u001b[0m\u001b[1;33m(\u001b[0m\u001b[0mhog_feature\u001b[0m\u001b[1;33m)\u001b[0m\u001b[1;33m\u001b[0m\u001b[1;33m\u001b[0m\u001b[0m\n\u001b[0;32m      7\u001b[0m     \u001b[0mimages_hog\u001b[0m\u001b[1;33m.\u001b[0m\u001b[0mappend\u001b[0m\u001b[1;33m(\u001b[0m\u001b[0mhog_image\u001b[0m\u001b[1;33m)\u001b[0m\u001b[1;33m\u001b[0m\u001b[1;33m\u001b[0m\u001b[0m\n",
      "\u001b[1;32m~\\.conda\\envs\\AML_Assignment\\lib\\site-packages\\skimage\\feature\\_hog.py\u001b[0m in \u001b[0;36mhog\u001b[1;34m(image, orientations, pixels_per_cell, cells_per_block, block_norm, visualize, transform_sqrt, feature_vector, multichannel)\u001b[0m\n\u001b[0;32m    253\u001b[0m                                        \u001b[0mint\u001b[0m\u001b[1;33m(\u001b[0m\u001b[0mcentre\u001b[0m\u001b[1;33m[\u001b[0m\u001b[1;36m0\u001b[0m\u001b[1;33m]\u001b[0m \u001b[1;33m+\u001b[0m \u001b[0mdc\u001b[0m\u001b[1;33m)\u001b[0m\u001b[1;33m,\u001b[0m\u001b[1;33m\u001b[0m\u001b[1;33m\u001b[0m\u001b[0m\n\u001b[0;32m    254\u001b[0m                                        int(centre[1] - dr))\n\u001b[1;32m--> 255\u001b[1;33m                     \u001b[0mhog_image\u001b[0m\u001b[1;33m[\u001b[0m\u001b[0mrr\u001b[0m\u001b[1;33m,\u001b[0m \u001b[0mcc\u001b[0m\u001b[1;33m]\u001b[0m \u001b[1;33m+=\u001b[0m \u001b[0morientation_histogram\u001b[0m\u001b[1;33m[\u001b[0m\u001b[0mr\u001b[0m\u001b[1;33m,\u001b[0m \u001b[0mc\u001b[0m\u001b[1;33m,\u001b[0m \u001b[0mo\u001b[0m\u001b[1;33m]\u001b[0m\u001b[1;33m\u001b[0m\u001b[1;33m\u001b[0m\u001b[0m\n\u001b[0m\u001b[0;32m    256\u001b[0m \u001b[1;33m\u001b[0m\u001b[0m\n\u001b[0;32m    257\u001b[0m     \"\"\"\n",
      "\u001b[1;31mKeyboardInterrupt\u001b[0m: "
     ]
    }
   ],
   "source": [
    "features_hog = []\n",
    "images_hog = []\n",
    "\n",
    "for index in range(len(images)):\n",
    "    hog_feature, hog_image = hog(images[index], visualize = True, block_norm = 'L2-Hys', pixels_per_cell=(16,16))\n",
    "    features_hog.append(hog_feature)\n",
    "    images_hog.append(hog_image)\n"
   ]
  },
  {
   "cell_type": "code",
   "execution_count": null,
   "id": "c72b8b70",
   "metadata": {},
   "outputs": [],
   "source": [
    "features_hog.shape\n",
    "images_hog.shape"
   ]
  },
  {
   "cell_type": "code",
   "execution_count": 29,
   "id": "76cbea46",
   "metadata": {},
   "outputs": [
    {
     "data": {
      "text/plain": [
       "<matplotlib.image.AxesImage at 0x230800796c8>"
      ]
     },
     "execution_count": 29,
     "metadata": {},
     "output_type": "execute_result"
    },
    {
     "data": {
      "image/png": "[encoded data removed]",
      "text/plain": [
       "<Figure size 432x288 with 1 Axes>"
      ]
     },
     "metadata": {
      "needs_background": "light"
     },
     "output_type": "display_data"
    }
   ],
   "source": [
    "features_hog, image_hog = hog(images[26], visualize = True, block_norm = 'L2-Hys', pixels_per_cell=(16,16))\n",
    "\n",
    "plt.imshow(image_hog, cmap = 'gray')"
   ]
  },
  {
   "cell_type": "markdown",
   "id": "fc8ee24c",
   "metadata": {},
   "source": [
    "### Splitting the data into training and testing data\n",
    "\n",
    "In the cells below, we use train_test_split from the model_selection part of the sklearn package. This splits the data into training and testing data before we train the model. The testing data is left unseen so we can test our trained model using it."
   ]
  },
  {
   "cell_type": "code",
   "execution_count": 10,
   "id": "d1e39cf0",
   "metadata": {},
   "outputs": [
    {
     "name": "stdout",
     "output_type": "stream",
     "text": [
      "(2250, 512, 512)\n",
      "(750, 512, 512)\n"
     ]
    }
   ],
   "source": [
    "X = np.array(images) #Set X to contain the array of images\n",
    "Y = tumour_labels['numeric label'] #Set Y to contain the corresponding numeric labels of each image\n",
    "\n",
    "xTrain, xTest, yTrain, yTest = train_test_split(X,Y, random_state = 0) #Set random_state to 0 for reproducibility\n",
    "\n",
    "print(xTrain.shape) #Printing the shape of xTrain to veryify data was split correctly\n",
    "print(xTest.shape) #Printing the shape of xTest to verify  data was split correctly\n",
    "train_size = xTrain.shape[0]\n",
    "test_size = xTest.shape[0]"
   ]
  },
  {
   "cell_type": "markdown",
   "id": "08386433",
   "metadata": {},
   "source": [
    "### Reshaping xTrain and xTest for use in ML models and verifying the reshape\n",
    "\n",
    "These cells reshape xTrain and xTest to 2-dimensional arrays and verifies they have been correctly reshaped depending on whether or not they were converted to grayscale."
   ]
  },
  {
   "cell_type": "code",
   "execution_count": 11,
   "id": "6f90c897",
   "metadata": {},
   "outputs": [],
   "source": [
    "#Reshaping xTrain and xTest each to 2-dimensional arrays to allow them to be input into models such as Logistic Reg and SVMs\n",
    "\n",
    "#If statement to control reshaping of xTrain and xTest dependent if using RGB or Grayscale\n",
    "#If RGB then .shape arrays will have 4 elements, so we reshape using [1], [2] and [3] from xTrain.shape\n",
    "#Otherwise, if Grayscale .shape arrays will only have 3 elements so we reshape using only [1] and [2] as there is no [3]\n",
    "\n",
    "if len(xTrain.shape) == 4:\n",
    "    xTrain = xTrain.reshape(xTrain.shape[0], xTrain.shape[1]*xTrain.shape[2]*xTrain.shape[3])\n",
    "    xTest = xTest.reshape(xTest.shape[0], xTest.shape[1]*xTest.shape[2]*xTest.shape[3])\n",
    "elif len(xTrain.shape) == 3:\n",
    "    xTrain = xTrain.reshape(xTrain.shape[0], xTrain.shape[1]*xTrain.shape[2])\n",
    "    xTest = xTest.reshape(xTest.shape[0], xTest.shape[1]*xTest.shape[2])    "
   ]
  },
  {
   "cell_type": "code",
   "execution_count": 12,
   "id": "628bbbb4",
   "metadata": {},
   "outputs": [
    {
     "data": {
      "text/plain": [
       "(2250, 262144)"
      ]
     },
     "execution_count": 12,
     "metadata": {},
     "output_type": "execute_result"
    }
   ],
   "source": [
    "xTrain.shape #Visually verifying xTrain has been reshaped"
   ]
  },
  {
   "cell_type": "code",
   "execution_count": 13,
   "id": "c977c3fa",
   "metadata": {},
   "outputs": [
    {
     "data": {
      "text/plain": [
       "(750, 262144)"
      ]
     },
     "execution_count": 13,
     "metadata": {},
     "output_type": "execute_result"
    }
   ],
   "source": [
    "xTest.shape #Visually verifying xTest has been reshaped"
   ]
  },
  {
   "cell_type": "code",
   "execution_count": 14,
   "id": "a64e5702",
   "metadata": {},
   "outputs": [
    {
     "name": "stdout",
     "output_type": "stream",
     "text": [
      "xTrain reshaped correctly\n",
      "xTest reshaped correctly\n"
     ]
    }
   ],
   "source": [
    "if color_mode.lower().startswith(\"n\"):\n",
    "    if xTrain.shape[0] == train_size and xTrain.shape[1] == 512*512*3:\n",
    "        print('xTrain reshaped correctly')\n",
    "    else: print('xTrain reshaped incorrectly')\n",
    "    if xTest.shape[0] == test_size and xTest.shape[1] == 512*512*3:\n",
    "        print('xTest reshaped correctly')\n",
    "    else: print('xTest reshaped incorrectly')\n",
    "elif color_mode.lower().startswith(\"y\"):\n",
    "    if xTrain.shape[0] == train_size and xTrain.shape[1] == 512*512:\n",
    "        print('xTrain reshaped correctly')\n",
    "    else: print('xTrain reshaped incorrectly')\n",
    "    if xTest.shape[0] == test_size and xTest.shape[1] == 512*512:\n",
    "        print('xTest reshaped correctly')\n",
    "    else: print('xTest reshaped incorrectly')"
   ]
  },
  {
   "cell_type": "markdown",
   "id": "6e750c2e",
   "metadata": {},
   "source": [
    "### Training the models"
   ]
  },
  {
   "cell_type": "code",
   "execution_count": 15,
   "id": "61b942fb",
   "metadata": {},
   "outputs": [
    {
     "name": "stdout",
     "output_type": "stream",
     "text": [
      "The training time for Model 1 (SVM with Kernel = Linear) is:  0:02:48.421635\n"
     ]
    }
   ],
   "source": [
    "start_model1 = datetime.now()\n",
    "model1_svmlinear = SVC(kernel='linear')\n",
    "model1_svmlinear.fit(xTrain, yTrain)\n",
    "end_model1 = datetime.now()\n",
    "time_model1 = end_model1 - start_model1\n",
    "print('The training time for Model 1 (SVM with Kernel = Linear) is: ', time_model1)"
   ]
  },
  {
   "cell_type": "code",
   "execution_count": 16,
   "id": "5885f098",
   "metadata": {},
   "outputs": [
    {
     "name": "stdout",
     "output_type": "stream",
     "text": [
      "The training time for Model 1 (SVM with Kernel = Linear) is:  0:02:47.000951\n"
     ]
    }
   ],
   "source": [
    "start_model2 = datetime.now()\n",
    "model2_svmpoly = SVC(kernel = 'poly')\n",
    "model2_svmpoly.fit(xTrain, yTrain)\n",
    "end_model2 = datetime.now()\n",
    "time_model2 = end_model2 - start_model2\n",
    "print('The training time for Model 1 (SVM with Kernel = Linear) is: ', time_model2)"
   ]
  },
  {
   "cell_type": "code",
   "execution_count": 17,
   "id": "560bd5db",
   "metadata": {},
   "outputs": [
    {
     "name": "stdout",
     "output_type": "stream",
     "text": [
      "The training time for Model 1 (SVM with Kernel = Linear) is:  0:03:00.251872\n"
     ]
    }
   ],
   "source": [
    "start_model3 = datetime.now()\n",
    "model3_svmrbf = SVC(kernel = 'rbf')\n",
    "model3_svmrbf.fit(xTrain, yTrain)\n",
    "end_model3 = datetime.now()\n",
    "time_model3 = end_model3 - start_model3\n",
    "print('The training time for Model 1 (SVM with Kernel = Linear) is: ', time_model3)"
   ]
  },
  {
   "cell_type": "markdown",
   "id": "9f1271ef",
   "metadata": {},
   "source": [
    "### Model 1 Prediction + Classification Report + Confusion Matrix"
   ]
  },
  {
   "cell_type": "code",
   "execution_count": 18,
   "id": "ba9c1a19",
   "metadata": {},
   "outputs": [],
   "source": [
    "y_Pred_model1 = model1_svmlinear.predict(xTest)"
   ]
  },
  {
   "cell_type": "code",
   "execution_count": 19,
   "id": "dcdcfa37",
   "metadata": {},
   "outputs": [
    {
     "name": "stdout",
     "output_type": "stream",
     "text": [
      "Accuracy on test set: 0.9173333333333333\n",
      "              precision    recall  f1-score   support\n",
      "\n",
      "         0.0       0.84      0.61      0.71       123\n",
      "         1.0       0.93      0.98      0.95       627\n",
      "\n",
      "    accuracy                           0.92       750\n",
      "   macro avg       0.89      0.79      0.83       750\n",
      "weighted avg       0.91      0.92      0.91       750\n",
      "\n"
     ]
    }
   ],
   "source": [
    "print('Accuracy on test set: '+str(accuracy_score(yTest,y_Pred_model1)))\n",
    "print(classification_report(yTest,y_Pred_model1))#text report showing the main classification metrics"
   ]
  },
  {
   "cell_type": "code",
   "execution_count": 20,
   "id": "b93fb953",
   "metadata": {},
   "outputs": [],
   "source": [
    "acc_model1 = model1_svmlinear.score(xTest, yTest)"
   ]
  },
  {
   "cell_type": "code",
   "execution_count": 21,
   "id": "bef0c8cd",
   "metadata": {},
   "outputs": [],
   "source": [
    "conf_olddata_model1 = confusion_matrix(yTest, y_Pred_model1)"
   ]
  },
  {
   "cell_type": "code",
   "execution_count": 24,
   "id": "820325c3",
   "metadata": {},
   "outputs": [
    {
     "data": {
      "image/png": "[encoded data removed]",
      "text/plain": [
       "<Figure size 648x648 with 2 Axes>"
      ]
     },
     "metadata": {
      "needs_background": "light"
     },
     "output_type": "display_data"
    }
   ],
   "source": [
    "plt.figure(figsize=(9,9))\n",
    "sns.heatmap(conf_olddata_model1, annot=True, fmt=\".3f\", linewidths=.5, square = True, cmap = 'Blues_r');\n",
    "plt.ylabel('Actual label');\n",
    "plt.xlabel('Predicted label');\n",
    "all_sample_title = 'Accuracy Score: {0}'.format(acc_model1)\n",
    "plt.title(all_sample_title, size = 15);"
   ]
  },
  {
   "cell_type": "markdown",
   "id": "1d2f2c12",
   "metadata": {},
   "source": [
    "### Model 2 Prediction + Classification Report + Confusion Matrix"
   ]
  },
  {
   "cell_type": "code",
   "execution_count": 25,
   "id": "6a999e43",
   "metadata": {},
   "outputs": [],
   "source": [
    "y_Pred_model2 = model2_svmpoly.predict(xTest)"
   ]
  },
  {
   "cell_type": "code",
   "execution_count": 26,
   "id": "30dae787",
   "metadata": {},
   "outputs": [
    {
     "name": "stdout",
     "output_type": "stream",
     "text": [
      "Accuracy on test set: 0.9173333333333333\n",
      "              precision    recall  f1-score   support\n",
      "\n",
      "         0.0       0.84      0.61      0.71       123\n",
      "         1.0       0.93      0.98      0.95       627\n",
      "\n",
      "    accuracy                           0.92       750\n",
      "   macro avg       0.89      0.79      0.83       750\n",
      "weighted avg       0.91      0.92      0.91       750\n",
      "\n"
     ]
    }
   ],
   "source": [
    "print('Accuracy on test set: '+str(accuracy_score(yTest,y_Pred_model2)))\n",
    "print(classification_report(yTest,y_Pred_model2))#text report showing the main classification metrics"
   ]
  },
  {
   "cell_type": "code",
   "execution_count": 27,
   "id": "70599fae",
   "metadata": {},
   "outputs": [],
   "source": [
    "acc_model2 = model2_svmpoly.score(xTest, yTest)"
   ]
  },
  {
   "cell_type": "code",
   "execution_count": 28,
   "id": "db8a813a",
   "metadata": {},
   "outputs": [],
   "source": [
    "conf_olddata_model2 = confusion_matrix(yTest, y_Pred_model2)"
   ]
  },
  {
   "cell_type": "code",
   "execution_count": 29,
   "id": "f1563c49",
   "metadata": {},
   "outputs": [
    {
     "data": {
      "image/png": "[encoded data removed]",
      "text/plain": [
       "<Figure size 648x648 with 2 Axes>"
      ]
     },
     "metadata": {
      "needs_background": "light"
     },
     "output_type": "display_data"
    }
   ],
   "source": [
    "plt.figure(figsize=(9,9))\n",
    "sns.heatmap(conf_olddata_model2, annot=True, fmt=\".3f\", linewidths=.5, square = True, cmap = 'Blues_r');\n",
    "plt.ylabel('Actual label');\n",
    "plt.xlabel('Predicted label');\n",
    "all_sample_title = 'Accuracy Score: {0}'.format(acc_model2)\n",
    "plt.title(all_sample_title, size = 15);"
   ]
  },
  {
   "cell_type": "markdown",
   "id": "a0930b24",
   "metadata": {},
   "source": [
    "### Model 3 Prediction + Classification Report + Confusion Matrix"
   ]
  },
  {
   "cell_type": "code",
   "execution_count": 30,
   "id": "d3a826fe",
   "metadata": {},
   "outputs": [],
   "source": [
    "y_Pred_model3 = model3_svmrbf.predict(xTest)"
   ]
  },
  {
   "cell_type": "code",
   "execution_count": 31,
   "id": "ff6d0e15",
   "metadata": {},
   "outputs": [
    {
     "name": "stdout",
     "output_type": "stream",
     "text": [
      "Accuracy on test set: 0.92\n",
      "              precision    recall  f1-score   support\n",
      "\n",
      "         0.0       0.92      0.56      0.70       123\n",
      "         1.0       0.92      0.99      0.95       627\n",
      "\n",
      "    accuracy                           0.92       750\n",
      "   macro avg       0.92      0.78      0.83       750\n",
      "weighted avg       0.92      0.92      0.91       750\n",
      "\n"
     ]
    }
   ],
   "source": [
    "print('Accuracy on test set: '+str(accuracy_score(yTest,y_Pred_model3)))\n",
    "print(classification_report(yTest,y_Pred_model3))#text report showing the main classification metrics"
   ]
  },
  {
   "cell_type": "code",
   "execution_count": 32,
   "id": "48214fcc",
   "metadata": {},
   "outputs": [],
   "source": [
    "acc_model3 = model3_svmrbf.score(xTest, yTest)"
   ]
  },
  {
   "cell_type": "code",
   "execution_count": 33,
   "id": "ad144530",
   "metadata": {},
   "outputs": [],
   "source": [
    "conf_olddata_model3 = confusion_matrix(yTest, y_Pred_model3)"
   ]
  },
  {
   "cell_type": "code",
   "execution_count": 34,
   "id": "98b17f90",
   "metadata": {},
   "outputs": [
    {
     "data": {
      "image/png": "[encoded data removed]",
      "text/plain": [
       "<Figure size 648x648 with 2 Axes>"
      ]
     },
     "metadata": {
      "needs_background": "light"
     },
     "output_type": "display_data"
    }
   ],
   "source": [
    "plt.figure(figsize=(9,9))\n",
    "sns.heatmap(conf_olddata_model3, annot=True, fmt=\".3f\", linewidths=.5, square = True, cmap = 'Blues_r');\n",
    "plt.ylabel('Actual label');\n",
    "plt.xlabel('Predicted label');\n",
    "all_sample_title = 'Accuracy Score: {0}'.format(acc_model3)\n",
    "plt.title(all_sample_title, size = 15);"
   ]
  },
  {
   "cell_type": "code",
   "execution_count": null,
   "id": "908d5ade",
   "metadata": {},
   "outputs": [],
   "source": []
  },
  {
   "cell_type": "markdown",
   "id": "ddae63bb",
   "metadata": {},
   "source": [
    "### Testing and reporting new accuracy score using updated test set \n",
    "\n",
    "In the following cells we use similar methods to the ones we had above to load the images from the new test set uploaded, "
   ]
  },
  {
   "cell_type": "code",
   "execution_count": 35,
   "id": "0b07f6f0",
   "metadata": {},
   "outputs": [
    {
     "name": "stdout",
     "output_type": "stream",
     "text": [
      "(200, 2)\n"
     ]
    }
   ],
   "source": [
    "new_tumour_labels = pd.read_csv('./test/label.csv')\n",
    "print(new_tumour_labels.shape) #Outputs array with the shape of the dataframe to ensure all images, filenames and labels loaded"
   ]
  },
  {
   "cell_type": "code",
   "execution_count": 36,
   "id": "08fbf327",
   "metadata": {},
   "outputs": [
    {
     "data": {
      "text/html": [
       "<div>\n",
       "<style scoped>\n",
       "    .dataframe tbody tr th:only-of-type {\n",
       "        vertical-align: middle;\n",
       "    }\n",
       "\n",
       "    .dataframe tbody tr th {\n",
       "        vertical-align: top;\n",
       "    }\n",
       "\n",
       "    .dataframe thead th {\n",
       "        text-align: right;\n",
       "    }\n",
       "</style>\n",
       "<table border=\"1\" class=\"dataframe\">\n",
       "  <thead>\n",
       "    <tr style=\"text-align: right;\">\n",
       "      <th></th>\n",
       "      <th>file_name</th>\n",
       "      <th>label</th>\n",
       "    </tr>\n",
       "  </thead>\n",
       "  <tbody>\n",
       "    <tr>\n",
       "      <th>0</th>\n",
       "      <td>IMAGE_0000.jpg</td>\n",
       "      <td>meningioma_tumor</td>\n",
       "    </tr>\n",
       "    <tr>\n",
       "      <th>1</th>\n",
       "      <td>IMAGE_0001.jpg</td>\n",
       "      <td>meningioma_tumor</td>\n",
       "    </tr>\n",
       "    <tr>\n",
       "      <th>2</th>\n",
       "      <td>IMAGE_0002.jpg</td>\n",
       "      <td>glioma_tumor</td>\n",
       "    </tr>\n",
       "    <tr>\n",
       "      <th>3</th>\n",
       "      <td>IMAGE_0003.jpg</td>\n",
       "      <td>pituitary_tumor</td>\n",
       "    </tr>\n",
       "    <tr>\n",
       "      <th>4</th>\n",
       "      <td>IMAGE_0004.jpg</td>\n",
       "      <td>glioma_tumor</td>\n",
       "    </tr>\n",
       "    <tr>\n",
       "      <th>...</th>\n",
       "      <td>...</td>\n",
       "      <td>...</td>\n",
       "    </tr>\n",
       "    <tr>\n",
       "      <th>195</th>\n",
       "      <td>IMAGE_0195.jpg</td>\n",
       "      <td>pituitary_tumor</td>\n",
       "    </tr>\n",
       "    <tr>\n",
       "      <th>196</th>\n",
       "      <td>IMAGE_0196.jpg</td>\n",
       "      <td>no_tumor</td>\n",
       "    </tr>\n",
       "    <tr>\n",
       "      <th>197</th>\n",
       "      <td>IMAGE_0197.jpg</td>\n",
       "      <td>meningioma_tumor</td>\n",
       "    </tr>\n",
       "    <tr>\n",
       "      <th>198</th>\n",
       "      <td>IMAGE_0198.jpg</td>\n",
       "      <td>no_tumor</td>\n",
       "    </tr>\n",
       "    <tr>\n",
       "      <th>199</th>\n",
       "      <td>IMAGE_0199.jpg</td>\n",
       "      <td>glioma_tumor</td>\n",
       "    </tr>\n",
       "  </tbody>\n",
       "</table>\n",
       "<p>200 rows × 2 columns</p>\n",
       "</div>"
      ],
      "text/plain": [
       "          file_name             label\n",
       "0    IMAGE_0000.jpg  meningioma_tumor\n",
       "1    IMAGE_0001.jpg  meningioma_tumor\n",
       "2    IMAGE_0002.jpg      glioma_tumor\n",
       "3    IMAGE_0003.jpg   pituitary_tumor\n",
       "4    IMAGE_0004.jpg      glioma_tumor\n",
       "..              ...               ...\n",
       "195  IMAGE_0195.jpg   pituitary_tumor\n",
       "196  IMAGE_0196.jpg          no_tumor\n",
       "197  IMAGE_0197.jpg  meningioma_tumor\n",
       "198  IMAGE_0198.jpg          no_tumor\n",
       "199  IMAGE_0199.jpg      glioma_tumor\n",
       "\n",
       "[200 rows x 2 columns]"
      ]
     },
     "execution_count": 36,
     "metadata": {},
     "output_type": "execute_result"
    }
   ],
   "source": [
    "new_tumour_labels"
   ]
  },
  {
   "cell_type": "code",
   "execution_count": 37,
   "id": "01bcf926",
   "metadata": {},
   "outputs": [],
   "source": [
    "#change anything in the label column that is not equal to \"no_tumor\" to \"tumor\" rather than the type of tumor\n",
    "new_tumour_labels.loc[new_tumour_labels['label']!= 'no_tumor', 'label'] = 'tumor' "
   ]
  },
  {
   "cell_type": "code",
   "execution_count": 38,
   "id": "aaeca104",
   "metadata": {},
   "outputs": [
    {
     "data": {
      "text/html": [
       "<div>\n",
       "<style scoped>\n",
       "    .dataframe tbody tr th:only-of-type {\n",
       "        vertical-align: middle;\n",
       "    }\n",
       "\n",
       "    .dataframe tbody tr th {\n",
       "        vertical-align: top;\n",
       "    }\n",
       "\n",
       "    .dataframe thead th {\n",
       "        text-align: right;\n",
       "    }\n",
       "</style>\n",
       "<table border=\"1\" class=\"dataframe\">\n",
       "  <thead>\n",
       "    <tr style=\"text-align: right;\">\n",
       "      <th></th>\n",
       "      <th>file_name</th>\n",
       "      <th>label</th>\n",
       "    </tr>\n",
       "  </thead>\n",
       "  <tbody>\n",
       "    <tr>\n",
       "      <th>0</th>\n",
       "      <td>IMAGE_0000.jpg</td>\n",
       "      <td>tumor</td>\n",
       "    </tr>\n",
       "    <tr>\n",
       "      <th>1</th>\n",
       "      <td>IMAGE_0001.jpg</td>\n",
       "      <td>tumor</td>\n",
       "    </tr>\n",
       "    <tr>\n",
       "      <th>2</th>\n",
       "      <td>IMAGE_0002.jpg</td>\n",
       "      <td>tumor</td>\n",
       "    </tr>\n",
       "    <tr>\n",
       "      <th>3</th>\n",
       "      <td>IMAGE_0003.jpg</td>\n",
       "      <td>tumor</td>\n",
       "    </tr>\n",
       "    <tr>\n",
       "      <th>4</th>\n",
       "      <td>IMAGE_0004.jpg</td>\n",
       "      <td>tumor</td>\n",
       "    </tr>\n",
       "    <tr>\n",
       "      <th>...</th>\n",
       "      <td>...</td>\n",
       "      <td>...</td>\n",
       "    </tr>\n",
       "    <tr>\n",
       "      <th>195</th>\n",
       "      <td>IMAGE_0195.jpg</td>\n",
       "      <td>tumor</td>\n",
       "    </tr>\n",
       "    <tr>\n",
       "      <th>196</th>\n",
       "      <td>IMAGE_0196.jpg</td>\n",
       "      <td>no_tumor</td>\n",
       "    </tr>\n",
       "    <tr>\n",
       "      <th>197</th>\n",
       "      <td>IMAGE_0197.jpg</td>\n",
       "      <td>tumor</td>\n",
       "    </tr>\n",
       "    <tr>\n",
       "      <th>198</th>\n",
       "      <td>IMAGE_0198.jpg</td>\n",
       "      <td>no_tumor</td>\n",
       "    </tr>\n",
       "    <tr>\n",
       "      <th>199</th>\n",
       "      <td>IMAGE_0199.jpg</td>\n",
       "      <td>tumor</td>\n",
       "    </tr>\n",
       "  </tbody>\n",
       "</table>\n",
       "<p>200 rows × 2 columns</p>\n",
       "</div>"
      ],
      "text/plain": [
       "          file_name     label\n",
       "0    IMAGE_0000.jpg     tumor\n",
       "1    IMAGE_0001.jpg     tumor\n",
       "2    IMAGE_0002.jpg     tumor\n",
       "3    IMAGE_0003.jpg     tumor\n",
       "4    IMAGE_0004.jpg     tumor\n",
       "..              ...       ...\n",
       "195  IMAGE_0195.jpg     tumor\n",
       "196  IMAGE_0196.jpg  no_tumor\n",
       "197  IMAGE_0197.jpg     tumor\n",
       "198  IMAGE_0198.jpg  no_tumor\n",
       "199  IMAGE_0199.jpg     tumor\n",
       "\n",
       "[200 rows x 2 columns]"
      ]
     },
     "execution_count": 38,
     "metadata": {},
     "output_type": "execute_result"
    }
   ],
   "source": [
    "new_tumour_labels"
   ]
  },
  {
   "cell_type": "code",
   "execution_count": 39,
   "id": "71e48820",
   "metadata": {},
   "outputs": [],
   "source": [
    "for CLASS in classes:\n",
    "    new_tumour_labels.loc[new_tumour_labels['label'] == CLASS, 'numeric label'] = classes.index(CLASS)"
   ]
  },
  {
   "cell_type": "code",
   "execution_count": 40,
   "id": "2f91282b",
   "metadata": {},
   "outputs": [
    {
     "data": {
      "text/html": [
       "<div>\n",
       "<style scoped>\n",
       "    .dataframe tbody tr th:only-of-type {\n",
       "        vertical-align: middle;\n",
       "    }\n",
       "\n",
       "    .dataframe tbody tr th {\n",
       "        vertical-align: top;\n",
       "    }\n",
       "\n",
       "    .dataframe thead th {\n",
       "        text-align: right;\n",
       "    }\n",
       "</style>\n",
       "<table border=\"1\" class=\"dataframe\">\n",
       "  <thead>\n",
       "    <tr style=\"text-align: right;\">\n",
       "      <th></th>\n",
       "      <th>file_name</th>\n",
       "      <th>label</th>\n",
       "      <th>numeric label</th>\n",
       "    </tr>\n",
       "  </thead>\n",
       "  <tbody>\n",
       "    <tr>\n",
       "      <th>0</th>\n",
       "      <td>IMAGE_0000.jpg</td>\n",
       "      <td>tumor</td>\n",
       "      <td>1.0</td>\n",
       "    </tr>\n",
       "    <tr>\n",
       "      <th>1</th>\n",
       "      <td>IMAGE_0001.jpg</td>\n",
       "      <td>tumor</td>\n",
       "      <td>1.0</td>\n",
       "    </tr>\n",
       "    <tr>\n",
       "      <th>2</th>\n",
       "      <td>IMAGE_0002.jpg</td>\n",
       "      <td>tumor</td>\n",
       "      <td>1.0</td>\n",
       "    </tr>\n",
       "    <tr>\n",
       "      <th>3</th>\n",
       "      <td>IMAGE_0003.jpg</td>\n",
       "      <td>tumor</td>\n",
       "      <td>1.0</td>\n",
       "    </tr>\n",
       "    <tr>\n",
       "      <th>4</th>\n",
       "      <td>IMAGE_0004.jpg</td>\n",
       "      <td>tumor</td>\n",
       "      <td>1.0</td>\n",
       "    </tr>\n",
       "    <tr>\n",
       "      <th>...</th>\n",
       "      <td>...</td>\n",
       "      <td>...</td>\n",
       "      <td>...</td>\n",
       "    </tr>\n",
       "    <tr>\n",
       "      <th>195</th>\n",
       "      <td>IMAGE_0195.jpg</td>\n",
       "      <td>tumor</td>\n",
       "      <td>1.0</td>\n",
       "    </tr>\n",
       "    <tr>\n",
       "      <th>196</th>\n",
       "      <td>IMAGE_0196.jpg</td>\n",
       "      <td>no_tumor</td>\n",
       "      <td>0.0</td>\n",
       "    </tr>\n",
       "    <tr>\n",
       "      <th>197</th>\n",
       "      <td>IMAGE_0197.jpg</td>\n",
       "      <td>tumor</td>\n",
       "      <td>1.0</td>\n",
       "    </tr>\n",
       "    <tr>\n",
       "      <th>198</th>\n",
       "      <td>IMAGE_0198.jpg</td>\n",
       "      <td>no_tumor</td>\n",
       "      <td>0.0</td>\n",
       "    </tr>\n",
       "    <tr>\n",
       "      <th>199</th>\n",
       "      <td>IMAGE_0199.jpg</td>\n",
       "      <td>tumor</td>\n",
       "      <td>1.0</td>\n",
       "    </tr>\n",
       "  </tbody>\n",
       "</table>\n",
       "<p>200 rows × 3 columns</p>\n",
       "</div>"
      ],
      "text/plain": [
       "          file_name     label  numeric label\n",
       "0    IMAGE_0000.jpg     tumor            1.0\n",
       "1    IMAGE_0001.jpg     tumor            1.0\n",
       "2    IMAGE_0002.jpg     tumor            1.0\n",
       "3    IMAGE_0003.jpg     tumor            1.0\n",
       "4    IMAGE_0004.jpg     tumor            1.0\n",
       "..              ...       ...            ...\n",
       "195  IMAGE_0195.jpg     tumor            1.0\n",
       "196  IMAGE_0196.jpg  no_tumor            0.0\n",
       "197  IMAGE_0197.jpg     tumor            1.0\n",
       "198  IMAGE_0198.jpg  no_tumor            0.0\n",
       "199  IMAGE_0199.jpg     tumor            1.0\n",
       "\n",
       "[200 rows x 3 columns]"
      ]
     },
     "execution_count": 40,
     "metadata": {},
     "output_type": "execute_result"
    }
   ],
   "source": [
    "new_tumour_labels"
   ]
  },
  {
   "cell_type": "code",
   "execution_count": 41,
   "id": "99e30e01",
   "metadata": {},
   "outputs": [
    {
     "name": "stdout",
     "output_type": "stream",
     "text": [
      "The time elapsed to load the images was:  0:00:01.274929\n",
      "(200, 512, 512)\n"
     ]
    },
    {
     "data": {
      "image/png": "[encoded data removed]",
      "text/plain": [
       "<Figure size 432x288 with 1 Axes>"
      ]
     },
     "metadata": {
      "needs_background": "light"
     },
     "output_type": "display_data"
    }
   ],
   "source": [
    "#Code used to test timing\n",
    "\n",
    "start = datetime.now() #Stores the time at which loading starts\n",
    "\n",
    "validation_images = [] #An empty list is created\n",
    "\n",
    "#If statement uses user input color_mode to decide whether to convert images to greyscale or not before populating list\n",
    "#The for loops reads all images from the directory as listdir allows it loop through name of all files in the directory\n",
    "\n",
    "if color_mode.lower().startswith(\"n\"):\n",
    "    for file in listdir('./test/image'): \n",
    "        img = io.imread('./test/image/' + file) \n",
    "        img = np.array(img) #Converting image loaded to a numpy array\n",
    "        validation_images.append(img) #Appending the img as a numpy array into the list images\n",
    "        \n",
    "        #This can be uncommented if we want to show all the images but data is too large so we usually don't\n",
    "        #plt.figure()\n",
    "        #plt.imshow(img)\n",
    "        \n",
    "elif color_mode.lower().startswith(\"y\"):\n",
    "    for file in listdir('./test/image'):\n",
    "        img = io.imread('./dataset/image/' + file)\n",
    "        greyimg = rgb2gray(img) #Converting each image to grayscale \n",
    "        greyimg = np.array(greyimg) #Converting image loaded to a numpy array\n",
    "        validation_images.append(greyimg) #Appending the img as a numpy array into the list images\n",
    "        \n",
    "        #plt.figure()\n",
    "        #plt.imshow(img)\n",
    "    \n",
    "#Marking the end of the code\n",
    "end = datetime.now()\n",
    "elapsed = end - start #Calculating time elapsed while comparing different packages used to load images\n",
    "print('The time elapsed to load the images was: ', + elapsed) \n",
    "\n",
    "\n",
    "#The red colormap applied will only appear if it is a grayscalew image. The image is chosen randomly to be images[45]\n",
    "io.imshow(np.array(validation_images[45]), cmap='Reds') #Verifying visually if the image is greyscale or not by applying red colormap\n",
    "\n",
    "\n",
    "print(np.array(validation_images).shape) #Converting list images to a numpy array before outputting shape to verify "
   ]
  },
  {
   "cell_type": "code",
   "execution_count": 42,
   "id": "90dbe292",
   "metadata": {},
   "outputs": [
    {
     "name": "stdout",
     "output_type": "stream",
     "text": [
      "(200, 512, 512)\n"
     ]
    }
   ],
   "source": [
    "x_val = np.array(validation_images)\n",
    "y_val = new_tumour_labels['numeric label']\n",
    "print(x_val.shape)\n",
    "\n",
    "x_val_size = x_val.shape[0]"
   ]
  },
  {
   "cell_type": "code",
   "execution_count": 44,
   "id": "b4bb1817",
   "metadata": {},
   "outputs": [],
   "source": [
    "if len(x_val.shape) == 4:\n",
    "    x_val = x_val.reshape(x_val.shape[0], x_val.shape[1]*x_val.shape[2]*x_val.shape[3])\n",
    "elif len(x_val.shape) == 3:\n",
    "    x_val = x_val.reshape(x_val.shape[0], x_val.shape[1]*x_val.shape[2]) "
   ]
  },
  {
   "cell_type": "code",
   "execution_count": 45,
   "id": "ab5bff2d",
   "metadata": {},
   "outputs": [
    {
     "data": {
      "text/plain": [
       "(200, 262144)"
      ]
     },
     "execution_count": 45,
     "metadata": {},
     "output_type": "execute_result"
    }
   ],
   "source": [
    "x_val.shape"
   ]
  },
  {
   "cell_type": "code",
   "execution_count": 46,
   "id": "a0ab93b7",
   "metadata": {},
   "outputs": [
    {
     "name": "stdout",
     "output_type": "stream",
     "text": [
      "Array reshaped correctly\n"
     ]
    }
   ],
   "source": [
    "if color_mode.lower().startswith(\"n\"):\n",
    "    if x_val.shape[0] == x_val_size and x_val.shape[1] == 512*512*3:\n",
    "        print('Array reshaped correctly')\n",
    "    else: print('Array reshaped incorrectly')\n",
    "elif color_mode.lower().startswith(\"y\"):\n",
    "    if x_val.shape[0] == x_val_size and x_val.shape[1] == 512*512:\n",
    "        print('Array reshaped correctly')\n",
    "    else: print('Array reshaped incorrectly')"
   ]
  },
  {
   "cell_type": "markdown",
   "id": "0fa6a5cb",
   "metadata": {},
   "source": [
    "## MODEL 1"
   ]
  },
  {
   "cell_type": "code",
   "execution_count": 47,
   "id": "a67a5f04",
   "metadata": {},
   "outputs": [],
   "source": [
    "y_val_Pred_model1 = model1_svmlinear.predict(x_val)"
   ]
  },
  {
   "cell_type": "code",
   "execution_count": 48,
   "id": "2d277b6d",
   "metadata": {},
   "outputs": [
    {
     "name": "stdout",
     "output_type": "stream",
     "text": [
      "Accuracy on new validation set: 0.745\n",
      "              precision    recall  f1-score   support\n",
      "\n",
      "         0.0       0.15      0.08      0.11        37\n",
      "         1.0       0.81      0.90      0.85       163\n",
      "\n",
      "    accuracy                           0.74       200\n",
      "   macro avg       0.48      0.49      0.48       200\n",
      "weighted avg       0.69      0.74      0.71       200\n",
      "\n"
     ]
    }
   ],
   "source": [
    "print('Accuracy on new validation set: '+str(accuracy_score(y_val,y_val_Pred_model1)))\n",
    "print(classification_report(y_val,y_val_Pred_model1)) #A text report displaying the main classification metrics"
   ]
  },
  {
   "cell_type": "code",
   "execution_count": 49,
   "id": "52da98e0",
   "metadata": {},
   "outputs": [],
   "source": [
    "acc_new_model1 = model1_svmlinear.score(x_val, y_val)"
   ]
  },
  {
   "cell_type": "code",
   "execution_count": 50,
   "id": "1d42fca7",
   "metadata": {},
   "outputs": [],
   "source": [
    "conf_newdata_model1 = confusion_matrix(y_val, y_val_Pred_model1)"
   ]
  },
  {
   "cell_type": "code",
   "execution_count": 51,
   "id": "946e8fc9",
   "metadata": {},
   "outputs": [
    {
     "data": {
      "image/png": "[encoded data removed]",
      "text/plain": [
       "<Figure size 648x648 with 2 Axes>"
      ]
     },
     "metadata": {
      "needs_background": "light"
     },
     "output_type": "display_data"
    }
   ],
   "source": [
    "plt.figure(figsize=(9,9))\n",
    "sns.heatmap(conf_newdata_model1, annot=True, fmt=\".3f\", linewidths=.5, square = True, cmap = 'Blues_r');\n",
    "plt.ylabel('Actual label');\n",
    "plt.xlabel('Predicted label');\n",
    "all_sample_title = 'Accuracy Score: {0}'.format(acc_new_model1)\n",
    "plt.title(all_sample_title, size = 15);"
   ]
  },
  {
   "cell_type": "markdown",
   "id": "041fd17a",
   "metadata": {},
   "source": [
    "## MODEL 2"
   ]
  },
  {
   "cell_type": "code",
   "execution_count": 52,
   "id": "ff4cb0b1",
   "metadata": {},
   "outputs": [],
   "source": [
    "y_val_Pred_model2 = model2_svmpoly.predict(x_val)"
   ]
  },
  {
   "cell_type": "code",
   "execution_count": 53,
   "id": "a5c38de9",
   "metadata": {},
   "outputs": [
    {
     "name": "stdout",
     "output_type": "stream",
     "text": [
      "Accuracy on new validation set: 0.76\n",
      "              precision    recall  f1-score   support\n",
      "\n",
      "         0.0       0.21      0.11      0.14        37\n",
      "         1.0       0.82      0.91      0.86       163\n",
      "\n",
      "    accuracy                           0.76       200\n",
      "   macro avg       0.51      0.51      0.50       200\n",
      "weighted avg       0.71      0.76      0.73       200\n",
      "\n"
     ]
    }
   ],
   "source": [
    "print('Accuracy on new validation set: '+str(accuracy_score(y_val,y_val_Pred_model2)))\n",
    "print(classification_report(y_val,y_val_Pred_model2)) #A text report displaying the main classification metrics"
   ]
  },
  {
   "cell_type": "code",
   "execution_count": 54,
   "id": "0c4245bf",
   "metadata": {},
   "outputs": [],
   "source": [
    "acc_new_model2 = model2_svmpoly.score(x_val, y_val)"
   ]
  },
  {
   "cell_type": "code",
   "execution_count": 55,
   "id": "0ccb8274",
   "metadata": {},
   "outputs": [],
   "source": [
    "conf_newdata_model2 = confusion_matrix(y_val, y_val_Pred_model2)"
   ]
  },
  {
   "cell_type": "code",
   "execution_count": 56,
   "id": "42a88091",
   "metadata": {},
   "outputs": [
    {
     "data": {
      "image/png": "[encoded data removed]",
      "text/plain": [
       "<Figure size 648x648 with 2 Axes>"
      ]
     },
     "metadata": {
      "needs_background": "light"
     },
     "output_type": "display_data"
    }
   ],
   "source": [
    "plt.figure(figsize=(9,9))\n",
    "sns.heatmap(conf_newdata_model2, annot=True, fmt=\".3f\", linewidths=.5, square = True, cmap = 'Blues_r');\n",
    "plt.ylabel('Actual label');\n",
    "plt.xlabel('Predicted label');\n",
    "all_sample_title = 'Accuracy Score: {0}'.format(acc_new_model2)\n",
    "plt.title(all_sample_title, size = 15);"
   ]
  },
  {
   "cell_type": "markdown",
   "id": "776f40af",
   "metadata": {},
   "source": [
    "## MODEL 3"
   ]
  },
  {
   "cell_type": "code",
   "execution_count": 57,
   "id": "04cb6f08",
   "metadata": {},
   "outputs": [],
   "source": [
    "y_val_Pred_model3 = model3_svmrbf.predict(x_val)"
   ]
  },
  {
   "cell_type": "code",
   "execution_count": 58,
   "id": "3eecc005",
   "metadata": {},
   "outputs": [
    {
     "name": "stdout",
     "output_type": "stream",
     "text": [
      "Accuracy on new validation set: 0.775\n",
      "              precision    recall  f1-score   support\n",
      "\n",
      "         0.0       0.21      0.08      0.12        37\n",
      "         1.0       0.82      0.93      0.87       163\n",
      "\n",
      "    accuracy                           0.78       200\n",
      "   macro avg       0.52      0.51      0.49       200\n",
      "weighted avg       0.71      0.78      0.73       200\n",
      "\n"
     ]
    }
   ],
   "source": [
    "print('Accuracy on new validation set: '+str(accuracy_score(y_val,y_val_Pred_model3)))\n",
    "print(classification_report(y_val,y_val_Pred_model3)) #A text report displaying the main classification metrics"
   ]
  },
  {
   "cell_type": "code",
   "execution_count": 59,
   "id": "c8234c9e",
   "metadata": {},
   "outputs": [],
   "source": [
    "acc_new_model3 = model3_svmrbf.score(x_val, y_val)"
   ]
  },
  {
   "cell_type": "code",
   "execution_count": 60,
   "id": "026e118c",
   "metadata": {},
   "outputs": [],
   "source": [
    "conf_newdata_model3 = confusion_matrix(y_val, y_val_Pred_model3)"
   ]
  },
  {
   "cell_type": "code",
   "execution_count": 61,
   "id": "888bf984",
   "metadata": {},
   "outputs": [
    {
     "data": {
      "image/png": "[encoded data removed]",
      "text/plain": [
       "<Figure size 648x648 with 2 Axes>"
      ]
     },
     "metadata": {
      "needs_background": "light"
     },
     "output_type": "display_data"
    }
   ],
   "source": [
    "plt.figure(figsize=(9,9))\n",
    "sns.heatmap(conf_newdata_model3, annot=True, fmt=\".3f\", linewidths=.5, square = True, cmap = 'Blues_r');\n",
    "plt.ylabel('Actual label');\n",
    "plt.xlabel('Predicted label');\n",
    "all_sample_title = 'Accuracy Score: {0}'.format(acc_new_model3)\n",
    "plt.title(all_sample_title, size = 15);"
   ]
  },
  {
   "cell_type": "code",
   "execution_count": null,
   "id": "79a9e299",
   "metadata": {},
   "outputs": [],
   "source": []
  },
  {
   "cell_type": "code",
   "execution_count": null,
   "id": "5531da11",
   "metadata": {},
   "outputs": [],
   "source": []
  }
 ],
 "metadata": {
  "kernelspec": {
   "display_name": "Python 3 (ipykernel)",
   "language": "python",
   "name": "python3"
  },
  "language_info": {
   "codemirror_mode": {
    "name": "ipython",
    "version": 3
   },
   "file_extension": ".py",
   "mimetype": "text/x-python",
   "name": "python",
   "nbconvert_exporter": "python",
   "pygments_lexer": "ipython3",
   "version": "3.7.11"
  }
 },
 "nbformat": 4,
 "nbformat_minor": 5
}
