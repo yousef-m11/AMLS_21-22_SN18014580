{
 "cells": [
  {
   "cell_type": "markdown",
   "id": "b4c6f144",
   "metadata": {
    "id": "b0cecc33"
   },
   "source": [
    "# Applied Machine Learning Systems (MLS-1) - ELEC0134\n",
    "\n",
    "# Final Assignment - Classification of Tumours\n",
    "\n",
    "## Task A - Binary Classification using Logistic Regression (LR)\n",
    "\n",
    "## Completed by Student Number - 18014580"
   ]
  },
  {
   "cell_type": "markdown",
   "id": "01d857d9",
   "metadata": {
    "id": "9d4ee3ec"
   },
   "source": [
    "The cell below is only used when running the code on Google Colaboratory, and is always commented out otherwise."
   ]
  },
  {
   "cell_type": "code",
   "execution_count": 1,
   "id": "aa1edcf5",
   "metadata": {
    "colab": {
     "base_uri": "https://localhost:8080/"
    },
    "executionInfo": {
     "elapsed": 25649,
     "status": "ok",
     "timestamp": 1640620939580,
     "user": {
      "displayName": "Yousef Mahmoud",
      "photoUrl": "https://lh3.googleusercontent.com/a/default-user=s64",
      "userId": "02029842566020735723"
     },
     "user_tz": -180
    },
    "id": "556a57b4",
    "outputId": "432fa65c-3833-47d9-ccdd-d46e9c664063"
   },
   "outputs": [
    {
     "name": "stdout",
     "output_type": "stream",
     "text": [
      "Mounted at /content/drive\n"
     ]
    }
   ],
   "source": [
    "#from google.colab import drive\n",
    "#drive.mount('/content/drive')"
   ]
  },
  {
   "cell_type": "markdown",
   "id": "dee959b5",
   "metadata": {
    "id": "7c8aa464"
   },
   "source": [
    "This is a Jupyter Notebook submitted as part of the final assignment for the Applied Machine Learning Systems (MLS-1) coursework which involves tumor classification and identification.\n",
    "\n",
    "This particular notebook tests the Logistic Regression method using the LogisticRegression() model from the `sklearn` library on Task A to find the accuracy of using support vector machines classification for this particular task."
   ]
  },
  {
   "cell_type": "markdown",
   "id": "432e3029",
   "metadata": {
    "id": "c37bb1c5"
   },
   "source": [
    "### Importing different packages\n",
    "\n",
    "Initially, we must import the different packages needed for this task. The packages required to implement suport vector machines for this binary task can be found in `pandas`, `numpy`, `sklearn` (scikit-learn), `skimage` (scikit-image). \n",
    "\n",
    "`seaborn` and `matplotlib` are also required for graphs and confusion matrix visualisations.\n",
    "\n",
    "Please ensure these are installed in your virtualenv before running the cell below as this will extract the packages required from these libraries. `os` and `datetime` are also required but these are found under Python's standard utility modules."
   ]
  },
  {
   "cell_type": "code",
   "execution_count": 2,
   "id": "8f1eff52",
   "metadata": {
    "colab": {
     "base_uri": "https://localhost:8080/"
    },
    "executionInfo": {
     "elapsed": 1114,
     "status": "ok",
     "timestamp": 1640620940687,
     "user": {
      "displayName": "Yousef Mahmoud",
      "photoUrl": "https://lh3.googleusercontent.com/a/default-user=s64",
      "userId": "02029842566020735723"
     },
     "user_tz": -180
    },
    "id": "10bcdb61",
    "outputId": "41e0e820-dc05-47d4-de75-f23c566628b4"
   },
   "outputs": [
    {
     "name": "stdout",
     "output_type": "stream",
     "text": [
      "All imports carried out successfully\n"
     ]
    }
   ],
   "source": [
    "import pandas as pd\n",
    "import numpy as np\n",
    "\n",
    "from sklearn.model_selection import train_test_split, GridSearchCV, learning_curve, ShuffleSplit\n",
    "from sklearn.linear_model import LogisticRegression\n",
    "from sklearn.metrics import confusion_matrix, classification_report,accuracy_score, roc_curve, auc\n",
    "from sklearn.preprocessing import StandardScaler\n",
    "from sklearn.decomposition import PCA\n",
    "\n",
    "from skimage import io\n",
    "from skimage.io import imread, imshow\n",
    "from skimage.color import rgb2gray\n",
    "from skimage.feature import hog\n",
    "\n",
    "import matplotlib.pyplot as plt\n",
    "\n",
    "import os\n",
    "from os import listdir\n",
    "\n",
    "import seaborn as sns #seaborn package needed for confusion matrix\n",
    "\n",
    "from datetime import datetime\n",
    "\n",
    "print(\"All imports carried out successfully\")"
   ]
  },
  {
   "cell_type": "code",
   "execution_count": 3,
   "id": "e49b9b1b",
   "metadata": {
    "executionInfo": {
     "elapsed": 6,
     "status": "ok",
     "timestamp": 1640620940688,
     "user": {
      "displayName": "Yousef Mahmoud",
      "photoUrl": "https://lh3.googleusercontent.com/a/default-user=s64",
      "userId": "02029842566020735723"
     },
     "user_tz": -180
    },
    "id": "27cae3b9"
   },
   "outputs": [],
   "source": [
    "taskA_start = datetime.now()"
   ]
  },
  {
   "cell_type": "markdown",
   "id": "7708f404",
   "metadata": {
    "id": "04c61088"
   },
   "source": [
    "### Loading the data from the data sets\n",
    "\n",
    "In this cell we are using read_csv to load the labels for each image into a dataframe. We then display the dataframe to ensure the data from the .csv file was loaded correctly.\n",
    "\n",
    "Comment out the Google Drive path and uncomment the Jupyter path when running on Notebook (not Colab) as the dataset and test files will be in the same directory as the .ipynb files when downloaded from the GitHub repository `AMLS_21-22_SN18014580`. Always use the Jupyter path if not using Google Colaboratory.\n",
    "\n",
    "Ensure the folders \"test\" and \"dataset\" are in the same folder as the Notebook before running it."
   ]
  },
  {
   "cell_type": "code",
   "execution_count": 4,
   "id": "875297c9",
   "metadata": {
    "colab": {
     "base_uri": "https://localhost:8080/"
    },
    "executionInfo": {
     "elapsed": 633,
     "status": "ok",
     "timestamp": 1640620941316,
     "user": {
      "displayName": "Yousef Mahmoud",
      "photoUrl": "https://lh3.googleusercontent.com/a/default-user=s64",
      "userId": "02029842566020735723"
     },
     "user_tz": -180
    },
    "id": "49953ce9",
    "outputId": "962a2ac3-eda1-48a0-d30d-0a55f6c27563"
   },
   "outputs": [
    {
     "name": "stdout",
     "output_type": "stream",
     "text": [
      "(3000, 2)\n"
     ]
    }
   ],
   "source": [
    "#Loading the CSV file 'label' containing the different labels for each MRI Scan\n",
    "\n",
    "#Used this path while running on Google Colab for accelerated GPU\n",
    "label_path_GDrive = '/content/drive/MyDrive/Colab Notebooks/dataset/label.csv'\n",
    "\n",
    "#Used this path when running regularly on Jupyter Notebook from repository\n",
    "label_path_Jupyter = '.dataset/label.csv'\n",
    "\n",
    "#tumour_labels = pd.read_csv(label_path_GDrive)\n",
    "tumour_labels = pd.read_csv(label_path_Jupyter)\n",
    "\n",
    "print(tumour_labels.shape) #Outputs array with the shape of the dataframe to ensure all images, filenames and labels loaded"
   ]
  },
  {
   "cell_type": "code",
   "execution_count": 5,
   "id": "872c7885",
   "metadata": {
    "colab": {
     "base_uri": "https://localhost:8080/",
     "height": 423
    },
    "executionInfo": {
     "elapsed": 25,
     "status": "ok",
     "timestamp": 1640620941317,
     "user": {
      "displayName": "Yousef Mahmoud",
      "photoUrl": "https://lh3.googleusercontent.com/a/default-user=s64",
      "userId": "02029842566020735723"
     },
     "user_tz": -180
    },
    "id": "d1f0aab3",
    "outputId": "753b0709-e91c-4e03-c92e-1a3143e5ac1f"
   },
   "outputs": [
    {
     "data": {
      "text/html": [
       "\n",
       "  <div id=\"df-f444dda0-e4b1-42d0-9e3c-40f3c3764768\">\n",
       "    <div class=\"colab-df-container\">\n",
       "      <div>\n",
       "<style scoped>\n",
       "    .dataframe tbody tr th:only-of-type {\n",
       "        vertical-align: middle;\n",
       "    }\n",
       "\n",
       "    .dataframe tbody tr th {\n",
       "        vertical-align: top;\n",
       "    }\n",
       "\n",
       "    .dataframe thead th {\n",
       "        text-align: right;\n",
       "    }\n",
       "</style>\n",
       "<table border=\"1\" class=\"dataframe\">\n",
       "  <thead>\n",
       "    <tr style=\"text-align: right;\">\n",
       "      <th></th>\n",
       "      <th>file_name</th>\n",
       "      <th>label</th>\n",
       "    </tr>\n",
       "  </thead>\n",
       "  <tbody>\n",
       "    <tr>\n",
       "      <th>0</th>\n",
       "      <td>IMAGE_0000.jpg</td>\n",
       "      <td>meningioma_tumor</td>\n",
       "    </tr>\n",
       "    <tr>\n",
       "      <th>1</th>\n",
       "      <td>IMAGE_0001.jpg</td>\n",
       "      <td>no_tumor</td>\n",
       "    </tr>\n",
       "    <tr>\n",
       "      <th>2</th>\n",
       "      <td>IMAGE_0002.jpg</td>\n",
       "      <td>meningioma_tumor</td>\n",
       "    </tr>\n",
       "    <tr>\n",
       "      <th>3</th>\n",
       "      <td>IMAGE_0003.jpg</td>\n",
       "      <td>glioma_tumor</td>\n",
       "    </tr>\n",
       "    <tr>\n",
       "      <th>4</th>\n",
       "      <td>IMAGE_0004.jpg</td>\n",
       "      <td>meningioma_tumor</td>\n",
       "    </tr>\n",
       "    <tr>\n",
       "      <th>...</th>\n",
       "      <td>...</td>\n",
       "      <td>...</td>\n",
       "    </tr>\n",
       "    <tr>\n",
       "      <th>2995</th>\n",
       "      <td>IMAGE_2995.jpg</td>\n",
       "      <td>no_tumor</td>\n",
       "    </tr>\n",
       "    <tr>\n",
       "      <th>2996</th>\n",
       "      <td>IMAGE_2996.jpg</td>\n",
       "      <td>meningioma_tumor</td>\n",
       "    </tr>\n",
       "    <tr>\n",
       "      <th>2997</th>\n",
       "      <td>IMAGE_2997.jpg</td>\n",
       "      <td>glioma_tumor</td>\n",
       "    </tr>\n",
       "    <tr>\n",
       "      <th>2998</th>\n",
       "      <td>IMAGE_2998.jpg</td>\n",
       "      <td>glioma_tumor</td>\n",
       "    </tr>\n",
       "    <tr>\n",
       "      <th>2999</th>\n",
       "      <td>IMAGE_2999.jpg</td>\n",
       "      <td>pituitary_tumor</td>\n",
       "    </tr>\n",
       "  </tbody>\n",
       "</table>\n",
       "<p>3000 rows × 2 columns</p>\n",
       "</div>\n",
       "      <button class=\"colab-df-convert\" onclick=\"convertToInteractive('df-f444dda0-e4b1-42d0-9e3c-40f3c3764768')\"\n",
       "              title=\"Convert this dataframe to an interactive table.\"\n",
       "              style=\"display:none;\">\n",
       "        \n",
       "  <svg xmlns=\"http://www.w3.org/2000/svg\" height=\"24px\"viewBox=\"0 0 24 24\"\n",
       "       width=\"24px\">\n",
       "    <path d=\"M0 0h24v24H0V0z\" fill=\"none\"/>\n",
       "    <path d=\"M18.56 5.44l.94 2.06.94-2.06 2.06-.94-2.06-.94-.94-2.06-.94 2.06-2.06.94zm-11 1L8.5 8.5l.94-2.06 2.06-.94-2.06-.94L8.5 2.5l-.94 2.06-2.06.94zm10 10l.94 2.06.94-2.06 2.06-.94-2.06-.94-.94-2.06-.94 2.06-2.06.94z\"/><path d=\"M17.41 7.96l-1.37-1.37c-.4-.4-.92-.59-1.43-.59-.52 0-1.04.2-1.43.59L10.3 9.45l-7.72 7.72c-.78.78-.78 2.05 0 2.83L4 21.41c.39.39.9.59 1.41.59.51 0 1.02-.2 1.41-.59l7.78-7.78 2.81-2.81c.8-.78.8-2.07 0-2.86zM5.41 20L4 18.59l7.72-7.72 1.47 1.35L5.41 20z\"/>\n",
       "  </svg>\n",
       "      </button>\n",
       "      \n",
       "  <style>\n",
       "    .colab-df-container {\n",
       "      display:flex;\n",
       "      flex-wrap:wrap;\n",
       "      gap: 12px;\n",
       "    }\n",
       "\n",
       "    .colab-df-convert {\n",
       "      background-color: #E8F0FE;\n",
       "      border: none;\n",
       "      border-radius: 50%;\n",
       "      cursor: pointer;\n",
       "      display: none;\n",
       "      fill: #1967D2;\n",
       "      height: 32px;\n",
       "      padding: 0 0 0 0;\n",
       "      width: 32px;\n",
       "    }\n",
       "\n",
       "    .colab-df-convert:hover {\n",
       "      background-color: #E2EBFA;\n",
       "      box-shadow: 0px 1px 2px rgba(60, 64, 67, 0.3), 0px 1px 3px 1px rgba(60, 64, 67, 0.15);\n",
       "      fill: #174EA6;\n",
       "    }\n",
       "\n",
       "    [theme=dark] .colab-df-convert {\n",
       "      background-color: #3B4455;\n",
       "      fill: #D2E3FC;\n",
       "    }\n",
       "\n",
       "    [theme=dark] .colab-df-convert:hover {\n",
       "      background-color: #434B5C;\n",
       "      box-shadow: 0px 1px 3px 1px rgba(0, 0, 0, 0.15);\n",
       "      filter: drop-shadow(0px 1px 2px rgba(0, 0, 0, 0.3));\n",
       "      fill: #FFFFFF;\n",
       "    }\n",
       "  </style>\n",
       "\n",
       "      <script>\n",
       "        const buttonEl =\n",
       "          document.querySelector('#df-f444dda0-e4b1-42d0-9e3c-40f3c3764768 button.colab-df-convert');\n",
       "        buttonEl.style.display =\n",
       "          google.colab.kernel.accessAllowed ? 'block' : 'none';\n",
       "\n",
       "        async function convertToInteractive(key) {\n",
       "          const element = document.querySelector('#df-f444dda0-e4b1-42d0-9e3c-40f3c3764768');\n",
       "          const dataTable =\n",
       "            await google.colab.kernel.invokeFunction('convertToInteractive',\n",
       "                                                     [key], {});\n",
       "          if (!dataTable) return;\n",
       "\n",
       "          const docLinkHtml = 'Like what you see? Visit the ' +\n",
       "            '<a target=\"_blank\" href=https://colab.research.google.com/notebooks/data_table.ipynb>data table notebook</a>'\n",
       "            + ' to learn more about interactive tables.';\n",
       "          element.innerHTML = '';\n",
       "          dataTable['output_type'] = 'display_data';\n",
       "          await google.colab.output.renderOutput(dataTable, element);\n",
       "          const docLink = document.createElement('div');\n",
       "          docLink.innerHTML = docLinkHtml;\n",
       "          element.appendChild(docLink);\n",
       "        }\n",
       "      </script>\n",
       "    </div>\n",
       "  </div>\n",
       "  "
      ],
      "text/plain": [
       "           file_name             label\n",
       "0     IMAGE_0000.jpg  meningioma_tumor\n",
       "1     IMAGE_0001.jpg          no_tumor\n",
       "2     IMAGE_0002.jpg  meningioma_tumor\n",
       "3     IMAGE_0003.jpg      glioma_tumor\n",
       "4     IMAGE_0004.jpg  meningioma_tumor\n",
       "...              ...               ...\n",
       "2995  IMAGE_2995.jpg          no_tumor\n",
       "2996  IMAGE_2996.jpg  meningioma_tumor\n",
       "2997  IMAGE_2997.jpg      glioma_tumor\n",
       "2998  IMAGE_2998.jpg      glioma_tumor\n",
       "2999  IMAGE_2999.jpg   pituitary_tumor\n",
       "\n",
       "[3000 rows x 2 columns]"
      ]
     },
     "execution_count": 5,
     "metadata": {},
     "output_type": "execute_result"
    }
   ],
   "source": [
    "tumour_labels #Displaying data frame to visually ensure data loaded correctly"
   ]
  },
  {
   "cell_type": "markdown",
   "id": "bbfd0c70",
   "metadata": {
    "id": "db36e3e4"
   },
   "source": [
    "### Printing out dataset to ensure labels changed accordingly\n",
    "\n",
    "This is a binary classification task, so in the cells below, we modify the data frame by locating all the images whose label is not \"no_tumor\" and setting them to tumor rather than having them as the types of tumor."
   ]
  },
  {
   "cell_type": "code",
   "execution_count": 6,
   "id": "de614c59",
   "metadata": {
    "executionInfo": {
     "elapsed": 19,
     "status": "ok",
     "timestamp": 1640620941317,
     "user": {
      "displayName": "Yousef Mahmoud",
      "photoUrl": "https://lh3.googleusercontent.com/a/default-user=s64",
      "userId": "02029842566020735723"
     },
     "user_tz": -180
    },
    "id": "a2ae1915"
   },
   "outputs": [],
   "source": [
    "#change anything in the label column that is not equal to \"no_tumor\" to \"tumor\" rather than the type of tumor\n",
    "tumour_labels.loc[tumour_labels['label']!= 'no_tumor', 'label'] = 'tumor' "
   ]
  },
  {
   "cell_type": "code",
   "execution_count": 7,
   "id": "834670e4",
   "metadata": {
    "colab": {
     "base_uri": "https://localhost:8080/",
     "height": 423
    },
    "executionInfo": {
     "elapsed": 19,
     "status": "ok",
     "timestamp": 1640620941318,
     "user": {
      "displayName": "Yousef Mahmoud",
      "photoUrl": "https://lh3.googleusercontent.com/a/default-user=s64",
      "userId": "02029842566020735723"
     },
     "user_tz": -180
    },
    "id": "20ec8c01",
    "outputId": "029f7917-d833-41e2-ae7e-db086b2f71d9"
   },
   "outputs": [
    {
     "data": {
      "text/html": [
       "\n",
       "  <div id=\"df-72b12c1a-0138-4823-9588-c8b45d1e7013\">\n",
       "    <div class=\"colab-df-container\">\n",
       "      <div>\n",
       "<style scoped>\n",
       "    .dataframe tbody tr th:only-of-type {\n",
       "        vertical-align: middle;\n",
       "    }\n",
       "\n",
       "    .dataframe tbody tr th {\n",
       "        vertical-align: top;\n",
       "    }\n",
       "\n",
       "    .dataframe thead th {\n",
       "        text-align: right;\n",
       "    }\n",
       "</style>\n",
       "<table border=\"1\" class=\"dataframe\">\n",
       "  <thead>\n",
       "    <tr style=\"text-align: right;\">\n",
       "      <th></th>\n",
       "      <th>file_name</th>\n",
       "      <th>label</th>\n",
       "    </tr>\n",
       "  </thead>\n",
       "  <tbody>\n",
       "    <tr>\n",
       "      <th>0</th>\n",
       "      <td>IMAGE_0000.jpg</td>\n",
       "      <td>tumor</td>\n",
       "    </tr>\n",
       "    <tr>\n",
       "      <th>1</th>\n",
       "      <td>IMAGE_0001.jpg</td>\n",
       "      <td>no_tumor</td>\n",
       "    </tr>\n",
       "    <tr>\n",
       "      <th>2</th>\n",
       "      <td>IMAGE_0002.jpg</td>\n",
       "      <td>tumor</td>\n",
       "    </tr>\n",
       "    <tr>\n",
       "      <th>3</th>\n",
       "      <td>IMAGE_0003.jpg</td>\n",
       "      <td>tumor</td>\n",
       "    </tr>\n",
       "    <tr>\n",
       "      <th>4</th>\n",
       "      <td>IMAGE_0004.jpg</td>\n",
       "      <td>tumor</td>\n",
       "    </tr>\n",
       "    <tr>\n",
       "      <th>...</th>\n",
       "      <td>...</td>\n",
       "      <td>...</td>\n",
       "    </tr>\n",
       "    <tr>\n",
       "      <th>2995</th>\n",
       "      <td>IMAGE_2995.jpg</td>\n",
       "      <td>no_tumor</td>\n",
       "    </tr>\n",
       "    <tr>\n",
       "      <th>2996</th>\n",
       "      <td>IMAGE_2996.jpg</td>\n",
       "      <td>tumor</td>\n",
       "    </tr>\n",
       "    <tr>\n",
       "      <th>2997</th>\n",
       "      <td>IMAGE_2997.jpg</td>\n",
       "      <td>tumor</td>\n",
       "    </tr>\n",
       "    <tr>\n",
       "      <th>2998</th>\n",
       "      <td>IMAGE_2998.jpg</td>\n",
       "      <td>tumor</td>\n",
       "    </tr>\n",
       "    <tr>\n",
       "      <th>2999</th>\n",
       "      <td>IMAGE_2999.jpg</td>\n",
       "      <td>tumor</td>\n",
       "    </tr>\n",
       "  </tbody>\n",
       "</table>\n",
       "<p>3000 rows × 2 columns</p>\n",
       "</div>\n",
       "      <button class=\"colab-df-convert\" onclick=\"convertToInteractive('df-72b12c1a-0138-4823-9588-c8b45d1e7013')\"\n",
       "              title=\"Convert this dataframe to an interactive table.\"\n",
       "              style=\"display:none;\">\n",
       "        \n",
       "  <svg xmlns=\"http://www.w3.org/2000/svg\" height=\"24px\"viewBox=\"0 0 24 24\"\n",
       "       width=\"24px\">\n",
       "    <path d=\"M0 0h24v24H0V0z\" fill=\"none\"/>\n",
       "    <path d=\"M18.56 5.44l.94 2.06.94-2.06 2.06-.94-2.06-.94-.94-2.06-.94 2.06-2.06.94zm-11 1L8.5 8.5l.94-2.06 2.06-.94-2.06-.94L8.5 2.5l-.94 2.06-2.06.94zm10 10l.94 2.06.94-2.06 2.06-.94-2.06-.94-.94-2.06-.94 2.06-2.06.94z\"/><path d=\"M17.41 7.96l-1.37-1.37c-.4-.4-.92-.59-1.43-.59-.52 0-1.04.2-1.43.59L10.3 9.45l-7.72 7.72c-.78.78-.78 2.05 0 2.83L4 21.41c.39.39.9.59 1.41.59.51 0 1.02-.2 1.41-.59l7.78-7.78 2.81-2.81c.8-.78.8-2.07 0-2.86zM5.41 20L4 18.59l7.72-7.72 1.47 1.35L5.41 20z\"/>\n",
       "  </svg>\n",
       "      </button>\n",
       "      \n",
       "  <style>\n",
       "    .colab-df-container {\n",
       "      display:flex;\n",
       "      flex-wrap:wrap;\n",
       "      gap: 12px;\n",
       "    }\n",
       "\n",
       "    .colab-df-convert {\n",
       "      background-color: #E8F0FE;\n",
       "      border: none;\n",
       "      border-radius: 50%;\n",
       "      cursor: pointer;\n",
       "      display: none;\n",
       "      fill: #1967D2;\n",
       "      height: 32px;\n",
       "      padding: 0 0 0 0;\n",
       "      width: 32px;\n",
       "    }\n",
       "\n",
       "    .colab-df-convert:hover {\n",
       "      background-color: #E2EBFA;\n",
       "      box-shadow: 0px 1px 2px rgba(60, 64, 67, 0.3), 0px 1px 3px 1px rgba(60, 64, 67, 0.15);\n",
       "      fill: #174EA6;\n",
       "    }\n",
       "\n",
       "    [theme=dark] .colab-df-convert {\n",
       "      background-color: #3B4455;\n",
       "      fill: #D2E3FC;\n",
       "    }\n",
       "\n",
       "    [theme=dark] .colab-df-convert:hover {\n",
       "      background-color: #434B5C;\n",
       "      box-shadow: 0px 1px 3px 1px rgba(0, 0, 0, 0.15);\n",
       "      filter: drop-shadow(0px 1px 2px rgba(0, 0, 0, 0.3));\n",
       "      fill: #FFFFFF;\n",
       "    }\n",
       "  </style>\n",
       "\n",
       "      <script>\n",
       "        const buttonEl =\n",
       "          document.querySelector('#df-72b12c1a-0138-4823-9588-c8b45d1e7013 button.colab-df-convert');\n",
       "        buttonEl.style.display =\n",
       "          google.colab.kernel.accessAllowed ? 'block' : 'none';\n",
       "\n",
       "        async function convertToInteractive(key) {\n",
       "          const element = document.querySelector('#df-72b12c1a-0138-4823-9588-c8b45d1e7013');\n",
       "          const dataTable =\n",
       "            await google.colab.kernel.invokeFunction('convertToInteractive',\n",
       "                                                     [key], {});\n",
       "          if (!dataTable) return;\n",
       "\n",
       "          const docLinkHtml = 'Like what you see? Visit the ' +\n",
       "            '<a target=\"_blank\" href=https://colab.research.google.com/notebooks/data_table.ipynb>data table notebook</a>'\n",
       "            + ' to learn more about interactive tables.';\n",
       "          element.innerHTML = '';\n",
       "          dataTable['output_type'] = 'display_data';\n",
       "          await google.colab.output.renderOutput(dataTable, element);\n",
       "          const docLink = document.createElement('div');\n",
       "          docLink.innerHTML = docLinkHtml;\n",
       "          element.appendChild(docLink);\n",
       "        }\n",
       "      </script>\n",
       "    </div>\n",
       "  </div>\n",
       "  "
      ],
      "text/plain": [
       "           file_name     label\n",
       "0     IMAGE_0000.jpg     tumor\n",
       "1     IMAGE_0001.jpg  no_tumor\n",
       "2     IMAGE_0002.jpg     tumor\n",
       "3     IMAGE_0003.jpg     tumor\n",
       "4     IMAGE_0004.jpg     tumor\n",
       "...              ...       ...\n",
       "2995  IMAGE_2995.jpg  no_tumor\n",
       "2996  IMAGE_2996.jpg     tumor\n",
       "2997  IMAGE_2997.jpg     tumor\n",
       "2998  IMAGE_2998.jpg     tumor\n",
       "2999  IMAGE_2999.jpg     tumor\n",
       "\n",
       "[3000 rows x 2 columns]"
      ]
     },
     "execution_count": 7,
     "metadata": {},
     "output_type": "execute_result"
    }
   ],
   "source": [
    "tumour_labels #Displaying data frame to visually ensure labels changed as specified in cell above"
   ]
  },
  {
   "cell_type": "markdown",
   "id": "e8670300",
   "metadata": {
    "id": "f1dd99ab"
   },
   "source": [
    "### Adding numeric representation to the data frame¶\n",
    "\n",
    "In the cells below, we add another column to the data frame and assign a numeric value label to each label. Since our problem is binary, the numeric label can only be 1 or 0.\n",
    "\n",
    "If the label indicates \"tumor\" it is assigned a numeric label 1, and if the label does not indicate a tumour \"no_tumor\" it is assigned the numeric label 0. It also increases adaptability or convenience of the code if deep-learning models were to be used to have numeric label rather than a text label."
   ]
  },
  {
   "cell_type": "code",
   "execution_count": 8,
   "id": "f26e370a",
   "metadata": {
    "executionInfo": {
     "elapsed": 17,
     "status": "ok",
     "timestamp": 1640620941319,
     "user": {
      "displayName": "Yousef Mahmoud",
      "photoUrl": "https://lh3.googleusercontent.com/a/default-user=s64",
      "userId": "02029842566020735723"
     },
     "user_tz": -180
    },
    "id": "c2720a35"
   },
   "outputs": [],
   "source": [
    "classes = ['no_tumor', 'tumor']\n",
    "for CLASS in classes:\n",
    "    tumour_labels.loc[tumour_labels['label'] == CLASS, 'numeric label'] = classes.index(CLASS)"
   ]
  },
  {
   "cell_type": "code",
   "execution_count": 9,
   "id": "d82fdd53",
   "metadata": {
    "colab": {
     "base_uri": "https://localhost:8080/",
     "height": 423
    },
    "executionInfo": {
     "elapsed": 16,
     "status": "ok",
     "timestamp": 1640620941319,
     "user": {
      "displayName": "Yousef Mahmoud",
      "photoUrl": "https://lh3.googleusercontent.com/a/default-user=s64",
      "userId": "02029842566020735723"
     },
     "user_tz": -180
    },
    "id": "08f10daf",
    "outputId": "b21c606f-9f29-472b-a017-4b55c59b3e4e"
   },
   "outputs": [
    {
     "data": {
      "text/html": [
       "\n",
       "  <div id=\"df-1b325f9f-fcd6-4eac-a5db-89b2ca371075\">\n",
       "    <div class=\"colab-df-container\">\n",
       "      <div>\n",
       "<style scoped>\n",
       "    .dataframe tbody tr th:only-of-type {\n",
       "        vertical-align: middle;\n",
       "    }\n",
       "\n",
       "    .dataframe tbody tr th {\n",
       "        vertical-align: top;\n",
       "    }\n",
       "\n",
       "    .dataframe thead th {\n",
       "        text-align: right;\n",
       "    }\n",
       "</style>\n",
       "<table border=\"1\" class=\"dataframe\">\n",
       "  <thead>\n",
       "    <tr style=\"text-align: right;\">\n",
       "      <th></th>\n",
       "      <th>file_name</th>\n",
       "      <th>label</th>\n",
       "      <th>numeric label</th>\n",
       "    </tr>\n",
       "  </thead>\n",
       "  <tbody>\n",
       "    <tr>\n",
       "      <th>0</th>\n",
       "      <td>IMAGE_0000.jpg</td>\n",
       "      <td>tumor</td>\n",
       "      <td>1.0</td>\n",
       "    </tr>\n",
       "    <tr>\n",
       "      <th>1</th>\n",
       "      <td>IMAGE_0001.jpg</td>\n",
       "      <td>no_tumor</td>\n",
       "      <td>0.0</td>\n",
       "    </tr>\n",
       "    <tr>\n",
       "      <th>2</th>\n",
       "      <td>IMAGE_0002.jpg</td>\n",
       "      <td>tumor</td>\n",
       "      <td>1.0</td>\n",
       "    </tr>\n",
       "    <tr>\n",
       "      <th>3</th>\n",
       "      <td>IMAGE_0003.jpg</td>\n",
       "      <td>tumor</td>\n",
       "      <td>1.0</td>\n",
       "    </tr>\n",
       "    <tr>\n",
       "      <th>4</th>\n",
       "      <td>IMAGE_0004.jpg</td>\n",
       "      <td>tumor</td>\n",
       "      <td>1.0</td>\n",
       "    </tr>\n",
       "    <tr>\n",
       "      <th>...</th>\n",
       "      <td>...</td>\n",
       "      <td>...</td>\n",
       "      <td>...</td>\n",
       "    </tr>\n",
       "    <tr>\n",
       "      <th>2995</th>\n",
       "      <td>IMAGE_2995.jpg</td>\n",
       "      <td>no_tumor</td>\n",
       "      <td>0.0</td>\n",
       "    </tr>\n",
       "    <tr>\n",
       "      <th>2996</th>\n",
       "      <td>IMAGE_2996.jpg</td>\n",
       "      <td>tumor</td>\n",
       "      <td>1.0</td>\n",
       "    </tr>\n",
       "    <tr>\n",
       "      <th>2997</th>\n",
       "      <td>IMAGE_2997.jpg</td>\n",
       "      <td>tumor</td>\n",
       "      <td>1.0</td>\n",
       "    </tr>\n",
       "    <tr>\n",
       "      <th>2998</th>\n",
       "      <td>IMAGE_2998.jpg</td>\n",
       "      <td>tumor</td>\n",
       "      <td>1.0</td>\n",
       "    </tr>\n",
       "    <tr>\n",
       "      <th>2999</th>\n",
       "      <td>IMAGE_2999.jpg</td>\n",
       "      <td>tumor</td>\n",
       "      <td>1.0</td>\n",
       "    </tr>\n",
       "  </tbody>\n",
       "</table>\n",
       "<p>3000 rows × 3 columns</p>\n",
       "</div>\n",
       "      <button class=\"colab-df-convert\" onclick=\"convertToInteractive('df-1b325f9f-fcd6-4eac-a5db-89b2ca371075')\"\n",
       "              title=\"Convert this dataframe to an interactive table.\"\n",
       "              style=\"display:none;\">\n",
       "        \n",
       "  <svg xmlns=\"http://www.w3.org/2000/svg\" height=\"24px\"viewBox=\"0 0 24 24\"\n",
       "       width=\"24px\">\n",
       "    <path d=\"M0 0h24v24H0V0z\" fill=\"none\"/>\n",
       "    <path d=\"M18.56 5.44l.94 2.06.94-2.06 2.06-.94-2.06-.94-.94-2.06-.94 2.06-2.06.94zm-11 1L8.5 8.5l.94-2.06 2.06-.94-2.06-.94L8.5 2.5l-.94 2.06-2.06.94zm10 10l.94 2.06.94-2.06 2.06-.94-2.06-.94-.94-2.06-.94 2.06-2.06.94z\"/><path d=\"M17.41 7.96l-1.37-1.37c-.4-.4-.92-.59-1.43-.59-.52 0-1.04.2-1.43.59L10.3 9.45l-7.72 7.72c-.78.78-.78 2.05 0 2.83L4 21.41c.39.39.9.59 1.41.59.51 0 1.02-.2 1.41-.59l7.78-7.78 2.81-2.81c.8-.78.8-2.07 0-2.86zM5.41 20L4 18.59l7.72-7.72 1.47 1.35L5.41 20z\"/>\n",
       "  </svg>\n",
       "      </button>\n",
       "      \n",
       "  <style>\n",
       "    .colab-df-container {\n",
       "      display:flex;\n",
       "      flex-wrap:wrap;\n",
       "      gap: 12px;\n",
       "    }\n",
       "\n",
       "    .colab-df-convert {\n",
       "      background-color: #E8F0FE;\n",
       "      border: none;\n",
       "      border-radius: 50%;\n",
       "      cursor: pointer;\n",
       "      display: none;\n",
       "      fill: #1967D2;\n",
       "      height: 32px;\n",
       "      padding: 0 0 0 0;\n",
       "      width: 32px;\n",
       "    }\n",
       "\n",
       "    .colab-df-convert:hover {\n",
       "      background-color: #E2EBFA;\n",
       "      box-shadow: 0px 1px 2px rgba(60, 64, 67, 0.3), 0px 1px 3px 1px rgba(60, 64, 67, 0.15);\n",
       "      fill: #174EA6;\n",
       "    }\n",
       "\n",
       "    [theme=dark] .colab-df-convert {\n",
       "      background-color: #3B4455;\n",
       "      fill: #D2E3FC;\n",
       "    }\n",
       "\n",
       "    [theme=dark] .colab-df-convert:hover {\n",
       "      background-color: #434B5C;\n",
       "      box-shadow: 0px 1px 3px 1px rgba(0, 0, 0, 0.15);\n",
       "      filter: drop-shadow(0px 1px 2px rgba(0, 0, 0, 0.3));\n",
       "      fill: #FFFFFF;\n",
       "    }\n",
       "  </style>\n",
       "\n",
       "      <script>\n",
       "        const buttonEl =\n",
       "          document.querySelector('#df-1b325f9f-fcd6-4eac-a5db-89b2ca371075 button.colab-df-convert');\n",
       "        buttonEl.style.display =\n",
       "          google.colab.kernel.accessAllowed ? 'block' : 'none';\n",
       "\n",
       "        async function convertToInteractive(key) {\n",
       "          const element = document.querySelector('#df-1b325f9f-fcd6-4eac-a5db-89b2ca371075');\n",
       "          const dataTable =\n",
       "            await google.colab.kernel.invokeFunction('convertToInteractive',\n",
       "                                                     [key], {});\n",
       "          if (!dataTable) return;\n",
       "\n",
       "          const docLinkHtml = 'Like what you see? Visit the ' +\n",
       "            '<a target=\"_blank\" href=https://colab.research.google.com/notebooks/data_table.ipynb>data table notebook</a>'\n",
       "            + ' to learn more about interactive tables.';\n",
       "          element.innerHTML = '';\n",
       "          dataTable['output_type'] = 'display_data';\n",
       "          await google.colab.output.renderOutput(dataTable, element);\n",
       "          const docLink = document.createElement('div');\n",
       "          docLink.innerHTML = docLinkHtml;\n",
       "          element.appendChild(docLink);\n",
       "        }\n",
       "      </script>\n",
       "    </div>\n",
       "  </div>\n",
       "  "
      ],
      "text/plain": [
       "           file_name     label  numeric label\n",
       "0     IMAGE_0000.jpg     tumor            1.0\n",
       "1     IMAGE_0001.jpg  no_tumor            0.0\n",
       "2     IMAGE_0002.jpg     tumor            1.0\n",
       "3     IMAGE_0003.jpg     tumor            1.0\n",
       "4     IMAGE_0004.jpg     tumor            1.0\n",
       "...              ...       ...            ...\n",
       "2995  IMAGE_2995.jpg  no_tumor            0.0\n",
       "2996  IMAGE_2996.jpg     tumor            1.0\n",
       "2997  IMAGE_2997.jpg     tumor            1.0\n",
       "2998  IMAGE_2998.jpg     tumor            1.0\n",
       "2999  IMAGE_2999.jpg     tumor            1.0\n",
       "\n",
       "[3000 rows x 3 columns]"
      ]
     },
     "execution_count": 9,
     "metadata": {},
     "output_type": "execute_result"
    }
   ],
   "source": [
    "tumour_labels #Displaying dataframe to ensure new column created and values are being assigned properly"
   ]
  },
  {
   "cell_type": "markdown",
   "id": "b462d6fc",
   "metadata": {
    "id": "7573471d"
   },
   "source": [
    "### Data Preparation: Loading the images"
   ]
  },
  {
   "cell_type": "markdown",
   "id": "62208b08",
   "metadata": {
    "id": "f84c696d"
   },
   "source": [
    "In the cell below, we load the image files using the `imread` functions from the scikit-image package. We convert the images to grayscale as a form of preprocessing. \n",
    "\n",
    "The images (whether grayscale or not) are converted to numpy arrays before appending them to a list. This list of arrays is then converted to a numpy array of arrays to allow us to print the shape to verify all the images have been loaded.\n",
    "\n",
    "This cell also uses `datetime.now()` to output the time elapsed to load the image set. This was used to compare efficiency of different `imread` functions from different packages including `skimage`, `cv2` etc. In the end, `skimage` was chosen as it produced slightly favourable results."
   ]
  },
  {
   "cell_type": "code",
   "execution_count": 10,
   "id": "ed9dce16",
   "metadata": {
    "colab": {
     "base_uri": "https://localhost:8080/",
     "height": 332
    },
    "executionInfo": {
     "elapsed": 75969,
     "status": "ok",
     "timestamp": 1640621017274,
     "user": {
      "displayName": "Yousef Mahmoud",
      "photoUrl": "https://lh3.googleusercontent.com/a/default-user=s64",
      "userId": "02029842566020735723"
     },
     "user_tz": -180
    },
    "id": "9a94ac3d",
    "outputId": "82bbf490-c145-4eb2-bd16-2ed0d822cb91"
   },
   "outputs": [
    {
     "name": "stdout",
     "output_type": "stream",
     "text": [
      "The time elapsed to load the images was:  0:01:13.024557\n",
      "(3000, 512, 512)\n"
     ]
    },
    {
     "data": {
      "image/png": "[encoded data removed]",
      "text/plain": [
       "<Figure size 432x288 with 1 Axes>"
      ]
     },
     "metadata": {
      "needs_background": "light"
     },
     "output_type": "display_data"
    }
   ],
   "source": [
    "#Uncomment to verify contents of the directory loaded\n",
    "\n",
    "\"\"\" directory contains the path of the image folder on the computer for running on Jupyter notebook when all files are in the same directory  \n",
    "    drive_directory contains the path of the image folder on Google Drive for when Colab was being used for higher computational power.\n",
    "\n",
    "    NOTE: As the order of the images was reshuffled when being uploaded to Google Drive due to internet speeds, we must use sorted() at the\n",
    "    beginning of the for-loop when using dirpath otherwise the images will not be loaded in the order matching their corresponding labels. \n",
    "    Explicity this means when using Colab the for loop should read \"for file in sorted(listdir(drive_directory))\" instead of\n",
    "    \"for file in listdir(directory)\".\n",
    "    \n",
    "    Change the name of the path in the for loop accordingly.\"\"\"\n",
    "\n",
    "directory = './dataset/image'\n",
    "drive_directory = '/content/drive/MyDrive/Colab Notebooks/dataset/image'\n",
    "#print(listdir(directory))\n",
    "#print(listdir(drive_directory))\n",
    "\n",
    "#Code used to test timing\n",
    "\n",
    "start = datetime.now() #Stores the time at which loading starts\n",
    "\n",
    "images = [] #An empty list is created\n",
    "\n",
    "\"\"\"The for loop below uses listdir to iterate through names of all the files in the directory and uses to\n",
    "populate the list images. The image is converted into grayscale using rgb2gray as this grayscale images only\n",
    "have one channel which will increase efficiency of the code as we and decrease complexity whilst still yielding \n",
    "similar results. Testing carried out by me showed that we should stick to grayscale.\n",
    "\n",
    "The user can optionally comment out lines 23-25 and uncomment lines 27 and 28 to leave the image in RGB rather\n",
    "than convert it to grayscale\"\"\"\n",
    "\n",
    "for file in sorted(listdir(directory)):\n",
    "    img = io.imread(directory + '/' + file)\n",
    "    gray_img = rgb2gray(img)\n",
    "    gray_img = np.array(gray_img)\n",
    "    images.append(gray_img)\n",
    "    \n",
    "    #img = np.array(img)\n",
    "    #images.append(img) \n",
    "        \n",
    "#Marking the end of the code loading the images \n",
    "end = datetime.now()\n",
    "elapsed = end - start #Calculating time elapsed while comparing different packages used to load images\n",
    "print('The time elapsed to load the images was: ', + elapsed) \n",
    "\n",
    "\"\"\"Below we chose a random image from the dataset (image[45]) to show below so the user can visually verify\n",
    "the type of image. We apply a red colormap in the imshow function so that if the image is shown with red tones\n",
    "the user knows it was converted to grayscale and if it shows as a regular black and white MRI then it was not.\"\"\"\n",
    "\n",
    "io.imshow(np.array(images[45]), cmap='Reds') #red colormap only appears if grayscale image\n",
    "print(np.array(images).shape) #Converting list images to a numpy array before outputting shape to verify "
   ]
  },
  {
   "cell_type": "markdown",
   "id": "8dd0299f",
   "metadata": {
    "id": "54910e39"
   },
   "source": [
    "### Splitting the data into training and testing data\n",
    "\n",
    "In the cells below, we use `train_test_split` from the `model_selection` part of the `sklearn` package. This splits the data into training and testing data before we train the model. The testing data is left unseen so we can test our trained model using it. We use the deafult 75/25 train-to-test split.\n",
    "\n",
    "The split is carried out before any preprocessing and feature extraction steps. This is because train data should be preprocessed separately to ensure there is no leak between the train and test set and that the test data remains fully unseen. The same parameters used to preprocess the train data can then be applied on the test data as if the test data were truly unseen/did not even exist beforehand"
   ]
  },
  {
   "cell_type": "code",
   "execution_count": 11,
   "id": "bf2a8e46",
   "metadata": {
    "colab": {
     "base_uri": "https://localhost:8080/"
    },
    "executionInfo": {
     "elapsed": 2475,
     "status": "ok",
     "timestamp": 1640621019740,
     "user": {
      "displayName": "Yousef Mahmoud",
      "photoUrl": "https://lh3.googleusercontent.com/a/default-user=s64",
      "userId": "02029842566020735723"
     },
     "user_tz": -180
    },
    "id": "2b28f61b",
    "outputId": "8fc39d49-0ed7-41f6-d71d-f030fa953a10"
   },
   "outputs": [
    {
     "name": "stdout",
     "output_type": "stream",
     "text": [
      "(2250, 512, 512)\n",
      "(750, 512, 512)\n"
     ]
    }
   ],
   "source": [
    "X = np.array(images) #Set X to contain the extracted images, images must be in array from first\n",
    "Y = tumour_labels['numeric label'] #Set Y to contain the corresponding numeric labels of each image\n",
    "\n",
    "xTrain, xTest, yTrain, yTest = train_test_split(X,Y, random_state = 0) #Set random_state to 0 for reproducibility\n",
    "\n",
    "print(xTrain.shape) #Printing the shape of xTrain to veryify data was split correctly and that xTrain is 2-dimensional as required for the learning model used (SVM)\n",
    "print(xTest.shape) #Printing the shape of xTest to verify  data was split correctly and that xTest is 2-dimensional as required for the learning model used (SVM)"
   ]
  },
  {
   "cell_type": "markdown",
   "id": "c1fa6c8e",
   "metadata": {
    "id": "14e24091"
   },
   "source": [
    "### Feature Extraction using HOG - Histogram of Oriented Gradients\n",
    "\n",
    "To preprocess our images before training, we use a Historgram of Oriented Gradient. This is done using the `hog()` function from `scikit-image`.\n",
    "\n",
    "An HOG is needed as this extracts features from the image that a machine learning algorithm can better understand to increase the accuracy of training and any future predictions. \n",
    "\n",
    "It works by splitting the image into a grid of cells, and for the pixels in each cell, gradient directions are given as a histogram. These are then manipulated and the function outputs an HOG feature vector of features extracted from the image and an image to visualise the HOG image.\n",
    "\n",
    "As seen below, the train and test data undergo the `hog()` function separately to ensure test data remains effectively unseen/hidden during preprocessing. The first cell below preprocesses the training data and the one after preprocesses the testing data."
   ]
  },
  {
   "cell_type": "code",
   "execution_count": 12,
   "id": "4c6ffada",
   "metadata": {
    "colab": {
     "base_uri": "https://localhost:8080/"
    },
    "executionInfo": {
     "elapsed": 413144,
     "status": "ok",
     "timestamp": 1640621432877,
     "user": {
      "displayName": "Yousef Mahmoud",
      "photoUrl": "https://lh3.googleusercontent.com/a/default-user=s64",
      "userId": "02029842566020735723"
     },
     "user_tz": -180
    },
    "id": "ba54c897",
    "outputId": "958a2b86-a4c5-416c-8ec0-7b8d059affce"
   },
   "outputs": [
    {
     "name": "stdout",
     "output_type": "stream",
     "text": [
      "The time elapsed to complete the hog function on the training set is 0:06:53.005261\n"
     ]
    }
   ],
   "source": [
    "features_hog_train = [] #List to store the HOG feature vectors for each image\n",
    "images_hog_train = [] #List to store the HOG image for each image\n",
    "\n",
    "start_hog_train = datetime.now()\n",
    "\n",
    "#Looping through all the images and performing hog() on them\n",
    "for index in range(len(xTrain)):\n",
    "    hog_feature, hog_image = hog(xTrain[index], visualize = True, block_norm = 'L2-Hys', pixels_per_cell=(16,16))\n",
    "    features_hog_train.append(hog_feature) #Appending feature vector to a list storing them all\n",
    "    images_hog_train.append(hog_image) #Appending HOG visualisation image to a list storing them all\n",
    "\n",
    "end_hog_train = datetime.now()\n",
    "time_hog_train = end_hog_train - start_hog_train\n",
    "print('The time elapsed to complete the hog function on the training set is', time_hog_train)"
   ]
  },
  {
   "cell_type": "code",
   "execution_count": 13,
   "id": "ab37baea",
   "metadata": {
    "colab": {
     "base_uri": "https://localhost:8080/"
    },
    "executionInfo": {
     "elapsed": 136301,
     "status": "ok",
     "timestamp": 1640621569171,
     "user": {
      "displayName": "Yousef Mahmoud",
      "photoUrl": "https://lh3.googleusercontent.com/a/default-user=s64",
      "userId": "02029842566020735723"
     },
     "user_tz": -180
    },
    "id": "b44cc8f1",
    "outputId": "59caf528-3da9-467e-9cd9-0fe47c246651"
   },
   "outputs": [
    {
     "name": "stdout",
     "output_type": "stream",
     "text": [
      "The time elapsed to complete the hog function on the testing set is 0:02:16.154663\n"
     ]
    }
   ],
   "source": [
    "features_hog_test = [] #List to store the HOG feature vectors for each image\n",
    "images_hog_test = [] #List to store the HOG image for each image\n",
    "\n",
    "start_hog_test = datetime.now()\n",
    "\n",
    "#Looping through all the images and performing hog() on them\n",
    "for index in range(len(xTest)):\n",
    "    hog_feature, hog_image = hog(xTest[index], visualize = True, block_norm = 'L2-Hys', pixels_per_cell=(16,16))\n",
    "    features_hog_test.append(hog_feature) #Appending feature vector to a list storing them all\n",
    "    images_hog_test.append(hog_image) #Appending HOG visualisation image to a list storing them all\n",
    "\n",
    "end_hog_test = datetime.now()\n",
    "time_hog_test = end_hog_test - start_hog_test\n",
    "print('The time elapsed to complete the hog function on the testing set is', time_hog_test)"
   ]
  },
  {
   "cell_type": "code",
   "execution_count": 14,
   "id": "9175b02b",
   "metadata": {
    "colab": {
     "base_uri": "https://localhost:8080/"
    },
    "executionInfo": {
     "elapsed": 1486,
     "status": "ok",
     "timestamp": 1640621570640,
     "user": {
      "displayName": "Yousef Mahmoud",
      "photoUrl": "https://lh3.googleusercontent.com/a/default-user=s64",
      "userId": "02029842566020735723"
     },
     "user_tz": -180
    },
    "id": "1f407a48",
    "outputId": "559b47ec-1eb6-4beb-c9a5-126088456f2f"
   },
   "outputs": [
    {
     "name": "stdout",
     "output_type": "stream",
     "text": [
      "(2250, 72900)\n",
      "(2250, 512, 512)\n"
     ]
    }
   ],
   "source": [
    "#Printing the shape of the features and images from the HOG function for the training set for verification\n",
    "\n",
    "print(np.array(features_hog_train).shape)\n",
    "print(np.array(images_hog_train).shape)"
   ]
  },
  {
   "cell_type": "code",
   "execution_count": 15,
   "id": "40df8a9d",
   "metadata": {
    "colab": {
     "base_uri": "https://localhost:8080/"
    },
    "executionInfo": {
     "elapsed": 545,
     "status": "ok",
     "timestamp": 1640621571180,
     "user": {
      "displayName": "Yousef Mahmoud",
      "photoUrl": "https://lh3.googleusercontent.com/a/default-user=s64",
      "userId": "02029842566020735723"
     },
     "user_tz": -180
    },
    "id": "9ec3c1ce",
    "outputId": "377d622e-9cea-46d0-ecde-eeebb809e9ef"
   },
   "outputs": [
    {
     "name": "stdout",
     "output_type": "stream",
     "text": [
      "(750, 72900)\n",
      "(750, 512, 512)\n"
     ]
    }
   ],
   "source": [
    "#Printing the shape of the features and images from the HOG function for the testing set for verification\n",
    "\n",
    "print(np.array(features_hog_test).shape)\n",
    "print(np.array(images_hog_test).shape)"
   ]
  },
  {
   "cell_type": "code",
   "execution_count": 16,
   "id": "ffb88004",
   "metadata": {
    "colab": {
     "base_uri": "https://localhost:8080/",
     "height": 381
    },
    "executionInfo": {
     "elapsed": 2722,
     "status": "ok",
     "timestamp": 1640621573896,
     "user": {
      "displayName": "Yousef Mahmoud",
      "photoUrl": "https://lh3.googleusercontent.com/a/default-user=s64",
      "userId": "02029842566020735723"
     },
     "user_tz": -180
    },
    "id": "18692bc0",
    "outputId": "3e20500a-3ad6-4465-cccf-a2ad21b85ed3"
   },
   "outputs": [
    {
     "data": {
      "text/plain": [
       "Text(0.5, 1.0, 'HOG Image (Testing)')"
      ]
     },
     "execution_count": 16,
     "metadata": {},
     "output_type": "execute_result"
    },
    {
     "data": {
      "image/png": "[encoded data removed]",
      "text/plain": [
       "<Figure size 1800x1800 with 4 Axes>"
      ]
     },
     "metadata": {
      "needs_background": "light"
     },
     "output_type": "display_data"
    }
   ],
   "source": [
    "'''This cell generates four plots side-by-side to image[45] (the same one printed after loading the images) before\n",
    "and after the HOG function to show what hog() does to the images.\n",
    "\n",
    "This is done for image[45] from both the train and test sets to ensure the hog() works for each as it was done \n",
    "separately for the train data and test data.\n",
    "'''\n",
    "hog_vs_nohog, ax = plt.subplots(nrows=1, ncols=4, figsize=(25,25))\n",
    "ax[0].imshow(np.array(xTrain[45]), cmap = 'gray') #A gray colormap is placed on the image\n",
    "ax[0].set_title('Regular Image (Training)', fontsize = 16)\n",
    "ax[1].imshow(np.array(images_hog_train[45]), cmap = 'gray') #A gray colormap is placed on the image\n",
    "ax[1].set_title('HOG Image (Training)', fontsize = 16)\n",
    "ax[2].imshow(np.array(xTest[45]), cmap = 'gray') #A gray colormap is placed on the image\n",
    "ax[2].set_title('Regular Image (Testing)', fontsize = 16)\n",
    "ax[3].imshow(np.array(images_hog_test[45]), cmap = 'gray') #A gray colormap is placed on the image\n",
    "ax[3].set_title('HOG Image (Testing)', fontsize = 16)"
   ]
  },
  {
   "cell_type": "markdown",
   "id": "728e763d",
   "metadata": {
    "id": "65aaad9e"
   },
   "source": [
    "The two cells below convert the list of features extracted using HOG into an array/matrix called the feature matrix.\n",
    "\n",
    "As they were preprocessed separately, a feature matrix is generated for the training data in the first cell and for the testing data in the second cell. The shapes are printed to verify the array is now 2-dimensional after HOG and to ensure the correct number of data is present in each of the training and testing data according to the 75/25 split."
   ]
  },
  {
   "cell_type": "code",
   "execution_count": 17,
   "id": "e2daa65d",
   "metadata": {
    "colab": {
     "base_uri": "https://localhost:8080/"
    },
    "executionInfo": {
     "elapsed": 12,
     "status": "ok",
     "timestamp": 1640621573897,
     "user": {
      "displayName": "Yousef Mahmoud",
      "photoUrl": "https://lh3.googleusercontent.com/a/default-user=s64",
      "userId": "02029842566020735723"
     },
     "user_tz": -180
    },
    "id": "0cb4c686",
    "outputId": "b421db7e-2723-4140-d153-5ab63b5f7f06"
   },
   "outputs": [
    {
     "name": "stdout",
     "output_type": "stream",
     "text": [
      "(2250, 72900)\n"
     ]
    }
   ],
   "source": [
    "feature_matrix_training = np.array(features_hog_train) #Converting the list of features extracted from HOG into an array\n",
    "print(feature_matrix_training.shape) #Printing the shape of the feature matrix to visually verify if it is acceptable"
   ]
  },
  {
   "cell_type": "code",
   "execution_count": 18,
   "id": "8599fd49",
   "metadata": {
    "colab": {
     "base_uri": "https://localhost:8080/"
    },
    "executionInfo": {
     "elapsed": 772,
     "status": "ok",
     "timestamp": 1640621574663,
     "user": {
      "displayName": "Yousef Mahmoud",
      "photoUrl": "https://lh3.googleusercontent.com/a/default-user=s64",
      "userId": "02029842566020735723"
     },
     "user_tz": -180
    },
    "id": "5503d1c8",
    "outputId": "29de6787-9366-4f84-e7dc-f48dfda39e9d"
   },
   "outputs": [
    {
     "name": "stdout",
     "output_type": "stream",
     "text": [
      "(750, 72900)\n"
     ]
    }
   ],
   "source": [
    "feature_matrix_testing = np.array(features_hog_test)\n",
    "print(feature_matrix_testing.shape)"
   ]
  },
  {
   "cell_type": "markdown",
   "id": "75ed8128",
   "metadata": {
    "id": "70250521"
   },
   "source": [
    "In the cell below, `StandardScaler()` is used to standardise the features and scale to unit variance. This is done for the training feature matrix using `.fit_transform()` to calculate parameters and apply the transformation to the training feature matrix.\n",
    "\n",
    "For the testing feature matrix, only `.transform()` is used to perform the transformation on the testing feature matrix but while using the same parameters calculated for the training feature matrix. This applies the same parameters calculated for the training set on our testing set."
   ]
  },
  {
   "cell_type": "code",
   "execution_count": 19,
   "id": "e9844116",
   "metadata": {
    "colab": {
     "base_uri": "https://localhost:8080/"
    },
    "executionInfo": {
     "elapsed": 14,
     "status": "ok",
     "timestamp": 1640621574664,
     "user": {
      "displayName": "Yousef Mahmoud",
      "photoUrl": "https://lh3.googleusercontent.com/a/default-user=s64",
      "userId": "02029842566020735723"
     },
     "user_tz": -180
    },
    "id": "b8243a61",
    "outputId": "5d21c109-3998-4dee-8055-099a88472386"
   },
   "outputs": [
    {
     "name": "stdout",
     "output_type": "stream",
     "text": [
      "(2250, 72900)\n",
      "(750, 72900)\n"
     ]
    }
   ],
   "source": [
    "std_scl = StandardScaler()\n",
    "feature_matrix_training = std_scl.fit_transform(feature_matrix_training)\n",
    "feature_matrix_testing = std_scl.transform(feature_matrix_testing)\n",
    "\n",
    "print(feature_matrix_training.shape)\n",
    "print(feature_matrix_testing.shape)"
   ]
  },
  {
   "cell_type": "markdown",
   "id": "b89fdc9d",
   "metadata": {
    "id": "aac9024a"
   },
   "source": [
    "After scaling, we set xTrain as the training feature matrix and xTest as the testing feature matrix. These are then fed into the PCA functions used later."
   ]
  },
  {
   "cell_type": "code",
   "execution_count": 20,
   "id": "dc8f9794",
   "metadata": {
    "colab": {
     "base_uri": "https://localhost:8080/"
    },
    "executionInfo": {
     "elapsed": 9,
     "status": "ok",
     "timestamp": 1640621574665,
     "user": {
      "displayName": "Yousef Mahmoud",
      "photoUrl": "https://lh3.googleusercontent.com/a/default-user=s64",
      "userId": "02029842566020735723"
     },
     "user_tz": -180
    },
    "id": "a0c52356",
    "outputId": "77f36217-8037-4d8c-aec1-686c681d73ae"
   },
   "outputs": [
    {
     "name": "stdout",
     "output_type": "stream",
     "text": [
      "(2250, 72900)\n",
      "(750, 72900)\n"
     ]
    }
   ],
   "source": [
    "xTrain = feature_matrix_training\n",
    "xTest = feature_matrix_testing\n",
    "\n",
    "print(xTrain.shape)\n",
    "print(xTest.shape)"
   ]
  },
  {
   "cell_type": "markdown",
   "id": "1c738c34",
   "metadata": {
    "id": "9d80ea39"
   },
   "source": [
    "### PCA (Principle Component Analysis) for dimensionality reduction\n",
    "\n",
    "In the cells below, we use PCA to reduce the features per image. PCA linearly transforms the data so that the most useful information is still contained in a smaller number of features. It removes the correlated features.\n",
    "\n",
    "In the first cell, we generate a plot which shows how many features are needed to maintain a 95% explained variance. This means we are calculating the lowest possible number of features neeeded to retain 95% of the information. This reduces thef features significantly from 72,900 features to approx. 1400 features whilst retaining most of the useful information about the image."
   ]
  },
  {
   "cell_type": "code",
   "execution_count": 21,
   "id": "5d8318fc",
   "metadata": {
    "colab": {
     "base_uri": "https://localhost:8080/",
     "height": 282
    },
    "executionInfo": {
     "elapsed": 34833,
     "status": "ok",
     "timestamp": 1640621609492,
     "user": {
      "displayName": "Yousef Mahmoud",
      "photoUrl": "https://lh3.googleusercontent.com/a/default-user=s64",
      "userId": "02029842566020735723"
     },
     "user_tz": -180
    },
    "id": "9647a7e1",
    "outputId": "6be7af1d-c852-45cc-fcfb-d625344e931e"
   },
   "outputs": [
    {
     "data": {
      "text/plain": [
       "[<matplotlib.lines.Line2D at 0x7fb37359eb90>]"
      ]
     },
     "execution_count": 21,
     "metadata": {},
     "output_type": "execute_result"
    },
    {
     "data": {
      "image/png": "[encoded data removed]",
      "text/plain": [
       "<Figure size 432x288 with 1 Axes>"
      ]
     },
     "metadata": {
      "needs_background": "light"
     },
     "output_type": "display_data"
    }
   ],
   "source": [
    "pca = PCA(random_state=0)\n",
    "pca.fit(xTrain)\n",
    "explained_variance = np.cumsum(pca.explained_variance_ratio_)\n",
    "plt.vlines(x=1409, ymax=1, ymin=0, colors=\"r\", linestyles=\"--\")\n",
    "plt.hlines(y=0.95, xmax=2000, xmin=0, colors=\"g\", linestyles=\"--\")\n",
    "plt.plot(explained_variance)"
   ]
  },
  {
   "cell_type": "markdown",
   "id": "7039afd7",
   "metadata": {
    "id": "128c8f0b"
   },
   "source": [
    "In the second cell, we shortcut the step used in the first cell. To retain 95% explained variance, we define our pca as `PCA(0.95)`. We also use `random_state = 0` for reproducibility. Similarly to our use of `StandardScaler()` above, we use `fit_transform()` on xTrain to find the parameters of the PCA and number of features as well as apply this transformation. \n",
    "\n",
    "However, then on xTest, we use `.transform()` to apply the transformation on the test set but by using the same parameters used for the training set to ensure the same number of features are retained for each. "
   ]
  },
  {
   "cell_type": "code",
   "execution_count": 22,
   "id": "64dbd18f",
   "metadata": {
    "colab": {
     "base_uri": "https://localhost:8080/"
    },
    "executionInfo": {
     "elapsed": 36111,
     "status": "ok",
     "timestamp": 1640621645594,
     "user": {
      "displayName": "Yousef Mahmoud",
      "photoUrl": "https://lh3.googleusercontent.com/a/default-user=s64",
      "userId": "02029842566020735723"
     },
     "user_tz": -180
    },
    "id": "4f411801",
    "outputId": "8cead7ca-179c-442c-9ac9-75ccb1bc2aab"
   },
   "outputs": [
    {
     "name": "stdout",
     "output_type": "stream",
     "text": [
      "(2250, 1409)\n",
      "(750, 1409)\n"
     ]
    }
   ],
   "source": [
    "pca_final = PCA(0.95, random_state = 0)\n",
    "pca_xTrain = pca_final.fit_transform(xTrain)\n",
    "pca_xTest = pca_final.transform(xTest) #.transform() ensures same no. of features as calculated for xTrain\n",
    "\n",
    "#Printing the shapes to verify both xTrain and xTest have the same number of features per image\n",
    "print(pca_xTrain.shape) \n",
    "print(pca_xTest.shape)"
   ]
  },
  {
   "cell_type": "markdown",
   "id": "08e68570",
   "metadata": {
    "id": "ee290879"
   },
   "source": [
    "## Training the models\n",
    "\n",
    "In the following cells, we define the Logistic Regression model we are using by using the `LogisticRegression()` from `sklearn`. We then fit this to our Training sets that have undergone PCA using `pca_xTrain` and `yTrain`.\n",
    "\n",
    "We initially test one model before going through a GridSearch for hyperparameter tuning. We also output the time taken for each model to train."
   ]
  },
  {
   "cell_type": "code",
   "execution_count": 23,
   "id": "0fb5d335",
   "metadata": {
    "colab": {
     "base_uri": "https://localhost:8080/"
    },
    "executionInfo": {
     "elapsed": 624,
     "status": "ok",
     "timestamp": 1640621646214,
     "user": {
      "displayName": "Yousef Mahmoud",
      "photoUrl": "https://lh3.googleusercontent.com/a/default-user=s64",
      "userId": "02029842566020735723"
     },
     "user_tz": -180
    },
    "id": "b0a10237",
    "outputId": "e0979641-779c-49ed-d222-4e6158164701"
   },
   "outputs": [
    {
     "name": "stdout",
     "output_type": "stream",
     "text": [
      "The training time for the logistic regression model is:  0:00:00.508327\n"
     ]
    },
    {
     "name": "stderr",
     "output_type": "stream",
     "text": [
      "/usr/local/lib/python3.7/dist-packages/sklearn/linear_model/_logistic.py:818: ConvergenceWarning: lbfgs failed to converge (status=1):\n",
      "STOP: TOTAL NO. of ITERATIONS REACHED LIMIT.\n",
      "\n",
      "Increase the number of iterations (max_iter) or scale the data as shown in:\n",
      "    https://scikit-learn.org/stable/modules/preprocessing.html\n",
      "Please also refer to the documentation for alternative solver options:\n",
      "    https://scikit-learn.org/stable/modules/linear_model.html#logistic-regression\n",
      "  extra_warning_msg=_LOGISTIC_SOLVER_CONVERGENCE_MSG,\n"
     ]
    }
   ],
   "source": [
    "modelLogReg = LogisticRegression(max_iter = 300, random_state = 0)\n",
    "start_model = datetime.now()\n",
    "modelLogReg.fit(pca_xTrain, yTrain)\n",
    "end_model = datetime.now()\n",
    "time_model = end_model - start_model\n",
    "print('The training time for the logistic regression model is: ', time_model) "
   ]
  },
  {
   "cell_type": "markdown",
   "id": "83cd89cf",
   "metadata": {
    "id": "b5a80dda"
   },
   "source": [
    "## Predictions and Accuracy Metrics\n",
    "\n",
    "In the following cells, we use `.predict()` to generate predictions using our test data and store it in `y_Pred`. This is then compared to `yTest` from the testing set to produce an accuracy score for the model as well as a classification report containing precision, recall and f1-scores. A confusion matrix is generated for the model tested."
   ]
  },
  {
   "cell_type": "markdown",
   "id": "808679bf",
   "metadata": {
    "id": "ae68467f"
   },
   "source": [
    "### Classification Report + Confusion Matrix"
   ]
  },
  {
   "cell_type": "code",
   "execution_count": 24,
   "id": "e794ff05",
   "metadata": {
    "executionInfo": {
     "elapsed": 12,
     "status": "ok",
     "timestamp": 1640621646215,
     "user": {
      "displayName": "Yousef Mahmoud",
      "photoUrl": "https://lh3.googleusercontent.com/a/default-user=s64",
      "userId": "02029842566020735723"
     },
     "user_tz": -180
    },
    "id": "b39ef7cc"
   },
   "outputs": [],
   "source": [
    "y_Pred_model = modelLogReg.predict(pca_xTest) #Making predictions on entire dataset using the model"
   ]
  },
  {
   "cell_type": "code",
   "execution_count": 25,
   "id": "c973613e",
   "metadata": {
    "colab": {
     "base_uri": "https://localhost:8080/"
    },
    "executionInfo": {
     "elapsed": 12,
     "status": "ok",
     "timestamp": 1640621646216,
     "user": {
      "displayName": "Yousef Mahmoud",
      "photoUrl": "https://lh3.googleusercontent.com/a/default-user=s64",
      "userId": "02029842566020735723"
     },
     "user_tz": -180
    },
    "id": "a0c5fa73",
    "outputId": "2a59b140-fb50-4763-cf39-ff8442fa63bf"
   },
   "outputs": [
    {
     "name": "stdout",
     "output_type": "stream",
     "text": [
      "Accuracy on test set: 0.952\n",
      "              precision    recall  f1-score   support\n",
      "\n",
      "         0.0       0.93      0.76      0.84       123\n",
      "         1.0       0.96      0.99      0.97       627\n",
      "\n",
      "    accuracy                           0.95       750\n",
      "   macro avg       0.94      0.88      0.91       750\n",
      "weighted avg       0.95      0.95      0.95       750\n",
      "\n"
     ]
    }
   ],
   "source": [
    "print('Accuracy on test set: '+str(accuracy_score(yTest,y_Pred_model)))\n",
    "print(classification_report(yTest,y_Pred_model)) #The classification report shows classification metrics such as f1-score, precison, recall and accuracy scores"
   ]
  },
  {
   "cell_type": "code",
   "execution_count": 26,
   "id": "ba874078",
   "metadata": {
    "executionInfo": {
     "elapsed": 8,
     "status": "ok",
     "timestamp": 1640621646216,
     "user": {
      "displayName": "Yousef Mahmoud",
      "photoUrl": "https://lh3.googleusercontent.com/a/default-user=s64",
      "userId": "02029842566020735723"
     },
     "user_tz": -180
    },
    "id": "302727b0"
   },
   "outputs": [],
   "source": [
    "acc_model = modelLogReg.score(pca_xTest, yTest) #Accuracy score"
   ]
  },
  {
   "cell_type": "code",
   "execution_count": 27,
   "id": "e437d151",
   "metadata": {
    "executionInfo": {
     "elapsed": 8,
     "status": "ok",
     "timestamp": 1640621646217,
     "user": {
      "displayName": "Yousef Mahmoud",
      "photoUrl": "https://lh3.googleusercontent.com/a/default-user=s64",
      "userId": "02029842566020735723"
     },
     "user_tz": -180
    },
    "id": "ed02eb9b"
   },
   "outputs": [],
   "source": [
    "cm_model = confusion_matrix(yTest, y_Pred_model) #Confusion matrix generated"
   ]
  },
  {
   "cell_type": "code",
   "execution_count": 28,
   "id": "e82f0aa9",
   "metadata": {
    "colab": {
     "base_uri": "https://localhost:8080/",
     "height": 520
    },
    "executionInfo": {
     "elapsed": 799,
     "status": "ok",
     "timestamp": 1640621647008,
     "user": {
      "displayName": "Yousef Mahmoud",
      "photoUrl": "https://lh3.googleusercontent.com/a/default-user=s64",
      "userId": "02029842566020735723"
     },
     "user_tz": -180
    },
    "id": "2f122574",
    "outputId": "41e3875c-ef85-44fb-b525-553935cb9122"
   },
   "outputs": [
    {
     "data": {
      "image/png": "[encoded data removed]",
      "text/plain": [
       "<Figure size 648x648 with 2 Axes>"
      ]
     },
     "metadata": {
      "needs_background": "light"
     },
     "output_type": "display_data"
    }
   ],
   "source": [
    "#The confusion matrix is plotted to visually show where the model performed best and worst in predicting the labels\n",
    "\n",
    "plt.figure(figsize=(9,9))\n",
    "sns.heatmap(cm_model, annot=True, fmt=\".3f\", linewidths=.5, square = True, cmap = 'Blues_r');\n",
    "plt.ylabel('Actual label');\n",
    "plt.xlabel('Predicted label');\n",
    "all_sample_title = 'Accuracy Score: {0}'.format(acc_model)\n",
    "plt.title(all_sample_title, size = 15);"
   ]
  },
  {
   "cell_type": "markdown",
   "id": "29be0c54",
   "metadata": {
    "id": "bcd8b9be"
   },
   "source": [
    "### ROC Curves and AUC (Area under curve)\n",
    "\n",
    "This calculates the receiver operating characteristic curve for the model. The ROC is close to the top left corner which shows an excellent model as the AUC (area under curve) is 0.99 which is very close to 1. The closer to the top left corner the better model as it shows high specificity and sensitivity at most points. This code to plot was taken from the `sklearn` library website as the default method of plotting ROCs.\n",
    "\n",
    "ROCs are considered useful as they also indicate specifity and sensitivity."
   ]
  },
  {
   "cell_type": "code",
   "execution_count": 29,
   "id": "dc2c594e",
   "metadata": {
    "executionInfo": {
     "elapsed": 19,
     "status": "ok",
     "timestamp": 1640621647010,
     "user": {
      "displayName": "Yousef Mahmoud",
      "photoUrl": "https://lh3.googleusercontent.com/a/default-user=s64",
      "userId": "02029842566020735723"
     },
     "user_tz": -180
    },
    "id": "e61ff26d"
   },
   "outputs": [],
   "source": [
    "probabilities = modelLogReg.predict_proba(pca_xTest)\n",
    "y_probability = probabilities[:,1]\n",
    "false_positive_rate, true_positive_rate, thresholds = roc_curve(yTest, y_probability, pos_label=1)\n",
    "roc_auc = auc(false_positive_rate, true_positive_rate)"
   ]
  },
  {
   "cell_type": "code",
   "execution_count": 30,
   "id": "8e807832",
   "metadata": {
    "colab": {
     "base_uri": "https://localhost:8080/",
     "height": 295
    },
    "executionInfo": {
     "elapsed": 15,
     "status": "ok",
     "timestamp": 1640621647010,
     "user": {
      "displayName": "Yousef Mahmoud",
      "photoUrl": "https://lh3.googleusercontent.com/a/default-user=s64",
      "userId": "02029842566020735723"
     },
     "user_tz": -180
    },
    "id": "01ffe008",
    "outputId": "b8536bae-3908-47ea-94fa-68c991fda1a1"
   },
   "outputs": [
    {
     "data": {
      "image/png": "[encoded data removed]",
      "text/plain": [
       "<Figure size 432x288 with 1 Axes>"
      ]
     },
     "metadata": {
      "needs_background": "light"
     },
     "output_type": "display_data"
    }
   ],
   "source": [
    "plt.title('Receiver Operating Characteristic')\n",
    "#plot the false positive rate on the x axis and the true positive rate on the y axis\n",
    "roc_plot = plt.plot(false_positive_rate,\n",
    "                    true_positive_rate,\n",
    "                    label='AUC = {:0.2f}'.format(roc_auc))\n",
    "\n",
    "plt.legend(loc=0)\n",
    "plt.plot([0,1], [0,1], ls='--')\n",
    "plt.ylabel('True Positive Rate')\n",
    "plt.xlabel('False Positive Rate');"
   ]
  },
  {
   "cell_type": "markdown",
   "id": "bb1be57c",
   "metadata": {
    "id": "b37c4094"
   },
   "source": [
    "## Learning Curves\n",
    "\n",
    "In the cells below, a function `plot_learning_curve` is used to plot the learning curve for our logistic regression model. The learning curve is useful to show how the model is trained over time as well as any convergence. It shows how the model learns incrementally and can be used as a diagnostic tool.\n",
    "\n",
    "This function and code was taken from the `sklearn` documentation on the sci-kit learn website on how to plot learning curves for ML models."
   ]
  },
  {
   "cell_type": "code",
   "execution_count": 31,
   "id": "ade78286",
   "metadata": {
    "colab": {
     "base_uri": "https://localhost:8080/",
     "height": 894
    },
    "executionInfo": {
     "elapsed": 11219,
     "status": "ok",
     "timestamp": 1640621658217,
     "user": {
      "displayName": "Yousef Mahmoud",
      "photoUrl": "https://lh3.googleusercontent.com/a/default-user=s64",
      "userId": "02029842566020735723"
     },
     "user_tz": -180
    },
    "id": "fca5e6c5",
    "outputId": "a63b7504-2349-433e-cbae-eaed2f6a16c9"
   },
   "outputs": [
    {
     "data": {
      "image/png": "[encoded data removed]",
      "text/plain": [
       "<Figure size 720x1080 with 3 Axes>"
      ]
     },
     "metadata": {
      "needs_background": "light"
     },
     "output_type": "display_data"
    }
   ],
   "source": [
    "def plot_learning_curve(\n",
    "    estimator,\n",
    "    title,\n",
    "    X,\n",
    "    y,\n",
    "    axes=None,\n",
    "    ylim=None,\n",
    "    cv=None,\n",
    "    n_jobs=None,\n",
    "    train_sizes=np.linspace(0.1, 1.0, 5),\n",
    "):\n",
    "    \"\"\"\n",
    "    Generate 3 plots: the test and training learning curve, the training\n",
    "    samples vs fit times curve, the fit times vs score curve.\n",
    "\n",
    "    Parameters\n",
    "    ----------\n",
    "    estimator : estimator instance\n",
    "        An estimator instance implementing `fit` and `predict` methods which\n",
    "        will be cloned for each validation.\n",
    "\n",
    "    title : str\n",
    "        Title for the chart.\n",
    "\n",
    "    X : array-like of shape (n_samples, n_features)\n",
    "        Training vector, where ``n_samples`` is the number of samples and\n",
    "        ``n_features`` is the number of features.\n",
    "\n",
    "    y : array-like of shape (n_samples) or (n_samples, n_features)\n",
    "        Target relative to ``X`` for classification or regression;\n",
    "        None for unsupervised learning.\n",
    "\n",
    "    axes : array-like of shape (3,), default=None\n",
    "        Axes to use for plotting the curves.\n",
    "\n",
    "    ylim : tuple of shape (2,), default=None\n",
    "        Defines minimum and maximum y-values plotted, e.g. (ymin, ymax).\n",
    "\n",
    "    cv : int, cross-validation generator or an iterable, default=None\n",
    "        Determines the cross-validation splitting strategy.\n",
    "        Possible inputs for cv are:\n",
    "\n",
    "          - None, to use the default 5-fold cross-validation,\n",
    "          - integer, to specify the number of folds.\n",
    "          - :term:`CV splitter`,\n",
    "          - An iterable yielding (train, test) splits as arrays of indices.\n",
    "\n",
    "        For integer/None inputs, if ``y`` is binary or multiclass,\n",
    "        :class:`StratifiedKFold` used. If the estimator is not a classifier\n",
    "        or if ``y`` is neither binary nor multiclass, :class:`KFold` is used.\n",
    "\n",
    "        Refer :ref:`User Guide <cross_validation>` for the various\n",
    "        cross-validators that can be used here.\n",
    "\n",
    "    n_jobs : int or None, default=None\n",
    "        Number of jobs to run in parallel.\n",
    "        ``None`` means 1 unless in a :obj:`joblib.parallel_backend` context.\n",
    "        ``-1`` means using all processors. See :term:`Glossary <n_jobs>`\n",
    "        for more details.\n",
    "\n",
    "    train_sizes : array-like of shape (n_ticks,)\n",
    "        Relative or absolute numbers of training examples that will be used to\n",
    "        generate the learning curve. If the ``dtype`` is float, it is regarded\n",
    "        as a fraction of the maximum size of the training set (that is\n",
    "        determined by the selected validation method), i.e. it has to be within\n",
    "        (0, 1]. Otherwise it is interpreted as absolute sizes of the training\n",
    "        sets. Note that for classification the number of samples usually have\n",
    "        to be big enough to contain at least one sample from each class.\n",
    "        (default: np.linspace(0.1, 1.0, 5))\n",
    "    \"\"\"\n",
    "    if axes is None:\n",
    "        _, axes = plt.subplots(1, 3, figsize=(20, 5))\n",
    "\n",
    "    axes[0].set_title(title)\n",
    "    if ylim is not None:\n",
    "        axes[0].set_ylim(*ylim)\n",
    "    axes[0].set_xlabel(\"Training examples\")\n",
    "    axes[0].set_ylabel(\"Score\")\n",
    "\n",
    "    train_sizes, train_scores, test_scores, fit_times, _ = learning_curve(\n",
    "        estimator,\n",
    "        X,\n",
    "        y,\n",
    "        cv=cv,\n",
    "        n_jobs=n_jobs,\n",
    "        train_sizes=train_sizes,\n",
    "        return_times=True,\n",
    "    )\n",
    "    train_scores_mean = np.mean(train_scores, axis=1)\n",
    "    train_scores_std = np.std(train_scores, axis=1)\n",
    "    test_scores_mean = np.mean(test_scores, axis=1)\n",
    "    test_scores_std = np.std(test_scores, axis=1)\n",
    "    fit_times_mean = np.mean(fit_times, axis=1)\n",
    "    fit_times_std = np.std(fit_times, axis=1)\n",
    "\n",
    "    # Plot learning curve\n",
    "    axes[0].grid()\n",
    "    axes[0].fill_between(\n",
    "        train_sizes,\n",
    "        train_scores_mean - train_scores_std,\n",
    "        train_scores_mean + train_scores_std,\n",
    "        alpha=0.1,\n",
    "        color=\"r\",\n",
    "    )\n",
    "    axes[0].fill_between(\n",
    "        train_sizes,\n",
    "        test_scores_mean - test_scores_std,\n",
    "        test_scores_mean + test_scores_std,\n",
    "        alpha=0.1,\n",
    "        color=\"g\",\n",
    "    )\n",
    "    axes[0].plot(\n",
    "        train_sizes, train_scores_mean, \"o-\", color=\"r\", label=\"Training score\"\n",
    "    )\n",
    "    axes[0].plot(\n",
    "        train_sizes, test_scores_mean, \"o-\", color=\"g\", label=\"Cross-validation score\"\n",
    "    )\n",
    "    axes[0].legend(loc=\"best\")\n",
    "\n",
    "    # Plot n_samples vs fit_times\n",
    "    axes[1].grid()\n",
    "    axes[1].plot(train_sizes, fit_times_mean, \"o-\")\n",
    "    axes[1].fill_between(\n",
    "        train_sizes,\n",
    "        fit_times_mean - fit_times_std,\n",
    "        fit_times_mean + fit_times_std,\n",
    "        alpha=0.1,\n",
    "    )\n",
    "    axes[1].set_xlabel(\"Training examples\")\n",
    "    axes[1].set_ylabel(\"fit_times\")\n",
    "    axes[1].set_title(\"Scalability of the model\")\n",
    "\n",
    "    # Plot fit_time vs score\n",
    "    axes[2].grid()\n",
    "    axes[2].plot(fit_times_mean, test_scores_mean, \"o-\")\n",
    "    axes[2].fill_between(\n",
    "        fit_times_mean,\n",
    "        test_scores_mean - test_scores_std,\n",
    "        test_scores_mean + test_scores_std,\n",
    "        alpha=0.1,\n",
    "    )\n",
    "    axes[2].set_xlabel(\"fit_times\")\n",
    "    axes[2].set_ylabel(\"Score\")\n",
    "    axes[2].set_title(\"Performance of the model\")\n",
    "\n",
    "    return plt\n",
    "\n",
    "\n",
    "xLearningCurve = np.concatenate([pca_xTrain, pca_xTest])\n",
    "yLearningCurve = np.concatenate([yTrain, yTest])\n",
    "\n",
    "fig, axes = plt.subplots(3, 1, figsize=(10, 15))\n",
    "\n",
    "title = r\"Learning Curves (Logistic Regression)\"\n",
    "cv = ShuffleSplit(n_splits=10, test_size=0.25, random_state=0)\n",
    "estimator = modelLogReg\n",
    "plot_learning_curve(\n",
    "    estimator, title, xLearningCurve, yLearningCurve, axes=axes, ylim=(0.7, 1.01), cv=cv, n_jobs=4\n",
    ")\n",
    "\n",
    "plt.show()"
   ]
  },
  {
   "cell_type": "markdown",
   "id": "83058e24",
   "metadata": {
    "id": "96fae7d6"
   },
   "source": [
    "### Hyperparameter Tuning using GridsearchCV\n",
    "\n",
    "The hyperparameters of our model cannot be directly learned and so this gridsearch function using `GridSearchCV` tries a combination of all the parameters from the parameter grid defined below and the best combination with the highest accuracy score is determined.\n",
    "\n",
    "This best combination of parameters is output along with the corresponding accuracy score to show our model after hyperparameter tuning. This model is then used to redo our predictions using `.predict()` to see how much the predictions had improved by. \n",
    "\n",
    "In the case of binary classification using logistic regression, we vary the C value, the penalty and the solver chosen."
   ]
  },
  {
   "cell_type": "code",
   "execution_count": 32,
   "id": "38672faa",
   "metadata": {
    "colab": {
     "base_uri": "https://localhost:8080/"
    },
    "executionInfo": {
     "elapsed": 567047,
     "status": "ok",
     "timestamp": 1640622225241,
     "user": {
      "displayName": "Yousef Mahmoud",
      "photoUrl": "https://lh3.googleusercontent.com/a/default-user=s64",
      "userId": "02029842566020735723"
     },
     "user_tz": -180
    },
    "id": "e4bd3622",
    "outputId": "ef74cf45-2dbf-4b81-95d1-20fca75a199b"
   },
   "outputs": [
    {
     "name": "stdout",
     "output_type": "stream",
     "text": [
      "Fitting 5 folds for each of 32 candidates, totalling 160 fits\n",
      "[CV 1/5] END ...C=0.1, penalty=l2, solver=lbfgs;, score=0.960 total time=   0.3s\n",
      "[CV 2/5] END ...C=0.1, penalty=l2, solver=lbfgs;, score=0.976 total time=   0.3s\n",
      "[CV 3/5] END ...C=0.1, penalty=l2, solver=lbfgs;, score=0.976 total time=   0.3s\n",
      "[CV 4/5] END ...C=0.1, penalty=l2, solver=lbfgs;, score=0.960 total time=   0.3s\n",
      "[CV 5/5] END ...C=0.1, penalty=l2, solver=lbfgs;, score=0.969 total time=   0.3s\n"
     ]
    },
    {
     "name": "stderr",
     "output_type": "stream",
     "text": [
      "/usr/local/lib/python3.7/dist-packages/sklearn/linear_model/_sag.py:354: ConvergenceWarning: The max_iter was reached which means the coef_ did not converge\n",
      "  ConvergenceWarning,\n"
     ]
    },
    {
     "name": "stdout",
     "output_type": "stream",
     "text": [
      "[CV 1/5] END .....C=0.1, penalty=l2, solver=sag;, score=0.749 total time=   6.2s\n"
     ]
    },
    {
     "name": "stderr",
     "output_type": "stream",
     "text": [
      "/usr/local/lib/python3.7/dist-packages/sklearn/linear_model/_sag.py:354: ConvergenceWarning: The max_iter was reached which means the coef_ did not converge\n",
      "  ConvergenceWarning,\n"
     ]
    },
    {
     "name": "stdout",
     "output_type": "stream",
     "text": [
      "[CV 2/5] END .....C=0.1, penalty=l2, solver=sag;, score=0.744 total time=   6.4s\n"
     ]
    },
    {
     "name": "stderr",
     "output_type": "stream",
     "text": [
      "/usr/local/lib/python3.7/dist-packages/sklearn/linear_model/_sag.py:354: ConvergenceWarning: The max_iter was reached which means the coef_ did not converge\n",
      "  ConvergenceWarning,\n"
     ]
    },
    {
     "name": "stdout",
     "output_type": "stream",
     "text": [
      "[CV 3/5] END .....C=0.1, penalty=l2, solver=sag;, score=0.731 total time=   6.3s\n"
     ]
    },
    {
     "name": "stderr",
     "output_type": "stream",
     "text": [
      "/usr/local/lib/python3.7/dist-packages/sklearn/linear_model/_sag.py:354: ConvergenceWarning: The max_iter was reached which means the coef_ did not converge\n",
      "  ConvergenceWarning,\n"
     ]
    },
    {
     "name": "stdout",
     "output_type": "stream",
     "text": [
      "[CV 4/5] END .....C=0.1, penalty=l2, solver=sag;, score=0.758 total time=   6.3s\n"
     ]
    },
    {
     "name": "stderr",
     "output_type": "stream",
     "text": [
      "/usr/local/lib/python3.7/dist-packages/sklearn/linear_model/_sag.py:354: ConvergenceWarning: The max_iter was reached which means the coef_ did not converge\n",
      "  ConvergenceWarning,\n"
     ]
    },
    {
     "name": "stdout",
     "output_type": "stream",
     "text": [
      "[CV 5/5] END .....C=0.1, penalty=l2, solver=sag;, score=0.749 total time=   6.2s\n"
     ]
    },
    {
     "name": "stderr",
     "output_type": "stream",
     "text": [
      "/usr/local/lib/python3.7/dist-packages/sklearn/linear_model/_sag.py:354: ConvergenceWarning: The max_iter was reached which means the coef_ did not converge\n",
      "  ConvergenceWarning,\n"
     ]
    },
    {
     "name": "stdout",
     "output_type": "stream",
     "text": [
      "[CV 1/5] END ....C=0.1, penalty=l2, solver=saga;, score=0.753 total time=   7.1s\n"
     ]
    },
    {
     "name": "stderr",
     "output_type": "stream",
     "text": [
      "/usr/local/lib/python3.7/dist-packages/sklearn/linear_model/_sag.py:354: ConvergenceWarning: The max_iter was reached which means the coef_ did not converge\n",
      "  ConvergenceWarning,\n"
     ]
    },
    {
     "name": "stdout",
     "output_type": "stream",
     "text": [
      "[CV 2/5] END ....C=0.1, penalty=l2, solver=saga;, score=0.751 total time=   7.1s\n"
     ]
    },
    {
     "name": "stderr",
     "output_type": "stream",
     "text": [
      "/usr/local/lib/python3.7/dist-packages/sklearn/linear_model/_sag.py:354: ConvergenceWarning: The max_iter was reached which means the coef_ did not converge\n",
      "  ConvergenceWarning,\n"
     ]
    },
    {
     "name": "stdout",
     "output_type": "stream",
     "text": [
      "[CV 3/5] END ....C=0.1, penalty=l2, solver=saga;, score=0.727 total time=   7.2s\n"
     ]
    },
    {
     "name": "stderr",
     "output_type": "stream",
     "text": [
      "/usr/local/lib/python3.7/dist-packages/sklearn/linear_model/_sag.py:354: ConvergenceWarning: The max_iter was reached which means the coef_ did not converge\n",
      "  ConvergenceWarning,\n"
     ]
    },
    {
     "name": "stdout",
     "output_type": "stream",
     "text": [
      "[CV 4/5] END ....C=0.1, penalty=l2, solver=saga;, score=0.758 total time=   7.0s\n"
     ]
    },
    {
     "name": "stderr",
     "output_type": "stream",
     "text": [
      "/usr/local/lib/python3.7/dist-packages/sklearn/linear_model/_sag.py:354: ConvergenceWarning: The max_iter was reached which means the coef_ did not converge\n",
      "  ConvergenceWarning,\n"
     ]
    },
    {
     "name": "stdout",
     "output_type": "stream",
     "text": [
      "[CV 5/5] END ....C=0.1, penalty=l2, solver=saga;, score=0.747 total time=   7.1s\n",
      "[CV 1/5] END C=0.1, penalty=l2, solver=newton-cg;, score=0.960 total time=   0.8s\n",
      "[CV 2/5] END C=0.1, penalty=l2, solver=newton-cg;, score=0.976 total time=   0.8s\n",
      "[CV 3/5] END C=0.1, penalty=l2, solver=newton-cg;, score=0.976 total time=   0.9s\n",
      "[CV 4/5] END C=0.1, penalty=l2, solver=newton-cg;, score=0.960 total time=   0.9s\n",
      "[CV 5/5] END C=0.1, penalty=l2, solver=newton-cg;, score=0.969 total time=   0.8s\n",
      "[CV 1/5] END .C=0.1, penalty=none, solver=lbfgs;, score=0.733 total time=   0.1s\n",
      "[CV 2/5] END .C=0.1, penalty=none, solver=lbfgs;, score=0.729 total time=   0.1s\n",
      "[CV 3/5] END .C=0.1, penalty=none, solver=lbfgs;, score=0.729 total time=   0.1s"
     ]
    },
    {
     "name": "stderr",
     "output_type": "stream",
     "text": [
      "/usr/local/lib/python3.7/dist-packages/sklearn/linear_model/_logistic.py:1484: UserWarning: Setting penalty='none' will ignore the C and l1_ratio parameters\n",
      "  \"Setting penalty='none' will ignore the C and l1_ratio parameters\"\n",
      "/usr/local/lib/python3.7/dist-packages/sklearn/linear_model/_logistic.py:1484: UserWarning: Setting penalty='none' will ignore the C and l1_ratio parameters\n",
      "  \"Setting penalty='none' will ignore the C and l1_ratio parameters\"\n",
      "/usr/local/lib/python3.7/dist-packages/sklearn/linear_model/_logistic.py:1484: UserWarning: Setting penalty='none' will ignore the C and l1_ratio parameters\n",
      "  \"Setting penalty='none' will ignore the C and l1_ratio parameters\"\n",
      "/usr/local/lib/python3.7/dist-packages/sklearn/linear_model/_logistic.py:1484: UserWarning: Setting penalty='none' will ignore the C and l1_ratio parameters\n",
      "  \"Setting penalty='none' will ignore the C and l1_ratio parameters\"\n"
     ]
    },
    {
     "name": "stdout",
     "output_type": "stream",
     "text": [
      "\n",
      "[CV 4/5] END .C=0.1, penalty=none, solver=lbfgs;, score=0.731 total time=   0.1s\n",
      "[CV 5/5] END .C=0.1, penalty=none, solver=lbfgs;, score=0.738 total time=   0.1s\n"
     ]
    },
    {
     "name": "stderr",
     "output_type": "stream",
     "text": [
      "/usr/local/lib/python3.7/dist-packages/sklearn/linear_model/_logistic.py:1484: UserWarning: Setting penalty='none' will ignore the C and l1_ratio parameters\n",
      "  \"Setting penalty='none' will ignore the C and l1_ratio parameters\"\n",
      "/usr/local/lib/python3.7/dist-packages/sklearn/linear_model/_logistic.py:1484: UserWarning: Setting penalty='none' will ignore the C and l1_ratio parameters\n",
      "  \"Setting penalty='none' will ignore the C and l1_ratio parameters\"\n",
      "/usr/local/lib/python3.7/dist-packages/sklearn/linear_model/_sag.py:354: ConvergenceWarning: The max_iter was reached which means the coef_ did not converge\n",
      "  ConvergenceWarning,\n",
      "/usr/local/lib/python3.7/dist-packages/sklearn/linear_model/_logistic.py:1484: UserWarning: Setting penalty='none' will ignore the C and l1_ratio parameters\n",
      "  \"Setting penalty='none' will ignore the C and l1_ratio parameters\"\n"
     ]
    },
    {
     "name": "stdout",
     "output_type": "stream",
     "text": [
      "[CV 1/5] END ...C=0.1, penalty=none, solver=sag;, score=0.747 total time=   6.1s\n"
     ]
    },
    {
     "name": "stderr",
     "output_type": "stream",
     "text": [
      "/usr/local/lib/python3.7/dist-packages/sklearn/linear_model/_sag.py:354: ConvergenceWarning: The max_iter was reached which means the coef_ did not converge\n",
      "  ConvergenceWarning,\n",
      "/usr/local/lib/python3.7/dist-packages/sklearn/linear_model/_logistic.py:1484: UserWarning: Setting penalty='none' will ignore the C and l1_ratio parameters\n",
      "  \"Setting penalty='none' will ignore the C and l1_ratio parameters\"\n"
     ]
    },
    {
     "name": "stdout",
     "output_type": "stream",
     "text": [
      "[CV 2/5] END ...C=0.1, penalty=none, solver=sag;, score=0.740 total time=   6.2s\n"
     ]
    },
    {
     "name": "stderr",
     "output_type": "stream",
     "text": [
      "/usr/local/lib/python3.7/dist-packages/sklearn/linear_model/_sag.py:354: ConvergenceWarning: The max_iter was reached which means the coef_ did not converge\n",
      "  ConvergenceWarning,\n",
      "/usr/local/lib/python3.7/dist-packages/sklearn/linear_model/_logistic.py:1484: UserWarning: Setting penalty='none' will ignore the C and l1_ratio parameters\n",
      "  \"Setting penalty='none' will ignore the C and l1_ratio parameters\"\n"
     ]
    },
    {
     "name": "stdout",
     "output_type": "stream",
     "text": [
      "[CV 3/5] END ...C=0.1, penalty=none, solver=sag;, score=0.729 total time=   6.2s\n"
     ]
    },
    {
     "name": "stderr",
     "output_type": "stream",
     "text": [
      "/usr/local/lib/python3.7/dist-packages/sklearn/linear_model/_sag.py:354: ConvergenceWarning: The max_iter was reached which means the coef_ did not converge\n",
      "  ConvergenceWarning,\n",
      "/usr/local/lib/python3.7/dist-packages/sklearn/linear_model/_logistic.py:1484: UserWarning: Setting penalty='none' will ignore the C and l1_ratio parameters\n",
      "  \"Setting penalty='none' will ignore the C and l1_ratio parameters\"\n"
     ]
    },
    {
     "name": "stdout",
     "output_type": "stream",
     "text": [
      "[CV 4/5] END ...C=0.1, penalty=none, solver=sag;, score=0.758 total time=   6.1s\n"
     ]
    },
    {
     "name": "stderr",
     "output_type": "stream",
     "text": [
      "/usr/local/lib/python3.7/dist-packages/sklearn/linear_model/_sag.py:354: ConvergenceWarning: The max_iter was reached which means the coef_ did not converge\n",
      "  ConvergenceWarning,\n",
      "/usr/local/lib/python3.7/dist-packages/sklearn/linear_model/_logistic.py:1484: UserWarning: Setting penalty='none' will ignore the C and l1_ratio parameters\n",
      "  \"Setting penalty='none' will ignore the C and l1_ratio parameters\"\n"
     ]
    },
    {
     "name": "stdout",
     "output_type": "stream",
     "text": [
      "[CV 5/5] END ...C=0.1, penalty=none, solver=sag;, score=0.749 total time=   6.1s\n"
     ]
    },
    {
     "name": "stderr",
     "output_type": "stream",
     "text": [
      "/usr/local/lib/python3.7/dist-packages/sklearn/linear_model/_sag.py:354: ConvergenceWarning: The max_iter was reached which means the coef_ did not converge\n",
      "  ConvergenceWarning,\n",
      "/usr/local/lib/python3.7/dist-packages/sklearn/linear_model/_logistic.py:1484: UserWarning: Setting penalty='none' will ignore the C and l1_ratio parameters\n",
      "  \"Setting penalty='none' will ignore the C and l1_ratio parameters\"\n"
     ]
    },
    {
     "name": "stdout",
     "output_type": "stream",
     "text": [
      "[CV 1/5] END ..C=0.1, penalty=none, solver=saga;, score=0.751 total time=   7.1s\n"
     ]
    },
    {
     "name": "stderr",
     "output_type": "stream",
     "text": [
      "/usr/local/lib/python3.7/dist-packages/sklearn/linear_model/_sag.py:354: ConvergenceWarning: The max_iter was reached which means the coef_ did not converge\n",
      "  ConvergenceWarning,\n",
      "/usr/local/lib/python3.7/dist-packages/sklearn/linear_model/_logistic.py:1484: UserWarning: Setting penalty='none' will ignore the C and l1_ratio parameters\n",
      "  \"Setting penalty='none' will ignore the C and l1_ratio parameters\"\n"
     ]
    },
    {
     "name": "stdout",
     "output_type": "stream",
     "text": [
      "[CV 2/5] END ..C=0.1, penalty=none, solver=saga;, score=0.751 total time=   7.1s\n"
     ]
    },
    {
     "name": "stderr",
     "output_type": "stream",
     "text": [
      "/usr/local/lib/python3.7/dist-packages/sklearn/linear_model/_sag.py:354: ConvergenceWarning: The max_iter was reached which means the coef_ did not converge\n",
      "  ConvergenceWarning,\n",
      "/usr/local/lib/python3.7/dist-packages/sklearn/linear_model/_logistic.py:1484: UserWarning: Setting penalty='none' will ignore the C and l1_ratio parameters\n",
      "  \"Setting penalty='none' will ignore the C and l1_ratio parameters\"\n"
     ]
    },
    {
     "name": "stdout",
     "output_type": "stream",
     "text": [
      "[CV 3/5] END ..C=0.1, penalty=none, solver=saga;, score=0.727 total time=   7.1s\n"
     ]
    },
    {
     "name": "stderr",
     "output_type": "stream",
     "text": [
      "/usr/local/lib/python3.7/dist-packages/sklearn/linear_model/_sag.py:354: ConvergenceWarning: The max_iter was reached which means the coef_ did not converge\n",
      "  ConvergenceWarning,\n",
      "/usr/local/lib/python3.7/dist-packages/sklearn/linear_model/_logistic.py:1484: UserWarning: Setting penalty='none' will ignore the C and l1_ratio parameters\n",
      "  \"Setting penalty='none' will ignore the C and l1_ratio parameters\"\n"
     ]
    },
    {
     "name": "stdout",
     "output_type": "stream",
     "text": [
      "[CV 4/5] END ..C=0.1, penalty=none, solver=saga;, score=0.758 total time=   7.0s\n"
     ]
    },
    {
     "name": "stderr",
     "output_type": "stream",
     "text": [
      "/usr/local/lib/python3.7/dist-packages/sklearn/linear_model/_sag.py:354: ConvergenceWarning: The max_iter was reached which means the coef_ did not converge\n",
      "  ConvergenceWarning,\n",
      "/usr/local/lib/python3.7/dist-packages/sklearn/linear_model/_logistic.py:1484: UserWarning: Setting penalty='none' will ignore the C and l1_ratio parameters\n",
      "  \"Setting penalty='none' will ignore the C and l1_ratio parameters\"\n"
     ]
    },
    {
     "name": "stdout",
     "output_type": "stream",
     "text": [
      "[CV 5/5] END ..C=0.1, penalty=none, solver=saga;, score=0.747 total time=   7.1s\n",
      "[CV 1/5] END C=0.1, penalty=none, solver=newton-cg;, score=0.736 total time=   0.4s\n"
     ]
    },
    {
     "name": "stderr",
     "output_type": "stream",
     "text": [
      "/usr/local/lib/python3.7/dist-packages/sklearn/linear_model/_logistic.py:1484: UserWarning: Setting penalty='none' will ignore the C and l1_ratio parameters\n",
      "  \"Setting penalty='none' will ignore the C and l1_ratio parameters\"\n"
     ]
    },
    {
     "name": "stdout",
     "output_type": "stream",
     "text": [
      "[CV 2/5] END C=0.1, penalty=none, solver=newton-cg;, score=0.729 total time=   0.4s\n"
     ]
    },
    {
     "name": "stderr",
     "output_type": "stream",
     "text": [
      "/usr/local/lib/python3.7/dist-packages/sklearn/linear_model/_logistic.py:1484: UserWarning: Setting penalty='none' will ignore the C and l1_ratio parameters\n",
      "  \"Setting penalty='none' will ignore the C and l1_ratio parameters\"\n"
     ]
    },
    {
     "name": "stdout",
     "output_type": "stream",
     "text": [
      "[CV 3/5] END C=0.1, penalty=none, solver=newton-cg;, score=0.722 total time=   0.4s\n"
     ]
    },
    {
     "name": "stderr",
     "output_type": "stream",
     "text": [
      "/usr/local/lib/python3.7/dist-packages/sklearn/linear_model/_logistic.py:1484: UserWarning: Setting penalty='none' will ignore the C and l1_ratio parameters\n",
      "  \"Setting penalty='none' will ignore the C and l1_ratio parameters\"\n"
     ]
    },
    {
     "name": "stdout",
     "output_type": "stream",
     "text": [
      "[CV 4/5] END C=0.1, penalty=none, solver=newton-cg;, score=0.747 total time=   0.5s\n"
     ]
    },
    {
     "name": "stderr",
     "output_type": "stream",
     "text": [
      "/usr/local/lib/python3.7/dist-packages/sklearn/linear_model/_logistic.py:1484: UserWarning: Setting penalty='none' will ignore the C and l1_ratio parameters\n",
      "  \"Setting penalty='none' will ignore the C and l1_ratio parameters\"\n"
     ]
    },
    {
     "name": "stdout",
     "output_type": "stream",
     "text": [
      "[CV 5/5] END C=0.1, penalty=none, solver=newton-cg;, score=0.749 total time=   0.4s\n",
      "[CV 1/5] END .....C=1, penalty=l2, solver=lbfgs;, score=0.958 total time=   0.4s\n",
      "[CV 2/5] END .....C=1, penalty=l2, solver=lbfgs;, score=0.976 total time=   0.4s\n",
      "[CV 3/5] END .....C=1, penalty=l2, solver=lbfgs;, score=0.976 total time=   0.4s\n",
      "[CV 4/5] END .....C=1, penalty=l2, solver=lbfgs;, score=0.960 total time=   0.4s\n"
     ]
    },
    {
     "name": "stderr",
     "output_type": "stream",
     "text": [
      "/usr/local/lib/python3.7/dist-packages/sklearn/linear_model/_logistic.py:818: ConvergenceWarning: lbfgs failed to converge (status=1):\n",
      "STOP: TOTAL NO. of ITERATIONS REACHED LIMIT.\n",
      "\n",
      "Increase the number of iterations (max_iter) or scale the data as shown in:\n",
      "    https://scikit-learn.org/stable/modules/preprocessing.html\n",
      "Please also refer to the documentation for alternative solver options:\n",
      "    https://scikit-learn.org/stable/modules/linear_model.html#logistic-regression\n",
      "  extra_warning_msg=_LOGISTIC_SOLVER_CONVERGENCE_MSG,\n"
     ]
    },
    {
     "name": "stdout",
     "output_type": "stream",
     "text": [
      "[CV 5/5] END .....C=1, penalty=l2, solver=lbfgs;, score=0.969 total time=   0.4s\n"
     ]
    },
    {
     "name": "stderr",
     "output_type": "stream",
     "text": [
      "/usr/local/lib/python3.7/dist-packages/sklearn/linear_model/_sag.py:354: ConvergenceWarning: The max_iter was reached which means the coef_ did not converge\n",
      "  ConvergenceWarning,\n"
     ]
    },
    {
     "name": "stdout",
     "output_type": "stream",
     "text": [
      "[CV 1/5] END .......C=1, penalty=l2, solver=sag;, score=0.747 total time=   6.2s\n"
     ]
    },
    {
     "name": "stderr",
     "output_type": "stream",
     "text": [
      "/usr/local/lib/python3.7/dist-packages/sklearn/linear_model/_sag.py:354: ConvergenceWarning: The max_iter was reached which means the coef_ did not converge\n",
      "  ConvergenceWarning,\n"
     ]
    },
    {
     "name": "stdout",
     "output_type": "stream",
     "text": [
      "[CV 2/5] END .......C=1, penalty=l2, solver=sag;, score=0.740 total time=   6.1s\n"
     ]
    },
    {
     "name": "stderr",
     "output_type": "stream",
     "text": [
      "/usr/local/lib/python3.7/dist-packages/sklearn/linear_model/_sag.py:354: ConvergenceWarning: The max_iter was reached which means the coef_ did not converge\n",
      "  ConvergenceWarning,\n"
     ]
    },
    {
     "name": "stdout",
     "output_type": "stream",
     "text": [
      "[CV 3/5] END .......C=1, penalty=l2, solver=sag;, score=0.729 total time=   6.1s\n"
     ]
    },
    {
     "name": "stderr",
     "output_type": "stream",
     "text": [
      "/usr/local/lib/python3.7/dist-packages/sklearn/linear_model/_sag.py:354: ConvergenceWarning: The max_iter was reached which means the coef_ did not converge\n",
      "  ConvergenceWarning,\n"
     ]
    },
    {
     "name": "stdout",
     "output_type": "stream",
     "text": [
      "[CV 4/5] END .......C=1, penalty=l2, solver=sag;, score=0.758 total time=   6.2s\n"
     ]
    },
    {
     "name": "stderr",
     "output_type": "stream",
     "text": [
      "/usr/local/lib/python3.7/dist-packages/sklearn/linear_model/_sag.py:354: ConvergenceWarning: The max_iter was reached which means the coef_ did not converge\n",
      "  ConvergenceWarning,\n"
     ]
    },
    {
     "name": "stdout",
     "output_type": "stream",
     "text": [
      "[CV 5/5] END .......C=1, penalty=l2, solver=sag;, score=0.749 total time=   6.2s\n"
     ]
    },
    {
     "name": "stderr",
     "output_type": "stream",
     "text": [
      "/usr/local/lib/python3.7/dist-packages/sklearn/linear_model/_sag.py:354: ConvergenceWarning: The max_iter was reached which means the coef_ did not converge\n",
      "  ConvergenceWarning,\n"
     ]
    },
    {
     "name": "stdout",
     "output_type": "stream",
     "text": [
      "[CV 1/5] END ......C=1, penalty=l2, solver=saga;, score=0.753 total time=   7.2s\n"
     ]
    },
    {
     "name": "stderr",
     "output_type": "stream",
     "text": [
      "/usr/local/lib/python3.7/dist-packages/sklearn/linear_model/_sag.py:354: ConvergenceWarning: The max_iter was reached which means the coef_ did not converge\n",
      "  ConvergenceWarning,\n"
     ]
    },
    {
     "name": "stdout",
     "output_type": "stream",
     "text": [
      "[CV 2/5] END ......C=1, penalty=l2, solver=saga;, score=0.751 total time=   7.2s\n"
     ]
    },
    {
     "name": "stderr",
     "output_type": "stream",
     "text": [
      "/usr/local/lib/python3.7/dist-packages/sklearn/linear_model/_sag.py:354: ConvergenceWarning: The max_iter was reached which means the coef_ did not converge\n",
      "  ConvergenceWarning,\n"
     ]
    },
    {
     "name": "stdout",
     "output_type": "stream",
     "text": [
      "[CV 3/5] END ......C=1, penalty=l2, solver=saga;, score=0.727 total time=   7.1s\n"
     ]
    },
    {
     "name": "stderr",
     "output_type": "stream",
     "text": [
      "/usr/local/lib/python3.7/dist-packages/sklearn/linear_model/_sag.py:354: ConvergenceWarning: The max_iter was reached which means the coef_ did not converge\n",
      "  ConvergenceWarning,\n"
     ]
    },
    {
     "name": "stdout",
     "output_type": "stream",
     "text": [
      "[CV 4/5] END ......C=1, penalty=l2, solver=saga;, score=0.758 total time=   7.1s\n"
     ]
    },
    {
     "name": "stderr",
     "output_type": "stream",
     "text": [
      "/usr/local/lib/python3.7/dist-packages/sklearn/linear_model/_sag.py:354: ConvergenceWarning: The max_iter was reached which means the coef_ did not converge\n",
      "  ConvergenceWarning,\n"
     ]
    },
    {
     "name": "stdout",
     "output_type": "stream",
     "text": [
      "[CV 5/5] END ......C=1, penalty=l2, solver=saga;, score=0.747 total time=   7.1s\n",
      "[CV 1/5] END .C=1, penalty=l2, solver=newton-cg;, score=0.958 total time=   0.9s\n",
      "[CV 2/5] END .C=1, penalty=l2, solver=newton-cg;, score=0.976 total time=   0.9s\n",
      "[CV 3/5] END .C=1, penalty=l2, solver=newton-cg;, score=0.976 total time=   1.0s\n",
      "[CV 4/5] END .C=1, penalty=l2, solver=newton-cg;, score=0.962 total time=   1.0s\n",
      "[CV 5/5] END .C=1, penalty=l2, solver=newton-cg;, score=0.969 total time=   0.8s\n",
      "[CV 1/5] END ...C=1, penalty=none, solver=lbfgs;, score=0.733 total time=   0.1s\n",
      "[CV 2/5] END ...C=1, penalty=none, solver=lbfgs;, score=0.729 total time=   0.1s\n",
      "[CV 3/5] END ...C=1, penalty=none, solver=lbfgs;, score=0.729 total time=   0.1s\n",
      "[CV 4/5] END ...C=1, penalty=none, solver=lbfgs;, score=0.731 total time=   0.1s\n",
      "[CV 5/5] END ...C=1, penalty=none, solver=lbfgs;, score=0.738 total time=   0.1s\n"
     ]
    },
    {
     "name": "stderr",
     "output_type": "stream",
     "text": [
      "/usr/local/lib/python3.7/dist-packages/sklearn/linear_model/_sag.py:354: ConvergenceWarning: The max_iter was reached which means the coef_ did not converge\n",
      "  ConvergenceWarning,\n"
     ]
    },
    {
     "name": "stdout",
     "output_type": "stream",
     "text": [
      "[CV 1/5] END .....C=1, penalty=none, solver=sag;, score=0.747 total time=   6.0s\n"
     ]
    },
    {
     "name": "stderr",
     "output_type": "stream",
     "text": [
      "/usr/local/lib/python3.7/dist-packages/sklearn/linear_model/_sag.py:354: ConvergenceWarning: The max_iter was reached which means the coef_ did not converge\n",
      "  ConvergenceWarning,\n"
     ]
    },
    {
     "name": "stdout",
     "output_type": "stream",
     "text": [
      "[CV 2/5] END .....C=1, penalty=none, solver=sag;, score=0.740 total time=   6.0s\n"
     ]
    },
    {
     "name": "stderr",
     "output_type": "stream",
     "text": [
      "/usr/local/lib/python3.7/dist-packages/sklearn/linear_model/_sag.py:354: ConvergenceWarning: The max_iter was reached which means the coef_ did not converge\n",
      "  ConvergenceWarning,\n"
     ]
    },
    {
     "name": "stdout",
     "output_type": "stream",
     "text": [
      "[CV 3/5] END .....C=1, penalty=none, solver=sag;, score=0.729 total time=   6.1s\n"
     ]
    },
    {
     "name": "stderr",
     "output_type": "stream",
     "text": [
      "/usr/local/lib/python3.7/dist-packages/sklearn/linear_model/_sag.py:354: ConvergenceWarning: The max_iter was reached which means the coef_ did not converge\n",
      "  ConvergenceWarning,\n"
     ]
    },
    {
     "name": "stdout",
     "output_type": "stream",
     "text": [
      "[CV 4/5] END .....C=1, penalty=none, solver=sag;, score=0.758 total time=   6.1s\n"
     ]
    },
    {
     "name": "stderr",
     "output_type": "stream",
     "text": [
      "/usr/local/lib/python3.7/dist-packages/sklearn/linear_model/_sag.py:354: ConvergenceWarning: The max_iter was reached which means the coef_ did not converge\n",
      "  ConvergenceWarning,\n"
     ]
    },
    {
     "name": "stdout",
     "output_type": "stream",
     "text": [
      "[CV 5/5] END .....C=1, penalty=none, solver=sag;, score=0.749 total time=   6.1s\n"
     ]
    },
    {
     "name": "stderr",
     "output_type": "stream",
     "text": [
      "/usr/local/lib/python3.7/dist-packages/sklearn/linear_model/_sag.py:354: ConvergenceWarning: The max_iter was reached which means the coef_ did not converge\n",
      "  ConvergenceWarning,\n"
     ]
    },
    {
     "name": "stdout",
     "output_type": "stream",
     "text": [
      "[CV 1/5] END ....C=1, penalty=none, solver=saga;, score=0.751 total time=   7.1s\n"
     ]
    },
    {
     "name": "stderr",
     "output_type": "stream",
     "text": [
      "/usr/local/lib/python3.7/dist-packages/sklearn/linear_model/_sag.py:354: ConvergenceWarning: The max_iter was reached which means the coef_ did not converge\n",
      "  ConvergenceWarning,\n"
     ]
    },
    {
     "name": "stdout",
     "output_type": "stream",
     "text": [
      "[CV 2/5] END ....C=1, penalty=none, solver=saga;, score=0.751 total time=   7.1s\n"
     ]
    },
    {
     "name": "stderr",
     "output_type": "stream",
     "text": [
      "/usr/local/lib/python3.7/dist-packages/sklearn/linear_model/_sag.py:354: ConvergenceWarning: The max_iter was reached which means the coef_ did not converge\n",
      "  ConvergenceWarning,\n"
     ]
    },
    {
     "name": "stdout",
     "output_type": "stream",
     "text": [
      "[CV 3/5] END ....C=1, penalty=none, solver=saga;, score=0.727 total time=   7.0s\n"
     ]
    },
    {
     "name": "stderr",
     "output_type": "stream",
     "text": [
      "/usr/local/lib/python3.7/dist-packages/sklearn/linear_model/_sag.py:354: ConvergenceWarning: The max_iter was reached which means the coef_ did not converge\n",
      "  ConvergenceWarning,\n"
     ]
    },
    {
     "name": "stdout",
     "output_type": "stream",
     "text": [
      "[CV 4/5] END ....C=1, penalty=none, solver=saga;, score=0.758 total time=   7.0s\n"
     ]
    },
    {
     "name": "stderr",
     "output_type": "stream",
     "text": [
      "/usr/local/lib/python3.7/dist-packages/sklearn/linear_model/_sag.py:354: ConvergenceWarning: The max_iter was reached which means the coef_ did not converge\n",
      "  ConvergenceWarning,\n"
     ]
    },
    {
     "name": "stdout",
     "output_type": "stream",
     "text": [
      "[CV 5/5] END ....C=1, penalty=none, solver=saga;, score=0.747 total time=   7.1s\n",
      "[CV 1/5] END C=1, penalty=none, solver=newton-cg;, score=0.736 total time=   0.4s\n",
      "[CV 2/5] END C=1, penalty=none, solver=newton-cg;, score=0.729 total time=   0.4s\n",
      "[CV 3/5] END C=1, penalty=none, solver=newton-cg;, score=0.722 total time=   0.4s\n",
      "[CV 4/5] END C=1, penalty=none, solver=newton-cg;, score=0.747 total time=   0.5s\n",
      "[CV 5/5] END C=1, penalty=none, solver=newton-cg;, score=0.749 total time=   0.4s\n"
     ]
    },
    {
     "name": "stderr",
     "output_type": "stream",
     "text": [
      "/usr/local/lib/python3.7/dist-packages/sklearn/linear_model/_logistic.py:818: ConvergenceWarning: lbfgs failed to converge (status=1):\n",
      "STOP: TOTAL NO. of ITERATIONS REACHED LIMIT.\n",
      "\n",
      "Increase the number of iterations (max_iter) or scale the data as shown in:\n",
      "    https://scikit-learn.org/stable/modules/preprocessing.html\n",
      "Please also refer to the documentation for alternative solver options:\n",
      "    https://scikit-learn.org/stable/modules/linear_model.html#logistic-regression\n",
      "  extra_warning_msg=_LOGISTIC_SOLVER_CONVERGENCE_MSG,\n"
     ]
    },
    {
     "name": "stdout",
     "output_type": "stream",
     "text": [
      "[CV 1/5] END ....C=10, penalty=l2, solver=lbfgs;, score=0.958 total time=   0.4s\n"
     ]
    },
    {
     "name": "stderr",
     "output_type": "stream",
     "text": [
      "/usr/local/lib/python3.7/dist-packages/sklearn/linear_model/_logistic.py:818: ConvergenceWarning: lbfgs failed to converge (status=1):\n",
      "STOP: TOTAL NO. of ITERATIONS REACHED LIMIT.\n",
      "\n",
      "Increase the number of iterations (max_iter) or scale the data as shown in:\n",
      "    https://scikit-learn.org/stable/modules/preprocessing.html\n",
      "Please also refer to the documentation for alternative solver options:\n",
      "    https://scikit-learn.org/stable/modules/linear_model.html#logistic-regression\n",
      "  extra_warning_msg=_LOGISTIC_SOLVER_CONVERGENCE_MSG,\n"
     ]
    },
    {
     "name": "stdout",
     "output_type": "stream",
     "text": [
      "[CV 2/5] END ....C=10, penalty=l2, solver=lbfgs;, score=0.973 total time=   0.4s\n"
     ]
    },
    {
     "name": "stderr",
     "output_type": "stream",
     "text": [
      "/usr/local/lib/python3.7/dist-packages/sklearn/linear_model/_logistic.py:818: ConvergenceWarning: lbfgs failed to converge (status=1):\n",
      "STOP: TOTAL NO. of ITERATIONS REACHED LIMIT.\n",
      "\n",
      "Increase the number of iterations (max_iter) or scale the data as shown in:\n",
      "    https://scikit-learn.org/stable/modules/preprocessing.html\n",
      "Please also refer to the documentation for alternative solver options:\n",
      "    https://scikit-learn.org/stable/modules/linear_model.html#logistic-regression\n",
      "  extra_warning_msg=_LOGISTIC_SOLVER_CONVERGENCE_MSG,\n"
     ]
    },
    {
     "name": "stdout",
     "output_type": "stream",
     "text": [
      "[CV 3/5] END ....C=10, penalty=l2, solver=lbfgs;, score=0.976 total time=   0.4s\n",
      "[CV 4/5] END ....C=10, penalty=l2, solver=lbfgs;, score=0.962 total time=   0.4s\n",
      "[CV 5/5] END ....C=10, penalty=l2, solver=lbfgs;, score=0.969 total time=   0.4s\n"
     ]
    },
    {
     "name": "stderr",
     "output_type": "stream",
     "text": [
      "/usr/local/lib/python3.7/dist-packages/sklearn/linear_model/_sag.py:354: ConvergenceWarning: The max_iter was reached which means the coef_ did not converge\n",
      "  ConvergenceWarning,\n"
     ]
    },
    {
     "name": "stdout",
     "output_type": "stream",
     "text": [
      "[CV 1/5] END ......C=10, penalty=l2, solver=sag;, score=0.747 total time=   6.1s\n"
     ]
    },
    {
     "name": "stderr",
     "output_type": "stream",
     "text": [
      "/usr/local/lib/python3.7/dist-packages/sklearn/linear_model/_sag.py:354: ConvergenceWarning: The max_iter was reached which means the coef_ did not converge\n",
      "  ConvergenceWarning,\n"
     ]
    },
    {
     "name": "stdout",
     "output_type": "stream",
     "text": [
      "[CV 2/5] END ......C=10, penalty=l2, solver=sag;, score=0.740 total time=   6.1s\n"
     ]
    },
    {
     "name": "stderr",
     "output_type": "stream",
     "text": [
      "/usr/local/lib/python3.7/dist-packages/sklearn/linear_model/_sag.py:354: ConvergenceWarning: The max_iter was reached which means the coef_ did not converge\n",
      "  ConvergenceWarning,\n"
     ]
    },
    {
     "name": "stdout",
     "output_type": "stream",
     "text": [
      "[CV 3/5] END ......C=10, penalty=l2, solver=sag;, score=0.729 total time=   6.1s\n"
     ]
    },
    {
     "name": "stderr",
     "output_type": "stream",
     "text": [
      "/usr/local/lib/python3.7/dist-packages/sklearn/linear_model/_sag.py:354: ConvergenceWarning: The max_iter was reached which means the coef_ did not converge\n",
      "  ConvergenceWarning,\n"
     ]
    },
    {
     "name": "stdout",
     "output_type": "stream",
     "text": [
      "[CV 4/5] END ......C=10, penalty=l2, solver=sag;, score=0.758 total time=   6.1s\n"
     ]
    },
    {
     "name": "stderr",
     "output_type": "stream",
     "text": [
      "/usr/local/lib/python3.7/dist-packages/sklearn/linear_model/_sag.py:354: ConvergenceWarning: The max_iter was reached which means the coef_ did not converge\n",
      "  ConvergenceWarning,\n"
     ]
    },
    {
     "name": "stdout",
     "output_type": "stream",
     "text": [
      "[CV 5/5] END ......C=10, penalty=l2, solver=sag;, score=0.749 total time=   6.2s\n"
     ]
    },
    {
     "name": "stderr",
     "output_type": "stream",
     "text": [
      "/usr/local/lib/python3.7/dist-packages/sklearn/linear_model/_sag.py:354: ConvergenceWarning: The max_iter was reached which means the coef_ did not converge\n",
      "  ConvergenceWarning,\n"
     ]
    },
    {
     "name": "stdout",
     "output_type": "stream",
     "text": [
      "[CV 1/5] END .....C=10, penalty=l2, solver=saga;, score=0.751 total time=   7.1s\n"
     ]
    },
    {
     "name": "stderr",
     "output_type": "stream",
     "text": [
      "/usr/local/lib/python3.7/dist-packages/sklearn/linear_model/_sag.py:354: ConvergenceWarning: The max_iter was reached which means the coef_ did not converge\n",
      "  ConvergenceWarning,\n"
     ]
    },
    {
     "name": "stdout",
     "output_type": "stream",
     "text": [
      "[CV 2/5] END .....C=10, penalty=l2, solver=saga;, score=0.751 total time=   7.1s\n"
     ]
    },
    {
     "name": "stderr",
     "output_type": "stream",
     "text": [
      "/usr/local/lib/python3.7/dist-packages/sklearn/linear_model/_sag.py:354: ConvergenceWarning: The max_iter was reached which means the coef_ did not converge\n",
      "  ConvergenceWarning,\n"
     ]
    },
    {
     "name": "stdout",
     "output_type": "stream",
     "text": [
      "[CV 3/5] END .....C=10, penalty=l2, solver=saga;, score=0.727 total time=   7.1s\n"
     ]
    },
    {
     "name": "stderr",
     "output_type": "stream",
     "text": [
      "/usr/local/lib/python3.7/dist-packages/sklearn/linear_model/_sag.py:354: ConvergenceWarning: The max_iter was reached which means the coef_ did not converge\n",
      "  ConvergenceWarning,\n"
     ]
    },
    {
     "name": "stdout",
     "output_type": "stream",
     "text": [
      "[CV 4/5] END .....C=10, penalty=l2, solver=saga;, score=0.758 total time=   7.1s\n"
     ]
    },
    {
     "name": "stderr",
     "output_type": "stream",
     "text": [
      "/usr/local/lib/python3.7/dist-packages/sklearn/linear_model/_sag.py:354: ConvergenceWarning: The max_iter was reached which means the coef_ did not converge\n",
      "  ConvergenceWarning,\n"
     ]
    },
    {
     "name": "stdout",
     "output_type": "stream",
     "text": [
      "[CV 5/5] END .....C=10, penalty=l2, solver=saga;, score=0.747 total time=   7.2s\n",
      "[CV 1/5] END C=10, penalty=l2, solver=newton-cg;, score=0.958 total time=   1.1s\n",
      "[CV 2/5] END C=10, penalty=l2, solver=newton-cg;, score=0.973 total time=   1.0s\n",
      "[CV 3/5] END C=10, penalty=l2, solver=newton-cg;, score=0.976 total time=   1.0s\n",
      "[CV 4/5] END C=10, penalty=l2, solver=newton-cg;, score=0.962 total time=   1.1s\n",
      "[CV 5/5] END C=10, penalty=l2, solver=newton-cg;, score=0.969 total time=   1.0s\n",
      "[CV 1/5] END ..C=10, penalty=none, solver=lbfgs;, score=0.733 total time=   0.1s\n",
      "[CV 2/5] END ..C=10, penalty=none, solver=lbfgs;, score=0.729 total time=   0.1s\n"
     ]
    },
    {
     "name": "stderr",
     "output_type": "stream",
     "text": [
      "/usr/local/lib/python3.7/dist-packages/sklearn/linear_model/_logistic.py:1484: UserWarning: Setting penalty='none' will ignore the C and l1_ratio parameters\n",
      "  \"Setting penalty='none' will ignore the C and l1_ratio parameters\"\n",
      "/usr/local/lib/python3.7/dist-packages/sklearn/linear_model/_logistic.py:1484: UserWarning: Setting penalty='none' will ignore the C and l1_ratio parameters\n",
      "  \"Setting penalty='none' will ignore the C and l1_ratio parameters\"\n",
      "/usr/local/lib/python3.7/dist-packages/sklearn/linear_model/_logistic.py:1484: UserWarning: Setting penalty='none' will ignore the C and l1_ratio parameters\n",
      "  \"Setting penalty='none' will ignore the C and l1_ratio parameters\"\n"
     ]
    },
    {
     "name": "stdout",
     "output_type": "stream",
     "text": [
      "[CV 3/5] END ..C=10, penalty=none, solver=lbfgs;, score=0.729 total time=   0.1s\n",
      "[CV 4/5] END ..C=10, penalty=none, solver=lbfgs;, score=0.731 total time=   0.1s\n",
      "[CV 5/5] END ..C=10, penalty=none, solver=lbfgs;, score=0.738 total time=   0.1s\n"
     ]
    },
    {
     "name": "stderr",
     "output_type": "stream",
     "text": [
      "/usr/local/lib/python3.7/dist-packages/sklearn/linear_model/_logistic.py:1484: UserWarning: Setting penalty='none' will ignore the C and l1_ratio parameters\n",
      "  \"Setting penalty='none' will ignore the C and l1_ratio parameters\"\n",
      "/usr/local/lib/python3.7/dist-packages/sklearn/linear_model/_logistic.py:1484: UserWarning: Setting penalty='none' will ignore the C and l1_ratio parameters\n",
      "  \"Setting penalty='none' will ignore the C and l1_ratio parameters\"\n",
      "/usr/local/lib/python3.7/dist-packages/sklearn/linear_model/_logistic.py:1484: UserWarning: Setting penalty='none' will ignore the C and l1_ratio parameters\n",
      "  \"Setting penalty='none' will ignore the C and l1_ratio parameters\"\n",
      "/usr/local/lib/python3.7/dist-packages/sklearn/linear_model/_sag.py:354: ConvergenceWarning: The max_iter was reached which means the coef_ did not converge\n",
      "  ConvergenceWarning,\n",
      "/usr/local/lib/python3.7/dist-packages/sklearn/linear_model/_logistic.py:1484: UserWarning: Setting penalty='none' will ignore the C and l1_ratio parameters\n",
      "  \"Setting penalty='none' will ignore the C and l1_ratio parameters\"\n"
     ]
    },
    {
     "name": "stdout",
     "output_type": "stream",
     "text": [
      "[CV 1/5] END ....C=10, penalty=none, solver=sag;, score=0.747 total time=   6.1s\n"
     ]
    },
    {
     "name": "stderr",
     "output_type": "stream",
     "text": [
      "/usr/local/lib/python3.7/dist-packages/sklearn/linear_model/_sag.py:354: ConvergenceWarning: The max_iter was reached which means the coef_ did not converge\n",
      "  ConvergenceWarning,\n",
      "/usr/local/lib/python3.7/dist-packages/sklearn/linear_model/_logistic.py:1484: UserWarning: Setting penalty='none' will ignore the C and l1_ratio parameters\n",
      "  \"Setting penalty='none' will ignore the C and l1_ratio parameters\"\n"
     ]
    },
    {
     "name": "stdout",
     "output_type": "stream",
     "text": [
      "[CV 2/5] END ....C=10, penalty=none, solver=sag;, score=0.740 total time=   6.1s\n"
     ]
    },
    {
     "name": "stderr",
     "output_type": "stream",
     "text": [
      "/usr/local/lib/python3.7/dist-packages/sklearn/linear_model/_sag.py:354: ConvergenceWarning: The max_iter was reached which means the coef_ did not converge\n",
      "  ConvergenceWarning,\n",
      "/usr/local/lib/python3.7/dist-packages/sklearn/linear_model/_logistic.py:1484: UserWarning: Setting penalty='none' will ignore the C and l1_ratio parameters\n",
      "  \"Setting penalty='none' will ignore the C and l1_ratio parameters\"\n"
     ]
    },
    {
     "name": "stdout",
     "output_type": "stream",
     "text": [
      "[CV 3/5] END ....C=10, penalty=none, solver=sag;, score=0.729 total time=   6.1s\n"
     ]
    },
    {
     "name": "stderr",
     "output_type": "stream",
     "text": [
      "/usr/local/lib/python3.7/dist-packages/sklearn/linear_model/_sag.py:354: ConvergenceWarning: The max_iter was reached which means the coef_ did not converge\n",
      "  ConvergenceWarning,\n",
      "/usr/local/lib/python3.7/dist-packages/sklearn/linear_model/_logistic.py:1484: UserWarning: Setting penalty='none' will ignore the C and l1_ratio parameters\n",
      "  \"Setting penalty='none' will ignore the C and l1_ratio parameters\"\n"
     ]
    },
    {
     "name": "stdout",
     "output_type": "stream",
     "text": [
      "[CV 4/5] END ....C=10, penalty=none, solver=sag;, score=0.758 total time=   6.1s\n"
     ]
    },
    {
     "name": "stderr",
     "output_type": "stream",
     "text": [
      "/usr/local/lib/python3.7/dist-packages/sklearn/linear_model/_sag.py:354: ConvergenceWarning: The max_iter was reached which means the coef_ did not converge\n",
      "  ConvergenceWarning,\n",
      "/usr/local/lib/python3.7/dist-packages/sklearn/linear_model/_logistic.py:1484: UserWarning: Setting penalty='none' will ignore the C and l1_ratio parameters\n",
      "  \"Setting penalty='none' will ignore the C and l1_ratio parameters\"\n"
     ]
    },
    {
     "name": "stdout",
     "output_type": "stream",
     "text": [
      "[CV 5/5] END ....C=10, penalty=none, solver=sag;, score=0.749 total time=   6.1s\n"
     ]
    },
    {
     "name": "stderr",
     "output_type": "stream",
     "text": [
      "/usr/local/lib/python3.7/dist-packages/sklearn/linear_model/_sag.py:354: ConvergenceWarning: The max_iter was reached which means the coef_ did not converge\n",
      "  ConvergenceWarning,\n",
      "/usr/local/lib/python3.7/dist-packages/sklearn/linear_model/_logistic.py:1484: UserWarning: Setting penalty='none' will ignore the C and l1_ratio parameters\n",
      "  \"Setting penalty='none' will ignore the C and l1_ratio parameters\"\n"
     ]
    },
    {
     "name": "stdout",
     "output_type": "stream",
     "text": [
      "[CV 1/5] END ...C=10, penalty=none, solver=saga;, score=0.751 total time=   7.0s\n"
     ]
    },
    {
     "name": "stderr",
     "output_type": "stream",
     "text": [
      "/usr/local/lib/python3.7/dist-packages/sklearn/linear_model/_sag.py:354: ConvergenceWarning: The max_iter was reached which means the coef_ did not converge\n",
      "  ConvergenceWarning,\n",
      "/usr/local/lib/python3.7/dist-packages/sklearn/linear_model/_logistic.py:1484: UserWarning: Setting penalty='none' will ignore the C and l1_ratio parameters\n",
      "  \"Setting penalty='none' will ignore the C and l1_ratio parameters\"\n"
     ]
    },
    {
     "name": "stdout",
     "output_type": "stream",
     "text": [
      "[CV 2/5] END ...C=10, penalty=none, solver=saga;, score=0.751 total time=   7.0s\n"
     ]
    },
    {
     "name": "stderr",
     "output_type": "stream",
     "text": [
      "/usr/local/lib/python3.7/dist-packages/sklearn/linear_model/_sag.py:354: ConvergenceWarning: The max_iter was reached which means the coef_ did not converge\n",
      "  ConvergenceWarning,\n",
      "/usr/local/lib/python3.7/dist-packages/sklearn/linear_model/_logistic.py:1484: UserWarning: Setting penalty='none' will ignore the C and l1_ratio parameters\n",
      "  \"Setting penalty='none' will ignore the C and l1_ratio parameters\"\n"
     ]
    },
    {
     "name": "stdout",
     "output_type": "stream",
     "text": [
      "[CV 3/5] END ...C=10, penalty=none, solver=saga;, score=0.727 total time=   7.1s\n"
     ]
    },
    {
     "name": "stderr",
     "output_type": "stream",
     "text": [
      "/usr/local/lib/python3.7/dist-packages/sklearn/linear_model/_sag.py:354: ConvergenceWarning: The max_iter was reached which means the coef_ did not converge\n",
      "  ConvergenceWarning,\n",
      "/usr/local/lib/python3.7/dist-packages/sklearn/linear_model/_logistic.py:1484: UserWarning: Setting penalty='none' will ignore the C and l1_ratio parameters\n",
      "  \"Setting penalty='none' will ignore the C and l1_ratio parameters\"\n"
     ]
    },
    {
     "name": "stdout",
     "output_type": "stream",
     "text": [
      "[CV 4/5] END ...C=10, penalty=none, solver=saga;, score=0.758 total time=   7.2s\n"
     ]
    },
    {
     "name": "stderr",
     "output_type": "stream",
     "text": [
      "/usr/local/lib/python3.7/dist-packages/sklearn/linear_model/_sag.py:354: ConvergenceWarning: The max_iter was reached which means the coef_ did not converge\n",
      "  ConvergenceWarning,\n",
      "/usr/local/lib/python3.7/dist-packages/sklearn/linear_model/_logistic.py:1484: UserWarning: Setting penalty='none' will ignore the C and l1_ratio parameters\n",
      "  \"Setting penalty='none' will ignore the C and l1_ratio parameters\"\n"
     ]
    },
    {
     "name": "stdout",
     "output_type": "stream",
     "text": [
      "[CV 5/5] END ...C=10, penalty=none, solver=saga;, score=0.747 total time=   7.1s\n",
      "[CV 1/5] END C=10, penalty=none, solver=newton-cg;, score=0.736 total time=   0.4s\n"
     ]
    },
    {
     "name": "stderr",
     "output_type": "stream",
     "text": [
      "/usr/local/lib/python3.7/dist-packages/sklearn/linear_model/_logistic.py:1484: UserWarning: Setting penalty='none' will ignore the C and l1_ratio parameters\n",
      "  \"Setting penalty='none' will ignore the C and l1_ratio parameters\"\n"
     ]
    },
    {
     "name": "stdout",
     "output_type": "stream",
     "text": [
      "[CV 2/5] END C=10, penalty=none, solver=newton-cg;, score=0.729 total time=   0.4s\n"
     ]
    },
    {
     "name": "stderr",
     "output_type": "stream",
     "text": [
      "/usr/local/lib/python3.7/dist-packages/sklearn/linear_model/_logistic.py:1484: UserWarning: Setting penalty='none' will ignore the C and l1_ratio parameters\n",
      "  \"Setting penalty='none' will ignore the C and l1_ratio parameters\"\n"
     ]
    },
    {
     "name": "stdout",
     "output_type": "stream",
     "text": [
      "[CV 3/5] END C=10, penalty=none, solver=newton-cg;, score=0.722 total time=   0.4s\n"
     ]
    },
    {
     "name": "stderr",
     "output_type": "stream",
     "text": [
      "/usr/local/lib/python3.7/dist-packages/sklearn/linear_model/_logistic.py:1484: UserWarning: Setting penalty='none' will ignore the C and l1_ratio parameters\n",
      "  \"Setting penalty='none' will ignore the C and l1_ratio parameters\"\n"
     ]
    },
    {
     "name": "stdout",
     "output_type": "stream",
     "text": [
      "[CV 4/5] END C=10, penalty=none, solver=newton-cg;, score=0.747 total time=   0.5s\n"
     ]
    },
    {
     "name": "stderr",
     "output_type": "stream",
     "text": [
      "/usr/local/lib/python3.7/dist-packages/sklearn/linear_model/_logistic.py:1484: UserWarning: Setting penalty='none' will ignore the C and l1_ratio parameters\n",
      "  \"Setting penalty='none' will ignore the C and l1_ratio parameters\"\n"
     ]
    },
    {
     "name": "stdout",
     "output_type": "stream",
     "text": [
      "[CV 5/5] END C=10, penalty=none, solver=newton-cg;, score=0.749 total time=   0.4s\n",
      "[CV 1/5] END ...C=100, penalty=l2, solver=lbfgs;, score=0.958 total time=   0.4s\n",
      "[CV 2/5] END ...C=100, penalty=l2, solver=lbfgs;, score=0.971 total time=   0.4s\n",
      "[CV 3/5] END ...C=100, penalty=l2, solver=lbfgs;, score=0.976 total time=   0.4s\n",
      "[CV 4/5] END ...C=100, penalty=l2, solver=lbfgs;, score=0.960 total time=   0.4s\n",
      "[CV 5/5] END ...C=100, penalty=l2, solver=lbfgs;, score=0.969 total time=   0.4s\n"
     ]
    },
    {
     "name": "stderr",
     "output_type": "stream",
     "text": [
      "/usr/local/lib/python3.7/dist-packages/sklearn/linear_model/_sag.py:354: ConvergenceWarning: The max_iter was reached which means the coef_ did not converge\n",
      "  ConvergenceWarning,\n"
     ]
    },
    {
     "name": "stdout",
     "output_type": "stream",
     "text": [
      "[CV 1/5] END .....C=100, penalty=l2, solver=sag;, score=0.747 total time=   6.1s\n"
     ]
    },
    {
     "name": "stderr",
     "output_type": "stream",
     "text": [
      "/usr/local/lib/python3.7/dist-packages/sklearn/linear_model/_sag.py:354: ConvergenceWarning: The max_iter was reached which means the coef_ did not converge\n",
      "  ConvergenceWarning,\n"
     ]
    },
    {
     "name": "stdout",
     "output_type": "stream",
     "text": [
      "[CV 2/5] END .....C=100, penalty=l2, solver=sag;, score=0.740 total time=   6.1s\n"
     ]
    },
    {
     "name": "stderr",
     "output_type": "stream",
     "text": [
      "/usr/local/lib/python3.7/dist-packages/sklearn/linear_model/_sag.py:354: ConvergenceWarning: The max_iter was reached which means the coef_ did not converge\n",
      "  ConvergenceWarning,\n"
     ]
    },
    {
     "name": "stdout",
     "output_type": "stream",
     "text": [
      "[CV 3/5] END .....C=100, penalty=l2, solver=sag;, score=0.729 total time=   6.2s\n"
     ]
    },
    {
     "name": "stderr",
     "output_type": "stream",
     "text": [
      "/usr/local/lib/python3.7/dist-packages/sklearn/linear_model/_sag.py:354: ConvergenceWarning: The max_iter was reached which means the coef_ did not converge\n",
      "  ConvergenceWarning,\n"
     ]
    },
    {
     "name": "stdout",
     "output_type": "stream",
     "text": [
      "[CV 4/5] END .....C=100, penalty=l2, solver=sag;, score=0.758 total time=   6.1s\n"
     ]
    },
    {
     "name": "stderr",
     "output_type": "stream",
     "text": [
      "/usr/local/lib/python3.7/dist-packages/sklearn/linear_model/_sag.py:354: ConvergenceWarning: The max_iter was reached which means the coef_ did not converge\n",
      "  ConvergenceWarning,\n"
     ]
    },
    {
     "name": "stdout",
     "output_type": "stream",
     "text": [
      "[CV 5/5] END .....C=100, penalty=l2, solver=sag;, score=0.749 total time=   6.1s\n"
     ]
    },
    {
     "name": "stderr",
     "output_type": "stream",
     "text": [
      "/usr/local/lib/python3.7/dist-packages/sklearn/linear_model/_sag.py:354: ConvergenceWarning: The max_iter was reached which means the coef_ did not converge\n",
      "  ConvergenceWarning,\n"
     ]
    },
    {
     "name": "stdout",
     "output_type": "stream",
     "text": [
      "[CV 1/5] END ....C=100, penalty=l2, solver=saga;, score=0.751 total time=   7.1s\n"
     ]
    },
    {
     "name": "stderr",
     "output_type": "stream",
     "text": [
      "/usr/local/lib/python3.7/dist-packages/sklearn/linear_model/_sag.py:354: ConvergenceWarning: The max_iter was reached which means the coef_ did not converge\n",
      "  ConvergenceWarning,\n"
     ]
    },
    {
     "name": "stdout",
     "output_type": "stream",
     "text": [
      "[CV 2/5] END ....C=100, penalty=l2, solver=saga;, score=0.751 total time=   7.3s\n"
     ]
    },
    {
     "name": "stderr",
     "output_type": "stream",
     "text": [
      "/usr/local/lib/python3.7/dist-packages/sklearn/linear_model/_sag.py:354: ConvergenceWarning: The max_iter was reached which means the coef_ did not converge\n",
      "  ConvergenceWarning,\n"
     ]
    },
    {
     "name": "stdout",
     "output_type": "stream",
     "text": [
      "[CV 3/5] END ....C=100, penalty=l2, solver=saga;, score=0.727 total time=   7.3s\n"
     ]
    },
    {
     "name": "stderr",
     "output_type": "stream",
     "text": [
      "/usr/local/lib/python3.7/dist-packages/sklearn/linear_model/_sag.py:354: ConvergenceWarning: The max_iter was reached which means the coef_ did not converge\n",
      "  ConvergenceWarning,\n"
     ]
    },
    {
     "name": "stdout",
     "output_type": "stream",
     "text": [
      "[CV 4/5] END ....C=100, penalty=l2, solver=saga;, score=0.758 total time=   7.2s\n"
     ]
    },
    {
     "name": "stderr",
     "output_type": "stream",
     "text": [
      "/usr/local/lib/python3.7/dist-packages/sklearn/linear_model/_sag.py:354: ConvergenceWarning: The max_iter was reached which means the coef_ did not converge\n",
      "  ConvergenceWarning,\n"
     ]
    },
    {
     "name": "stdout",
     "output_type": "stream",
     "text": [
      "[CV 5/5] END ....C=100, penalty=l2, solver=saga;, score=0.747 total time=   7.1s\n",
      "[CV 1/5] END C=100, penalty=l2, solver=newton-cg;, score=0.958 total time=   1.1s\n",
      "[CV 2/5] END C=100, penalty=l2, solver=newton-cg;, score=0.973 total time=   1.0s\n",
      "[CV 3/5] END C=100, penalty=l2, solver=newton-cg;, score=0.976 total time=   1.1s\n",
      "[CV 4/5] END C=100, penalty=l2, solver=newton-cg;, score=0.962 total time=   1.1s\n",
      "[CV 5/5] END C=100, penalty=l2, solver=newton-cg;, score=0.969 total time=   1.0s\n",
      "[CV 1/5] END .C=100, penalty=none, solver=lbfgs;, score=0.733 total time=   0.1s\n",
      "[CV 2/5] END .C=100, penalty=none, solver=lbfgs;, score=0.729 total time=   0.1s\n"
     ]
    },
    {
     "name": "stderr",
     "output_type": "stream",
     "text": [
      "/usr/local/lib/python3.7/dist-packages/sklearn/linear_model/_logistic.py:1484: UserWarning: Setting penalty='none' will ignore the C and l1_ratio parameters\n",
      "  \"Setting penalty='none' will ignore the C and l1_ratio parameters\"\n",
      "/usr/local/lib/python3.7/dist-packages/sklearn/linear_model/_logistic.py:1484: UserWarning: Setting penalty='none' will ignore the C and l1_ratio parameters\n",
      "  \"Setting penalty='none' will ignore the C and l1_ratio parameters\"\n",
      "/usr/local/lib/python3.7/dist-packages/sklearn/linear_model/_logistic.py:1484: UserWarning: Setting penalty='none' will ignore the C and l1_ratio parameters\n",
      "  \"Setting penalty='none' will ignore the C and l1_ratio parameters\"\n"
     ]
    },
    {
     "name": "stdout",
     "output_type": "stream",
     "text": [
      "[CV 3/5] END .C=100, penalty=none, solver=lbfgs;, score=0.729 total time=   0.1s\n",
      "[CV 4/5] END .C=100, penalty=none, solver=lbfgs;, score=0.731 total time=   0.1s\n",
      "[CV 5/5] END .C=100, penalty=none, solver=lbfgs;, score=0.738 total time=   0.1s\n"
     ]
    },
    {
     "name": "stderr",
     "output_type": "stream",
     "text": [
      "/usr/local/lib/python3.7/dist-packages/sklearn/linear_model/_logistic.py:1484: UserWarning: Setting penalty='none' will ignore the C and l1_ratio parameters\n",
      "  \"Setting penalty='none' will ignore the C and l1_ratio parameters\"\n",
      "/usr/local/lib/python3.7/dist-packages/sklearn/linear_model/_logistic.py:1484: UserWarning: Setting penalty='none' will ignore the C and l1_ratio parameters\n",
      "  \"Setting penalty='none' will ignore the C and l1_ratio parameters\"\n",
      "/usr/local/lib/python3.7/dist-packages/sklearn/linear_model/_logistic.py:1484: UserWarning: Setting penalty='none' will ignore the C and l1_ratio parameters\n",
      "  \"Setting penalty='none' will ignore the C and l1_ratio parameters\"\n",
      "/usr/local/lib/python3.7/dist-packages/sklearn/linear_model/_sag.py:354: ConvergenceWarning: The max_iter was reached which means the coef_ did not converge\n",
      "  ConvergenceWarning,\n",
      "/usr/local/lib/python3.7/dist-packages/sklearn/linear_model/_logistic.py:1484: UserWarning: Setting penalty='none' will ignore the C and l1_ratio parameters\n",
      "  \"Setting penalty='none' will ignore the C and l1_ratio parameters\"\n"
     ]
    },
    {
     "name": "stdout",
     "output_type": "stream",
     "text": [
      "[CV 1/5] END ...C=100, penalty=none, solver=sag;, score=0.747 total time=   6.1s\n"
     ]
    },
    {
     "name": "stderr",
     "output_type": "stream",
     "text": [
      "/usr/local/lib/python3.7/dist-packages/sklearn/linear_model/_sag.py:354: ConvergenceWarning: The max_iter was reached which means the coef_ did not converge\n",
      "  ConvergenceWarning,\n",
      "/usr/local/lib/python3.7/dist-packages/sklearn/linear_model/_logistic.py:1484: UserWarning: Setting penalty='none' will ignore the C and l1_ratio parameters\n",
      "  \"Setting penalty='none' will ignore the C and l1_ratio parameters\"\n"
     ]
    },
    {
     "name": "stdout",
     "output_type": "stream",
     "text": [
      "[CV 2/5] END ...C=100, penalty=none, solver=sag;, score=0.740 total time=   6.2s\n"
     ]
    },
    {
     "name": "stderr",
     "output_type": "stream",
     "text": [
      "/usr/local/lib/python3.7/dist-packages/sklearn/linear_model/_sag.py:354: ConvergenceWarning: The max_iter was reached which means the coef_ did not converge\n",
      "  ConvergenceWarning,\n",
      "/usr/local/lib/python3.7/dist-packages/sklearn/linear_model/_logistic.py:1484: UserWarning: Setting penalty='none' will ignore the C and l1_ratio parameters\n",
      "  \"Setting penalty='none' will ignore the C and l1_ratio parameters\"\n"
     ]
    },
    {
     "name": "stdout",
     "output_type": "stream",
     "text": [
      "[CV 3/5] END ...C=100, penalty=none, solver=sag;, score=0.729 total time=   6.1s\n"
     ]
    },
    {
     "name": "stderr",
     "output_type": "stream",
     "text": [
      "/usr/local/lib/python3.7/dist-packages/sklearn/linear_model/_sag.py:354: ConvergenceWarning: The max_iter was reached which means the coef_ did not converge\n",
      "  ConvergenceWarning,\n",
      "/usr/local/lib/python3.7/dist-packages/sklearn/linear_model/_logistic.py:1484: UserWarning: Setting penalty='none' will ignore the C and l1_ratio parameters\n",
      "  \"Setting penalty='none' will ignore the C and l1_ratio parameters\"\n"
     ]
    },
    {
     "name": "stdout",
     "output_type": "stream",
     "text": [
      "[CV 4/5] END ...C=100, penalty=none, solver=sag;, score=0.758 total time=   6.1s\n"
     ]
    },
    {
     "name": "stderr",
     "output_type": "stream",
     "text": [
      "/usr/local/lib/python3.7/dist-packages/sklearn/linear_model/_sag.py:354: ConvergenceWarning: The max_iter was reached which means the coef_ did not converge\n",
      "  ConvergenceWarning,\n",
      "/usr/local/lib/python3.7/dist-packages/sklearn/linear_model/_logistic.py:1484: UserWarning: Setting penalty='none' will ignore the C and l1_ratio parameters\n",
      "  \"Setting penalty='none' will ignore the C and l1_ratio parameters\"\n"
     ]
    },
    {
     "name": "stdout",
     "output_type": "stream",
     "text": [
      "[CV 5/5] END ...C=100, penalty=none, solver=sag;, score=0.749 total time=   6.1s\n"
     ]
    },
    {
     "name": "stderr",
     "output_type": "stream",
     "text": [
      "/usr/local/lib/python3.7/dist-packages/sklearn/linear_model/_sag.py:354: ConvergenceWarning: The max_iter was reached which means the coef_ did not converge\n",
      "  ConvergenceWarning,\n",
      "/usr/local/lib/python3.7/dist-packages/sklearn/linear_model/_logistic.py:1484: UserWarning: Setting penalty='none' will ignore the C and l1_ratio parameters\n",
      "  \"Setting penalty='none' will ignore the C and l1_ratio parameters\"\n"
     ]
    },
    {
     "name": "stdout",
     "output_type": "stream",
     "text": [
      "[CV 1/5] END ..C=100, penalty=none, solver=saga;, score=0.751 total time=   7.1s\n"
     ]
    },
    {
     "name": "stderr",
     "output_type": "stream",
     "text": [
      "/usr/local/lib/python3.7/dist-packages/sklearn/linear_model/_sag.py:354: ConvergenceWarning: The max_iter was reached which means the coef_ did not converge\n",
      "  ConvergenceWarning,\n",
      "/usr/local/lib/python3.7/dist-packages/sklearn/linear_model/_logistic.py:1484: UserWarning: Setting penalty='none' will ignore the C and l1_ratio parameters\n",
      "  \"Setting penalty='none' will ignore the C and l1_ratio parameters\"\n"
     ]
    },
    {
     "name": "stdout",
     "output_type": "stream",
     "text": [
      "[CV 2/5] END ..C=100, penalty=none, solver=saga;, score=0.751 total time=   7.1s\n"
     ]
    },
    {
     "name": "stderr",
     "output_type": "stream",
     "text": [
      "/usr/local/lib/python3.7/dist-packages/sklearn/linear_model/_sag.py:354: ConvergenceWarning: The max_iter was reached which means the coef_ did not converge\n",
      "  ConvergenceWarning,\n",
      "/usr/local/lib/python3.7/dist-packages/sklearn/linear_model/_logistic.py:1484: UserWarning: Setting penalty='none' will ignore the C and l1_ratio parameters\n",
      "  \"Setting penalty='none' will ignore the C and l1_ratio parameters\"\n"
     ]
    },
    {
     "name": "stdout",
     "output_type": "stream",
     "text": [
      "[CV 3/5] END ..C=100, penalty=none, solver=saga;, score=0.727 total time=   7.1s\n"
     ]
    },
    {
     "name": "stderr",
     "output_type": "stream",
     "text": [
      "/usr/local/lib/python3.7/dist-packages/sklearn/linear_model/_sag.py:354: ConvergenceWarning: The max_iter was reached which means the coef_ did not converge\n",
      "  ConvergenceWarning,\n",
      "/usr/local/lib/python3.7/dist-packages/sklearn/linear_model/_logistic.py:1484: UserWarning: Setting penalty='none' will ignore the C and l1_ratio parameters\n",
      "  \"Setting penalty='none' will ignore the C and l1_ratio parameters\"\n"
     ]
    },
    {
     "name": "stdout",
     "output_type": "stream",
     "text": [
      "[CV 4/5] END ..C=100, penalty=none, solver=saga;, score=0.758 total time=   7.0s\n"
     ]
    },
    {
     "name": "stderr",
     "output_type": "stream",
     "text": [
      "/usr/local/lib/python3.7/dist-packages/sklearn/linear_model/_sag.py:354: ConvergenceWarning: The max_iter was reached which means the coef_ did not converge\n",
      "  ConvergenceWarning,\n",
      "/usr/local/lib/python3.7/dist-packages/sklearn/linear_model/_logistic.py:1484: UserWarning: Setting penalty='none' will ignore the C and l1_ratio parameters\n",
      "  \"Setting penalty='none' will ignore the C and l1_ratio parameters\"\n"
     ]
    },
    {
     "name": "stdout",
     "output_type": "stream",
     "text": [
      "[CV 5/5] END ..C=100, penalty=none, solver=saga;, score=0.747 total time=   7.1s\n",
      "[CV 1/5] END C=100, penalty=none, solver=newton-cg;, score=0.736 total time=   0.4s\n"
     ]
    },
    {
     "name": "stderr",
     "output_type": "stream",
     "text": [
      "/usr/local/lib/python3.7/dist-packages/sklearn/linear_model/_logistic.py:1484: UserWarning: Setting penalty='none' will ignore the C and l1_ratio parameters\n",
      "  \"Setting penalty='none' will ignore the C and l1_ratio parameters\"\n"
     ]
    },
    {
     "name": "stdout",
     "output_type": "stream",
     "text": [
      "[CV 2/5] END C=100, penalty=none, solver=newton-cg;, score=0.729 total time=   0.4s\n"
     ]
    },
    {
     "name": "stderr",
     "output_type": "stream",
     "text": [
      "/usr/local/lib/python3.7/dist-packages/sklearn/linear_model/_logistic.py:1484: UserWarning: Setting penalty='none' will ignore the C and l1_ratio parameters\n",
      "  \"Setting penalty='none' will ignore the C and l1_ratio parameters\"\n"
     ]
    },
    {
     "name": "stdout",
     "output_type": "stream",
     "text": [
      "[CV 3/5] END C=100, penalty=none, solver=newton-cg;, score=0.722 total time=   0.4s\n"
     ]
    },
    {
     "name": "stderr",
     "output_type": "stream",
     "text": [
      "/usr/local/lib/python3.7/dist-packages/sklearn/linear_model/_logistic.py:1484: UserWarning: Setting penalty='none' will ignore the C and l1_ratio parameters\n",
      "  \"Setting penalty='none' will ignore the C and l1_ratio parameters\"\n"
     ]
    },
    {
     "name": "stdout",
     "output_type": "stream",
     "text": [
      "[CV 4/5] END C=100, penalty=none, solver=newton-cg;, score=0.747 total time=   0.5s\n"
     ]
    },
    {
     "name": "stderr",
     "output_type": "stream",
     "text": [
      "/usr/local/lib/python3.7/dist-packages/sklearn/linear_model/_logistic.py:1484: UserWarning: Setting penalty='none' will ignore the C and l1_ratio parameters\n",
      "  \"Setting penalty='none' will ignore the C and l1_ratio parameters\"\n"
     ]
    },
    {
     "name": "stdout",
     "output_type": "stream",
     "text": [
      "[CV 5/5] END C=100, penalty=none, solver=newton-cg;, score=0.749 total time=   0.4s\n",
      "The time taken for hyperparameter tuning is:  0:09:27.158367\n"
     ]
    }
   ],
   "source": [
    "#Defining the parameter grid containing the different values we want to test for each parameter\n",
    "\n",
    "#Some combinations are not included to not cause errors (e.g. some solvers only compatible with certain penalties)\n",
    "\n",
    "parameter_grid = parameter_grid = {'C': [0.1, 1, 10, 100], \n",
    "\n",
    "              'penalty': ['l2', 'none'],\n",
    "\n",
    "              'solver': ['lbfgs', 'sag', 'saga', 'newton-cg']} \n",
    " \n",
    "start_tuning = datetime.now()\n",
    "\n",
    "gridLogReg = GridSearchCV(LogisticRegression(max_iter = 300, random_state = 0), parameter_grid, refit = True, verbose = 3)\n",
    " \n",
    "#Fitting the model for a gridsearch which goes the all the possible combinations of data\n",
    "gridLogReg.fit(pca_xTrain, yTrain)\n",
    "\n",
    "end_tuning = datetime.now()\n",
    "tuning_time = end_tuning - start_tuning\n",
    "print('The time taken for hyperparameter tuning is: ', tuning_time)"
   ]
  },
  {
   "cell_type": "markdown",
   "id": "c650206a",
   "metadata": {
    "id": "cd1fb405"
   },
   "source": [
    "After completing the grid search for tuning, we output the best parameters as found by the grid search as well as the accuracy score produced by the model when these optimal parameters are used."
   ]
  },
  {
   "cell_type": "code",
   "execution_count": 33,
   "id": "77012010",
   "metadata": {
    "colab": {
     "base_uri": "https://localhost:8080/"
    },
    "executionInfo": {
     "elapsed": 23,
     "status": "ok",
     "timestamp": 1640622225242,
     "user": {
      "displayName": "Yousef Mahmoud",
      "photoUrl": "https://lh3.googleusercontent.com/a/default-user=s64",
      "userId": "02029842566020735723"
     },
     "user_tz": -180
    },
    "id": "30b1dfdf",
    "outputId": "c4549f28-29e0-4cd5-be88-fe039668b899"
   },
   "outputs": [
    {
     "name": "stdout",
     "output_type": "stream",
     "text": [
      "The best parameters are:  {'C': 0.1, 'penalty': 'l2', 'solver': 'lbfgs'}\n",
      "Hence, the model we should use is:  LogisticRegression(C=0.1, max_iter=300, random_state=0)\n",
      "The accuracy /best score for this tuned model is:  0.968\n"
     ]
    }
   ],
   "source": [
    "print('The best parameters are: ', gridLogReg.best_params_)\n",
    "print('Hence, the model we should use is: ', gridLogReg.best_estimator_)\n",
    "print('The accuracy /best score for this tuned model is: ', gridLogReg.best_score_)"
   ]
  },
  {
   "cell_type": "markdown",
   "id": "9a231980",
   "metadata": {
    "id": "b0d5d152"
   },
   "source": [
    "In the cells below, we use identical code to those used to test the 3 models before. We use the tuned model along with `pca_xTest` to make predictions on the data set using the newly tuned hyperparameters. We also generate a classification report and confusion matrix to assess the performance of the newly tuned model."
   ]
  },
  {
   "cell_type": "code",
   "execution_count": 34,
   "id": "598403e3",
   "metadata": {
    "colab": {
     "base_uri": "https://localhost:8080/"
    },
    "executionInfo": {
     "elapsed": 16,
     "status": "ok",
     "timestamp": 1640622225243,
     "user": {
      "displayName": "Yousef Mahmoud",
      "photoUrl": "https://lh3.googleusercontent.com/a/default-user=s64",
      "userId": "02029842566020735723"
     },
     "user_tz": -180
    },
    "id": "a95dfb3a",
    "outputId": "e356b777-1792-402a-897a-acfa0ccadcfa"
   },
   "outputs": [
    {
     "name": "stdout",
     "output_type": "stream",
     "text": [
      "Accuracy on test set: 0.952\n",
      "              precision    recall  f1-score   support\n",
      "\n",
      "         0.0       0.93      0.76      0.84       123\n",
      "         1.0       0.96      0.99      0.97       627\n",
      "\n",
      "    accuracy                           0.95       750\n",
      "   macro avg       0.94      0.88      0.91       750\n",
      "weighted avg       0.95      0.95      0.95       750\n",
      "\n"
     ]
    }
   ],
   "source": [
    "tuned_predictions = gridLogReg.predict(pca_xTest)\n",
    "print('Accuracy on test set: '+str(accuracy_score(yTest,tuned_predictions)))\n",
    "print(classification_report(yTest, tuned_predictions))"
   ]
  },
  {
   "cell_type": "code",
   "execution_count": 35,
   "id": "17912b10",
   "metadata": {
    "executionInfo": {
     "elapsed": 14,
     "status": "ok",
     "timestamp": 1640622225244,
     "user": {
      "displayName": "Yousef Mahmoud",
      "photoUrl": "https://lh3.googleusercontent.com/a/default-user=s64",
      "userId": "02029842566020735723"
     },
     "user_tz": -180
    },
    "id": "23620710"
   },
   "outputs": [],
   "source": [
    "acc_tunedmodel = gridLogReg.score(pca_xTest, yTest)"
   ]
  },
  {
   "cell_type": "code",
   "execution_count": 36,
   "id": "86bd1d6d",
   "metadata": {
    "executionInfo": {
     "elapsed": 14,
     "status": "ok",
     "timestamp": 1640622225245,
     "user": {
      "displayName": "Yousef Mahmoud",
      "photoUrl": "https://lh3.googleusercontent.com/a/default-user=s64",
      "userId": "02029842566020735723"
     },
     "user_tz": -180
    },
    "id": "5215f500"
   },
   "outputs": [],
   "source": [
    "cm_tunedmodel = confusion_matrix(yTest, tuned_predictions)"
   ]
  },
  {
   "cell_type": "code",
   "execution_count": 37,
   "id": "925c4e4a",
   "metadata": {
    "colab": {
     "base_uri": "https://localhost:8080/",
     "height": 520
    },
    "executionInfo": {
     "elapsed": 15,
     "status": "ok",
     "timestamp": 1640622225246,
     "user": {
      "displayName": "Yousef Mahmoud",
      "photoUrl": "https://lh3.googleusercontent.com/a/default-user=s64",
      "userId": "02029842566020735723"
     },
     "user_tz": -180
    },
    "id": "9eafbfd6",
    "outputId": "e7c8fa3b-0b8b-4a54-c483-e11ce56f8628"
   },
   "outputs": [
    {
     "data": {
      "image/png": "[encoded data removed]",
      "text/plain": [
       "<Figure size 648x648 with 2 Axes>"
      ]
     },
     "metadata": {
      "needs_background": "light"
     },
     "output_type": "display_data"
    }
   ],
   "source": [
    "plt.figure(figsize=(9,9))\n",
    "sns.heatmap(cm_tunedmodel, annot=True, fmt=\".3f\", linewidths=.5, square = True, cmap = 'Blues_r');\n",
    "plt.ylabel('Actual label');\n",
    "plt.xlabel('Predicted label');\n",
    "all_sample_title = 'Accuracy Score: {0}'.format(acc_tunedmodel)\n",
    "plt.title(all_sample_title, size = 15);"
   ]
  },
  {
   "cell_type": "markdown",
   "id": "5ac04567",
   "metadata": {
    "id": "51fb5df2"
   },
   "source": [
    "## Testing and reporting accuracy scores using new separate 'test' data set\n",
    "\n",
    "In the following cells, we use similar methods to the ones used above to load the images from the new test set uploaded recently. This new separate test data set was uploaded a week prior to the deadline. We then carry out identical preprocessing techniques to those we did above and those were HOG followed by PCA. \n",
    "\n",
    "### Loading the labels and images from the test set\n",
    "\n",
    "The cells below load the labels and then the images from the test set. They are loaded indentically to how they were loaded from the larger 'dataset' test set:\n",
    "\n",
    "* All the labels not reading 'no_tumor' are converted to 'tumor' to make the problem binary.\n",
    "* An extra column is added to the dataframe for numeric representation of the labels using 1 or 0.\n",
    "* The images are converted to grayscale using `rgb2gray()`."
   ]
  },
  {
   "cell_type": "code",
   "execution_count": 38,
   "id": "ed78b907",
   "metadata": {
    "colab": {
     "base_uri": "https://localhost:8080/"
    },
    "executionInfo": {
     "elapsed": 19,
     "status": "ok",
     "timestamp": 1640622225844,
     "user": {
      "displayName": "Yousef Mahmoud",
      "photoUrl": "https://lh3.googleusercontent.com/a/default-user=s64",
      "userId": "02029842566020735723"
     },
     "user_tz": -180
    },
    "id": "a0fc5cbe",
    "outputId": "231b9172-4596-45cb-cc94-b1b4de900361"
   },
   "outputs": [
    {
     "name": "stdout",
     "output_type": "stream",
     "text": [
      "(200, 2)\n"
     ]
    }
   ],
   "source": [
    "#Two different paths given: top line is for using Google Drive with Colab and bottom is for in all other situations. Comment and uncomment accordingly.\n",
    "\n",
    "#new_tumour_labels = pd.read_csv('/content/drive/MyDrive/Colab Notebooks/test/label.csv')\n",
    "new_tumour_labels = pd.read_csv('./test/label.csv')\n",
    "\n",
    "print(new_tumour_labels.shape) #Outputs array with the shape of the dataframe to ensure all images, filenames and labels loaded"
   ]
  },
  {
   "cell_type": "code",
   "execution_count": 39,
   "id": "56a40f04",
   "metadata": {
    "colab": {
     "base_uri": "https://localhost:8080/",
     "height": 423
    },
    "executionInfo": {
     "elapsed": 18,
     "status": "ok",
     "timestamp": 1640622225845,
     "user": {
      "displayName": "Yousef Mahmoud",
      "photoUrl": "https://lh3.googleusercontent.com/a/default-user=s64",
      "userId": "02029842566020735723"
     },
     "user_tz": -180
    },
    "id": "e2e0b0c2",
    "outputId": "d0586420-69bb-4ecc-cacd-68f56cf87866"
   },
   "outputs": [
    {
     "data": {
      "text/html": [
       "\n",
       "  <div id=\"df-68e288d9-b45b-4b63-9d2a-c8565e4fd3cb\">\n",
       "    <div class=\"colab-df-container\">\n",
       "      <div>\n",
       "<style scoped>\n",
       "    .dataframe tbody tr th:only-of-type {\n",
       "        vertical-align: middle;\n",
       "    }\n",
       "\n",
       "    .dataframe tbody tr th {\n",
       "        vertical-align: top;\n",
       "    }\n",
       "\n",
       "    .dataframe thead th {\n",
       "        text-align: right;\n",
       "    }\n",
       "</style>\n",
       "<table border=\"1\" class=\"dataframe\">\n",
       "  <thead>\n",
       "    <tr style=\"text-align: right;\">\n",
       "      <th></th>\n",
       "      <th>file_name</th>\n",
       "      <th>label</th>\n",
       "    </tr>\n",
       "  </thead>\n",
       "  <tbody>\n",
       "    <tr>\n",
       "      <th>0</th>\n",
       "      <td>IMAGE_0000.jpg</td>\n",
       "      <td>meningioma_tumor</td>\n",
       "    </tr>\n",
       "    <tr>\n",
       "      <th>1</th>\n",
       "      <td>IMAGE_0001.jpg</td>\n",
       "      <td>meningioma_tumor</td>\n",
       "    </tr>\n",
       "    <tr>\n",
       "      <th>2</th>\n",
       "      <td>IMAGE_0002.jpg</td>\n",
       "      <td>glioma_tumor</td>\n",
       "    </tr>\n",
       "    <tr>\n",
       "      <th>3</th>\n",
       "      <td>IMAGE_0003.jpg</td>\n",
       "      <td>pituitary_tumor</td>\n",
       "    </tr>\n",
       "    <tr>\n",
       "      <th>4</th>\n",
       "      <td>IMAGE_0004.jpg</td>\n",
       "      <td>glioma_tumor</td>\n",
       "    </tr>\n",
       "    <tr>\n",
       "      <th>...</th>\n",
       "      <td>...</td>\n",
       "      <td>...</td>\n",
       "    </tr>\n",
       "    <tr>\n",
       "      <th>195</th>\n",
       "      <td>IMAGE_0195.jpg</td>\n",
       "      <td>pituitary_tumor</td>\n",
       "    </tr>\n",
       "    <tr>\n",
       "      <th>196</th>\n",
       "      <td>IMAGE_0196.jpg</td>\n",
       "      <td>no_tumor</td>\n",
       "    </tr>\n",
       "    <tr>\n",
       "      <th>197</th>\n",
       "      <td>IMAGE_0197.jpg</td>\n",
       "      <td>meningioma_tumor</td>\n",
       "    </tr>\n",
       "    <tr>\n",
       "      <th>198</th>\n",
       "      <td>IMAGE_0198.jpg</td>\n",
       "      <td>no_tumor</td>\n",
       "    </tr>\n",
       "    <tr>\n",
       "      <th>199</th>\n",
       "      <td>IMAGE_0199.jpg</td>\n",
       "      <td>glioma_tumor</td>\n",
       "    </tr>\n",
       "  </tbody>\n",
       "</table>\n",
       "<p>200 rows × 2 columns</p>\n",
       "</div>\n",
       "      <button class=\"colab-df-convert\" onclick=\"convertToInteractive('df-68e288d9-b45b-4b63-9d2a-c8565e4fd3cb')\"\n",
       "              title=\"Convert this dataframe to an interactive table.\"\n",
       "              style=\"display:none;\">\n",
       "        \n",
       "  <svg xmlns=\"http://www.w3.org/2000/svg\" height=\"24px\"viewBox=\"0 0 24 24\"\n",
       "       width=\"24px\">\n",
       "    <path d=\"M0 0h24v24H0V0z\" fill=\"none\"/>\n",
       "    <path d=\"M18.56 5.44l.94 2.06.94-2.06 2.06-.94-2.06-.94-.94-2.06-.94 2.06-2.06.94zm-11 1L8.5 8.5l.94-2.06 2.06-.94-2.06-.94L8.5 2.5l-.94 2.06-2.06.94zm10 10l.94 2.06.94-2.06 2.06-.94-2.06-.94-.94-2.06-.94 2.06-2.06.94z\"/><path d=\"M17.41 7.96l-1.37-1.37c-.4-.4-.92-.59-1.43-.59-.52 0-1.04.2-1.43.59L10.3 9.45l-7.72 7.72c-.78.78-.78 2.05 0 2.83L4 21.41c.39.39.9.59 1.41.59.51 0 1.02-.2 1.41-.59l7.78-7.78 2.81-2.81c.8-.78.8-2.07 0-2.86zM5.41 20L4 18.59l7.72-7.72 1.47 1.35L5.41 20z\"/>\n",
       "  </svg>\n",
       "      </button>\n",
       "      \n",
       "  <style>\n",
       "    .colab-df-container {\n",
       "      display:flex;\n",
       "      flex-wrap:wrap;\n",
       "      gap: 12px;\n",
       "    }\n",
       "\n",
       "    .colab-df-convert {\n",
       "      background-color: #E8F0FE;\n",
       "      border: none;\n",
       "      border-radius: 50%;\n",
       "      cursor: pointer;\n",
       "      display: none;\n",
       "      fill: #1967D2;\n",
       "      height: 32px;\n",
       "      padding: 0 0 0 0;\n",
       "      width: 32px;\n",
       "    }\n",
       "\n",
       "    .colab-df-convert:hover {\n",
       "      background-color: #E2EBFA;\n",
       "      box-shadow: 0px 1px 2px rgba(60, 64, 67, 0.3), 0px 1px 3px 1px rgba(60, 64, 67, 0.15);\n",
       "      fill: #174EA6;\n",
       "    }\n",
       "\n",
       "    [theme=dark] .colab-df-convert {\n",
       "      background-color: #3B4455;\n",
       "      fill: #D2E3FC;\n",
       "    }\n",
       "\n",
       "    [theme=dark] .colab-df-convert:hover {\n",
       "      background-color: #434B5C;\n",
       "      box-shadow: 0px 1px 3px 1px rgba(0, 0, 0, 0.15);\n",
       "      filter: drop-shadow(0px 1px 2px rgba(0, 0, 0, 0.3));\n",
       "      fill: #FFFFFF;\n",
       "    }\n",
       "  </style>\n",
       "\n",
       "      <script>\n",
       "        const buttonEl =\n",
       "          document.querySelector('#df-68e288d9-b45b-4b63-9d2a-c8565e4fd3cb button.colab-df-convert');\n",
       "        buttonEl.style.display =\n",
       "          google.colab.kernel.accessAllowed ? 'block' : 'none';\n",
       "\n",
       "        async function convertToInteractive(key) {\n",
       "          const element = document.querySelector('#df-68e288d9-b45b-4b63-9d2a-c8565e4fd3cb');\n",
       "          const dataTable =\n",
       "            await google.colab.kernel.invokeFunction('convertToInteractive',\n",
       "                                                     [key], {});\n",
       "          if (!dataTable) return;\n",
       "\n",
       "          const docLinkHtml = 'Like what you see? Visit the ' +\n",
       "            '<a target=\"_blank\" href=https://colab.research.google.com/notebooks/data_table.ipynb>data table notebook</a>'\n",
       "            + ' to learn more about interactive tables.';\n",
       "          element.innerHTML = '';\n",
       "          dataTable['output_type'] = 'display_data';\n",
       "          await google.colab.output.renderOutput(dataTable, element);\n",
       "          const docLink = document.createElement('div');\n",
       "          docLink.innerHTML = docLinkHtml;\n",
       "          element.appendChild(docLink);\n",
       "        }\n",
       "      </script>\n",
       "    </div>\n",
       "  </div>\n",
       "  "
      ],
      "text/plain": [
       "          file_name             label\n",
       "0    IMAGE_0000.jpg  meningioma_tumor\n",
       "1    IMAGE_0001.jpg  meningioma_tumor\n",
       "2    IMAGE_0002.jpg      glioma_tumor\n",
       "3    IMAGE_0003.jpg   pituitary_tumor\n",
       "4    IMAGE_0004.jpg      glioma_tumor\n",
       "..              ...               ...\n",
       "195  IMAGE_0195.jpg   pituitary_tumor\n",
       "196  IMAGE_0196.jpg          no_tumor\n",
       "197  IMAGE_0197.jpg  meningioma_tumor\n",
       "198  IMAGE_0198.jpg          no_tumor\n",
       "199  IMAGE_0199.jpg      glioma_tumor\n",
       "\n",
       "[200 rows x 2 columns]"
      ]
     },
     "execution_count": 39,
     "metadata": {},
     "output_type": "execute_result"
    }
   ],
   "source": [
    "new_tumour_labels"
   ]
  },
  {
   "cell_type": "code",
   "execution_count": 40,
   "id": "b0d3be6e",
   "metadata": {
    "executionInfo": {
     "elapsed": 18,
     "status": "ok",
     "timestamp": 1640622225846,
     "user": {
      "displayName": "Yousef Mahmoud",
      "photoUrl": "https://lh3.googleusercontent.com/a/default-user=s64",
      "userId": "02029842566020735723"
     },
     "user_tz": -180
    },
    "id": "93b76b2c"
   },
   "outputs": [],
   "source": [
    "#change anything in the label column that is not equal to \"no_tumor\" to \"tumor\" rather than the type of tumor\n",
    "new_tumour_labels.loc[new_tumour_labels['label']!= 'no_tumor', 'label'] = 'tumor' "
   ]
  },
  {
   "cell_type": "code",
   "execution_count": 41,
   "id": "06d308e3",
   "metadata": {
    "colab": {
     "base_uri": "https://localhost:8080/",
     "height": 423
    },
    "executionInfo": {
     "elapsed": 19,
     "status": "ok",
     "timestamp": 1640622225848,
     "user": {
      "displayName": "Yousef Mahmoud",
      "photoUrl": "https://lh3.googleusercontent.com/a/default-user=s64",
      "userId": "02029842566020735723"
     },
     "user_tz": -180
    },
    "id": "4220a15e",
    "outputId": "630e4d3d-6c93-468b-dfb9-edcfb1117ce8"
   },
   "outputs": [
    {
     "data": {
      "text/html": [
       "\n",
       "  <div id=\"df-bc2bff28-6539-49b2-9a56-0430cebca618\">\n",
       "    <div class=\"colab-df-container\">\n",
       "      <div>\n",
       "<style scoped>\n",
       "    .dataframe tbody tr th:only-of-type {\n",
       "        vertical-align: middle;\n",
       "    }\n",
       "\n",
       "    .dataframe tbody tr th {\n",
       "        vertical-align: top;\n",
       "    }\n",
       "\n",
       "    .dataframe thead th {\n",
       "        text-align: right;\n",
       "    }\n",
       "</style>\n",
       "<table border=\"1\" class=\"dataframe\">\n",
       "  <thead>\n",
       "    <tr style=\"text-align: right;\">\n",
       "      <th></th>\n",
       "      <th>file_name</th>\n",
       "      <th>label</th>\n",
       "    </tr>\n",
       "  </thead>\n",
       "  <tbody>\n",
       "    <tr>\n",
       "      <th>0</th>\n",
       "      <td>IMAGE_0000.jpg</td>\n",
       "      <td>tumor</td>\n",
       "    </tr>\n",
       "    <tr>\n",
       "      <th>1</th>\n",
       "      <td>IMAGE_0001.jpg</td>\n",
       "      <td>tumor</td>\n",
       "    </tr>\n",
       "    <tr>\n",
       "      <th>2</th>\n",
       "      <td>IMAGE_0002.jpg</td>\n",
       "      <td>tumor</td>\n",
       "    </tr>\n",
       "    <tr>\n",
       "      <th>3</th>\n",
       "      <td>IMAGE_0003.jpg</td>\n",
       "      <td>tumor</td>\n",
       "    </tr>\n",
       "    <tr>\n",
       "      <th>4</th>\n",
       "      <td>IMAGE_0004.jpg</td>\n",
       "      <td>tumor</td>\n",
       "    </tr>\n",
       "    <tr>\n",
       "      <th>...</th>\n",
       "      <td>...</td>\n",
       "      <td>...</td>\n",
       "    </tr>\n",
       "    <tr>\n",
       "      <th>195</th>\n",
       "      <td>IMAGE_0195.jpg</td>\n",
       "      <td>tumor</td>\n",
       "    </tr>\n",
       "    <tr>\n",
       "      <th>196</th>\n",
       "      <td>IMAGE_0196.jpg</td>\n",
       "      <td>no_tumor</td>\n",
       "    </tr>\n",
       "    <tr>\n",
       "      <th>197</th>\n",
       "      <td>IMAGE_0197.jpg</td>\n",
       "      <td>tumor</td>\n",
       "    </tr>\n",
       "    <tr>\n",
       "      <th>198</th>\n",
       "      <td>IMAGE_0198.jpg</td>\n",
       "      <td>no_tumor</td>\n",
       "    </tr>\n",
       "    <tr>\n",
       "      <th>199</th>\n",
       "      <td>IMAGE_0199.jpg</td>\n",
       "      <td>tumor</td>\n",
       "    </tr>\n",
       "  </tbody>\n",
       "</table>\n",
       "<p>200 rows × 2 columns</p>\n",
       "</div>\n",
       "      <button class=\"colab-df-convert\" onclick=\"convertToInteractive('df-bc2bff28-6539-49b2-9a56-0430cebca618')\"\n",
       "              title=\"Convert this dataframe to an interactive table.\"\n",
       "              style=\"display:none;\">\n",
       "        \n",
       "  <svg xmlns=\"http://www.w3.org/2000/svg\" height=\"24px\"viewBox=\"0 0 24 24\"\n",
       "       width=\"24px\">\n",
       "    <path d=\"M0 0h24v24H0V0z\" fill=\"none\"/>\n",
       "    <path d=\"M18.56 5.44l.94 2.06.94-2.06 2.06-.94-2.06-.94-.94-2.06-.94 2.06-2.06.94zm-11 1L8.5 8.5l.94-2.06 2.06-.94-2.06-.94L8.5 2.5l-.94 2.06-2.06.94zm10 10l.94 2.06.94-2.06 2.06-.94-2.06-.94-.94-2.06-.94 2.06-2.06.94z\"/><path d=\"M17.41 7.96l-1.37-1.37c-.4-.4-.92-.59-1.43-.59-.52 0-1.04.2-1.43.59L10.3 9.45l-7.72 7.72c-.78.78-.78 2.05 0 2.83L4 21.41c.39.39.9.59 1.41.59.51 0 1.02-.2 1.41-.59l7.78-7.78 2.81-2.81c.8-.78.8-2.07 0-2.86zM5.41 20L4 18.59l7.72-7.72 1.47 1.35L5.41 20z\"/>\n",
       "  </svg>\n",
       "      </button>\n",
       "      \n",
       "  <style>\n",
       "    .colab-df-container {\n",
       "      display:flex;\n",
       "      flex-wrap:wrap;\n",
       "      gap: 12px;\n",
       "    }\n",
       "\n",
       "    .colab-df-convert {\n",
       "      background-color: #E8F0FE;\n",
       "      border: none;\n",
       "      border-radius: 50%;\n",
       "      cursor: pointer;\n",
       "      display: none;\n",
       "      fill: #1967D2;\n",
       "      height: 32px;\n",
       "      padding: 0 0 0 0;\n",
       "      width: 32px;\n",
       "    }\n",
       "\n",
       "    .colab-df-convert:hover {\n",
       "      background-color: #E2EBFA;\n",
       "      box-shadow: 0px 1px 2px rgba(60, 64, 67, 0.3), 0px 1px 3px 1px rgba(60, 64, 67, 0.15);\n",
       "      fill: #174EA6;\n",
       "    }\n",
       "\n",
       "    [theme=dark] .colab-df-convert {\n",
       "      background-color: #3B4455;\n",
       "      fill: #D2E3FC;\n",
       "    }\n",
       "\n",
       "    [theme=dark] .colab-df-convert:hover {\n",
       "      background-color: #434B5C;\n",
       "      box-shadow: 0px 1px 3px 1px rgba(0, 0, 0, 0.15);\n",
       "      filter: drop-shadow(0px 1px 2px rgba(0, 0, 0, 0.3));\n",
       "      fill: #FFFFFF;\n",
       "    }\n",
       "  </style>\n",
       "\n",
       "      <script>\n",
       "        const buttonEl =\n",
       "          document.querySelector('#df-bc2bff28-6539-49b2-9a56-0430cebca618 button.colab-df-convert');\n",
       "        buttonEl.style.display =\n",
       "          google.colab.kernel.accessAllowed ? 'block' : 'none';\n",
       "\n",
       "        async function convertToInteractive(key) {\n",
       "          const element = document.querySelector('#df-bc2bff28-6539-49b2-9a56-0430cebca618');\n",
       "          const dataTable =\n",
       "            await google.colab.kernel.invokeFunction('convertToInteractive',\n",
       "                                                     [key], {});\n",
       "          if (!dataTable) return;\n",
       "\n",
       "          const docLinkHtml = 'Like what you see? Visit the ' +\n",
       "            '<a target=\"_blank\" href=https://colab.research.google.com/notebooks/data_table.ipynb>data table notebook</a>'\n",
       "            + ' to learn more about interactive tables.';\n",
       "          element.innerHTML = '';\n",
       "          dataTable['output_type'] = 'display_data';\n",
       "          await google.colab.output.renderOutput(dataTable, element);\n",
       "          const docLink = document.createElement('div');\n",
       "          docLink.innerHTML = docLinkHtml;\n",
       "          element.appendChild(docLink);\n",
       "        }\n",
       "      </script>\n",
       "    </div>\n",
       "  </div>\n",
       "  "
      ],
      "text/plain": [
       "          file_name     label\n",
       "0    IMAGE_0000.jpg     tumor\n",
       "1    IMAGE_0001.jpg     tumor\n",
       "2    IMAGE_0002.jpg     tumor\n",
       "3    IMAGE_0003.jpg     tumor\n",
       "4    IMAGE_0004.jpg     tumor\n",
       "..              ...       ...\n",
       "195  IMAGE_0195.jpg     tumor\n",
       "196  IMAGE_0196.jpg  no_tumor\n",
       "197  IMAGE_0197.jpg     tumor\n",
       "198  IMAGE_0198.jpg  no_tumor\n",
       "199  IMAGE_0199.jpg     tumor\n",
       "\n",
       "[200 rows x 2 columns]"
      ]
     },
     "execution_count": 41,
     "metadata": {},
     "output_type": "execute_result"
    }
   ],
   "source": [
    "new_tumour_labels"
   ]
  },
  {
   "cell_type": "code",
   "execution_count": 42,
   "id": "a7a87930",
   "metadata": {
    "executionInfo": {
     "elapsed": 19,
     "status": "ok",
     "timestamp": 1640622225849,
     "user": {
      "displayName": "Yousef Mahmoud",
      "photoUrl": "https://lh3.googleusercontent.com/a/default-user=s64",
      "userId": "02029842566020735723"
     },
     "user_tz": -180
    },
    "id": "8bf6d644"
   },
   "outputs": [],
   "source": [
    "for CLASS in classes:\n",
    "    new_tumour_labels.loc[new_tumour_labels['label'] == CLASS, 'numeric label'] = classes.index(CLASS)"
   ]
  },
  {
   "cell_type": "code",
   "execution_count": 43,
   "id": "708e9874",
   "metadata": {
    "colab": {
     "base_uri": "https://localhost:8080/",
     "height": 423
    },
    "executionInfo": {
     "elapsed": 19,
     "status": "ok",
     "timestamp": 1640622225850,
     "user": {
      "displayName": "Yousef Mahmoud",
      "photoUrl": "https://lh3.googleusercontent.com/a/default-user=s64",
      "userId": "02029842566020735723"
     },
     "user_tz": -180
    },
    "id": "19bfe409",
    "outputId": "47fd249b-aa87-40df-8621-df161f19599e"
   },
   "outputs": [
    {
     "data": {
      "text/html": [
       "\n",
       "  <div id=\"df-8e73df4d-5b6d-434c-8969-c9c0a30e094e\">\n",
       "    <div class=\"colab-df-container\">\n",
       "      <div>\n",
       "<style scoped>\n",
       "    .dataframe tbody tr th:only-of-type {\n",
       "        vertical-align: middle;\n",
       "    }\n",
       "\n",
       "    .dataframe tbody tr th {\n",
       "        vertical-align: top;\n",
       "    }\n",
       "\n",
       "    .dataframe thead th {\n",
       "        text-align: right;\n",
       "    }\n",
       "</style>\n",
       "<table border=\"1\" class=\"dataframe\">\n",
       "  <thead>\n",
       "    <tr style=\"text-align: right;\">\n",
       "      <th></th>\n",
       "      <th>file_name</th>\n",
       "      <th>label</th>\n",
       "      <th>numeric label</th>\n",
       "    </tr>\n",
       "  </thead>\n",
       "  <tbody>\n",
       "    <tr>\n",
       "      <th>0</th>\n",
       "      <td>IMAGE_0000.jpg</td>\n",
       "      <td>tumor</td>\n",
       "      <td>1.0</td>\n",
       "    </tr>\n",
       "    <tr>\n",
       "      <th>1</th>\n",
       "      <td>IMAGE_0001.jpg</td>\n",
       "      <td>tumor</td>\n",
       "      <td>1.0</td>\n",
       "    </tr>\n",
       "    <tr>\n",
       "      <th>2</th>\n",
       "      <td>IMAGE_0002.jpg</td>\n",
       "      <td>tumor</td>\n",
       "      <td>1.0</td>\n",
       "    </tr>\n",
       "    <tr>\n",
       "      <th>3</th>\n",
       "      <td>IMAGE_0003.jpg</td>\n",
       "      <td>tumor</td>\n",
       "      <td>1.0</td>\n",
       "    </tr>\n",
       "    <tr>\n",
       "      <th>4</th>\n",
       "      <td>IMAGE_0004.jpg</td>\n",
       "      <td>tumor</td>\n",
       "      <td>1.0</td>\n",
       "    </tr>\n",
       "    <tr>\n",
       "      <th>...</th>\n",
       "      <td>...</td>\n",
       "      <td>...</td>\n",
       "      <td>...</td>\n",
       "    </tr>\n",
       "    <tr>\n",
       "      <th>195</th>\n",
       "      <td>IMAGE_0195.jpg</td>\n",
       "      <td>tumor</td>\n",
       "      <td>1.0</td>\n",
       "    </tr>\n",
       "    <tr>\n",
       "      <th>196</th>\n",
       "      <td>IMAGE_0196.jpg</td>\n",
       "      <td>no_tumor</td>\n",
       "      <td>0.0</td>\n",
       "    </tr>\n",
       "    <tr>\n",
       "      <th>197</th>\n",
       "      <td>IMAGE_0197.jpg</td>\n",
       "      <td>tumor</td>\n",
       "      <td>1.0</td>\n",
       "    </tr>\n",
       "    <tr>\n",
       "      <th>198</th>\n",
       "      <td>IMAGE_0198.jpg</td>\n",
       "      <td>no_tumor</td>\n",
       "      <td>0.0</td>\n",
       "    </tr>\n",
       "    <tr>\n",
       "      <th>199</th>\n",
       "      <td>IMAGE_0199.jpg</td>\n",
       "      <td>tumor</td>\n",
       "      <td>1.0</td>\n",
       "    </tr>\n",
       "  </tbody>\n",
       "</table>\n",
       "<p>200 rows × 3 columns</p>\n",
       "</div>\n",
       "      <button class=\"colab-df-convert\" onclick=\"convertToInteractive('df-8e73df4d-5b6d-434c-8969-c9c0a30e094e')\"\n",
       "              title=\"Convert this dataframe to an interactive table.\"\n",
       "              style=\"display:none;\">\n",
       "        \n",
       "  <svg xmlns=\"http://www.w3.org/2000/svg\" height=\"24px\"viewBox=\"0 0 24 24\"\n",
       "       width=\"24px\">\n",
       "    <path d=\"M0 0h24v24H0V0z\" fill=\"none\"/>\n",
       "    <path d=\"M18.56 5.44l.94 2.06.94-2.06 2.06-.94-2.06-.94-.94-2.06-.94 2.06-2.06.94zm-11 1L8.5 8.5l.94-2.06 2.06-.94-2.06-.94L8.5 2.5l-.94 2.06-2.06.94zm10 10l.94 2.06.94-2.06 2.06-.94-2.06-.94-.94-2.06-.94 2.06-2.06.94z\"/><path d=\"M17.41 7.96l-1.37-1.37c-.4-.4-.92-.59-1.43-.59-.52 0-1.04.2-1.43.59L10.3 9.45l-7.72 7.72c-.78.78-.78 2.05 0 2.83L4 21.41c.39.39.9.59 1.41.59.51 0 1.02-.2 1.41-.59l7.78-7.78 2.81-2.81c.8-.78.8-2.07 0-2.86zM5.41 20L4 18.59l7.72-7.72 1.47 1.35L5.41 20z\"/>\n",
       "  </svg>\n",
       "      </button>\n",
       "      \n",
       "  <style>\n",
       "    .colab-df-container {\n",
       "      display:flex;\n",
       "      flex-wrap:wrap;\n",
       "      gap: 12px;\n",
       "    }\n",
       "\n",
       "    .colab-df-convert {\n",
       "      background-color: #E8F0FE;\n",
       "      border: none;\n",
       "      border-radius: 50%;\n",
       "      cursor: pointer;\n",
       "      display: none;\n",
       "      fill: #1967D2;\n",
       "      height: 32px;\n",
       "      padding: 0 0 0 0;\n",
       "      width: 32px;\n",
       "    }\n",
       "\n",
       "    .colab-df-convert:hover {\n",
       "      background-color: #E2EBFA;\n",
       "      box-shadow: 0px 1px 2px rgba(60, 64, 67, 0.3), 0px 1px 3px 1px rgba(60, 64, 67, 0.15);\n",
       "      fill: #174EA6;\n",
       "    }\n",
       "\n",
       "    [theme=dark] .colab-df-convert {\n",
       "      background-color: #3B4455;\n",
       "      fill: #D2E3FC;\n",
       "    }\n",
       "\n",
       "    [theme=dark] .colab-df-convert:hover {\n",
       "      background-color: #434B5C;\n",
       "      box-shadow: 0px 1px 3px 1px rgba(0, 0, 0, 0.15);\n",
       "      filter: drop-shadow(0px 1px 2px rgba(0, 0, 0, 0.3));\n",
       "      fill: #FFFFFF;\n",
       "    }\n",
       "  </style>\n",
       "\n",
       "      <script>\n",
       "        const buttonEl =\n",
       "          document.querySelector('#df-8e73df4d-5b6d-434c-8969-c9c0a30e094e button.colab-df-convert');\n",
       "        buttonEl.style.display =\n",
       "          google.colab.kernel.accessAllowed ? 'block' : 'none';\n",
       "\n",
       "        async function convertToInteractive(key) {\n",
       "          const element = document.querySelector('#df-8e73df4d-5b6d-434c-8969-c9c0a30e094e');\n",
       "          const dataTable =\n",
       "            await google.colab.kernel.invokeFunction('convertToInteractive',\n",
       "                                                     [key], {});\n",
       "          if (!dataTable) return;\n",
       "\n",
       "          const docLinkHtml = 'Like what you see? Visit the ' +\n",
       "            '<a target=\"_blank\" href=https://colab.research.google.com/notebooks/data_table.ipynb>data table notebook</a>'\n",
       "            + ' to learn more about interactive tables.';\n",
       "          element.innerHTML = '';\n",
       "          dataTable['output_type'] = 'display_data';\n",
       "          await google.colab.output.renderOutput(dataTable, element);\n",
       "          const docLink = document.createElement('div');\n",
       "          docLink.innerHTML = docLinkHtml;\n",
       "          element.appendChild(docLink);\n",
       "        }\n",
       "      </script>\n",
       "    </div>\n",
       "  </div>\n",
       "  "
      ],
      "text/plain": [
       "          file_name     label  numeric label\n",
       "0    IMAGE_0000.jpg     tumor            1.0\n",
       "1    IMAGE_0001.jpg     tumor            1.0\n",
       "2    IMAGE_0002.jpg     tumor            1.0\n",
       "3    IMAGE_0003.jpg     tumor            1.0\n",
       "4    IMAGE_0004.jpg     tumor            1.0\n",
       "..              ...       ...            ...\n",
       "195  IMAGE_0195.jpg     tumor            1.0\n",
       "196  IMAGE_0196.jpg  no_tumor            0.0\n",
       "197  IMAGE_0197.jpg     tumor            1.0\n",
       "198  IMAGE_0198.jpg  no_tumor            0.0\n",
       "199  IMAGE_0199.jpg     tumor            1.0\n",
       "\n",
       "[200 rows x 3 columns]"
      ]
     },
     "execution_count": 43,
     "metadata": {},
     "output_type": "execute_result"
    }
   ],
   "source": [
    "new_tumour_labels"
   ]
  },
  {
   "cell_type": "code",
   "execution_count": 44,
   "id": "d61a3576",
   "metadata": {
    "colab": {
     "base_uri": "https://localhost:8080/",
     "height": 332
    },
    "executionInfo": {
     "elapsed": 5456,
     "status": "ok",
     "timestamp": 1640622231288,
     "user": {
      "displayName": "Yousef Mahmoud",
      "photoUrl": "https://lh3.googleusercontent.com/a/default-user=s64",
      "userId": "02029842566020735723"
     },
     "user_tz": -180
    },
    "id": "abf3d754",
    "outputId": "e51ac376-4f85-4fd2-80ca-daef7f90a63d"
   },
   "outputs": [
    {
     "name": "stdout",
     "output_type": "stream",
     "text": [
      "The time elapsed to load the images was:  0:00:04.657637\n",
      "(200, 512, 512)\n"
     ]
    },
    {
     "data": {
      "image/png": "[encoded data removed]",
      "text/plain": [
       "<Figure size 432x288 with 1 Axes>"
      ]
     },
     "metadata": {
      "needs_background": "light"
     },
     "output_type": "display_data"
    }
   ],
   "source": [
    "#Uncomment to verify contents of the directory loaded\n",
    "\n",
    "\"\"\" directoryNEW contains the path of the image folder of the new test set on the computer for running on Jupyter notebook when all files are in the same directory  \n",
    "    drive_directoryNEW contains the path of the image folder of the new test set on Google Drive for when Colab was being used for higher computational power.\n",
    "\n",
    "    NOTE: As the order of the images was reshuffled when being uploaded to Google Drive due to internet speeds, we must use sorted() at the\n",
    "    beginning of the for-loop when using dirpath otherwise the images will not be loaded in the order matching their corresponding labels. \n",
    "    Explicity this means when using Colab the for loop should read \"for file in sorted(listdir(drive_directory))\" instead of\n",
    "    \"for file in listdir(directory)\".\n",
    "    \n",
    "    Change the name of the path in the for loop accordingly.\"\"\"\n",
    "\n",
    "#Defines the directory name and stores it in dirname\n",
    "drive_directoryNEW = '/content/drive/MyDrive/Colab Notebooks/test/image'\n",
    "directoryNEW = './test/image'\n",
    "#print(listdir(dirname))\n",
    "\n",
    "#Code used to test timing\n",
    "\n",
    "start = datetime.now() #Stores the time at which loading starts\n",
    "\n",
    "validation_images = [] #An empty list is created to store the images from the new test set uploaded most recently \n",
    "\n",
    "\"\"\"The for loop below uses listdir to iterate through names of all the files in the directory and uses to\n",
    "populate the list images. The image is converted into grayscale using rgb2gray as this grayscale images only\n",
    "have one channel which will increase efficiency of the code as we and decrease complexity whilst still yielding \n",
    "similar results. Testing carried out by me showed that we should stick to grayscale.\n",
    "\n",
    "The user can optionally comment out lines 23-25 and uncomment lines 27 and 28 to leave the image in RGB rather\n",
    "than convert it to grayscale\"\"\"\n",
    "\n",
    "for file in sorted(listdir(directoryNEW)):\n",
    "    img = io.imread(directoryNEW + '/' + file)\n",
    "    gray_img = rgb2gray(img)\n",
    "    gray_img = np.array(gray_img)\n",
    "    validation_images.append(gray_img)\n",
    "    \n",
    "    #img = np.array(img)\n",
    "    #images.append(img) \n",
    "        \n",
    "#Marking the end of the code loading the images \n",
    "end = datetime.now()\n",
    "elapsed = end - start #Calculating time elapsed while comparing different packages used to load images\n",
    "print('The time elapsed to load the images was: ', + elapsed) \n",
    "\n",
    "\"\"\"Below we chose a random image from the dataset (image[45]) to show below so the user can visually verify\n",
    "the type of image. We apply a red colormap in the imshow function so that if the image is shown with red tones\n",
    "the user knows it was converted to grayscale and if it shows as a regular black and white MRI then it was not.\"\"\"\n",
    "\n",
    "io.imshow(np.array(validation_images[45]), cmap='Reds') #red colormap only appears if grayscale image\n",
    "print(np.array(validation_images).shape) #Converting list images to a numpy array before outputting shape to verify "
   ]
  },
  {
   "cell_type": "markdown",
   "id": "5ed2f01f",
   "metadata": {
    "id": "f499f917"
   },
   "source": [
    "The data is stored in xVal (images) and yVal (labels) and there is no need for splitting the data. This is because the models are already trained we are using the entirety of the 'test' zip folder for testing and none of it is used for training. Hence, we immediately test the new data after preprocessing.\n",
    "\n",
    "We name the new test data with the keyword \"Val\" to indicate the new data is being used to validate the previously trained model works on unseen data."
   ]
  },
  {
   "cell_type": "code",
   "execution_count": 45,
   "id": "e85cad50",
   "metadata": {
    "colab": {
     "base_uri": "https://localhost:8080/"
    },
    "executionInfo": {
     "elapsed": 12,
     "status": "ok",
     "timestamp": 1640622231289,
     "user": {
      "displayName": "Yousef Mahmoud",
      "photoUrl": "https://lh3.googleusercontent.com/a/default-user=s64",
      "userId": "02029842566020735723"
     },
     "user_tz": -180
    },
    "id": "61e835ce",
    "outputId": "e68787b9-8a2f-4d98-85ed-a433685b9ff5"
   },
   "outputs": [
    {
     "name": "stdout",
     "output_type": "stream",
     "text": [
      "(200, 512, 512)\n"
     ]
    }
   ],
   "source": [
    "xVal = np.array(validation_images) #images converted to a numpy array first\n",
    "yVal = new_tumour_labels['numeric label']\n",
    "\n",
    "print(xVal.shape) #We print the shape of x_val to ensure the features in the testing set are of the quantity expected\n"
   ]
  },
  {
   "cell_type": "markdown",
   "id": "009a99d0",
   "metadata": {
    "id": "60ee5d8d"
   },
   "source": [
    "## Preprocessing: HOG and PCA\n",
    "\n",
    "The process carried out is identical to that used for the original 'dataset' but none of the data is used for training.\n",
    "\n",
    "A histogram of oriented gradients feature vector and image is generated for each image in the new unseen separate 'test' dataset. The feature vectors are appended to a list and then converted using a numpy array to create a feature matrix.\n",
    "\n",
    "Using `.transform()` instead of `.fit_transform()`, we apply `StandardScaler()` and `PCA()` to the new test set. This ensure the same parameters calculated for the original training data are used when performing the transformation for the new test data."
   ]
  },
  {
   "cell_type": "code",
   "execution_count": 46,
   "id": "8c37b71d",
   "metadata": {
    "executionInfo": {
     "elapsed": 36772,
     "status": "ok",
     "timestamp": 1640622268054,
     "user": {
      "displayName": "Yousef Mahmoud",
      "photoUrl": "https://lh3.googleusercontent.com/a/default-user=s64",
      "userId": "02029842566020735723"
     },
     "user_tz": -180
    },
    "id": "f0aa6e05"
   },
   "outputs": [],
   "source": [
    "validation_features_hog = []\n",
    "validation_images_hog = []\n",
    "\n",
    "for index in range(len(xVal)):\n",
    "    hog_feature_val, hog_image_val = hog(xVal[index], visualize = True, block_norm = 'L2-Hys', pixels_per_cell=(16,16))\n",
    "    validation_features_hog.append(hog_feature_val)\n",
    "    validation_images_hog.append(hog_image_val)\n"
   ]
  },
  {
   "cell_type": "code",
   "execution_count": 47,
   "id": "bbce34f7",
   "metadata": {
    "colab": {
     "base_uri": "https://localhost:8080/"
    },
    "executionInfo": {
     "elapsed": 45,
     "status": "ok",
     "timestamp": 1640622268055,
     "user": {
      "displayName": "Yousef Mahmoud",
      "photoUrl": "https://lh3.googleusercontent.com/a/default-user=s64",
      "userId": "02029842566020735723"
     },
     "user_tz": -180
    },
    "id": "b293b555",
    "outputId": "1faac4e6-43e0-45b4-b4a0-bfea3a3d0356"
   },
   "outputs": [
    {
     "name": "stdout",
     "output_type": "stream",
     "text": [
      "(200, 72900)\n",
      "(200, 512, 512)\n"
     ]
    }
   ],
   "source": [
    "print(np.array(validation_features_hog).shape)\n",
    "print(np.array(validation_images_hog).shape)"
   ]
  },
  {
   "cell_type": "code",
   "execution_count": 48,
   "id": "b7ab4fb1",
   "metadata": {
    "colab": {
     "base_uri": "https://localhost:8080/"
    },
    "executionInfo": {
     "elapsed": 13,
     "status": "ok",
     "timestamp": 1640622268056,
     "user": {
      "displayName": "Yousef Mahmoud",
      "photoUrl": "https://lh3.googleusercontent.com/a/default-user=s64",
      "userId": "02029842566020735723"
     },
     "user_tz": -180
    },
    "id": "4a8f86ad",
    "outputId": "fb5f9553-7116-426f-c943-d97f13cf6ee1"
   },
   "outputs": [
    {
     "name": "stdout",
     "output_type": "stream",
     "text": [
      "(200, 72900)\n"
     ]
    }
   ],
   "source": [
    "validation_feature_matrix = np.array(validation_features_hog)\n",
    "print(validation_feature_matrix.shape)"
   ]
  },
  {
   "cell_type": "code",
   "execution_count": 49,
   "id": "36818a17",
   "metadata": {
    "colab": {
     "base_uri": "https://localhost:8080/"
    },
    "executionInfo": {
     "elapsed": 10,
     "status": "ok",
     "timestamp": 1640622268057,
     "user": {
      "displayName": "Yousef Mahmoud",
      "photoUrl": "https://lh3.googleusercontent.com/a/default-user=s64",
      "userId": "02029842566020735723"
     },
     "user_tz": -180
    },
    "id": "f017206d",
    "outputId": "d994798e-33e8-4c96-92c3-3271753e7312"
   },
   "outputs": [
    {
     "name": "stdout",
     "output_type": "stream",
     "text": [
      "(200, 72900)\n"
     ]
    }
   ],
   "source": [
    "validation_feature_matrix = std_scl.transform(validation_feature_matrix)\n",
    "print(validation_feature_matrix.shape)"
   ]
  },
  {
   "cell_type": "code",
   "execution_count": 50,
   "id": "cce8311d",
   "metadata": {
    "executionInfo": {
     "elapsed": 534,
     "status": "ok",
     "timestamp": 1640622268584,
     "user": {
      "displayName": "Yousef Mahmoud",
      "photoUrl": "https://lh3.googleusercontent.com/a/default-user=s64",
      "userId": "02029842566020735723"
     },
     "user_tz": -180
    },
    "id": "4f5675d5"
   },
   "outputs": [],
   "source": [
    "pca_xVal = pca_final.transform(validation_feature_matrix)"
   ]
  },
  {
   "cell_type": "code",
   "execution_count": 51,
   "id": "39913c51",
   "metadata": {
    "colab": {
     "base_uri": "https://localhost:8080/"
    },
    "executionInfo": {
     "elapsed": 26,
     "status": "ok",
     "timestamp": 1640622268586,
     "user": {
      "displayName": "Yousef Mahmoud",
      "photoUrl": "https://lh3.googleusercontent.com/a/default-user=s64",
      "userId": "02029842566020735723"
     },
     "user_tz": -180
    },
    "id": "5f726ff7",
    "outputId": "7f22880c-3d52-4a0c-db9b-ff7c045d1b7e"
   },
   "outputs": [
    {
     "name": "stdout",
     "output_type": "stream",
     "text": [
      "(200, 1409)\n"
     ]
    }
   ],
   "source": [
    "print(pca_xVal.shape) #We print shape after PCA to ensure it has the same no. of features as xTrain and xTest after PCA"
   ]
  },
  {
   "cell_type": "markdown",
   "id": "b3150e20",
   "metadata": {
    "id": "43771b91"
   },
   "source": [
    "## Testing Model 1\n",
    "\n",
    "Testing Model 1 by making predictions on `pca_xVal` and then printing out an accuracy score, classification report and confusion matrix."
   ]
  },
  {
   "cell_type": "code",
   "execution_count": 52,
   "id": "3e47acc7",
   "metadata": {
    "executionInfo": {
     "elapsed": 23,
     "status": "ok",
     "timestamp": 1640622268588,
     "user": {
      "displayName": "Yousef Mahmoud",
      "photoUrl": "https://lh3.googleusercontent.com/a/default-user=s64",
      "userId": "02029842566020735723"
     },
     "user_tz": -180
    },
    "id": "8d0911d8"
   },
   "outputs": [],
   "source": [
    "y_val_Pred_model = modelLogReg.predict(pca_xVal)"
   ]
  },
  {
   "cell_type": "code",
   "execution_count": 53,
   "id": "40fba660",
   "metadata": {
    "colab": {
     "base_uri": "https://localhost:8080/"
    },
    "executionInfo": {
     "elapsed": 24,
     "status": "ok",
     "timestamp": 1640622268590,
     "user": {
      "displayName": "Yousef Mahmoud",
      "photoUrl": "https://lh3.googleusercontent.com/a/default-user=s64",
      "userId": "02029842566020735723"
     },
     "user_tz": -180
    },
    "id": "d834bdf0",
    "outputId": "61d53a7e-34ed-43fd-8ee3-6135953504f9"
   },
   "outputs": [
    {
     "name": "stdout",
     "output_type": "stream",
     "text": [
      "Accuracy on new validation set: 0.965\n",
      "              precision    recall  f1-score   support\n",
      "\n",
      "         0.0       1.00      0.81      0.90        37\n",
      "         1.0       0.96      1.00      0.98       163\n",
      "\n",
      "    accuracy                           0.96       200\n",
      "   macro avg       0.98      0.91      0.94       200\n",
      "weighted avg       0.97      0.96      0.96       200\n",
      "\n"
     ]
    }
   ],
   "source": [
    "print('Accuracy on new validation set: '+str(accuracy_score(yVal,y_val_Pred_model)))\n",
    "print(classification_report(yVal,y_val_Pred_model)) #A text report displaying the main classification metrics"
   ]
  },
  {
   "cell_type": "code",
   "execution_count": 54,
   "id": "0863367e",
   "metadata": {
    "executionInfo": {
     "elapsed": 17,
     "status": "ok",
     "timestamp": 1640622268591,
     "user": {
      "displayName": "Yousef Mahmoud",
      "photoUrl": "https://lh3.googleusercontent.com/a/default-user=s64",
      "userId": "02029842566020735723"
     },
     "user_tz": -180
    },
    "id": "d66ddefd"
   },
   "outputs": [],
   "source": [
    "acc_new_model = modelLogReg.score(pca_xVal, yVal)"
   ]
  },
  {
   "cell_type": "code",
   "execution_count": 55,
   "id": "52cf6ce7",
   "metadata": {
    "executionInfo": {
     "elapsed": 18,
     "status": "ok",
     "timestamp": 1640622268593,
     "user": {
      "displayName": "Yousef Mahmoud",
      "photoUrl": "https://lh3.googleusercontent.com/a/default-user=s64",
      "userId": "02029842566020735723"
     },
     "user_tz": -180
    },
    "id": "a5f10d11"
   },
   "outputs": [],
   "source": [
    "new_cm_model = confusion_matrix(yVal, y_val_Pred_model)"
   ]
  },
  {
   "cell_type": "code",
   "execution_count": 56,
   "id": "2bbce552",
   "metadata": {
    "colab": {
     "base_uri": "https://localhost:8080/",
     "height": 526
    },
    "executionInfo": {
     "elapsed": 789,
     "status": "ok",
     "timestamp": 1640622269365,
     "user": {
      "displayName": "Yousef Mahmoud",
      "photoUrl": "https://lh3.googleusercontent.com/a/default-user=s64",
      "userId": "02029842566020735723"
     },
     "user_tz": -180
    },
    "id": "607a2019",
    "outputId": "ac42e169-facc-4da5-9f4e-49e402e29bab"
   },
   "outputs": [
    {
     "data": {
      "image/png": "[encoded data removed]",
      "text/plain": [
       "<Figure size 648x648 with 2 Axes>"
      ]
     },
     "metadata": {
      "needs_background": "light"
     },
     "output_type": "display_data"
    }
   ],
   "source": [
    "plt.figure(figsize=(9,9))\n",
    "sns.heatmap(new_cm_model, annot=True, fmt=\".3f\", linewidths=.5, square = True, cmap = 'Blues_r');\n",
    "plt.ylabel('Actual label');\n",
    "plt.xlabel('Predicted label');\n",
    "all_sample_title = 'Accuracy Score: {0}'.format(acc_new_model)\n",
    "plt.title(all_sample_title, size = 15);"
   ]
  },
  {
   "cell_type": "markdown",
   "id": "60e0d9e8",
   "metadata": {
    "id": "33f0eccf"
   },
   "source": [
    "## Testing the model with hypertuned parameters on new 'test' set\n",
    "\n",
    "Using the new unseen test set on the tuned model to generate an accuracy score, classification report and confusion matrix."
   ]
  },
  {
   "cell_type": "code",
   "execution_count": 57,
   "id": "a7575e10",
   "metadata": {
    "colab": {
     "base_uri": "https://localhost:8080/"
    },
    "executionInfo": {
     "elapsed": 33,
     "status": "ok",
     "timestamp": 1640622269366,
     "user": {
      "displayName": "Yousef Mahmoud",
      "photoUrl": "https://lh3.googleusercontent.com/a/default-user=s64",
      "userId": "02029842566020735723"
     },
     "user_tz": -180
    },
    "id": "db1528eb",
    "outputId": "4a620b19-c322-48f7-d95d-6eb6246af0cf"
   },
   "outputs": [
    {
     "name": "stdout",
     "output_type": "stream",
     "text": [
      "Accuracy on test set: 0.965\n",
      "              precision    recall  f1-score   support\n",
      "\n",
      "         0.0       1.00      0.81      0.90        37\n",
      "         1.0       0.96      1.00      0.98       163\n",
      "\n",
      "    accuracy                           0.96       200\n",
      "   macro avg       0.98      0.91      0.94       200\n",
      "weighted avg       0.97      0.96      0.96       200\n",
      "\n"
     ]
    }
   ],
   "source": [
    "tuned_predictions_newset = gridLogReg.predict(pca_xVal)\n",
    "print('Accuracy on test set: '+str(accuracy_score(yVal,tuned_predictions_newset)))\n",
    "print(classification_report(yVal,tuned_predictions_newset))"
   ]
  },
  {
   "cell_type": "code",
   "execution_count": 58,
   "id": "ccee90c5",
   "metadata": {
    "executionInfo": {
     "elapsed": 25,
     "status": "ok",
     "timestamp": 1640622269367,
     "user": {
      "displayName": "Yousef Mahmoud",
      "photoUrl": "https://lh3.googleusercontent.com/a/default-user=s64",
      "userId": "02029842566020735723"
     },
     "user_tz": -180
    },
    "id": "823670ca"
   },
   "outputs": [],
   "source": [
    "acc_tunedmodel_newset = gridLogReg.score(pca_xVal, yVal)"
   ]
  },
  {
   "cell_type": "code",
   "execution_count": 59,
   "id": "1e68c9a2",
   "metadata": {
    "executionInfo": {
     "elapsed": 25,
     "status": "ok",
     "timestamp": 1640622269368,
     "user": {
      "displayName": "Yousef Mahmoud",
      "photoUrl": "https://lh3.googleusercontent.com/a/default-user=s64",
      "userId": "02029842566020735723"
     },
     "user_tz": -180
    },
    "id": "81ac4cc5"
   },
   "outputs": [],
   "source": [
    "cm_tunedmodel_newset = confusion_matrix(yVal, tuned_predictions_newset)"
   ]
  },
  {
   "cell_type": "code",
   "execution_count": 60,
   "id": "c25186eb",
   "metadata": {
    "colab": {
     "base_uri": "https://localhost:8080/",
     "height": 526
    },
    "executionInfo": {
     "elapsed": 25,
     "status": "ok",
     "timestamp": 1640622269369,
     "user": {
      "displayName": "Yousef Mahmoud",
      "photoUrl": "https://lh3.googleusercontent.com/a/default-user=s64",
      "userId": "02029842566020735723"
     },
     "user_tz": -180
    },
    "id": "58883462",
    "outputId": "710464e3-2b2a-4d8b-ae4a-c1635f24c4b3"
   },
   "outputs": [
    {
     "data": {
      "image/png": "[encoded data removed]",
      "text/plain": [
       "<Figure size 648x648 with 2 Axes>"
      ]
     },
     "metadata": {
      "needs_background": "light"
     },
     "output_type": "display_data"
    }
   ],
   "source": [
    "plt.figure(figsize=(9,9))\n",
    "sns.heatmap(cm_tunedmodel_newset, annot=True, fmt=\".3f\", linewidths=.5, square = True, cmap = 'Blues_r');\n",
    "plt.ylabel('Actual label');\n",
    "plt.xlabel('Predicted label');\n",
    "all_sample_title = 'Accuracy Score: {0}'.format(acc_tunedmodel_newset)\n",
    "plt.title(all_sample_title, size = 15);"
   ]
  },
  {
   "cell_type": "code",
   "execution_count": 61,
   "id": "1474a87c",
   "metadata": {
    "colab": {
     "base_uri": "https://localhost:8080/"
    },
    "executionInfo": {
     "elapsed": 23,
     "status": "ok",
     "timestamp": 1640622269369,
     "user": {
      "displayName": "Yousef Mahmoud",
      "photoUrl": "https://lh3.googleusercontent.com/a/default-user=s64",
      "userId": "02029842566020735723"
     },
     "user_tz": -180
    },
    "id": "e35ccbd9",
    "outputId": "c611d2e3-4b07-43e3-9e81-0545ec4e971e"
   },
   "outputs": [
    {
     "name": "stdout",
     "output_type": "stream",
     "text": [
      "The time taken to run the script for Task A using Logistic Regression is:  0:22:08.486113\n"
     ]
    }
   ],
   "source": [
    "taskA_end = datetime.now()\n",
    "taskA_time = taskA_end - taskA_start\n",
    "print('The time taken to run the script for Task A using Logistic Regression is: ', taskA_time)"
   ]
  }
 ],
 "metadata": {
  "accelerator": "GPU",
  "colab": {
   "background_execution": "on",
   "collapsed_sections": [],
   "machine_shape": "hm",
   "name": "Task A using Logistic Regression.ipynb",
   "provenance": []
  },
  "kernelspec": {
   "display_name": "Python 3 (ipykernel)",
   "language": "python",
   "name": "python3"
  },
  "language_info": {
   "codemirror_mode": {
    "name": "ipython",
    "version": 3
   },
   "file_extension": ".py",
   "mimetype": "text/x-python",
   "name": "python",
   "nbconvert_exporter": "python",
   "pygments_lexer": "ipython3",
   "version": "3.7.11"
  }
 },
 "nbformat": 4,
 "nbformat_minor": 5
}
