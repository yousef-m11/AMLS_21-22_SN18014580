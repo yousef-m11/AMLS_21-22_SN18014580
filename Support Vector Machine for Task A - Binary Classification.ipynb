{
 "cells": [
  {
   "cell_type": "markdown",
   "id": "f659cb4b",
   "metadata": {},
   "source": [
    "# Applied Machine Learning Systems (MLS-1) - ELEC0134\n",
    "\n",
    "# Final Assignment - Classification of Tumours\n",
    "\n",
    "## Task A - Binary Classification using Support Vector Machine (SVM)\n",
    "\n",
    "## Completed b by Student Number: 18014580"
   ]
  },
  {
   "cell_type": "code",
   "execution_count": null,
   "id": "ee69bb40",
   "metadata": {},
   "outputs": [],
   "source": [
    "import pandas as pd\n",
    "import numpy as np\n",
    "import tensorflow as tf\n",
    "\n",
    "print('All import completed sucessfully')"
   ]
  },
  {
   "cell_type": "code",
   "execution_count": null,
   "id": "fc40c454",
   "metadata": {},
   "outputs": [],
   "source": []
  }
 ],
 "metadata": {
  "kernelspec": {
   "display_name": "Python 3 (ipykernel)",
   "language": "python",
   "name": "python3"
  },
  "language_info": {
   "codemirror_mode": {
    "name": "ipython",
    "version": 3
   },
   "file_extension": ".py",
   "mimetype": "text/x-python",
   "name": "python",
   "nbconvert_exporter": "python",
   "pygments_lexer": "ipython3",
   "version": "3.7.11"
  }
 },
 "nbformat": 4,
 "nbformat_minor": 5
}
