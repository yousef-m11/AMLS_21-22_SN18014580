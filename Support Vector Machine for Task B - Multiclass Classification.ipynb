{
 "cells": [
  {
   "cell_type": "markdown",
   "id": "9eabff53",
   "metadata": {},
   "source": [
    "# Applied Machine Learning Systems (MLS-1) - ELEC0134\n",
    "\n",
    "# Final Assignment - Classification of Tumours\n",
    "\n",
    "## Task B - Multiclass Classification (Identification) using SVM\n",
    "\n",
    "## Completed by Student Number - 18014580"
   ]
  },
  {
   "cell_type": "markdown",
   "id": "2c24e3b9",
   "metadata": {},
   "source": [
    "### Importing different pckages\n"
   ]
  },
  {
   "cell_type": "code",
   "execution_count": 1,
   "id": "a2760630",
   "metadata": {},
   "outputs": [
    {
     "name": "stdout",
     "output_type": "stream",
     "text": [
      "All imports carried out successfully\n"
     ]
    }
   ],
   "source": [
    "import pandas as pd\n",
    "import numpy as np\n",
    "# import tensorflow as tf\n",
    "from sklearn.model_selection import train_test_split\n",
    "from sklearn.svm import SVC\n",
    "from sklearn.metrics import confusion_matrix, classification_report,accuracy_score\n",
    "\n",
    "from skimage import io\n",
    "from skimage.io import imread, imshow\n",
    "\n",
    "from keras.preprocessing import image\n",
    "import matplotlib.pyplot as plt\n",
    "\n",
    "import os\n",
    "from os import listdir\n",
    "\n",
    "from datetime import datetime\n",
    "\n",
    "print(\"All imports carried out successfully\")"
   ]
  },
  {
   "cell_type": "code",
   "execution_count": 2,
   "id": "76677a53",
   "metadata": {},
   "outputs": [
    {
     "name": "stdout",
     "output_type": "stream",
     "text": [
      "(3000, 2)\n"
     ]
    }
   ],
   "source": [
    "#Loading the CSV file containing the labels\n",
    "tumour_labels = pd.read_csv('./dataset/label.csv')\n",
    "print(tumour_labels.shape) #outputs array with the number of features + feature number\n",
    "#tumour_labels.loc[tumour_labels['label']!= 'no_tumor', 'label'] = 'tumor'"
   ]
  },
  {
   "cell_type": "code",
   "execution_count": 3,
   "id": "703a7c3a",
   "metadata": {},
   "outputs": [
    {
     "data": {
      "text/html": [
       "<div>\n",
       "<style scoped>\n",
       "    .dataframe tbody tr th:only-of-type {\n",
       "        vertical-align: middle;\n",
       "    }\n",
       "\n",
       "    .dataframe tbody tr th {\n",
       "        vertical-align: top;\n",
       "    }\n",
       "\n",
       "    .dataframe thead th {\n",
       "        text-align: right;\n",
       "    }\n",
       "</style>\n",
       "<table border=\"1\" class=\"dataframe\">\n",
       "  <thead>\n",
       "    <tr style=\"text-align: right;\">\n",
       "      <th></th>\n",
       "      <th>file_name</th>\n",
       "      <th>label</th>\n",
       "    </tr>\n",
       "  </thead>\n",
       "  <tbody>\n",
       "    <tr>\n",
       "      <th>0</th>\n",
       "      <td>IMAGE_0000.jpg</td>\n",
       "      <td>meningioma_tumor</td>\n",
       "    </tr>\n",
       "    <tr>\n",
       "      <th>1</th>\n",
       "      <td>IMAGE_0001.jpg</td>\n",
       "      <td>no_tumor</td>\n",
       "    </tr>\n",
       "    <tr>\n",
       "      <th>2</th>\n",
       "      <td>IMAGE_0002.jpg</td>\n",
       "      <td>meningioma_tumor</td>\n",
       "    </tr>\n",
       "    <tr>\n",
       "      <th>3</th>\n",
       "      <td>IMAGE_0003.jpg</td>\n",
       "      <td>glioma_tumor</td>\n",
       "    </tr>\n",
       "    <tr>\n",
       "      <th>4</th>\n",
       "      <td>IMAGE_0004.jpg</td>\n",
       "      <td>meningioma_tumor</td>\n",
       "    </tr>\n",
       "    <tr>\n",
       "      <th>...</th>\n",
       "      <td>...</td>\n",
       "      <td>...</td>\n",
       "    </tr>\n",
       "    <tr>\n",
       "      <th>2995</th>\n",
       "      <td>IMAGE_2995.jpg</td>\n",
       "      <td>no_tumor</td>\n",
       "    </tr>\n",
       "    <tr>\n",
       "      <th>2996</th>\n",
       "      <td>IMAGE_2996.jpg</td>\n",
       "      <td>meningioma_tumor</td>\n",
       "    </tr>\n",
       "    <tr>\n",
       "      <th>2997</th>\n",
       "      <td>IMAGE_2997.jpg</td>\n",
       "      <td>glioma_tumor</td>\n",
       "    </tr>\n",
       "    <tr>\n",
       "      <th>2998</th>\n",
       "      <td>IMAGE_2998.jpg</td>\n",
       "      <td>glioma_tumor</td>\n",
       "    </tr>\n",
       "    <tr>\n",
       "      <th>2999</th>\n",
       "      <td>IMAGE_2999.jpg</td>\n",
       "      <td>pituitary_tumor</td>\n",
       "    </tr>\n",
       "  </tbody>\n",
       "</table>\n",
       "<p>3000 rows × 2 columns</p>\n",
       "</div>"
      ],
      "text/plain": [
       "           file_name             label\n",
       "0     IMAGE_0000.jpg  meningioma_tumor\n",
       "1     IMAGE_0001.jpg          no_tumor\n",
       "2     IMAGE_0002.jpg  meningioma_tumor\n",
       "3     IMAGE_0003.jpg      glioma_tumor\n",
       "4     IMAGE_0004.jpg  meningioma_tumor\n",
       "...              ...               ...\n",
       "2995  IMAGE_2995.jpg          no_tumor\n",
       "2996  IMAGE_2996.jpg  meningioma_tumor\n",
       "2997  IMAGE_2997.jpg      glioma_tumor\n",
       "2998  IMAGE_2998.jpg      glioma_tumor\n",
       "2999  IMAGE_2999.jpg   pituitary_tumor\n",
       "\n",
       "[3000 rows x 2 columns]"
      ]
     },
     "execution_count": 3,
     "metadata": {},
     "output_type": "execute_result"
    }
   ],
   "source": [
    "tumour_labels"
   ]
  },
  {
   "cell_type": "code",
   "execution_count": 4,
   "id": "40e981ef",
   "metadata": {},
   "outputs": [],
   "source": [
    "tumour_labels.loc[tumour_labels['label'] == 'meningioma_tumor', 'numeric label'] = int(3)\n",
    "tumour_labels.loc[tumour_labels['label'] == 'glioma_tumor', 'numeric label'] = int(2)\n",
    "tumour_labels.loc[tumour_labels['label'] == 'pituitary_tumor', 'numeric label'] = int(1)\n",
    "tumour_labels.loc[tumour_labels['label'] == 'no_tumor', 'numeric label'] = int(0)"
   ]
  },
  {
   "cell_type": "code",
   "execution_count": 5,
   "id": "8d37d976",
   "metadata": {},
   "outputs": [
    {
     "data": {
      "text/html": [
       "<div>\n",
       "<style scoped>\n",
       "    .dataframe tbody tr th:only-of-type {\n",
       "        vertical-align: middle;\n",
       "    }\n",
       "\n",
       "    .dataframe tbody tr th {\n",
       "        vertical-align: top;\n",
       "    }\n",
       "\n",
       "    .dataframe thead th {\n",
       "        text-align: right;\n",
       "    }\n",
       "</style>\n",
       "<table border=\"1\" class=\"dataframe\">\n",
       "  <thead>\n",
       "    <tr style=\"text-align: right;\">\n",
       "      <th></th>\n",
       "      <th>file_name</th>\n",
       "      <th>label</th>\n",
       "      <th>numeric label</th>\n",
       "    </tr>\n",
       "  </thead>\n",
       "  <tbody>\n",
       "    <tr>\n",
       "      <th>0</th>\n",
       "      <td>IMAGE_0000.jpg</td>\n",
       "      <td>meningioma_tumor</td>\n",
       "      <td>3.0</td>\n",
       "    </tr>\n",
       "    <tr>\n",
       "      <th>1</th>\n",
       "      <td>IMAGE_0001.jpg</td>\n",
       "      <td>no_tumor</td>\n",
       "      <td>0.0</td>\n",
       "    </tr>\n",
       "    <tr>\n",
       "      <th>2</th>\n",
       "      <td>IMAGE_0002.jpg</td>\n",
       "      <td>meningioma_tumor</td>\n",
       "      <td>3.0</td>\n",
       "    </tr>\n",
       "    <tr>\n",
       "      <th>3</th>\n",
       "      <td>IMAGE_0003.jpg</td>\n",
       "      <td>glioma_tumor</td>\n",
       "      <td>2.0</td>\n",
       "    </tr>\n",
       "    <tr>\n",
       "      <th>4</th>\n",
       "      <td>IMAGE_0004.jpg</td>\n",
       "      <td>meningioma_tumor</td>\n",
       "      <td>3.0</td>\n",
       "    </tr>\n",
       "    <tr>\n",
       "      <th>...</th>\n",
       "      <td>...</td>\n",
       "      <td>...</td>\n",
       "      <td>...</td>\n",
       "    </tr>\n",
       "    <tr>\n",
       "      <th>2995</th>\n",
       "      <td>IMAGE_2995.jpg</td>\n",
       "      <td>no_tumor</td>\n",
       "      <td>0.0</td>\n",
       "    </tr>\n",
       "    <tr>\n",
       "      <th>2996</th>\n",
       "      <td>IMAGE_2996.jpg</td>\n",
       "      <td>meningioma_tumor</td>\n",
       "      <td>3.0</td>\n",
       "    </tr>\n",
       "    <tr>\n",
       "      <th>2997</th>\n",
       "      <td>IMAGE_2997.jpg</td>\n",
       "      <td>glioma_tumor</td>\n",
       "      <td>2.0</td>\n",
       "    </tr>\n",
       "    <tr>\n",
       "      <th>2998</th>\n",
       "      <td>IMAGE_2998.jpg</td>\n",
       "      <td>glioma_tumor</td>\n",
       "      <td>2.0</td>\n",
       "    </tr>\n",
       "    <tr>\n",
       "      <th>2999</th>\n",
       "      <td>IMAGE_2999.jpg</td>\n",
       "      <td>pituitary_tumor</td>\n",
       "      <td>1.0</td>\n",
       "    </tr>\n",
       "  </tbody>\n",
       "</table>\n",
       "<p>3000 rows × 3 columns</p>\n",
       "</div>"
      ],
      "text/plain": [
       "           file_name             label  numeric label\n",
       "0     IMAGE_0000.jpg  meningioma_tumor            3.0\n",
       "1     IMAGE_0001.jpg          no_tumor            0.0\n",
       "2     IMAGE_0002.jpg  meningioma_tumor            3.0\n",
       "3     IMAGE_0003.jpg      glioma_tumor            2.0\n",
       "4     IMAGE_0004.jpg  meningioma_tumor            3.0\n",
       "...              ...               ...            ...\n",
       "2995  IMAGE_2995.jpg          no_tumor            0.0\n",
       "2996  IMAGE_2996.jpg  meningioma_tumor            3.0\n",
       "2997  IMAGE_2997.jpg      glioma_tumor            2.0\n",
       "2998  IMAGE_2998.jpg      glioma_tumor            2.0\n",
       "2999  IMAGE_2999.jpg   pituitary_tumor            1.0\n",
       "\n",
       "[3000 rows x 3 columns]"
      ]
     },
     "execution_count": 5,
     "metadata": {},
     "output_type": "execute_result"
    }
   ],
   "source": [
    "tumour_labels"
   ]
  },
  {
   "cell_type": "code",
   "execution_count": 6,
   "id": "42959a65",
   "metadata": {},
   "outputs": [
    {
     "ename": "NameError",
     "evalue": "name 'dirname' is not defined",
     "output_type": "error",
     "traceback": [
      "\u001b[1;31m---------------------------------------------------------------------------\u001b[0m",
      "\u001b[1;31mNameError\u001b[0m                                 Traceback (most recent call last)",
      "\u001b[1;32mC:\\Users\\YOUSEF~1\\AppData\\Local\\Temp/ipykernel_9156/3920201.py\u001b[0m in \u001b[0;36m<module>\u001b[1;34m\u001b[0m\n\u001b[0;32m      6\u001b[0m \u001b[1;31m#io.imshow('./dataset/image/IMAGE_0004.jpg')\u001b[0m\u001b[1;33m\u001b[0m\u001b[1;33m\u001b[0m\u001b[1;33m\u001b[0m\u001b[0m\n\u001b[0;32m      7\u001b[0m \u001b[1;33m\u001b[0m\u001b[0m\n\u001b[1;32m----> 8\u001b[1;33m \u001b[1;32mfor\u001b[0m \u001b[0mfile\u001b[0m \u001b[1;32min\u001b[0m \u001b[0mlistdir\u001b[0m\u001b[1;33m(\u001b[0m\u001b[0mdirname\u001b[0m\u001b[1;33m)\u001b[0m\u001b[1;33m:\u001b[0m\u001b[1;33m\u001b[0m\u001b[1;33m\u001b[0m\u001b[0m\n\u001b[0m\u001b[0;32m      9\u001b[0m \u001b[1;33m\u001b[0m\u001b[0m\n\u001b[0;32m     10\u001b[0m     \u001b[0mimg\u001b[0m \u001b[1;33m=\u001b[0m \u001b[0mio\u001b[0m\u001b[1;33m.\u001b[0m\u001b[0mimread\u001b[0m\u001b[1;33m(\u001b[0m\u001b[0mdirname\u001b[0m \u001b[1;33m+\u001b[0m \u001b[1;34m'/'\u001b[0m \u001b[1;33m+\u001b[0m \u001b[0mfile\u001b[0m\u001b[1;33m)\u001b[0m\u001b[1;33m\u001b[0m\u001b[1;33m\u001b[0m\u001b[0m\n",
      "\u001b[1;31mNameError\u001b[0m: name 'dirname' is not defined"
     ]
    }
   ],
   "source": [
    "images = []\n",
    "\n",
    "dirname = './dataset/image'\n",
    "#print(listdir(dirname))\n",
    "\n",
    "#io.imshow('./dataset/image/IMAGE_0004.jpg')\n",
    "\n",
    "for file in listdir(dirname):\n",
    "    \n",
    "    img = io.imread(dirname + '/' + file)\n",
    "    img = np.array(img)\n",
    "    images.append(img)\n",
    "    \n",
    "    #plt.figure()\n",
    "    #io.imshow(img)\n",
    "    \n",
    "print(np.array(images).shape)"
   ]
  },
  {
   "cell_type": "markdown",
   "id": "9783f487",
   "metadata": {},
   "source": [
    "### Splitting the data into training and testing data"
   ]
  },
  {
   "cell_type": "code",
   "execution_count": null,
   "id": "addd9319",
   "metadata": {},
   "outputs": [],
   "source": [
    "X = np.array(images)\n",
    "Y = tumour_labels['numeric label']\n",
    "\n",
    "xTrain, xTest, yTrain, yTest = train_test_split(X,Y)\n",
    "\n",
    "print(xTrain.shape)\n",
    "print(xTest.shape)"
   ]
  },
  {
   "cell_type": "markdown",
   "id": "87f702a2",
   "metadata": {},
   "source": [
    "### Feature extraction + training?"
   ]
  },
  {
   "cell_type": "markdown",
   "id": "f9c153c4",
   "metadata": {},
   "source": [
    "### Logistic Regression + Results"
   ]
  },
  {
   "cell_type": "code",
   "execution_count": null,
   "id": "d709498d",
   "metadata": {},
   "outputs": [],
   "source": [
    "print(xTrain.shape[0])\n",
    "print(xTrain.shape[1])\n",
    "print(xTrain.shape[2])\n",
    "print(xTrain.shape[3])"
   ]
  },
  {
   "cell_type": "code",
   "execution_count": null,
   "id": "c91f7239",
   "metadata": {},
   "outputs": [],
   "source": [
    "xTrain = xTrain.reshape(2250, xTrain.shape[1]*xTrain.shape[2]*xTrain.shape[3])"
   ]
  },
  {
   "cell_type": "code",
   "execution_count": null,
   "id": "d75faf82",
   "metadata": {},
   "outputs": [],
   "source": [
    "xTrain.shape"
   ]
  },
  {
   "cell_type": "markdown",
   "id": "8fed5393",
   "metadata": {},
   "source": [
    "### Training"
   ]
  },
  {
   "cell_type": "code",
   "execution_count": 10,
   "id": "cdaa3178",
   "metadata": {},
   "outputs": [],
   "source": [
    "#model = SVC(kernel='linear')\n",
    "model.fit(xTrain, yTrain)\n"
   ]
  },
  {
   "cell_type": "code",
   "execution_count": null,
   "id": "b83050e2",
   "metadata": {},
   "outputs": [],
   "source": [
    "#y_Pred = LogRegClassification(xTrain, yTrain, xTest)\n",
    "y_Pred = model.predict(xTest)\n",
    "print('Accuracy on test set: '+str(accuracy_score(yTest,y_Pred)))\n",
    "print(classification_report(yTest,y_Pred))#text report showing the main classification metrics"
   ]
  },
  {
   "cell_type": "markdown",
   "id": "cb0826ab",
   "metadata": {},
   "source": [
    "### Testing and reporting new accuracy score using updated test set uploaded on XX Dec"
   ]
  },
  {
   "cell_type": "code",
   "execution_count": null,
   "id": "3e930f8d",
   "metadata": {},
   "outputs": [],
   "source": []
  },
  {
   "cell_type": "markdown",
   "id": "3d21cad1",
   "metadata": {},
   "source": [
    "### Plot the confusion matrix and then show which images were misclassified and see if they are the same each time"
   ]
  },
  {
   "cell_type": "code",
   "execution_count": null,
   "id": "b8900cb2",
   "metadata": {},
   "outputs": [],
   "source": []
  },
  {
   "cell_type": "markdown",
   "id": "e8a02eb8",
   "metadata": {},
   "source": [
    "### See if any specific techniques can be used to help with the images"
   ]
  },
  {
   "cell_type": "code",
   "execution_count": null,
   "id": "8eefc867",
   "metadata": {},
   "outputs": [],
   "source": []
  },
  {
   "cell_type": "markdown",
   "id": "68fd812a",
   "metadata": {},
   "source": [
    "### Training loss, validation loss and hyperpara tuning"
   ]
  },
  {
   "cell_type": "code",
   "execution_count": null,
   "id": "1f77e496",
   "metadata": {},
   "outputs": [],
   "source": []
  },
  {
   "cell_type": "code",
   "execution_count": null,
   "id": "9fe03c48",
   "metadata": {},
   "outputs": [],
   "source": []
  },
  {
   "cell_type": "code",
   "execution_count": null,
   "id": "5d610f53",
   "metadata": {},
   "outputs": [],
   "source": []
  },
  {
   "cell_type": "code",
   "execution_count": null,
   "id": "c8edc5e5",
   "metadata": {},
   "outputs": [],
   "source": []
  },
  {
   "cell_type": "code",
   "execution_count": null,
   "id": "b5c5f2e1",
   "metadata": {},
   "outputs": [],
   "source": []
  }
 ],
 "metadata": {
  "kernelspec": {
   "display_name": "Python 3 (ipykernel)",
   "language": "python",
   "name": "python3"
  },
  "language_info": {
   "codemirror_mode": {
    "name": "ipython",
    "version": 3
   },
   "file_extension": ".py",
   "mimetype": "text/x-python",
   "name": "python",
   "nbconvert_exporter": "python",
   "pygments_lexer": "ipython3",
   "version": "3.7.11"
  }
 },
 "nbformat": 4,
 "nbformat_minor": 5
}
