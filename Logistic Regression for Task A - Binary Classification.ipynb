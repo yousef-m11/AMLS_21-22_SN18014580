{
 "cells": [
  {
   "cell_type": "markdown",
   "id": "d761e557",
   "metadata": {},
   "source": [
    "# Applied Machine Learning Systems (MLS-1) - ELEC0134\n",
    "\n",
    "# Final Assignment - Classification of Tumours\n",
    "\n",
    "## Task A - Binary Classification using Logistic Regression\n",
    "\n",
    "## Completed by Student Number - 18014580"
   ]
  },
  {
   "cell_type": "markdown",
   "id": "c3a5df7f",
   "metadata": {},
   "source": [
    "This is a Jupyter Notebook submitted as part of the final assignment for the Applied Machine Learning Systems (MLS-1) coursework which involves tumor classification and identification.\n",
    "\n",
    "This particular notebook tests the logistic regression method on Task A to find the accuracy of logistic regression for this particular task."
   ]
  },
  {
   "cell_type": "markdown",
   "id": "55b9f60c",
   "metadata": {},
   "source": [
    "### Importing different packages\n",
    "\n",
    "Initially, we must import the different packages needed for this task. The packages required to implement logistic regression for this binary task are pandas, sklearn, numpy and scipy."
   ]
  },
  {
   "cell_type": "code",
   "execution_count": 2,
   "id": "237dcb87",
   "metadata": {},
   "outputs": [
    {
     "name": "stdout",
     "output_type": "stream",
     "text": [
      "All imports carried out successfully\n"
     ]
    }
   ],
   "source": [
    "import pandas as pd\n",
    "import numpy as np\n",
    "import tensorflow as tf\n",
    "from sklearn.model_selection import train_test_split\n",
    "from sklearn.linear_model import LogisticRegression\n",
    "from sklearn.metrics import confusion_matrix, classification_report,accuracy_score\n",
    "\n",
    "from skimage import io\n",
    "from skimage.io import imread, imshow\n",
    "\n",
    "from keras.preprocessing import image\n",
    "import matplotlib.pyplot as plt\n",
    "\n",
    "import os\n",
    "from os import listdir\n",
    "\n",
    "from datetime import datetime\n",
    "\n",
    "print(\"All imports carried out successfully\")"
   ]
  },
  {
   "cell_type": "markdown",
   "id": "0fd3045e",
   "metadata": {},
   "source": [
    "### Loading the data from the data sets"
   ]
  },
  {
   "cell_type": "code",
   "execution_count": 3,
   "id": "91031f6f",
   "metadata": {},
   "outputs": [
    {
     "name": "stdout",
     "output_type": "stream",
     "text": [
      "(3000, 2)\n"
     ]
    }
   ],
   "source": [
    "#Loading the CSV file containing the labels\n",
    "tumour_labels = pd.read_csv('./dataset/label.csv')\n",
    "print(tumour_labels.shape) #outputs array with the number of features + feature number\n",
    "tumour_labels.loc[tumour_labels['label']!= 'no_tumor', 'label'] = 'tumor'"
   ]
  },
  {
   "cell_type": "markdown",
   "id": "a7d9db4f",
   "metadata": {},
   "source": [
    "### Printing out dataset to ensure labels changed to tumor / no tumor"
   ]
  },
  {
   "cell_type": "code",
   "execution_count": 4,
   "id": "f298696b",
   "metadata": {},
   "outputs": [
    {
     "data": {
      "text/html": [
       "<div>\n",
       "<style scoped>\n",
       "    .dataframe tbody tr th:only-of-type {\n",
       "        vertical-align: middle;\n",
       "    }\n",
       "\n",
       "    .dataframe tbody tr th {\n",
       "        vertical-align: top;\n",
       "    }\n",
       "\n",
       "    .dataframe thead th {\n",
       "        text-align: right;\n",
       "    }\n",
       "</style>\n",
       "<table border=\"1\" class=\"dataframe\">\n",
       "  <thead>\n",
       "    <tr style=\"text-align: right;\">\n",
       "      <th></th>\n",
       "      <th>file_name</th>\n",
       "      <th>label</th>\n",
       "    </tr>\n",
       "  </thead>\n",
       "  <tbody>\n",
       "    <tr>\n",
       "      <th>0</th>\n",
       "      <td>IMAGE_0000.jpg</td>\n",
       "      <td>tumor</td>\n",
       "    </tr>\n",
       "    <tr>\n",
       "      <th>1</th>\n",
       "      <td>IMAGE_0001.jpg</td>\n",
       "      <td>no_tumor</td>\n",
       "    </tr>\n",
       "    <tr>\n",
       "      <th>2</th>\n",
       "      <td>IMAGE_0002.jpg</td>\n",
       "      <td>tumor</td>\n",
       "    </tr>\n",
       "    <tr>\n",
       "      <th>3</th>\n",
       "      <td>IMAGE_0003.jpg</td>\n",
       "      <td>tumor</td>\n",
       "    </tr>\n",
       "    <tr>\n",
       "      <th>4</th>\n",
       "      <td>IMAGE_0004.jpg</td>\n",
       "      <td>tumor</td>\n",
       "    </tr>\n",
       "    <tr>\n",
       "      <th>...</th>\n",
       "      <td>...</td>\n",
       "      <td>...</td>\n",
       "    </tr>\n",
       "    <tr>\n",
       "      <th>2995</th>\n",
       "      <td>IMAGE_2995.jpg</td>\n",
       "      <td>no_tumor</td>\n",
       "    </tr>\n",
       "    <tr>\n",
       "      <th>2996</th>\n",
       "      <td>IMAGE_2996.jpg</td>\n",
       "      <td>tumor</td>\n",
       "    </tr>\n",
       "    <tr>\n",
       "      <th>2997</th>\n",
       "      <td>IMAGE_2997.jpg</td>\n",
       "      <td>tumor</td>\n",
       "    </tr>\n",
       "    <tr>\n",
       "      <th>2998</th>\n",
       "      <td>IMAGE_2998.jpg</td>\n",
       "      <td>tumor</td>\n",
       "    </tr>\n",
       "    <tr>\n",
       "      <th>2999</th>\n",
       "      <td>IMAGE_2999.jpg</td>\n",
       "      <td>tumor</td>\n",
       "    </tr>\n",
       "  </tbody>\n",
       "</table>\n",
       "<p>3000 rows × 2 columns</p>\n",
       "</div>"
      ],
      "text/plain": [
       "           file_name     label\n",
       "0     IMAGE_0000.jpg     tumor\n",
       "1     IMAGE_0001.jpg  no_tumor\n",
       "2     IMAGE_0002.jpg     tumor\n",
       "3     IMAGE_0003.jpg     tumor\n",
       "4     IMAGE_0004.jpg     tumor\n",
       "...              ...       ...\n",
       "2995  IMAGE_2995.jpg  no_tumor\n",
       "2996  IMAGE_2996.jpg     tumor\n",
       "2997  IMAGE_2997.jpg     tumor\n",
       "2998  IMAGE_2998.jpg     tumor\n",
       "2999  IMAGE_2999.jpg     tumor\n",
       "\n",
       "[3000 rows x 2 columns]"
      ]
     },
     "execution_count": 4,
     "metadata": {},
     "output_type": "execute_result"
    }
   ],
   "source": [
    "tumour_labels"
   ]
  },
  {
   "cell_type": "markdown",
   "id": "79848593",
   "metadata": {},
   "source": [
    "### Creating a new column and assigning binary integer values to tumor / no tumor"
   ]
  },
  {
   "cell_type": "code",
   "execution_count": 5,
   "id": "12242ed8",
   "metadata": {},
   "outputs": [],
   "source": [
    "tumour_labels.loc[tumour_labels['label'] == 'tumor', 'binary label'] = int(1)\n",
    "tumour_labels.loc[tumour_labels['label'] == 'no_tumor', 'binary label'] = int(0)"
   ]
  },
  {
   "cell_type": "code",
   "execution_count": 6,
   "id": "154b26b9",
   "metadata": {},
   "outputs": [
    {
     "data": {
      "text/html": [
       "<div>\n",
       "<style scoped>\n",
       "    .dataframe tbody tr th:only-of-type {\n",
       "        vertical-align: middle;\n",
       "    }\n",
       "\n",
       "    .dataframe tbody tr th {\n",
       "        vertical-align: top;\n",
       "    }\n",
       "\n",
       "    .dataframe thead th {\n",
       "        text-align: right;\n",
       "    }\n",
       "</style>\n",
       "<table border=\"1\" class=\"dataframe\">\n",
       "  <thead>\n",
       "    <tr style=\"text-align: right;\">\n",
       "      <th></th>\n",
       "      <th>file_name</th>\n",
       "      <th>label</th>\n",
       "      <th>binary label</th>\n",
       "    </tr>\n",
       "  </thead>\n",
       "  <tbody>\n",
       "    <tr>\n",
       "      <th>0</th>\n",
       "      <td>IMAGE_0000.jpg</td>\n",
       "      <td>tumor</td>\n",
       "      <td>1.0</td>\n",
       "    </tr>\n",
       "    <tr>\n",
       "      <th>1</th>\n",
       "      <td>IMAGE_0001.jpg</td>\n",
       "      <td>no_tumor</td>\n",
       "      <td>0.0</td>\n",
       "    </tr>\n",
       "    <tr>\n",
       "      <th>2</th>\n",
       "      <td>IMAGE_0002.jpg</td>\n",
       "      <td>tumor</td>\n",
       "      <td>1.0</td>\n",
       "    </tr>\n",
       "    <tr>\n",
       "      <th>3</th>\n",
       "      <td>IMAGE_0003.jpg</td>\n",
       "      <td>tumor</td>\n",
       "      <td>1.0</td>\n",
       "    </tr>\n",
       "    <tr>\n",
       "      <th>4</th>\n",
       "      <td>IMAGE_0004.jpg</td>\n",
       "      <td>tumor</td>\n",
       "      <td>1.0</td>\n",
       "    </tr>\n",
       "    <tr>\n",
       "      <th>...</th>\n",
       "      <td>...</td>\n",
       "      <td>...</td>\n",
       "      <td>...</td>\n",
       "    </tr>\n",
       "    <tr>\n",
       "      <th>2995</th>\n",
       "      <td>IMAGE_2995.jpg</td>\n",
       "      <td>no_tumor</td>\n",
       "      <td>0.0</td>\n",
       "    </tr>\n",
       "    <tr>\n",
       "      <th>2996</th>\n",
       "      <td>IMAGE_2996.jpg</td>\n",
       "      <td>tumor</td>\n",
       "      <td>1.0</td>\n",
       "    </tr>\n",
       "    <tr>\n",
       "      <th>2997</th>\n",
       "      <td>IMAGE_2997.jpg</td>\n",
       "      <td>tumor</td>\n",
       "      <td>1.0</td>\n",
       "    </tr>\n",
       "    <tr>\n",
       "      <th>2998</th>\n",
       "      <td>IMAGE_2998.jpg</td>\n",
       "      <td>tumor</td>\n",
       "      <td>1.0</td>\n",
       "    </tr>\n",
       "    <tr>\n",
       "      <th>2999</th>\n",
       "      <td>IMAGE_2999.jpg</td>\n",
       "      <td>tumor</td>\n",
       "      <td>1.0</td>\n",
       "    </tr>\n",
       "  </tbody>\n",
       "</table>\n",
       "<p>3000 rows × 3 columns</p>\n",
       "</div>"
      ],
      "text/plain": [
       "           file_name     label  binary label\n",
       "0     IMAGE_0000.jpg     tumor           1.0\n",
       "1     IMAGE_0001.jpg  no_tumor           0.0\n",
       "2     IMAGE_0002.jpg     tumor           1.0\n",
       "3     IMAGE_0003.jpg     tumor           1.0\n",
       "4     IMAGE_0004.jpg     tumor           1.0\n",
       "...              ...       ...           ...\n",
       "2995  IMAGE_2995.jpg  no_tumor           0.0\n",
       "2996  IMAGE_2996.jpg     tumor           1.0\n",
       "2997  IMAGE_2997.jpg     tumor           1.0\n",
       "2998  IMAGE_2998.jpg     tumor           1.0\n",
       "2999  IMAGE_2999.jpg     tumor           1.0\n",
       "\n",
       "[3000 rows x 3 columns]"
      ]
     },
     "execution_count": 6,
     "metadata": {},
     "output_type": "execute_result"
    }
   ],
   "source": [
    "tumour_labels "
   ]
  },
  {
   "cell_type": "markdown",
   "id": "88246b20",
   "metadata": {},
   "source": [
    "### Loading the images"
   ]
  },
  {
   "cell_type": "code",
   "execution_count": 8,
   "id": "185a6432",
   "metadata": {},
   "outputs": [
    {
     "name": "stdout",
     "output_type": "stream",
     "text": [
      "['IMAGE_0000.jpg', 'IMAGE_0001.jpg', 'IMAGE_0002.jpg', 'IMAGE_0003.jpg', 'IMAGE_0004.jpg', 'IMAGE_0005.jpg', 'IMAGE_0006.jpg', 'IMAGE_0007.jpg', 'IMAGE_0008.jpg', 'IMAGE_0009.jpg', 'IMAGE_0010.jpg', 'IMAGE_0011.jpg', 'IMAGE_0012.jpg', 'IMAGE_0013.jpg', 'IMAGE_0014.jpg', 'IMAGE_0015.jpg', 'IMAGE_0016.jpg', 'IMAGE_0017.jpg', 'IMAGE_0018.jpg', 'IMAGE_0019.jpg', 'IMAGE_0020.jpg', 'IMAGE_0021.jpg', 'IMAGE_0022.jpg', 'IMAGE_0023.jpg', 'IMAGE_0024.jpg', 'IMAGE_0025.jpg', 'IMAGE_0026.jpg', 'IMAGE_0027.jpg', 'IMAGE_0028.jpg', 'IMAGE_0029.jpg', 'IMAGE_0030.jpg', 'IMAGE_0031.jpg', 'IMAGE_0032.jpg', 'IMAGE_0033.jpg', 'IMAGE_0034.jpg', 'IMAGE_0035.jpg', 'IMAGE_0036.jpg', 'IMAGE_0037.jpg', 'IMAGE_0038.jpg', 'IMAGE_0039.jpg', 'IMAGE_0040.jpg', 'IMAGE_0041.jpg', 'IMAGE_0042.jpg', 'IMAGE_0043.jpg', 'IMAGE_0044.jpg', 'IMAGE_0045.jpg', 'IMAGE_0046.jpg', 'IMAGE_0047.jpg', 'IMAGE_0048.jpg', 'IMAGE_0049.jpg', 'IMAGE_0050.jpg', 'IMAGE_0051.jpg', 'IMAGE_0052.jpg', 'IMAGE_0053.jpg', 'IMAGE_0054.jpg', 'IMAGE_0055.jpg', 'IMAGE_0056.jpg', 'IMAGE_0057.jpg', 'IMAGE_0058.jpg', 'IMAGE_0059.jpg', 'IMAGE_0060.jpg', 'IMAGE_0061.jpg', 'IMAGE_0062.jpg', 'IMAGE_0063.jpg', 'IMAGE_0064.jpg', 'IMAGE_0065.jpg', 'IMAGE_0066.jpg', 'IMAGE_0067.jpg', 'IMAGE_0068.jpg', 'IMAGE_0069.jpg', 'IMAGE_0070.jpg', 'IMAGE_0071.jpg', 'IMAGE_0072.jpg', 'IMAGE_0073.jpg', 'IMAGE_0074.jpg', 'IMAGE_0075.jpg', 'IMAGE_0076.jpg', 'IMAGE_0077.jpg', 'IMAGE_0078.jpg', 'IMAGE_0079.jpg', 'IMAGE_0080.jpg', 'IMAGE_0081.jpg', 'IMAGE_0082.jpg', 'IMAGE_0083.jpg', 'IMAGE_0084.jpg', 'IMAGE_0085.jpg', 'IMAGE_0086.jpg', 'IMAGE_0087.jpg', 'IMAGE_0088.jpg', 'IMAGE_0089.jpg', 'IMAGE_0090.jpg', 'IMAGE_0091.jpg', 'IMAGE_0092.jpg', 'IMAGE_0093.jpg', 'IMAGE_0094.jpg', 'IMAGE_0095.jpg', 'IMAGE_0096.jpg', 'IMAGE_0097.jpg', 'IMAGE_0098.jpg', 'IMAGE_0099.jpg', 'IMAGE_0100.jpg', 'IMAGE_0101.jpg', 'IMAGE_0102.jpg', 'IMAGE_0103.jpg', 'IMAGE_0104.jpg', 'IMAGE_0105.jpg', 'IMAGE_0106.jpg', 'IMAGE_0107.jpg', 'IMAGE_0108.jpg', 'IMAGE_0109.jpg', 'IMAGE_0110.jpg', 'IMAGE_0111.jpg', 'IMAGE_0112.jpg', 'IMAGE_0113.jpg', 'IMAGE_0114.jpg', 'IMAGE_0115.jpg', 'IMAGE_0116.jpg', 'IMAGE_0117.jpg', 'IMAGE_0118.jpg', 'IMAGE_0119.jpg', 'IMAGE_0120.jpg', 'IMAGE_0121.jpg', 'IMAGE_0122.jpg', 'IMAGE_0123.jpg', 'IMAGE_0124.jpg', 'IMAGE_0125.jpg', 'IMAGE_0126.jpg', 'IMAGE_0127.jpg', 'IMAGE_0128.jpg', 'IMAGE_0129.jpg', 'IMAGE_0130.jpg', 'IMAGE_0131.jpg', 'IMAGE_0132.jpg', 'IMAGE_0133.jpg', 'IMAGE_0134.jpg', 'IMAGE_0135.jpg', 'IMAGE_0136.jpg', 'IMAGE_0137.jpg', 'IMAGE_0138.jpg', 'IMAGE_0139.jpg', 'IMAGE_0140.jpg', 'IMAGE_0141.jpg', 'IMAGE_0142.jpg', 'IMAGE_0143.jpg', 'IMAGE_0144.jpg', 'IMAGE_0145.jpg', 'IMAGE_0146.jpg', 'IMAGE_0147.jpg', 'IMAGE_0148.jpg', 'IMAGE_0149.jpg', 'IMAGE_0150.jpg', 'IMAGE_0151.jpg', 'IMAGE_0152.jpg', 'IMAGE_0153.jpg', 'IMAGE_0154.jpg', 'IMAGE_0155.jpg', 'IMAGE_0156.jpg', 'IMAGE_0157.jpg', 'IMAGE_0158.jpg', 'IMAGE_0159.jpg', 'IMAGE_0160.jpg', 'IMAGE_0161.jpg', 'IMAGE_0162.jpg', 'IMAGE_0163.jpg', 'IMAGE_0164.jpg', 'IMAGE_0165.jpg', 'IMAGE_0166.jpg', 'IMAGE_0167.jpg', 'IMAGE_0168.jpg', 'IMAGE_0169.jpg', 'IMAGE_0170.jpg', 'IMAGE_0171.jpg', 'IMAGE_0172.jpg', 'IMAGE_0173.jpg', 'IMAGE_0174.jpg', 'IMAGE_0175.jpg', 'IMAGE_0176.jpg', 'IMAGE_0177.jpg', 'IMAGE_0178.jpg', 'IMAGE_0179.jpg', 'IMAGE_0180.jpg', 'IMAGE_0181.jpg', 'IMAGE_0182.jpg', 'IMAGE_0183.jpg', 'IMAGE_0184.jpg', 'IMAGE_0185.jpg', 'IMAGE_0186.jpg', 'IMAGE_0187.jpg', 'IMAGE_0188.jpg', 'IMAGE_0189.jpg', 'IMAGE_0190.jpg', 'IMAGE_0191.jpg', 'IMAGE_0192.jpg', 'IMAGE_0193.jpg', 'IMAGE_0194.jpg', 'IMAGE_0195.jpg', 'IMAGE_0196.jpg', 'IMAGE_0197.jpg', 'IMAGE_0198.jpg', 'IMAGE_0199.jpg', 'IMAGE_0200.jpg', 'IMAGE_0201.jpg', 'IMAGE_0202.jpg', 'IMAGE_0203.jpg', 'IMAGE_0204.jpg', 'IMAGE_0205.jpg', 'IMAGE_0206.jpg', 'IMAGE_0207.jpg', 'IMAGE_0208.jpg', 'IMAGE_0209.jpg', 'IMAGE_0210.jpg', 'IMAGE_0211.jpg', 'IMAGE_0212.jpg', 'IMAGE_0213.jpg', 'IMAGE_0214.jpg', 'IMAGE_0215.jpg', 'IMAGE_0216.jpg', 'IMAGE_0217.jpg', 'IMAGE_0218.jpg', 'IMAGE_0219.jpg', 'IMAGE_0220.jpg', 'IMAGE_0221.jpg', 'IMAGE_0222.jpg', 'IMAGE_0223.jpg', 'IMAGE_0224.jpg', 'IMAGE_0225.jpg', 'IMAGE_0226.jpg', 'IMAGE_0227.jpg', 'IMAGE_0228.jpg', 'IMAGE_0229.jpg', 'IMAGE_0230.jpg', 'IMAGE_0231.jpg', 'IMAGE_0232.jpg', 'IMAGE_0233.jpg', 'IMAGE_0234.jpg', 'IMAGE_0235.jpg', 'IMAGE_0236.jpg', 'IMAGE_0237.jpg', 'IMAGE_0238.jpg', 'IMAGE_0239.jpg', 'IMAGE_0240.jpg', 'IMAGE_0241.jpg', 'IMAGE_0242.jpg', 'IMAGE_0243.jpg', 'IMAGE_0244.jpg', 'IMAGE_0245.jpg', 'IMAGE_0246.jpg', 'IMAGE_0247.jpg', 'IMAGE_0248.jpg', 'IMAGE_0249.jpg', 'IMAGE_0250.jpg', 'IMAGE_0251.jpg', 'IMAGE_0252.jpg', 'IMAGE_0253.jpg', 'IMAGE_0254.jpg', 'IMAGE_0255.jpg', 'IMAGE_0256.jpg', 'IMAGE_0257.jpg', 'IMAGE_0258.jpg', 'IMAGE_0259.jpg', 'IMAGE_0260.jpg', 'IMAGE_0261.jpg', 'IMAGE_0262.jpg', 'IMAGE_0263.jpg', 'IMAGE_0264.jpg', 'IMAGE_0265.jpg', 'IMAGE_0266.jpg', 'IMAGE_0267.jpg', 'IMAGE_0268.jpg', 'IMAGE_0269.jpg', 'IMAGE_0270.jpg', 'IMAGE_0271.jpg', 'IMAGE_0272.jpg', 'IMAGE_0273.jpg', 'IMAGE_0274.jpg', 'IMAGE_0275.jpg', 'IMAGE_0276.jpg', 'IMAGE_0277.jpg', 'IMAGE_0278.jpg', 'IMAGE_0279.jpg', 'IMAGE_0280.jpg', 'IMAGE_0281.jpg', 'IMAGE_0282.jpg', 'IMAGE_0283.jpg', 'IMAGE_0284.jpg', 'IMAGE_0285.jpg', 'IMAGE_0286.jpg', 'IMAGE_0287.jpg', 'IMAGE_0288.jpg', 'IMAGE_0289.jpg', 'IMAGE_0290.jpg', 'IMAGE_0291.jpg', 'IMAGE_0292.jpg', 'IMAGE_0293.jpg', 'IMAGE_0294.jpg', 'IMAGE_0295.jpg', 'IMAGE_0296.jpg', 'IMAGE_0297.jpg', 'IMAGE_0298.jpg', 'IMAGE_0299.jpg', 'IMAGE_0300.jpg', 'IMAGE_0301.jpg', 'IMAGE_0302.jpg', 'IMAGE_0303.jpg', 'IMAGE_0304.jpg', 'IMAGE_0305.jpg', 'IMAGE_0306.jpg', 'IMAGE_0307.jpg', 'IMAGE_0308.jpg', 'IMAGE_0309.jpg', 'IMAGE_0310.jpg', 'IMAGE_0311.jpg', 'IMAGE_0312.jpg', 'IMAGE_0313.jpg', 'IMAGE_0314.jpg', 'IMAGE_0315.jpg', 'IMAGE_0316.jpg', 'IMAGE_0317.jpg', 'IMAGE_0318.jpg', 'IMAGE_0319.jpg', 'IMAGE_0320.jpg', 'IMAGE_0321.jpg', 'IMAGE_0322.jpg', 'IMAGE_0323.jpg', 'IMAGE_0324.jpg', 'IMAGE_0325.jpg', 'IMAGE_0326.jpg', 'IMAGE_0327.jpg', 'IMAGE_0328.jpg', 'IMAGE_0329.jpg', 'IMAGE_0330.jpg', 'IMAGE_0331.jpg', 'IMAGE_0332.jpg', 'IMAGE_0333.jpg', 'IMAGE_0334.jpg', 'IMAGE_0335.jpg', 'IMAGE_0336.jpg', 'IMAGE_0337.jpg', 'IMAGE_0338.jpg', 'IMAGE_0339.jpg', 'IMAGE_0340.jpg', 'IMAGE_0341.jpg', 'IMAGE_0342.jpg', 'IMAGE_0343.jpg', 'IMAGE_0344.jpg', 'IMAGE_0345.jpg', 'IMAGE_0346.jpg', 'IMAGE_0347.jpg', 'IMAGE_0348.jpg', 'IMAGE_0349.jpg', 'IMAGE_0350.jpg', 'IMAGE_0351.jpg', 'IMAGE_0352.jpg', 'IMAGE_0353.jpg', 'IMAGE_0354.jpg', 'IMAGE_0355.jpg', 'IMAGE_0356.jpg', 'IMAGE_0357.jpg', 'IMAGE_0358.jpg', 'IMAGE_0359.jpg', 'IMAGE_0360.jpg', 'IMAGE_0361.jpg', 'IMAGE_0362.jpg', 'IMAGE_0363.jpg', 'IMAGE_0364.jpg', 'IMAGE_0365.jpg', 'IMAGE_0366.jpg', 'IMAGE_0367.jpg', 'IMAGE_0368.jpg', 'IMAGE_0369.jpg', 'IMAGE_0370.jpg', 'IMAGE_0371.jpg', 'IMAGE_0372.jpg', 'IMAGE_0373.jpg', 'IMAGE_0374.jpg', 'IMAGE_0375.jpg', 'IMAGE_0376.jpg', 'IMAGE_0377.jpg', 'IMAGE_0378.jpg', 'IMAGE_0379.jpg', 'IMAGE_0380.jpg', 'IMAGE_0381.jpg', 'IMAGE_0382.jpg', 'IMAGE_0383.jpg', 'IMAGE_0384.jpg', 'IMAGE_0385.jpg', 'IMAGE_0386.jpg', 'IMAGE_0387.jpg', 'IMAGE_0388.jpg', 'IMAGE_0389.jpg', 'IMAGE_0390.jpg', 'IMAGE_0391.jpg', 'IMAGE_0392.jpg', 'IMAGE_0393.jpg', 'IMAGE_0394.jpg', 'IMAGE_0395.jpg', 'IMAGE_0396.jpg', 'IMAGE_0397.jpg', 'IMAGE_0398.jpg', 'IMAGE_0399.jpg', 'IMAGE_0400.jpg', 'IMAGE_0401.jpg', 'IMAGE_0402.jpg', 'IMAGE_0403.jpg', 'IMAGE_0404.jpg', 'IMAGE_0405.jpg', 'IMAGE_0406.jpg', 'IMAGE_0407.jpg', 'IMAGE_0408.jpg', 'IMAGE_0409.jpg', 'IMAGE_0410.jpg', 'IMAGE_0411.jpg', 'IMAGE_0412.jpg', 'IMAGE_0413.jpg', 'IMAGE_0414.jpg', 'IMAGE_0415.jpg', 'IMAGE_0416.jpg', 'IMAGE_0417.jpg', 'IMAGE_0418.jpg', 'IMAGE_0419.jpg', 'IMAGE_0420.jpg', 'IMAGE_0421.jpg', 'IMAGE_0422.jpg', 'IMAGE_0423.jpg', 'IMAGE_0424.jpg', 'IMAGE_0425.jpg', 'IMAGE_0426.jpg', 'IMAGE_0427.jpg', 'IMAGE_0428.jpg', 'IMAGE_0429.jpg', 'IMAGE_0430.jpg', 'IMAGE_0431.jpg', 'IMAGE_0432.jpg', 'IMAGE_0433.jpg', 'IMAGE_0434.jpg', 'IMAGE_0435.jpg', 'IMAGE_0436.jpg', 'IMAGE_0437.jpg', 'IMAGE_0438.jpg', 'IMAGE_0439.jpg', 'IMAGE_0440.jpg', 'IMAGE_0441.jpg', 'IMAGE_0442.jpg', 'IMAGE_0443.jpg', 'IMAGE_0444.jpg', 'IMAGE_0445.jpg', 'IMAGE_0446.jpg', 'IMAGE_0447.jpg', 'IMAGE_0448.jpg', 'IMAGE_0449.jpg', 'IMAGE_0450.jpg', 'IMAGE_0451.jpg', 'IMAGE_0452.jpg', 'IMAGE_0453.jpg', 'IMAGE_0454.jpg', 'IMAGE_0455.jpg', 'IMAGE_0456.jpg', 'IMAGE_0457.jpg', 'IMAGE_0458.jpg', 'IMAGE_0459.jpg', 'IMAGE_0460.jpg', 'IMAGE_0461.jpg', 'IMAGE_0462.jpg', 'IMAGE_0463.jpg', 'IMAGE_0464.jpg', 'IMAGE_0465.jpg', 'IMAGE_0466.jpg', 'IMAGE_0467.jpg', 'IMAGE_0468.jpg', 'IMAGE_0469.jpg', 'IMAGE_0470.jpg', 'IMAGE_0471.jpg', 'IMAGE_0472.jpg', 'IMAGE_0473.jpg', 'IMAGE_0474.jpg', 'IMAGE_0475.jpg', 'IMAGE_0476.jpg', 'IMAGE_0477.jpg', 'IMAGE_0478.jpg', 'IMAGE_0479.jpg', 'IMAGE_0480.jpg', 'IMAGE_0481.jpg', 'IMAGE_0482.jpg', 'IMAGE_0483.jpg', 'IMAGE_0484.jpg', 'IMAGE_0485.jpg', 'IMAGE_0486.jpg', 'IMAGE_0487.jpg', 'IMAGE_0488.jpg', 'IMAGE_0489.jpg', 'IMAGE_0490.jpg', 'IMAGE_0491.jpg', 'IMAGE_0492.jpg', 'IMAGE_0493.jpg', 'IMAGE_0494.jpg', 'IMAGE_0495.jpg', 'IMAGE_0496.jpg', 'IMAGE_0497.jpg', 'IMAGE_0498.jpg', 'IMAGE_0499.jpg', 'IMAGE_0500.jpg', 'IMAGE_0501.jpg', 'IMAGE_0502.jpg', 'IMAGE_0503.jpg', 'IMAGE_0504.jpg', 'IMAGE_0505.jpg', 'IMAGE_0506.jpg', 'IMAGE_0507.jpg', 'IMAGE_0508.jpg', 'IMAGE_0509.jpg', 'IMAGE_0510.jpg', 'IMAGE_0511.jpg', 'IMAGE_0512.jpg', 'IMAGE_0513.jpg', 'IMAGE_0514.jpg', 'IMAGE_0515.jpg', 'IMAGE_0516.jpg', 'IMAGE_0517.jpg', 'IMAGE_0518.jpg', 'IMAGE_0519.jpg', 'IMAGE_0520.jpg', 'IMAGE_0521.jpg', 'IMAGE_0522.jpg', 'IMAGE_0523.jpg', 'IMAGE_0524.jpg', 'IMAGE_0525.jpg', 'IMAGE_0526.jpg', 'IMAGE_0527.jpg', 'IMAGE_0528.jpg', 'IMAGE_0529.jpg', 'IMAGE_0530.jpg', 'IMAGE_0531.jpg', 'IMAGE_0532.jpg', 'IMAGE_0533.jpg', 'IMAGE_0534.jpg', 'IMAGE_0535.jpg', 'IMAGE_0536.jpg', 'IMAGE_0537.jpg', 'IMAGE_0538.jpg', 'IMAGE_0539.jpg', 'IMAGE_0540.jpg', 'IMAGE_0541.jpg', 'IMAGE_0542.jpg', 'IMAGE_0543.jpg', 'IMAGE_0544.jpg', 'IMAGE_0545.jpg', 'IMAGE_0546.jpg', 'IMAGE_0547.jpg', 'IMAGE_0548.jpg', 'IMAGE_0549.jpg', 'IMAGE_0550.jpg', 'IMAGE_0551.jpg', 'IMAGE_0552.jpg', 'IMAGE_0553.jpg', 'IMAGE_0554.jpg', 'IMAGE_0555.jpg', 'IMAGE_0556.jpg', 'IMAGE_0557.jpg', 'IMAGE_0558.jpg', 'IMAGE_0559.jpg', 'IMAGE_0560.jpg', 'IMAGE_0561.jpg', 'IMAGE_0562.jpg', 'IMAGE_0563.jpg', 'IMAGE_0564.jpg', 'IMAGE_0565.jpg', 'IMAGE_0566.jpg', 'IMAGE_0567.jpg', 'IMAGE_0568.jpg', 'IMAGE_0569.jpg', 'IMAGE_0570.jpg', 'IMAGE_0571.jpg', 'IMAGE_0572.jpg', 'IMAGE_0573.jpg', 'IMAGE_0574.jpg', 'IMAGE_0575.jpg', 'IMAGE_0576.jpg', 'IMAGE_0577.jpg', 'IMAGE_0578.jpg', 'IMAGE_0579.jpg', 'IMAGE_0580.jpg', 'IMAGE_0581.jpg', 'IMAGE_0582.jpg', 'IMAGE_0583.jpg', 'IMAGE_0584.jpg', 'IMAGE_0585.jpg', 'IMAGE_0586.jpg', 'IMAGE_0587.jpg', 'IMAGE_0588.jpg', 'IMAGE_0589.jpg', 'IMAGE_0590.jpg', 'IMAGE_0591.jpg', 'IMAGE_0592.jpg', 'IMAGE_0593.jpg', 'IMAGE_0594.jpg', 'IMAGE_0595.jpg', 'IMAGE_0596.jpg', 'IMAGE_0597.jpg', 'IMAGE_0598.jpg', 'IMAGE_0599.jpg', 'IMAGE_0600.jpg', 'IMAGE_0601.jpg', 'IMAGE_0602.jpg', 'IMAGE_0603.jpg', 'IMAGE_0604.jpg', 'IMAGE_0605.jpg', 'IMAGE_0606.jpg', 'IMAGE_0607.jpg', 'IMAGE_0608.jpg', 'IMAGE_0609.jpg', 'IMAGE_0610.jpg', 'IMAGE_0611.jpg', 'IMAGE_0612.jpg', 'IMAGE_0613.jpg', 'IMAGE_0614.jpg', 'IMAGE_0615.jpg', 'IMAGE_0616.jpg', 'IMAGE_0617.jpg', 'IMAGE_0618.jpg', 'IMAGE_0619.jpg', 'IMAGE_0620.jpg', 'IMAGE_0621.jpg', 'IMAGE_0622.jpg', 'IMAGE_0623.jpg', 'IMAGE_0624.jpg', 'IMAGE_0625.jpg', 'IMAGE_0626.jpg', 'IMAGE_0627.jpg', 'IMAGE_0628.jpg', 'IMAGE_0629.jpg', 'IMAGE_0630.jpg', 'IMAGE_0631.jpg', 'IMAGE_0632.jpg', 'IMAGE_0633.jpg', 'IMAGE_0634.jpg', 'IMAGE_0635.jpg', 'IMAGE_0636.jpg', 'IMAGE_0637.jpg', 'IMAGE_0638.jpg', 'IMAGE_0639.jpg', 'IMAGE_0640.jpg', 'IMAGE_0641.jpg', 'IMAGE_0642.jpg', 'IMAGE_0643.jpg', 'IMAGE_0644.jpg', 'IMAGE_0645.jpg', 'IMAGE_0646.jpg', 'IMAGE_0647.jpg', 'IMAGE_0648.jpg', 'IMAGE_0649.jpg', 'IMAGE_0650.jpg', 'IMAGE_0651.jpg', 'IMAGE_0652.jpg', 'IMAGE_0653.jpg', 'IMAGE_0654.jpg', 'IMAGE_0655.jpg', 'IMAGE_0656.jpg', 'IMAGE_0657.jpg', 'IMAGE_0658.jpg', 'IMAGE_0659.jpg', 'IMAGE_0660.jpg', 'IMAGE_0661.jpg', 'IMAGE_0662.jpg', 'IMAGE_0663.jpg', 'IMAGE_0664.jpg', 'IMAGE_0665.jpg', 'IMAGE_0666.jpg', 'IMAGE_0667.jpg', 'IMAGE_0668.jpg', 'IMAGE_0669.jpg', 'IMAGE_0670.jpg', 'IMAGE_0671.jpg', 'IMAGE_0672.jpg', 'IMAGE_0673.jpg', 'IMAGE_0674.jpg', 'IMAGE_0675.jpg', 'IMAGE_0676.jpg', 'IMAGE_0677.jpg', 'IMAGE_0678.jpg', 'IMAGE_0679.jpg', 'IMAGE_0680.jpg', 'IMAGE_0681.jpg', 'IMAGE_0682.jpg', 'IMAGE_0683.jpg', 'IMAGE_0684.jpg', 'IMAGE_0685.jpg', 'IMAGE_0686.jpg', 'IMAGE_0687.jpg', 'IMAGE_0688.jpg', 'IMAGE_0689.jpg', 'IMAGE_0690.jpg', 'IMAGE_0691.jpg', 'IMAGE_0692.jpg', 'IMAGE_0693.jpg', 'IMAGE_0694.jpg', 'IMAGE_0695.jpg', 'IMAGE_0696.jpg', 'IMAGE_0697.jpg', 'IMAGE_0698.jpg', 'IMAGE_0699.jpg', 'IMAGE_0700.jpg', 'IMAGE_0701.jpg', 'IMAGE_0702.jpg', 'IMAGE_0703.jpg', 'IMAGE_0704.jpg', 'IMAGE_0705.jpg', 'IMAGE_0706.jpg', 'IMAGE_0707.jpg', 'IMAGE_0708.jpg', 'IMAGE_0709.jpg', 'IMAGE_0710.jpg', 'IMAGE_0711.jpg', 'IMAGE_0712.jpg', 'IMAGE_0713.jpg', 'IMAGE_0714.jpg', 'IMAGE_0715.jpg', 'IMAGE_0716.jpg', 'IMAGE_0717.jpg', 'IMAGE_0718.jpg', 'IMAGE_0719.jpg', 'IMAGE_0720.jpg', 'IMAGE_0721.jpg', 'IMAGE_0722.jpg', 'IMAGE_0723.jpg', 'IMAGE_0724.jpg', 'IMAGE_0725.jpg', 'IMAGE_0726.jpg', 'IMAGE_0727.jpg', 'IMAGE_0728.jpg', 'IMAGE_0729.jpg', 'IMAGE_0730.jpg', 'IMAGE_0731.jpg', 'IMAGE_0732.jpg', 'IMAGE_0733.jpg', 'IMAGE_0734.jpg', 'IMAGE_0735.jpg', 'IMAGE_0736.jpg', 'IMAGE_0737.jpg', 'IMAGE_0738.jpg', 'IMAGE_0739.jpg', 'IMAGE_0740.jpg', 'IMAGE_0741.jpg', 'IMAGE_0742.jpg', 'IMAGE_0743.jpg', 'IMAGE_0744.jpg', 'IMAGE_0745.jpg', 'IMAGE_0746.jpg', 'IMAGE_0747.jpg', 'IMAGE_0748.jpg', 'IMAGE_0749.jpg', 'IMAGE_0750.jpg', 'IMAGE_0751.jpg', 'IMAGE_0752.jpg', 'IMAGE_0753.jpg', 'IMAGE_0754.jpg', 'IMAGE_0755.jpg', 'IMAGE_0756.jpg', 'IMAGE_0757.jpg', 'IMAGE_0758.jpg', 'IMAGE_0759.jpg', 'IMAGE_0760.jpg', 'IMAGE_0761.jpg', 'IMAGE_0762.jpg', 'IMAGE_0763.jpg', 'IMAGE_0764.jpg', 'IMAGE_0765.jpg', 'IMAGE_0766.jpg', 'IMAGE_0767.jpg', 'IMAGE_0768.jpg', 'IMAGE_0769.jpg', 'IMAGE_0770.jpg', 'IMAGE_0771.jpg', 'IMAGE_0772.jpg', 'IMAGE_0773.jpg', 'IMAGE_0774.jpg', 'IMAGE_0775.jpg', 'IMAGE_0776.jpg', 'IMAGE_0777.jpg', 'IMAGE_0778.jpg', 'IMAGE_0779.jpg', 'IMAGE_0780.jpg', 'IMAGE_0781.jpg', 'IMAGE_0782.jpg', 'IMAGE_0783.jpg', 'IMAGE_0784.jpg', 'IMAGE_0785.jpg', 'IMAGE_0786.jpg', 'IMAGE_0787.jpg', 'IMAGE_0788.jpg', 'IMAGE_0789.jpg', 'IMAGE_0790.jpg', 'IMAGE_0791.jpg', 'IMAGE_0792.jpg', 'IMAGE_0793.jpg', 'IMAGE_0794.jpg', 'IMAGE_0795.jpg', 'IMAGE_0796.jpg', 'IMAGE_0797.jpg', 'IMAGE_0798.jpg', 'IMAGE_0799.jpg', 'IMAGE_0800.jpg', 'IMAGE_0801.jpg', 'IMAGE_0802.jpg', 'IMAGE_0803.jpg', 'IMAGE_0804.jpg', 'IMAGE_0805.jpg', 'IMAGE_0806.jpg', 'IMAGE_0807.jpg', 'IMAGE_0808.jpg', 'IMAGE_0809.jpg', 'IMAGE_0810.jpg', 'IMAGE_0811.jpg', 'IMAGE_0812.jpg', 'IMAGE_0813.jpg', 'IMAGE_0814.jpg', 'IMAGE_0815.jpg', 'IMAGE_0816.jpg', 'IMAGE_0817.jpg', 'IMAGE_0818.jpg', 'IMAGE_0819.jpg', 'IMAGE_0820.jpg', 'IMAGE_0821.jpg', 'IMAGE_0822.jpg', 'IMAGE_0823.jpg', 'IMAGE_0824.jpg', 'IMAGE_0825.jpg', 'IMAGE_0826.jpg', 'IMAGE_0827.jpg', 'IMAGE_0828.jpg', 'IMAGE_0829.jpg', 'IMAGE_0830.jpg', 'IMAGE_0831.jpg', 'IMAGE_0832.jpg', 'IMAGE_0833.jpg', 'IMAGE_0834.jpg', 'IMAGE_0835.jpg', 'IMAGE_0836.jpg', 'IMAGE_0837.jpg', 'IMAGE_0838.jpg', 'IMAGE_0839.jpg', 'IMAGE_0840.jpg', 'IMAGE_0841.jpg', 'IMAGE_0842.jpg', 'IMAGE_0843.jpg', 'IMAGE_0844.jpg', 'IMAGE_0845.jpg', 'IMAGE_0846.jpg', 'IMAGE_0847.jpg', 'IMAGE_0848.jpg', 'IMAGE_0849.jpg', 'IMAGE_0850.jpg', 'IMAGE_0851.jpg', 'IMAGE_0852.jpg', 'IMAGE_0853.jpg', 'IMAGE_0854.jpg', 'IMAGE_0855.jpg', 'IMAGE_0856.jpg', 'IMAGE_0857.jpg', 'IMAGE_0858.jpg', 'IMAGE_0859.jpg', 'IMAGE_0860.jpg', 'IMAGE_0861.jpg', 'IMAGE_0862.jpg', 'IMAGE_0863.jpg', 'IMAGE_0864.jpg', 'IMAGE_0865.jpg', 'IMAGE_0866.jpg', 'IMAGE_0867.jpg', 'IMAGE_0868.jpg', 'IMAGE_0869.jpg', 'IMAGE_0870.jpg', 'IMAGE_0871.jpg', 'IMAGE_0872.jpg', 'IMAGE_0873.jpg', 'IMAGE_0874.jpg', 'IMAGE_0875.jpg', 'IMAGE_0876.jpg', 'IMAGE_0877.jpg', 'IMAGE_0878.jpg', 'IMAGE_0879.jpg', 'IMAGE_0880.jpg', 'IMAGE_0881.jpg', 'IMAGE_0882.jpg', 'IMAGE_0883.jpg', 'IMAGE_0884.jpg', 'IMAGE_0885.jpg', 'IMAGE_0886.jpg', 'IMAGE_0887.jpg', 'IMAGE_0888.jpg', 'IMAGE_0889.jpg', 'IMAGE_0890.jpg', 'IMAGE_0891.jpg', 'IMAGE_0892.jpg', 'IMAGE_0893.jpg', 'IMAGE_0894.jpg', 'IMAGE_0895.jpg', 'IMAGE_0896.jpg', 'IMAGE_0897.jpg', 'IMAGE_0898.jpg', 'IMAGE_0899.jpg', 'IMAGE_0900.jpg', 'IMAGE_0901.jpg', 'IMAGE_0902.jpg', 'IMAGE_0903.jpg', 'IMAGE_0904.jpg', 'IMAGE_0905.jpg', 'IMAGE_0906.jpg', 'IMAGE_0907.jpg', 'IMAGE_0908.jpg', 'IMAGE_0909.jpg', 'IMAGE_0910.jpg', 'IMAGE_0911.jpg', 'IMAGE_0912.jpg', 'IMAGE_0913.jpg', 'IMAGE_0914.jpg', 'IMAGE_0915.jpg', 'IMAGE_0916.jpg', 'IMAGE_0917.jpg', 'IMAGE_0918.jpg', 'IMAGE_0919.jpg', 'IMAGE_0920.jpg', 'IMAGE_0921.jpg', 'IMAGE_0922.jpg', 'IMAGE_0923.jpg', 'IMAGE_0924.jpg', 'IMAGE_0925.jpg', 'IMAGE_0926.jpg', 'IMAGE_0927.jpg', 'IMAGE_0928.jpg', 'IMAGE_0929.jpg', 'IMAGE_0930.jpg', 'IMAGE_0931.jpg', 'IMAGE_0932.jpg', 'IMAGE_0933.jpg', 'IMAGE_0934.jpg', 'IMAGE_0935.jpg', 'IMAGE_0936.jpg', 'IMAGE_0937.jpg', 'IMAGE_0938.jpg', 'IMAGE_0939.jpg', 'IMAGE_0940.jpg', 'IMAGE_0941.jpg', 'IMAGE_0942.jpg', 'IMAGE_0943.jpg', 'IMAGE_0944.jpg', 'IMAGE_0945.jpg', 'IMAGE_0946.jpg', 'IMAGE_0947.jpg', 'IMAGE_0948.jpg', 'IMAGE_0949.jpg', 'IMAGE_0950.jpg', 'IMAGE_0951.jpg', 'IMAGE_0952.jpg', 'IMAGE_0953.jpg', 'IMAGE_0954.jpg', 'IMAGE_0955.jpg', 'IMAGE_0956.jpg', 'IMAGE_0957.jpg', 'IMAGE_0958.jpg', 'IMAGE_0959.jpg', 'IMAGE_0960.jpg', 'IMAGE_0961.jpg', 'IMAGE_0962.jpg', 'IMAGE_0963.jpg', 'IMAGE_0964.jpg', 'IMAGE_0965.jpg', 'IMAGE_0966.jpg', 'IMAGE_0967.jpg', 'IMAGE_0968.jpg', 'IMAGE_0969.jpg', 'IMAGE_0970.jpg', 'IMAGE_0971.jpg', 'IMAGE_0972.jpg', 'IMAGE_0973.jpg', 'IMAGE_0974.jpg', 'IMAGE_0975.jpg', 'IMAGE_0976.jpg', 'IMAGE_0977.jpg', 'IMAGE_0978.jpg', 'IMAGE_0979.jpg', 'IMAGE_0980.jpg', 'IMAGE_0981.jpg', 'IMAGE_0982.jpg', 'IMAGE_0983.jpg', 'IMAGE_0984.jpg', 'IMAGE_0985.jpg', 'IMAGE_0986.jpg', 'IMAGE_0987.jpg', 'IMAGE_0988.jpg', 'IMAGE_0989.jpg', 'IMAGE_0990.jpg', 'IMAGE_0991.jpg', 'IMAGE_0992.jpg', 'IMAGE_0993.jpg', 'IMAGE_0994.jpg', 'IMAGE_0995.jpg', 'IMAGE_0996.jpg', 'IMAGE_0997.jpg', 'IMAGE_0998.jpg', 'IMAGE_0999.jpg', 'IMAGE_1000.jpg', 'IMAGE_1001.jpg', 'IMAGE_1002.jpg', 'IMAGE_1003.jpg', 'IMAGE_1004.jpg', 'IMAGE_1005.jpg', 'IMAGE_1006.jpg', 'IMAGE_1007.jpg', 'IMAGE_1008.jpg', 'IMAGE_1009.jpg', 'IMAGE_1010.jpg', 'IMAGE_1011.jpg', 'IMAGE_1012.jpg', 'IMAGE_1013.jpg', 'IMAGE_1014.jpg', 'IMAGE_1015.jpg', 'IMAGE_1016.jpg', 'IMAGE_1017.jpg', 'IMAGE_1018.jpg', 'IMAGE_1019.jpg', 'IMAGE_1020.jpg', 'IMAGE_1021.jpg', 'IMAGE_1022.jpg', 'IMAGE_1023.jpg', 'IMAGE_1024.jpg', 'IMAGE_1025.jpg', 'IMAGE_1026.jpg', 'IMAGE_1027.jpg', 'IMAGE_1028.jpg', 'IMAGE_1029.jpg', 'IMAGE_1030.jpg', 'IMAGE_1031.jpg', 'IMAGE_1032.jpg', 'IMAGE_1033.jpg', 'IMAGE_1034.jpg', 'IMAGE_1035.jpg', 'IMAGE_1036.jpg', 'IMAGE_1037.jpg', 'IMAGE_1038.jpg', 'IMAGE_1039.jpg', 'IMAGE_1040.jpg', 'IMAGE_1041.jpg', 'IMAGE_1042.jpg', 'IMAGE_1043.jpg', 'IMAGE_1044.jpg', 'IMAGE_1045.jpg', 'IMAGE_1046.jpg', 'IMAGE_1047.jpg', 'IMAGE_1048.jpg', 'IMAGE_1049.jpg', 'IMAGE_1050.jpg', 'IMAGE_1051.jpg', 'IMAGE_1052.jpg', 'IMAGE_1053.jpg', 'IMAGE_1054.jpg', 'IMAGE_1055.jpg', 'IMAGE_1056.jpg', 'IMAGE_1057.jpg', 'IMAGE_1058.jpg', 'IMAGE_1059.jpg', 'IMAGE_1060.jpg', 'IMAGE_1061.jpg', 'IMAGE_1062.jpg', 'IMAGE_1063.jpg', 'IMAGE_1064.jpg', 'IMAGE_1065.jpg', 'IMAGE_1066.jpg', 'IMAGE_1067.jpg', 'IMAGE_1068.jpg', 'IMAGE_1069.jpg', 'IMAGE_1070.jpg', 'IMAGE_1071.jpg', 'IMAGE_1072.jpg', 'IMAGE_1073.jpg', 'IMAGE_1074.jpg', 'IMAGE_1075.jpg', 'IMAGE_1076.jpg', 'IMAGE_1077.jpg', 'IMAGE_1078.jpg', 'IMAGE_1079.jpg', 'IMAGE_1080.jpg', 'IMAGE_1081.jpg', 'IMAGE_1082.jpg', 'IMAGE_1083.jpg', 'IMAGE_1084.jpg', 'IMAGE_1085.jpg', 'IMAGE_1086.jpg', 'IMAGE_1087.jpg', 'IMAGE_1088.jpg', 'IMAGE_1089.jpg', 'IMAGE_1090.jpg', 'IMAGE_1091.jpg', 'IMAGE_1092.jpg', 'IMAGE_1093.jpg', 'IMAGE_1094.jpg', 'IMAGE_1095.jpg', 'IMAGE_1096.jpg', 'IMAGE_1097.jpg', 'IMAGE_1098.jpg', 'IMAGE_1099.jpg', 'IMAGE_1100.jpg', 'IMAGE_1101.jpg', 'IMAGE_1102.jpg', 'IMAGE_1103.jpg', 'IMAGE_1104.jpg', 'IMAGE_1105.jpg', 'IMAGE_1106.jpg', 'IMAGE_1107.jpg', 'IMAGE_1108.jpg', 'IMAGE_1109.jpg', 'IMAGE_1110.jpg', 'IMAGE_1111.jpg', 'IMAGE_1112.jpg', 'IMAGE_1113.jpg', 'IMAGE_1114.jpg', 'IMAGE_1115.jpg', 'IMAGE_1116.jpg', 'IMAGE_1117.jpg', 'IMAGE_1118.jpg', 'IMAGE_1119.jpg', 'IMAGE_1120.jpg', 'IMAGE_1121.jpg', 'IMAGE_1122.jpg', 'IMAGE_1123.jpg', 'IMAGE_1124.jpg', 'IMAGE_1125.jpg', 'IMAGE_1126.jpg', 'IMAGE_1127.jpg', 'IMAGE_1128.jpg', 'IMAGE_1129.jpg', 'IMAGE_1130.jpg', 'IMAGE_1131.jpg', 'IMAGE_1132.jpg', 'IMAGE_1133.jpg', 'IMAGE_1134.jpg', 'IMAGE_1135.jpg', 'IMAGE_1136.jpg', 'IMAGE_1137.jpg', 'IMAGE_1138.jpg', 'IMAGE_1139.jpg', 'IMAGE_1140.jpg', 'IMAGE_1141.jpg', 'IMAGE_1142.jpg', 'IMAGE_1143.jpg', 'IMAGE_1144.jpg', 'IMAGE_1145.jpg', 'IMAGE_1146.jpg', 'IMAGE_1147.jpg', 'IMAGE_1148.jpg', 'IMAGE_1149.jpg', 'IMAGE_1150.jpg', 'IMAGE_1151.jpg', 'IMAGE_1152.jpg', 'IMAGE_1153.jpg', 'IMAGE_1154.jpg', 'IMAGE_1155.jpg', 'IMAGE_1156.jpg', 'IMAGE_1157.jpg', 'IMAGE_1158.jpg', 'IMAGE_1159.jpg', 'IMAGE_1160.jpg', 'IMAGE_1161.jpg', 'IMAGE_1162.jpg', 'IMAGE_1163.jpg', 'IMAGE_1164.jpg', 'IMAGE_1165.jpg', 'IMAGE_1166.jpg', 'IMAGE_1167.jpg', 'IMAGE_1168.jpg', 'IMAGE_1169.jpg', 'IMAGE_1170.jpg', 'IMAGE_1171.jpg', 'IMAGE_1172.jpg', 'IMAGE_1173.jpg', 'IMAGE_1174.jpg', 'IMAGE_1175.jpg', 'IMAGE_1176.jpg', 'IMAGE_1177.jpg', 'IMAGE_1178.jpg', 'IMAGE_1179.jpg', 'IMAGE_1180.jpg', 'IMAGE_1181.jpg', 'IMAGE_1182.jpg', 'IMAGE_1183.jpg', 'IMAGE_1184.jpg', 'IMAGE_1185.jpg', 'IMAGE_1186.jpg', 'IMAGE_1187.jpg', 'IMAGE_1188.jpg', 'IMAGE_1189.jpg', 'IMAGE_1190.jpg', 'IMAGE_1191.jpg', 'IMAGE_1192.jpg', 'IMAGE_1193.jpg', 'IMAGE_1194.jpg', 'IMAGE_1195.jpg', 'IMAGE_1196.jpg', 'IMAGE_1197.jpg', 'IMAGE_1198.jpg', 'IMAGE_1199.jpg', 'IMAGE_1200.jpg', 'IMAGE_1201.jpg', 'IMAGE_1202.jpg', 'IMAGE_1203.jpg', 'IMAGE_1204.jpg', 'IMAGE_1205.jpg', 'IMAGE_1206.jpg', 'IMAGE_1207.jpg', 'IMAGE_1208.jpg', 'IMAGE_1209.jpg', 'IMAGE_1210.jpg', 'IMAGE_1211.jpg', 'IMAGE_1212.jpg', 'IMAGE_1213.jpg', 'IMAGE_1214.jpg', 'IMAGE_1215.jpg', 'IMAGE_1216.jpg', 'IMAGE_1217.jpg', 'IMAGE_1218.jpg', 'IMAGE_1219.jpg', 'IMAGE_1220.jpg', 'IMAGE_1221.jpg', 'IMAGE_1222.jpg', 'IMAGE_1223.jpg', 'IMAGE_1224.jpg', 'IMAGE_1225.jpg', 'IMAGE_1226.jpg', 'IMAGE_1227.jpg', 'IMAGE_1228.jpg', 'IMAGE_1229.jpg', 'IMAGE_1230.jpg', 'IMAGE_1231.jpg', 'IMAGE_1232.jpg', 'IMAGE_1233.jpg', 'IMAGE_1234.jpg', 'IMAGE_1235.jpg', 'IMAGE_1236.jpg', 'IMAGE_1237.jpg', 'IMAGE_1238.jpg', 'IMAGE_1239.jpg', 'IMAGE_1240.jpg', 'IMAGE_1241.jpg', 'IMAGE_1242.jpg', 'IMAGE_1243.jpg', 'IMAGE_1244.jpg', 'IMAGE_1245.jpg', 'IMAGE_1246.jpg', 'IMAGE_1247.jpg', 'IMAGE_1248.jpg', 'IMAGE_1249.jpg', 'IMAGE_1250.jpg', 'IMAGE_1251.jpg', 'IMAGE_1252.jpg', 'IMAGE_1253.jpg', 'IMAGE_1254.jpg', 'IMAGE_1255.jpg', 'IMAGE_1256.jpg', 'IMAGE_1257.jpg', 'IMAGE_1258.jpg', 'IMAGE_1259.jpg', 'IMAGE_1260.jpg', 'IMAGE_1261.jpg', 'IMAGE_1262.jpg', 'IMAGE_1263.jpg', 'IMAGE_1264.jpg', 'IMAGE_1265.jpg', 'IMAGE_1266.jpg', 'IMAGE_1267.jpg', 'IMAGE_1268.jpg', 'IMAGE_1269.jpg', 'IMAGE_1270.jpg', 'IMAGE_1271.jpg', 'IMAGE_1272.jpg', 'IMAGE_1273.jpg', 'IMAGE_1274.jpg', 'IMAGE_1275.jpg', 'IMAGE_1276.jpg', 'IMAGE_1277.jpg', 'IMAGE_1278.jpg', 'IMAGE_1279.jpg', 'IMAGE_1280.jpg', 'IMAGE_1281.jpg', 'IMAGE_1282.jpg', 'IMAGE_1283.jpg', 'IMAGE_1284.jpg', 'IMAGE_1285.jpg', 'IMAGE_1286.jpg', 'IMAGE_1287.jpg', 'IMAGE_1288.jpg', 'IMAGE_1289.jpg', 'IMAGE_1290.jpg', 'IMAGE_1291.jpg', 'IMAGE_1292.jpg', 'IMAGE_1293.jpg', 'IMAGE_1294.jpg', 'IMAGE_1295.jpg', 'IMAGE_1296.jpg', 'IMAGE_1297.jpg', 'IMAGE_1298.jpg', 'IMAGE_1299.jpg', 'IMAGE_1300.jpg', 'IMAGE_1301.jpg', 'IMAGE_1302.jpg', 'IMAGE_1303.jpg', 'IMAGE_1304.jpg', 'IMAGE_1305.jpg', 'IMAGE_1306.jpg', 'IMAGE_1307.jpg', 'IMAGE_1308.jpg', 'IMAGE_1309.jpg', 'IMAGE_1310.jpg', 'IMAGE_1311.jpg', 'IMAGE_1312.jpg', 'IMAGE_1313.jpg', 'IMAGE_1314.jpg', 'IMAGE_1315.jpg', 'IMAGE_1316.jpg', 'IMAGE_1317.jpg', 'IMAGE_1318.jpg', 'IMAGE_1319.jpg', 'IMAGE_1320.jpg', 'IMAGE_1321.jpg', 'IMAGE_1322.jpg', 'IMAGE_1323.jpg', 'IMAGE_1324.jpg', 'IMAGE_1325.jpg', 'IMAGE_1326.jpg', 'IMAGE_1327.jpg', 'IMAGE_1328.jpg', 'IMAGE_1329.jpg', 'IMAGE_1330.jpg', 'IMAGE_1331.jpg', 'IMAGE_1332.jpg', 'IMAGE_1333.jpg', 'IMAGE_1334.jpg', 'IMAGE_1335.jpg', 'IMAGE_1336.jpg', 'IMAGE_1337.jpg', 'IMAGE_1338.jpg', 'IMAGE_1339.jpg', 'IMAGE_1340.jpg', 'IMAGE_1341.jpg', 'IMAGE_1342.jpg', 'IMAGE_1343.jpg', 'IMAGE_1344.jpg', 'IMAGE_1345.jpg', 'IMAGE_1346.jpg', 'IMAGE_1347.jpg', 'IMAGE_1348.jpg', 'IMAGE_1349.jpg', 'IMAGE_1350.jpg', 'IMAGE_1351.jpg', 'IMAGE_1352.jpg', 'IMAGE_1353.jpg', 'IMAGE_1354.jpg', 'IMAGE_1355.jpg', 'IMAGE_1356.jpg', 'IMAGE_1357.jpg', 'IMAGE_1358.jpg', 'IMAGE_1359.jpg', 'IMAGE_1360.jpg', 'IMAGE_1361.jpg', 'IMAGE_1362.jpg', 'IMAGE_1363.jpg', 'IMAGE_1364.jpg', 'IMAGE_1365.jpg', 'IMAGE_1366.jpg', 'IMAGE_1367.jpg', 'IMAGE_1368.jpg', 'IMAGE_1369.jpg', 'IMAGE_1370.jpg', 'IMAGE_1371.jpg', 'IMAGE_1372.jpg', 'IMAGE_1373.jpg', 'IMAGE_1374.jpg', 'IMAGE_1375.jpg', 'IMAGE_1376.jpg', 'IMAGE_1377.jpg', 'IMAGE_1378.jpg', 'IMAGE_1379.jpg', 'IMAGE_1380.jpg', 'IMAGE_1381.jpg', 'IMAGE_1382.jpg', 'IMAGE_1383.jpg', 'IMAGE_1384.jpg', 'IMAGE_1385.jpg', 'IMAGE_1386.jpg', 'IMAGE_1387.jpg', 'IMAGE_1388.jpg', 'IMAGE_1389.jpg', 'IMAGE_1390.jpg', 'IMAGE_1391.jpg', 'IMAGE_1392.jpg', 'IMAGE_1393.jpg', 'IMAGE_1394.jpg', 'IMAGE_1395.jpg', 'IMAGE_1396.jpg', 'IMAGE_1397.jpg', 'IMAGE_1398.jpg', 'IMAGE_1399.jpg', 'IMAGE_1400.jpg', 'IMAGE_1401.jpg', 'IMAGE_1402.jpg', 'IMAGE_1403.jpg', 'IMAGE_1404.jpg', 'IMAGE_1405.jpg', 'IMAGE_1406.jpg', 'IMAGE_1407.jpg', 'IMAGE_1408.jpg', 'IMAGE_1409.jpg', 'IMAGE_1410.jpg', 'IMAGE_1411.jpg', 'IMAGE_1412.jpg', 'IMAGE_1413.jpg', 'IMAGE_1414.jpg', 'IMAGE_1415.jpg', 'IMAGE_1416.jpg', 'IMAGE_1417.jpg', 'IMAGE_1418.jpg', 'IMAGE_1419.jpg', 'IMAGE_1420.jpg', 'IMAGE_1421.jpg', 'IMAGE_1422.jpg', 'IMAGE_1423.jpg', 'IMAGE_1424.jpg', 'IMAGE_1425.jpg', 'IMAGE_1426.jpg', 'IMAGE_1427.jpg', 'IMAGE_1428.jpg', 'IMAGE_1429.jpg', 'IMAGE_1430.jpg', 'IMAGE_1431.jpg', 'IMAGE_1432.jpg', 'IMAGE_1433.jpg', 'IMAGE_1434.jpg', 'IMAGE_1435.jpg', 'IMAGE_1436.jpg', 'IMAGE_1437.jpg', 'IMAGE_1438.jpg', 'IMAGE_1439.jpg', 'IMAGE_1440.jpg', 'IMAGE_1441.jpg', 'IMAGE_1442.jpg', 'IMAGE_1443.jpg', 'IMAGE_1444.jpg', 'IMAGE_1445.jpg', 'IMAGE_1446.jpg', 'IMAGE_1447.jpg', 'IMAGE_1448.jpg', 'IMAGE_1449.jpg', 'IMAGE_1450.jpg', 'IMAGE_1451.jpg', 'IMAGE_1452.jpg', 'IMAGE_1453.jpg', 'IMAGE_1454.jpg', 'IMAGE_1455.jpg', 'IMAGE_1456.jpg', 'IMAGE_1457.jpg', 'IMAGE_1458.jpg', 'IMAGE_1459.jpg', 'IMAGE_1460.jpg', 'IMAGE_1461.jpg', 'IMAGE_1462.jpg', 'IMAGE_1463.jpg', 'IMAGE_1464.jpg', 'IMAGE_1465.jpg', 'IMAGE_1466.jpg', 'IMAGE_1467.jpg', 'IMAGE_1468.jpg', 'IMAGE_1469.jpg', 'IMAGE_1470.jpg', 'IMAGE_1471.jpg', 'IMAGE_1472.jpg', 'IMAGE_1473.jpg', 'IMAGE_1474.jpg', 'IMAGE_1475.jpg', 'IMAGE_1476.jpg', 'IMAGE_1477.jpg', 'IMAGE_1478.jpg', 'IMAGE_1479.jpg', 'IMAGE_1480.jpg', 'IMAGE_1481.jpg', 'IMAGE_1482.jpg', 'IMAGE_1483.jpg', 'IMAGE_1484.jpg', 'IMAGE_1485.jpg', 'IMAGE_1486.jpg', 'IMAGE_1487.jpg', 'IMAGE_1488.jpg', 'IMAGE_1489.jpg', 'IMAGE_1490.jpg', 'IMAGE_1491.jpg', 'IMAGE_1492.jpg', 'IMAGE_1493.jpg', 'IMAGE_1494.jpg', 'IMAGE_1495.jpg', 'IMAGE_1496.jpg', 'IMAGE_1497.jpg', 'IMAGE_1498.jpg', 'IMAGE_1499.jpg', 'IMAGE_1500.jpg', 'IMAGE_1501.jpg', 'IMAGE_1502.jpg', 'IMAGE_1503.jpg', 'IMAGE_1504.jpg', 'IMAGE_1505.jpg', 'IMAGE_1506.jpg', 'IMAGE_1507.jpg', 'IMAGE_1508.jpg', 'IMAGE_1509.jpg', 'IMAGE_1510.jpg', 'IMAGE_1511.jpg', 'IMAGE_1512.jpg', 'IMAGE_1513.jpg', 'IMAGE_1514.jpg', 'IMAGE_1515.jpg', 'IMAGE_1516.jpg', 'IMAGE_1517.jpg', 'IMAGE_1518.jpg', 'IMAGE_1519.jpg', 'IMAGE_1520.jpg', 'IMAGE_1521.jpg', 'IMAGE_1522.jpg', 'IMAGE_1523.jpg', 'IMAGE_1524.jpg', 'IMAGE_1525.jpg', 'IMAGE_1526.jpg', 'IMAGE_1527.jpg', 'IMAGE_1528.jpg', 'IMAGE_1529.jpg', 'IMAGE_1530.jpg', 'IMAGE_1531.jpg', 'IMAGE_1532.jpg', 'IMAGE_1533.jpg', 'IMAGE_1534.jpg', 'IMAGE_1535.jpg', 'IMAGE_1536.jpg', 'IMAGE_1537.jpg', 'IMAGE_1538.jpg', 'IMAGE_1539.jpg', 'IMAGE_1540.jpg', 'IMAGE_1541.jpg', 'IMAGE_1542.jpg', 'IMAGE_1543.jpg', 'IMAGE_1544.jpg', 'IMAGE_1545.jpg', 'IMAGE_1546.jpg', 'IMAGE_1547.jpg', 'IMAGE_1548.jpg', 'IMAGE_1549.jpg', 'IMAGE_1550.jpg', 'IMAGE_1551.jpg', 'IMAGE_1552.jpg', 'IMAGE_1553.jpg', 'IMAGE_1554.jpg', 'IMAGE_1555.jpg', 'IMAGE_1556.jpg', 'IMAGE_1557.jpg', 'IMAGE_1558.jpg', 'IMAGE_1559.jpg', 'IMAGE_1560.jpg', 'IMAGE_1561.jpg', 'IMAGE_1562.jpg', 'IMAGE_1563.jpg', 'IMAGE_1564.jpg', 'IMAGE_1565.jpg', 'IMAGE_1566.jpg', 'IMAGE_1567.jpg', 'IMAGE_1568.jpg', 'IMAGE_1569.jpg', 'IMAGE_1570.jpg', 'IMAGE_1571.jpg', 'IMAGE_1572.jpg', 'IMAGE_1573.jpg', 'IMAGE_1574.jpg', 'IMAGE_1575.jpg', 'IMAGE_1576.jpg', 'IMAGE_1577.jpg', 'IMAGE_1578.jpg', 'IMAGE_1579.jpg', 'IMAGE_1580.jpg', 'IMAGE_1581.jpg', 'IMAGE_1582.jpg', 'IMAGE_1583.jpg', 'IMAGE_1584.jpg', 'IMAGE_1585.jpg', 'IMAGE_1586.jpg', 'IMAGE_1587.jpg', 'IMAGE_1588.jpg', 'IMAGE_1589.jpg', 'IMAGE_1590.jpg', 'IMAGE_1591.jpg', 'IMAGE_1592.jpg', 'IMAGE_1593.jpg', 'IMAGE_1594.jpg', 'IMAGE_1595.jpg', 'IMAGE_1596.jpg', 'IMAGE_1597.jpg', 'IMAGE_1598.jpg', 'IMAGE_1599.jpg', 'IMAGE_1600.jpg', 'IMAGE_1601.jpg', 'IMAGE_1602.jpg', 'IMAGE_1603.jpg', 'IMAGE_1604.jpg', 'IMAGE_1605.jpg', 'IMAGE_1606.jpg', 'IMAGE_1607.jpg', 'IMAGE_1608.jpg', 'IMAGE_1609.jpg', 'IMAGE_1610.jpg', 'IMAGE_1611.jpg', 'IMAGE_1612.jpg', 'IMAGE_1613.jpg', 'IMAGE_1614.jpg', 'IMAGE_1615.jpg', 'IMAGE_1616.jpg', 'IMAGE_1617.jpg', 'IMAGE_1618.jpg', 'IMAGE_1619.jpg', 'IMAGE_1620.jpg', 'IMAGE_1621.jpg', 'IMAGE_1622.jpg', 'IMAGE_1623.jpg', 'IMAGE_1624.jpg', 'IMAGE_1625.jpg', 'IMAGE_1626.jpg', 'IMAGE_1627.jpg', 'IMAGE_1628.jpg', 'IMAGE_1629.jpg', 'IMAGE_1630.jpg', 'IMAGE_1631.jpg', 'IMAGE_1632.jpg', 'IMAGE_1633.jpg', 'IMAGE_1634.jpg', 'IMAGE_1635.jpg', 'IMAGE_1636.jpg', 'IMAGE_1637.jpg', 'IMAGE_1638.jpg', 'IMAGE_1639.jpg', 'IMAGE_1640.jpg', 'IMAGE_1641.jpg', 'IMAGE_1642.jpg', 'IMAGE_1643.jpg', 'IMAGE_1644.jpg', 'IMAGE_1645.jpg', 'IMAGE_1646.jpg', 'IMAGE_1647.jpg', 'IMAGE_1648.jpg', 'IMAGE_1649.jpg', 'IMAGE_1650.jpg', 'IMAGE_1651.jpg', 'IMAGE_1652.jpg', 'IMAGE_1653.jpg', 'IMAGE_1654.jpg', 'IMAGE_1655.jpg', 'IMAGE_1656.jpg', 'IMAGE_1657.jpg', 'IMAGE_1658.jpg', 'IMAGE_1659.jpg', 'IMAGE_1660.jpg', 'IMAGE_1661.jpg', 'IMAGE_1662.jpg', 'IMAGE_1663.jpg', 'IMAGE_1664.jpg', 'IMAGE_1665.jpg', 'IMAGE_1666.jpg', 'IMAGE_1667.jpg', 'IMAGE_1668.jpg', 'IMAGE_1669.jpg', 'IMAGE_1670.jpg', 'IMAGE_1671.jpg', 'IMAGE_1672.jpg', 'IMAGE_1673.jpg', 'IMAGE_1674.jpg', 'IMAGE_1675.jpg', 'IMAGE_1676.jpg', 'IMAGE_1677.jpg', 'IMAGE_1678.jpg', 'IMAGE_1679.jpg', 'IMAGE_1680.jpg', 'IMAGE_1681.jpg', 'IMAGE_1682.jpg', 'IMAGE_1683.jpg', 'IMAGE_1684.jpg', 'IMAGE_1685.jpg', 'IMAGE_1686.jpg', 'IMAGE_1687.jpg', 'IMAGE_1688.jpg', 'IMAGE_1689.jpg', 'IMAGE_1690.jpg', 'IMAGE_1691.jpg', 'IMAGE_1692.jpg', 'IMAGE_1693.jpg', 'IMAGE_1694.jpg', 'IMAGE_1695.jpg', 'IMAGE_1696.jpg', 'IMAGE_1697.jpg', 'IMAGE_1698.jpg', 'IMAGE_1699.jpg', 'IMAGE_1700.jpg', 'IMAGE_1701.jpg', 'IMAGE_1702.jpg', 'IMAGE_1703.jpg', 'IMAGE_1704.jpg', 'IMAGE_1705.jpg', 'IMAGE_1706.jpg', 'IMAGE_1707.jpg', 'IMAGE_1708.jpg', 'IMAGE_1709.jpg', 'IMAGE_1710.jpg', 'IMAGE_1711.jpg', 'IMAGE_1712.jpg', 'IMAGE_1713.jpg', 'IMAGE_1714.jpg', 'IMAGE_1715.jpg', 'IMAGE_1716.jpg', 'IMAGE_1717.jpg', 'IMAGE_1718.jpg', 'IMAGE_1719.jpg', 'IMAGE_1720.jpg', 'IMAGE_1721.jpg', 'IMAGE_1722.jpg', 'IMAGE_1723.jpg', 'IMAGE_1724.jpg', 'IMAGE_1725.jpg', 'IMAGE_1726.jpg', 'IMAGE_1727.jpg', 'IMAGE_1728.jpg', 'IMAGE_1729.jpg', 'IMAGE_1730.jpg', 'IMAGE_1731.jpg', 'IMAGE_1732.jpg', 'IMAGE_1733.jpg', 'IMAGE_1734.jpg', 'IMAGE_1735.jpg', 'IMAGE_1736.jpg', 'IMAGE_1737.jpg', 'IMAGE_1738.jpg', 'IMAGE_1739.jpg', 'IMAGE_1740.jpg', 'IMAGE_1741.jpg', 'IMAGE_1742.jpg', 'IMAGE_1743.jpg', 'IMAGE_1744.jpg', 'IMAGE_1745.jpg', 'IMAGE_1746.jpg', 'IMAGE_1747.jpg', 'IMAGE_1748.jpg', 'IMAGE_1749.jpg', 'IMAGE_1750.jpg', 'IMAGE_1751.jpg', 'IMAGE_1752.jpg', 'IMAGE_1753.jpg', 'IMAGE_1754.jpg', 'IMAGE_1755.jpg', 'IMAGE_1756.jpg', 'IMAGE_1757.jpg', 'IMAGE_1758.jpg', 'IMAGE_1759.jpg', 'IMAGE_1760.jpg', 'IMAGE_1761.jpg', 'IMAGE_1762.jpg', 'IMAGE_1763.jpg', 'IMAGE_1764.jpg', 'IMAGE_1765.jpg', 'IMAGE_1766.jpg', 'IMAGE_1767.jpg', 'IMAGE_1768.jpg', 'IMAGE_1769.jpg', 'IMAGE_1770.jpg', 'IMAGE_1771.jpg', 'IMAGE_1772.jpg', 'IMAGE_1773.jpg', 'IMAGE_1774.jpg', 'IMAGE_1775.jpg', 'IMAGE_1776.jpg', 'IMAGE_1777.jpg', 'IMAGE_1778.jpg', 'IMAGE_1779.jpg', 'IMAGE_1780.jpg', 'IMAGE_1781.jpg', 'IMAGE_1782.jpg', 'IMAGE_1783.jpg', 'IMAGE_1784.jpg', 'IMAGE_1785.jpg', 'IMAGE_1786.jpg', 'IMAGE_1787.jpg', 'IMAGE_1788.jpg', 'IMAGE_1789.jpg', 'IMAGE_1790.jpg', 'IMAGE_1791.jpg', 'IMAGE_1792.jpg', 'IMAGE_1793.jpg', 'IMAGE_1794.jpg', 'IMAGE_1795.jpg', 'IMAGE_1796.jpg', 'IMAGE_1797.jpg', 'IMAGE_1798.jpg', 'IMAGE_1799.jpg', 'IMAGE_1800.jpg', 'IMAGE_1801.jpg', 'IMAGE_1802.jpg', 'IMAGE_1803.jpg', 'IMAGE_1804.jpg', 'IMAGE_1805.jpg', 'IMAGE_1806.jpg', 'IMAGE_1807.jpg', 'IMAGE_1808.jpg', 'IMAGE_1809.jpg', 'IMAGE_1810.jpg', 'IMAGE_1811.jpg', 'IMAGE_1812.jpg', 'IMAGE_1813.jpg', 'IMAGE_1814.jpg', 'IMAGE_1815.jpg', 'IMAGE_1816.jpg', 'IMAGE_1817.jpg', 'IMAGE_1818.jpg', 'IMAGE_1819.jpg', 'IMAGE_1820.jpg', 'IMAGE_1821.jpg', 'IMAGE_1822.jpg', 'IMAGE_1823.jpg', 'IMAGE_1824.jpg', 'IMAGE_1825.jpg', 'IMAGE_1826.jpg', 'IMAGE_1827.jpg', 'IMAGE_1828.jpg', 'IMAGE_1829.jpg', 'IMAGE_1830.jpg', 'IMAGE_1831.jpg', 'IMAGE_1832.jpg', 'IMAGE_1833.jpg', 'IMAGE_1834.jpg', 'IMAGE_1835.jpg', 'IMAGE_1836.jpg', 'IMAGE_1837.jpg', 'IMAGE_1838.jpg', 'IMAGE_1839.jpg', 'IMAGE_1840.jpg', 'IMAGE_1841.jpg', 'IMAGE_1842.jpg', 'IMAGE_1843.jpg', 'IMAGE_1844.jpg', 'IMAGE_1845.jpg', 'IMAGE_1846.jpg', 'IMAGE_1847.jpg', 'IMAGE_1848.jpg', 'IMAGE_1849.jpg', 'IMAGE_1850.jpg', 'IMAGE_1851.jpg', 'IMAGE_1852.jpg', 'IMAGE_1853.jpg', 'IMAGE_1854.jpg', 'IMAGE_1855.jpg', 'IMAGE_1856.jpg', 'IMAGE_1857.jpg', 'IMAGE_1858.jpg', 'IMAGE_1859.jpg', 'IMAGE_1860.jpg', 'IMAGE_1861.jpg', 'IMAGE_1862.jpg', 'IMAGE_1863.jpg', 'IMAGE_1864.jpg', 'IMAGE_1865.jpg', 'IMAGE_1866.jpg', 'IMAGE_1867.jpg', 'IMAGE_1868.jpg', 'IMAGE_1869.jpg', 'IMAGE_1870.jpg', 'IMAGE_1871.jpg', 'IMAGE_1872.jpg', 'IMAGE_1873.jpg', 'IMAGE_1874.jpg', 'IMAGE_1875.jpg', 'IMAGE_1876.jpg', 'IMAGE_1877.jpg', 'IMAGE_1878.jpg', 'IMAGE_1879.jpg', 'IMAGE_1880.jpg', 'IMAGE_1881.jpg', 'IMAGE_1882.jpg', 'IMAGE_1883.jpg', 'IMAGE_1884.jpg', 'IMAGE_1885.jpg', 'IMAGE_1886.jpg', 'IMAGE_1887.jpg', 'IMAGE_1888.jpg', 'IMAGE_1889.jpg', 'IMAGE_1890.jpg', 'IMAGE_1891.jpg', 'IMAGE_1892.jpg', 'IMAGE_1893.jpg', 'IMAGE_1894.jpg', 'IMAGE_1895.jpg', 'IMAGE_1896.jpg', 'IMAGE_1897.jpg', 'IMAGE_1898.jpg', 'IMAGE_1899.jpg', 'IMAGE_1900.jpg', 'IMAGE_1901.jpg', 'IMAGE_1902.jpg', 'IMAGE_1903.jpg', 'IMAGE_1904.jpg', 'IMAGE_1905.jpg', 'IMAGE_1906.jpg', 'IMAGE_1907.jpg', 'IMAGE_1908.jpg', 'IMAGE_1909.jpg', 'IMAGE_1910.jpg', 'IMAGE_1911.jpg', 'IMAGE_1912.jpg', 'IMAGE_1913.jpg', 'IMAGE_1914.jpg', 'IMAGE_1915.jpg', 'IMAGE_1916.jpg', 'IMAGE_1917.jpg', 'IMAGE_1918.jpg', 'IMAGE_1919.jpg', 'IMAGE_1920.jpg', 'IMAGE_1921.jpg', 'IMAGE_1922.jpg', 'IMAGE_1923.jpg', 'IMAGE_1924.jpg', 'IMAGE_1925.jpg', 'IMAGE_1926.jpg', 'IMAGE_1927.jpg', 'IMAGE_1928.jpg', 'IMAGE_1929.jpg', 'IMAGE_1930.jpg', 'IMAGE_1931.jpg', 'IMAGE_1932.jpg', 'IMAGE_1933.jpg', 'IMAGE_1934.jpg', 'IMAGE_1935.jpg', 'IMAGE_1936.jpg', 'IMAGE_1937.jpg', 'IMAGE_1938.jpg', 'IMAGE_1939.jpg', 'IMAGE_1940.jpg', 'IMAGE_1941.jpg', 'IMAGE_1942.jpg', 'IMAGE_1943.jpg', 'IMAGE_1944.jpg', 'IMAGE_1945.jpg', 'IMAGE_1946.jpg', 'IMAGE_1947.jpg', 'IMAGE_1948.jpg', 'IMAGE_1949.jpg', 'IMAGE_1950.jpg', 'IMAGE_1951.jpg', 'IMAGE_1952.jpg', 'IMAGE_1953.jpg', 'IMAGE_1954.jpg', 'IMAGE_1955.jpg', 'IMAGE_1956.jpg', 'IMAGE_1957.jpg', 'IMAGE_1958.jpg', 'IMAGE_1959.jpg', 'IMAGE_1960.jpg', 'IMAGE_1961.jpg', 'IMAGE_1962.jpg', 'IMAGE_1963.jpg', 'IMAGE_1964.jpg', 'IMAGE_1965.jpg', 'IMAGE_1966.jpg', 'IMAGE_1967.jpg', 'IMAGE_1968.jpg', 'IMAGE_1969.jpg', 'IMAGE_1970.jpg', 'IMAGE_1971.jpg', 'IMAGE_1972.jpg', 'IMAGE_1973.jpg', 'IMAGE_1974.jpg', 'IMAGE_1975.jpg', 'IMAGE_1976.jpg', 'IMAGE_1977.jpg', 'IMAGE_1978.jpg', 'IMAGE_1979.jpg', 'IMAGE_1980.jpg', 'IMAGE_1981.jpg', 'IMAGE_1982.jpg', 'IMAGE_1983.jpg', 'IMAGE_1984.jpg', 'IMAGE_1985.jpg', 'IMAGE_1986.jpg', 'IMAGE_1987.jpg', 'IMAGE_1988.jpg', 'IMAGE_1989.jpg', 'IMAGE_1990.jpg', 'IMAGE_1991.jpg', 'IMAGE_1992.jpg', 'IMAGE_1993.jpg', 'IMAGE_1994.jpg', 'IMAGE_1995.jpg', 'IMAGE_1996.jpg', 'IMAGE_1997.jpg', 'IMAGE_1998.jpg', 'IMAGE_1999.jpg', 'IMAGE_2000.jpg', 'IMAGE_2001.jpg', 'IMAGE_2002.jpg', 'IMAGE_2003.jpg', 'IMAGE_2004.jpg', 'IMAGE_2005.jpg', 'IMAGE_2006.jpg', 'IMAGE_2007.jpg', 'IMAGE_2008.jpg', 'IMAGE_2009.jpg', 'IMAGE_2010.jpg', 'IMAGE_2011.jpg', 'IMAGE_2012.jpg', 'IMAGE_2013.jpg', 'IMAGE_2014.jpg', 'IMAGE_2015.jpg', 'IMAGE_2016.jpg', 'IMAGE_2017.jpg', 'IMAGE_2018.jpg', 'IMAGE_2019.jpg', 'IMAGE_2020.jpg', 'IMAGE_2021.jpg', 'IMAGE_2022.jpg', 'IMAGE_2023.jpg', 'IMAGE_2024.jpg', 'IMAGE_2025.jpg', 'IMAGE_2026.jpg', 'IMAGE_2027.jpg', 'IMAGE_2028.jpg', 'IMAGE_2029.jpg', 'IMAGE_2030.jpg', 'IMAGE_2031.jpg', 'IMAGE_2032.jpg', 'IMAGE_2033.jpg', 'IMAGE_2034.jpg', 'IMAGE_2035.jpg', 'IMAGE_2036.jpg', 'IMAGE_2037.jpg', 'IMAGE_2038.jpg', 'IMAGE_2039.jpg', 'IMAGE_2040.jpg', 'IMAGE_2041.jpg', 'IMAGE_2042.jpg', 'IMAGE_2043.jpg', 'IMAGE_2044.jpg', 'IMAGE_2045.jpg', 'IMAGE_2046.jpg', 'IMAGE_2047.jpg', 'IMAGE_2048.jpg', 'IMAGE_2049.jpg', 'IMAGE_2050.jpg', 'IMAGE_2051.jpg', 'IMAGE_2052.jpg', 'IMAGE_2053.jpg', 'IMAGE_2054.jpg', 'IMAGE_2055.jpg', 'IMAGE_2056.jpg', 'IMAGE_2057.jpg', 'IMAGE_2058.jpg', 'IMAGE_2059.jpg', 'IMAGE_2060.jpg', 'IMAGE_2061.jpg', 'IMAGE_2062.jpg', 'IMAGE_2063.jpg', 'IMAGE_2064.jpg', 'IMAGE_2065.jpg', 'IMAGE_2066.jpg', 'IMAGE_2067.jpg', 'IMAGE_2068.jpg', 'IMAGE_2069.jpg', 'IMAGE_2070.jpg', 'IMAGE_2071.jpg', 'IMAGE_2072.jpg', 'IMAGE_2073.jpg', 'IMAGE_2074.jpg', 'IMAGE_2075.jpg', 'IMAGE_2076.jpg', 'IMAGE_2077.jpg', 'IMAGE_2078.jpg', 'IMAGE_2079.jpg', 'IMAGE_2080.jpg', 'IMAGE_2081.jpg', 'IMAGE_2082.jpg', 'IMAGE_2083.jpg', 'IMAGE_2084.jpg', 'IMAGE_2085.jpg', 'IMAGE_2086.jpg', 'IMAGE_2087.jpg', 'IMAGE_2088.jpg', 'IMAGE_2089.jpg', 'IMAGE_2090.jpg', 'IMAGE_2091.jpg', 'IMAGE_2092.jpg', 'IMAGE_2093.jpg', 'IMAGE_2094.jpg', 'IMAGE_2095.jpg', 'IMAGE_2096.jpg', 'IMAGE_2097.jpg', 'IMAGE_2098.jpg', 'IMAGE_2099.jpg', 'IMAGE_2100.jpg', 'IMAGE_2101.jpg', 'IMAGE_2102.jpg', 'IMAGE_2103.jpg', 'IMAGE_2104.jpg', 'IMAGE_2105.jpg', 'IMAGE_2106.jpg', 'IMAGE_2107.jpg', 'IMAGE_2108.jpg', 'IMAGE_2109.jpg', 'IMAGE_2110.jpg', 'IMAGE_2111.jpg', 'IMAGE_2112.jpg', 'IMAGE_2113.jpg', 'IMAGE_2114.jpg', 'IMAGE_2115.jpg', 'IMAGE_2116.jpg', 'IMAGE_2117.jpg', 'IMAGE_2118.jpg', 'IMAGE_2119.jpg', 'IMAGE_2120.jpg', 'IMAGE_2121.jpg', 'IMAGE_2122.jpg', 'IMAGE_2123.jpg', 'IMAGE_2124.jpg', 'IMAGE_2125.jpg', 'IMAGE_2126.jpg', 'IMAGE_2127.jpg', 'IMAGE_2128.jpg', 'IMAGE_2129.jpg', 'IMAGE_2130.jpg', 'IMAGE_2131.jpg', 'IMAGE_2132.jpg', 'IMAGE_2133.jpg', 'IMAGE_2134.jpg', 'IMAGE_2135.jpg', 'IMAGE_2136.jpg', 'IMAGE_2137.jpg', 'IMAGE_2138.jpg', 'IMAGE_2139.jpg', 'IMAGE_2140.jpg', 'IMAGE_2141.jpg', 'IMAGE_2142.jpg', 'IMAGE_2143.jpg', 'IMAGE_2144.jpg', 'IMAGE_2145.jpg', 'IMAGE_2146.jpg', 'IMAGE_2147.jpg', 'IMAGE_2148.jpg', 'IMAGE_2149.jpg', 'IMAGE_2150.jpg', 'IMAGE_2151.jpg', 'IMAGE_2152.jpg', 'IMAGE_2153.jpg', 'IMAGE_2154.jpg', 'IMAGE_2155.jpg', 'IMAGE_2156.jpg', 'IMAGE_2157.jpg', 'IMAGE_2158.jpg', 'IMAGE_2159.jpg', 'IMAGE_2160.jpg', 'IMAGE_2161.jpg', 'IMAGE_2162.jpg', 'IMAGE_2163.jpg', 'IMAGE_2164.jpg', 'IMAGE_2165.jpg', 'IMAGE_2166.jpg', 'IMAGE_2167.jpg', 'IMAGE_2168.jpg', 'IMAGE_2169.jpg', 'IMAGE_2170.jpg', 'IMAGE_2171.jpg', 'IMAGE_2172.jpg', 'IMAGE_2173.jpg', 'IMAGE_2174.jpg', 'IMAGE_2175.jpg', 'IMAGE_2176.jpg', 'IMAGE_2177.jpg', 'IMAGE_2178.jpg', 'IMAGE_2179.jpg', 'IMAGE_2180.jpg', 'IMAGE_2181.jpg', 'IMAGE_2182.jpg', 'IMAGE_2183.jpg', 'IMAGE_2184.jpg', 'IMAGE_2185.jpg', 'IMAGE_2186.jpg', 'IMAGE_2187.jpg', 'IMAGE_2188.jpg', 'IMAGE_2189.jpg', 'IMAGE_2190.jpg', 'IMAGE_2191.jpg', 'IMAGE_2192.jpg', 'IMAGE_2193.jpg', 'IMAGE_2194.jpg', 'IMAGE_2195.jpg', 'IMAGE_2196.jpg', 'IMAGE_2197.jpg', 'IMAGE_2198.jpg', 'IMAGE_2199.jpg', 'IMAGE_2200.jpg', 'IMAGE_2201.jpg', 'IMAGE_2202.jpg', 'IMAGE_2203.jpg', 'IMAGE_2204.jpg', 'IMAGE_2205.jpg', 'IMAGE_2206.jpg', 'IMAGE_2207.jpg', 'IMAGE_2208.jpg', 'IMAGE_2209.jpg', 'IMAGE_2210.jpg', 'IMAGE_2211.jpg', 'IMAGE_2212.jpg', 'IMAGE_2213.jpg', 'IMAGE_2214.jpg', 'IMAGE_2215.jpg', 'IMAGE_2216.jpg', 'IMAGE_2217.jpg', 'IMAGE_2218.jpg', 'IMAGE_2219.jpg', 'IMAGE_2220.jpg', 'IMAGE_2221.jpg', 'IMAGE_2222.jpg', 'IMAGE_2223.jpg', 'IMAGE_2224.jpg', 'IMAGE_2225.jpg', 'IMAGE_2226.jpg', 'IMAGE_2227.jpg', 'IMAGE_2228.jpg', 'IMAGE_2229.jpg', 'IMAGE_2230.jpg', 'IMAGE_2231.jpg', 'IMAGE_2232.jpg', 'IMAGE_2233.jpg', 'IMAGE_2234.jpg', 'IMAGE_2235.jpg', 'IMAGE_2236.jpg', 'IMAGE_2237.jpg', 'IMAGE_2238.jpg', 'IMAGE_2239.jpg', 'IMAGE_2240.jpg', 'IMAGE_2241.jpg', 'IMAGE_2242.jpg', 'IMAGE_2243.jpg', 'IMAGE_2244.jpg', 'IMAGE_2245.jpg', 'IMAGE_2246.jpg', 'IMAGE_2247.jpg', 'IMAGE_2248.jpg', 'IMAGE_2249.jpg', 'IMAGE_2250.jpg', 'IMAGE_2251.jpg', 'IMAGE_2252.jpg', 'IMAGE_2253.jpg', 'IMAGE_2254.jpg', 'IMAGE_2255.jpg', 'IMAGE_2256.jpg', 'IMAGE_2257.jpg', 'IMAGE_2258.jpg', 'IMAGE_2259.jpg', 'IMAGE_2260.jpg', 'IMAGE_2261.jpg', 'IMAGE_2262.jpg', 'IMAGE_2263.jpg', 'IMAGE_2264.jpg', 'IMAGE_2265.jpg', 'IMAGE_2266.jpg', 'IMAGE_2267.jpg', 'IMAGE_2268.jpg', 'IMAGE_2269.jpg', 'IMAGE_2270.jpg', 'IMAGE_2271.jpg', 'IMAGE_2272.jpg', 'IMAGE_2273.jpg', 'IMAGE_2274.jpg', 'IMAGE_2275.jpg', 'IMAGE_2276.jpg', 'IMAGE_2277.jpg', 'IMAGE_2278.jpg', 'IMAGE_2279.jpg', 'IMAGE_2280.jpg', 'IMAGE_2281.jpg', 'IMAGE_2282.jpg', 'IMAGE_2283.jpg', 'IMAGE_2284.jpg', 'IMAGE_2285.jpg', 'IMAGE_2286.jpg', 'IMAGE_2287.jpg', 'IMAGE_2288.jpg', 'IMAGE_2289.jpg', 'IMAGE_2290.jpg', 'IMAGE_2291.jpg', 'IMAGE_2292.jpg', 'IMAGE_2293.jpg', 'IMAGE_2294.jpg', 'IMAGE_2295.jpg', 'IMAGE_2296.jpg', 'IMAGE_2297.jpg', 'IMAGE_2298.jpg', 'IMAGE_2299.jpg', 'IMAGE_2300.jpg', 'IMAGE_2301.jpg', 'IMAGE_2302.jpg', 'IMAGE_2303.jpg', 'IMAGE_2304.jpg', 'IMAGE_2305.jpg', 'IMAGE_2306.jpg', 'IMAGE_2307.jpg', 'IMAGE_2308.jpg', 'IMAGE_2309.jpg', 'IMAGE_2310.jpg', 'IMAGE_2311.jpg', 'IMAGE_2312.jpg', 'IMAGE_2313.jpg', 'IMAGE_2314.jpg', 'IMAGE_2315.jpg', 'IMAGE_2316.jpg', 'IMAGE_2317.jpg', 'IMAGE_2318.jpg', 'IMAGE_2319.jpg', 'IMAGE_2320.jpg', 'IMAGE_2321.jpg', 'IMAGE_2322.jpg', 'IMAGE_2323.jpg', 'IMAGE_2324.jpg', 'IMAGE_2325.jpg', 'IMAGE_2326.jpg', 'IMAGE_2327.jpg', 'IMAGE_2328.jpg', 'IMAGE_2329.jpg', 'IMAGE_2330.jpg', 'IMAGE_2331.jpg', 'IMAGE_2332.jpg', 'IMAGE_2333.jpg', 'IMAGE_2334.jpg', 'IMAGE_2335.jpg', 'IMAGE_2336.jpg', 'IMAGE_2337.jpg', 'IMAGE_2338.jpg', 'IMAGE_2339.jpg', 'IMAGE_2340.jpg', 'IMAGE_2341.jpg', 'IMAGE_2342.jpg', 'IMAGE_2343.jpg', 'IMAGE_2344.jpg', 'IMAGE_2345.jpg', 'IMAGE_2346.jpg', 'IMAGE_2347.jpg', 'IMAGE_2348.jpg', 'IMAGE_2349.jpg', 'IMAGE_2350.jpg', 'IMAGE_2351.jpg', 'IMAGE_2352.jpg', 'IMAGE_2353.jpg', 'IMAGE_2354.jpg', 'IMAGE_2355.jpg', 'IMAGE_2356.jpg', 'IMAGE_2357.jpg', 'IMAGE_2358.jpg', 'IMAGE_2359.jpg', 'IMAGE_2360.jpg', 'IMAGE_2361.jpg', 'IMAGE_2362.jpg', 'IMAGE_2363.jpg', 'IMAGE_2364.jpg', 'IMAGE_2365.jpg', 'IMAGE_2366.jpg', 'IMAGE_2367.jpg', 'IMAGE_2368.jpg', 'IMAGE_2369.jpg', 'IMAGE_2370.jpg', 'IMAGE_2371.jpg', 'IMAGE_2372.jpg', 'IMAGE_2373.jpg', 'IMAGE_2374.jpg', 'IMAGE_2375.jpg', 'IMAGE_2376.jpg', 'IMAGE_2377.jpg', 'IMAGE_2378.jpg', 'IMAGE_2379.jpg', 'IMAGE_2380.jpg', 'IMAGE_2381.jpg', 'IMAGE_2382.jpg', 'IMAGE_2383.jpg', 'IMAGE_2384.jpg', 'IMAGE_2385.jpg', 'IMAGE_2386.jpg', 'IMAGE_2387.jpg', 'IMAGE_2388.jpg', 'IMAGE_2389.jpg', 'IMAGE_2390.jpg', 'IMAGE_2391.jpg', 'IMAGE_2392.jpg', 'IMAGE_2393.jpg', 'IMAGE_2394.jpg', 'IMAGE_2395.jpg', 'IMAGE_2396.jpg', 'IMAGE_2397.jpg', 'IMAGE_2398.jpg', 'IMAGE_2399.jpg', 'IMAGE_2400.jpg', 'IMAGE_2401.jpg', 'IMAGE_2402.jpg', 'IMAGE_2403.jpg', 'IMAGE_2404.jpg', 'IMAGE_2405.jpg', 'IMAGE_2406.jpg', 'IMAGE_2407.jpg', 'IMAGE_2408.jpg', 'IMAGE_2409.jpg', 'IMAGE_2410.jpg', 'IMAGE_2411.jpg', 'IMAGE_2412.jpg', 'IMAGE_2413.jpg', 'IMAGE_2414.jpg', 'IMAGE_2415.jpg', 'IMAGE_2416.jpg', 'IMAGE_2417.jpg', 'IMAGE_2418.jpg', 'IMAGE_2419.jpg', 'IMAGE_2420.jpg', 'IMAGE_2421.jpg', 'IMAGE_2422.jpg', 'IMAGE_2423.jpg', 'IMAGE_2424.jpg', 'IMAGE_2425.jpg', 'IMAGE_2426.jpg', 'IMAGE_2427.jpg', 'IMAGE_2428.jpg', 'IMAGE_2429.jpg', 'IMAGE_2430.jpg', 'IMAGE_2431.jpg', 'IMAGE_2432.jpg', 'IMAGE_2433.jpg', 'IMAGE_2434.jpg', 'IMAGE_2435.jpg', 'IMAGE_2436.jpg', 'IMAGE_2437.jpg', 'IMAGE_2438.jpg', 'IMAGE_2439.jpg', 'IMAGE_2440.jpg', 'IMAGE_2441.jpg', 'IMAGE_2442.jpg', 'IMAGE_2443.jpg', 'IMAGE_2444.jpg', 'IMAGE_2445.jpg', 'IMAGE_2446.jpg', 'IMAGE_2447.jpg', 'IMAGE_2448.jpg', 'IMAGE_2449.jpg', 'IMAGE_2450.jpg', 'IMAGE_2451.jpg', 'IMAGE_2452.jpg', 'IMAGE_2453.jpg', 'IMAGE_2454.jpg', 'IMAGE_2455.jpg', 'IMAGE_2456.jpg', 'IMAGE_2457.jpg', 'IMAGE_2458.jpg', 'IMAGE_2459.jpg', 'IMAGE_2460.jpg', 'IMAGE_2461.jpg', 'IMAGE_2462.jpg', 'IMAGE_2463.jpg', 'IMAGE_2464.jpg', 'IMAGE_2465.jpg', 'IMAGE_2466.jpg', 'IMAGE_2467.jpg', 'IMAGE_2468.jpg', 'IMAGE_2469.jpg', 'IMAGE_2470.jpg', 'IMAGE_2471.jpg', 'IMAGE_2472.jpg', 'IMAGE_2473.jpg', 'IMAGE_2474.jpg', 'IMAGE_2475.jpg', 'IMAGE_2476.jpg', 'IMAGE_2477.jpg', 'IMAGE_2478.jpg', 'IMAGE_2479.jpg', 'IMAGE_2480.jpg', 'IMAGE_2481.jpg', 'IMAGE_2482.jpg', 'IMAGE_2483.jpg', 'IMAGE_2484.jpg', 'IMAGE_2485.jpg', 'IMAGE_2486.jpg', 'IMAGE_2487.jpg', 'IMAGE_2488.jpg', 'IMAGE_2489.jpg', 'IMAGE_2490.jpg', 'IMAGE_2491.jpg', 'IMAGE_2492.jpg', 'IMAGE_2493.jpg', 'IMAGE_2494.jpg', 'IMAGE_2495.jpg', 'IMAGE_2496.jpg', 'IMAGE_2497.jpg', 'IMAGE_2498.jpg', 'IMAGE_2499.jpg', 'IMAGE_2500.jpg', 'IMAGE_2501.jpg', 'IMAGE_2502.jpg', 'IMAGE_2503.jpg', 'IMAGE_2504.jpg', 'IMAGE_2505.jpg', 'IMAGE_2506.jpg', 'IMAGE_2507.jpg', 'IMAGE_2508.jpg', 'IMAGE_2509.jpg', 'IMAGE_2510.jpg', 'IMAGE_2511.jpg', 'IMAGE_2512.jpg', 'IMAGE_2513.jpg', 'IMAGE_2514.jpg', 'IMAGE_2515.jpg', 'IMAGE_2516.jpg', 'IMAGE_2517.jpg', 'IMAGE_2518.jpg', 'IMAGE_2519.jpg', 'IMAGE_2520.jpg', 'IMAGE_2521.jpg', 'IMAGE_2522.jpg', 'IMAGE_2523.jpg', 'IMAGE_2524.jpg', 'IMAGE_2525.jpg', 'IMAGE_2526.jpg', 'IMAGE_2527.jpg', 'IMAGE_2528.jpg', 'IMAGE_2529.jpg', 'IMAGE_2530.jpg', 'IMAGE_2531.jpg', 'IMAGE_2532.jpg', 'IMAGE_2533.jpg', 'IMAGE_2534.jpg', 'IMAGE_2535.jpg', 'IMAGE_2536.jpg', 'IMAGE_2537.jpg', 'IMAGE_2538.jpg', 'IMAGE_2539.jpg', 'IMAGE_2540.jpg', 'IMAGE_2541.jpg', 'IMAGE_2542.jpg', 'IMAGE_2543.jpg', 'IMAGE_2544.jpg', 'IMAGE_2545.jpg', 'IMAGE_2546.jpg', 'IMAGE_2547.jpg', 'IMAGE_2548.jpg', 'IMAGE_2549.jpg', 'IMAGE_2550.jpg', 'IMAGE_2551.jpg', 'IMAGE_2552.jpg', 'IMAGE_2553.jpg', 'IMAGE_2554.jpg', 'IMAGE_2555.jpg', 'IMAGE_2556.jpg', 'IMAGE_2557.jpg', 'IMAGE_2558.jpg', 'IMAGE_2559.jpg', 'IMAGE_2560.jpg', 'IMAGE_2561.jpg', 'IMAGE_2562.jpg', 'IMAGE_2563.jpg', 'IMAGE_2564.jpg', 'IMAGE_2565.jpg', 'IMAGE_2566.jpg', 'IMAGE_2567.jpg', 'IMAGE_2568.jpg', 'IMAGE_2569.jpg', 'IMAGE_2570.jpg', 'IMAGE_2571.jpg', 'IMAGE_2572.jpg', 'IMAGE_2573.jpg', 'IMAGE_2574.jpg', 'IMAGE_2575.jpg', 'IMAGE_2576.jpg', 'IMAGE_2577.jpg', 'IMAGE_2578.jpg', 'IMAGE_2579.jpg', 'IMAGE_2580.jpg', 'IMAGE_2581.jpg', 'IMAGE_2582.jpg', 'IMAGE_2583.jpg', 'IMAGE_2584.jpg', 'IMAGE_2585.jpg', 'IMAGE_2586.jpg', 'IMAGE_2587.jpg', 'IMAGE_2588.jpg', 'IMAGE_2589.jpg', 'IMAGE_2590.jpg', 'IMAGE_2591.jpg', 'IMAGE_2592.jpg', 'IMAGE_2593.jpg', 'IMAGE_2594.jpg', 'IMAGE_2595.jpg', 'IMAGE_2596.jpg', 'IMAGE_2597.jpg', 'IMAGE_2598.jpg', 'IMAGE_2599.jpg', 'IMAGE_2600.jpg', 'IMAGE_2601.jpg', 'IMAGE_2602.jpg', 'IMAGE_2603.jpg', 'IMAGE_2604.jpg', 'IMAGE_2605.jpg', 'IMAGE_2606.jpg', 'IMAGE_2607.jpg', 'IMAGE_2608.jpg', 'IMAGE_2609.jpg', 'IMAGE_2610.jpg', 'IMAGE_2611.jpg', 'IMAGE_2612.jpg', 'IMAGE_2613.jpg', 'IMAGE_2614.jpg', 'IMAGE_2615.jpg', 'IMAGE_2616.jpg', 'IMAGE_2617.jpg', 'IMAGE_2618.jpg', 'IMAGE_2619.jpg', 'IMAGE_2620.jpg', 'IMAGE_2621.jpg', 'IMAGE_2622.jpg', 'IMAGE_2623.jpg', 'IMAGE_2624.jpg', 'IMAGE_2625.jpg', 'IMAGE_2626.jpg', 'IMAGE_2627.jpg', 'IMAGE_2628.jpg', 'IMAGE_2629.jpg', 'IMAGE_2630.jpg', 'IMAGE_2631.jpg', 'IMAGE_2632.jpg', 'IMAGE_2633.jpg', 'IMAGE_2634.jpg', 'IMAGE_2635.jpg', 'IMAGE_2636.jpg', 'IMAGE_2637.jpg', 'IMAGE_2638.jpg', 'IMAGE_2639.jpg', 'IMAGE_2640.jpg', 'IMAGE_2641.jpg', 'IMAGE_2642.jpg', 'IMAGE_2643.jpg', 'IMAGE_2644.jpg', 'IMAGE_2645.jpg', 'IMAGE_2646.jpg', 'IMAGE_2647.jpg', 'IMAGE_2648.jpg', 'IMAGE_2649.jpg', 'IMAGE_2650.jpg', 'IMAGE_2651.jpg', 'IMAGE_2652.jpg', 'IMAGE_2653.jpg', 'IMAGE_2654.jpg', 'IMAGE_2655.jpg', 'IMAGE_2656.jpg', 'IMAGE_2657.jpg', 'IMAGE_2658.jpg', 'IMAGE_2659.jpg', 'IMAGE_2660.jpg', 'IMAGE_2661.jpg', 'IMAGE_2662.jpg', 'IMAGE_2663.jpg', 'IMAGE_2664.jpg', 'IMAGE_2665.jpg', 'IMAGE_2666.jpg', 'IMAGE_2667.jpg', 'IMAGE_2668.jpg', 'IMAGE_2669.jpg', 'IMAGE_2670.jpg', 'IMAGE_2671.jpg', 'IMAGE_2672.jpg', 'IMAGE_2673.jpg', 'IMAGE_2674.jpg', 'IMAGE_2675.jpg', 'IMAGE_2676.jpg', 'IMAGE_2677.jpg', 'IMAGE_2678.jpg', 'IMAGE_2679.jpg', 'IMAGE_2680.jpg', 'IMAGE_2681.jpg', 'IMAGE_2682.jpg', 'IMAGE_2683.jpg', 'IMAGE_2684.jpg', 'IMAGE_2685.jpg', 'IMAGE_2686.jpg', 'IMAGE_2687.jpg', 'IMAGE_2688.jpg', 'IMAGE_2689.jpg', 'IMAGE_2690.jpg', 'IMAGE_2691.jpg', 'IMAGE_2692.jpg', 'IMAGE_2693.jpg', 'IMAGE_2694.jpg', 'IMAGE_2695.jpg', 'IMAGE_2696.jpg', 'IMAGE_2697.jpg', 'IMAGE_2698.jpg', 'IMAGE_2699.jpg', 'IMAGE_2700.jpg', 'IMAGE_2701.jpg', 'IMAGE_2702.jpg', 'IMAGE_2703.jpg', 'IMAGE_2704.jpg', 'IMAGE_2705.jpg', 'IMAGE_2706.jpg', 'IMAGE_2707.jpg', 'IMAGE_2708.jpg', 'IMAGE_2709.jpg', 'IMAGE_2710.jpg', 'IMAGE_2711.jpg', 'IMAGE_2712.jpg', 'IMAGE_2713.jpg', 'IMAGE_2714.jpg', 'IMAGE_2715.jpg', 'IMAGE_2716.jpg', 'IMAGE_2717.jpg', 'IMAGE_2718.jpg', 'IMAGE_2719.jpg', 'IMAGE_2720.jpg', 'IMAGE_2721.jpg', 'IMAGE_2722.jpg', 'IMAGE_2723.jpg', 'IMAGE_2724.jpg', 'IMAGE_2725.jpg', 'IMAGE_2726.jpg', 'IMAGE_2727.jpg', 'IMAGE_2728.jpg', 'IMAGE_2729.jpg', 'IMAGE_2730.jpg', 'IMAGE_2731.jpg', 'IMAGE_2732.jpg', 'IMAGE_2733.jpg', 'IMAGE_2734.jpg', 'IMAGE_2735.jpg', 'IMAGE_2736.jpg', 'IMAGE_2737.jpg', 'IMAGE_2738.jpg', 'IMAGE_2739.jpg', 'IMAGE_2740.jpg', 'IMAGE_2741.jpg', 'IMAGE_2742.jpg', 'IMAGE_2743.jpg', 'IMAGE_2744.jpg', 'IMAGE_2745.jpg', 'IMAGE_2746.jpg', 'IMAGE_2747.jpg', 'IMAGE_2748.jpg', 'IMAGE_2749.jpg', 'IMAGE_2750.jpg', 'IMAGE_2751.jpg', 'IMAGE_2752.jpg', 'IMAGE_2753.jpg', 'IMAGE_2754.jpg', 'IMAGE_2755.jpg', 'IMAGE_2756.jpg', 'IMAGE_2757.jpg', 'IMAGE_2758.jpg', 'IMAGE_2759.jpg', 'IMAGE_2760.jpg', 'IMAGE_2761.jpg', 'IMAGE_2762.jpg', 'IMAGE_2763.jpg', 'IMAGE_2764.jpg', 'IMAGE_2765.jpg', 'IMAGE_2766.jpg', 'IMAGE_2767.jpg', 'IMAGE_2768.jpg', 'IMAGE_2769.jpg', 'IMAGE_2770.jpg', 'IMAGE_2771.jpg', 'IMAGE_2772.jpg', 'IMAGE_2773.jpg', 'IMAGE_2774.jpg', 'IMAGE_2775.jpg', 'IMAGE_2776.jpg', 'IMAGE_2777.jpg', 'IMAGE_2778.jpg', 'IMAGE_2779.jpg', 'IMAGE_2780.jpg', 'IMAGE_2781.jpg', 'IMAGE_2782.jpg', 'IMAGE_2783.jpg', 'IMAGE_2784.jpg', 'IMAGE_2785.jpg', 'IMAGE_2786.jpg', 'IMAGE_2787.jpg', 'IMAGE_2788.jpg', 'IMAGE_2789.jpg', 'IMAGE_2790.jpg', 'IMAGE_2791.jpg', 'IMAGE_2792.jpg', 'IMAGE_2793.jpg', 'IMAGE_2794.jpg', 'IMAGE_2795.jpg', 'IMAGE_2796.jpg', 'IMAGE_2797.jpg', 'IMAGE_2798.jpg', 'IMAGE_2799.jpg', 'IMAGE_2800.jpg', 'IMAGE_2801.jpg', 'IMAGE_2802.jpg', 'IMAGE_2803.jpg', 'IMAGE_2804.jpg', 'IMAGE_2805.jpg', 'IMAGE_2806.jpg', 'IMAGE_2807.jpg', 'IMAGE_2808.jpg', 'IMAGE_2809.jpg', 'IMAGE_2810.jpg', 'IMAGE_2811.jpg', 'IMAGE_2812.jpg', 'IMAGE_2813.jpg', 'IMAGE_2814.jpg', 'IMAGE_2815.jpg', 'IMAGE_2816.jpg', 'IMAGE_2817.jpg', 'IMAGE_2818.jpg', 'IMAGE_2819.jpg', 'IMAGE_2820.jpg', 'IMAGE_2821.jpg', 'IMAGE_2822.jpg', 'IMAGE_2823.jpg', 'IMAGE_2824.jpg', 'IMAGE_2825.jpg', 'IMAGE_2826.jpg', 'IMAGE_2827.jpg', 'IMAGE_2828.jpg', 'IMAGE_2829.jpg', 'IMAGE_2830.jpg', 'IMAGE_2831.jpg', 'IMAGE_2832.jpg', 'IMAGE_2833.jpg', 'IMAGE_2834.jpg', 'IMAGE_2835.jpg', 'IMAGE_2836.jpg', 'IMAGE_2837.jpg', 'IMAGE_2838.jpg', 'IMAGE_2839.jpg', 'IMAGE_2840.jpg', 'IMAGE_2841.jpg', 'IMAGE_2842.jpg', 'IMAGE_2843.jpg', 'IMAGE_2844.jpg', 'IMAGE_2845.jpg', 'IMAGE_2846.jpg', 'IMAGE_2847.jpg', 'IMAGE_2848.jpg', 'IMAGE_2849.jpg', 'IMAGE_2850.jpg', 'IMAGE_2851.jpg', 'IMAGE_2852.jpg', 'IMAGE_2853.jpg', 'IMAGE_2854.jpg', 'IMAGE_2855.jpg', 'IMAGE_2856.jpg', 'IMAGE_2857.jpg', 'IMAGE_2858.jpg', 'IMAGE_2859.jpg', 'IMAGE_2860.jpg', 'IMAGE_2861.jpg', 'IMAGE_2862.jpg', 'IMAGE_2863.jpg', 'IMAGE_2864.jpg', 'IMAGE_2865.jpg', 'IMAGE_2866.jpg', 'IMAGE_2867.jpg', 'IMAGE_2868.jpg', 'IMAGE_2869.jpg', 'IMAGE_2870.jpg', 'IMAGE_2871.jpg', 'IMAGE_2872.jpg', 'IMAGE_2873.jpg', 'IMAGE_2874.jpg', 'IMAGE_2875.jpg', 'IMAGE_2876.jpg', 'IMAGE_2877.jpg', 'IMAGE_2878.jpg', 'IMAGE_2879.jpg', 'IMAGE_2880.jpg', 'IMAGE_2881.jpg', 'IMAGE_2882.jpg', 'IMAGE_2883.jpg', 'IMAGE_2884.jpg', 'IMAGE_2885.jpg', 'IMAGE_2886.jpg', 'IMAGE_2887.jpg', 'IMAGE_2888.jpg', 'IMAGE_2889.jpg', 'IMAGE_2890.jpg', 'IMAGE_2891.jpg', 'IMAGE_2892.jpg', 'IMAGE_2893.jpg', 'IMAGE_2894.jpg', 'IMAGE_2895.jpg', 'IMAGE_2896.jpg', 'IMAGE_2897.jpg', 'IMAGE_2898.jpg', 'IMAGE_2899.jpg', 'IMAGE_2900.jpg', 'IMAGE_2901.jpg', 'IMAGE_2902.jpg', 'IMAGE_2903.jpg', 'IMAGE_2904.jpg', 'IMAGE_2905.jpg', 'IMAGE_2906.jpg', 'IMAGE_2907.jpg', 'IMAGE_2908.jpg', 'IMAGE_2909.jpg', 'IMAGE_2910.jpg', 'IMAGE_2911.jpg', 'IMAGE_2912.jpg', 'IMAGE_2913.jpg', 'IMAGE_2914.jpg', 'IMAGE_2915.jpg', 'IMAGE_2916.jpg', 'IMAGE_2917.jpg', 'IMAGE_2918.jpg', 'IMAGE_2919.jpg', 'IMAGE_2920.jpg', 'IMAGE_2921.jpg', 'IMAGE_2922.jpg', 'IMAGE_2923.jpg', 'IMAGE_2924.jpg', 'IMAGE_2925.jpg', 'IMAGE_2926.jpg', 'IMAGE_2927.jpg', 'IMAGE_2928.jpg', 'IMAGE_2929.jpg', 'IMAGE_2930.jpg', 'IMAGE_2931.jpg', 'IMAGE_2932.jpg', 'IMAGE_2933.jpg', 'IMAGE_2934.jpg', 'IMAGE_2935.jpg', 'IMAGE_2936.jpg', 'IMAGE_2937.jpg', 'IMAGE_2938.jpg', 'IMAGE_2939.jpg', 'IMAGE_2940.jpg', 'IMAGE_2941.jpg', 'IMAGE_2942.jpg', 'IMAGE_2943.jpg', 'IMAGE_2944.jpg', 'IMAGE_2945.jpg', 'IMAGE_2946.jpg', 'IMAGE_2947.jpg', 'IMAGE_2948.jpg', 'IMAGE_2949.jpg', 'IMAGE_2950.jpg', 'IMAGE_2951.jpg', 'IMAGE_2952.jpg', 'IMAGE_2953.jpg', 'IMAGE_2954.jpg', 'IMAGE_2955.jpg', 'IMAGE_2956.jpg', 'IMAGE_2957.jpg', 'IMAGE_2958.jpg', 'IMAGE_2959.jpg', 'IMAGE_2960.jpg', 'IMAGE_2961.jpg', 'IMAGE_2962.jpg', 'IMAGE_2963.jpg', 'IMAGE_2964.jpg', 'IMAGE_2965.jpg', 'IMAGE_2966.jpg', 'IMAGE_2967.jpg', 'IMAGE_2968.jpg', 'IMAGE_2969.jpg', 'IMAGE_2970.jpg', 'IMAGE_2971.jpg', 'IMAGE_2972.jpg', 'IMAGE_2973.jpg', 'IMAGE_2974.jpg', 'IMAGE_2975.jpg', 'IMAGE_2976.jpg', 'IMAGE_2977.jpg', 'IMAGE_2978.jpg', 'IMAGE_2979.jpg', 'IMAGE_2980.jpg', 'IMAGE_2981.jpg', 'IMAGE_2982.jpg', 'IMAGE_2983.jpg', 'IMAGE_2984.jpg', 'IMAGE_2985.jpg', 'IMAGE_2986.jpg', 'IMAGE_2987.jpg', 'IMAGE_2988.jpg', 'IMAGE_2989.jpg', 'IMAGE_2990.jpg', 'IMAGE_2991.jpg', 'IMAGE_2992.jpg', 'IMAGE_2993.jpg', 'IMAGE_2994.jpg', 'IMAGE_2995.jpg', 'IMAGE_2996.jpg', 'IMAGE_2997.jpg', 'IMAGE_2998.jpg', 'IMAGE_2999.jpg']\n"
     ]
    },
    {
     "name": "stdout",
     "output_type": "stream",
     "text": [
      "(3000, 512, 512, 3)\n"
     ]
    }
   ],
   "source": [
    "#Example of loading one image\n",
    "\n",
    "#image = imread('./dataset/image/IMAGE_0009.jpg')\n",
    "#plt.imshow(image)\n",
    "\n",
    "#Testing Image Loding + Converting to an array\n",
    "\n",
    "#image2 = imread('./dataset/image/IMAGE_0010.jpg')\n",
    "#plt.figure()\n",
    "#plt.imshow(image2)\n",
    "#imarr = np.array(image2)\n",
    "#plt.figure()\n",
    "#plt.imshow(imarr)\n",
    "\n",
    "\n",
    "#x=0\n",
    "#t = time.process_time()\n",
    "\n",
    "#Uncomment to verify contents of the directory loaded\n",
    "\n",
    "dirname = './dataset/image'\n",
    "print(listdir(dirname))\n",
    "\n",
    "#Code used to test timing\n",
    "\n",
    "#start = datetime.now()\n",
    "#start = datetime.now().time()\n",
    "#print('start: ')\n",
    "#print(start)\n",
    "\n",
    "images = []\n",
    "\n",
    "for file in listdir('./dataset/image'):\n",
    "\n",
    "    img = io.imread('./dataset/image/' + file)\n",
    "    #plt.figure()\n",
    "    #plt.imshow(img)\n",
    "    \n",
    "    img = np.array(img)\n",
    "    images.append(img)\n",
    "    \n",
    "    #print(x)\n",
    "    #x += 1 \n",
    "\n",
    "print(np.array(images).shape)\n",
    "    \n",
    "#Place the code used to test timing\n",
    "\n",
    "#end = datetime.now()\n",
    "#end = datetime.now().time()\n",
    "#print('end: ')\n",
    "#print(end)\n",
    "#elapsed = end - start\n",
    "#print(elapsed)\n",
    "#current = elapsed    \n",
    "#ETA = time.process_time() - t\n",
    "#print(ETA)\n"
   ]
  },
  {
   "cell_type": "markdown",
   "id": "cb88209c",
   "metadata": {},
   "source": [
    "### Splitting the data into training and testing data"
   ]
  },
  {
   "cell_type": "code",
   "execution_count": 7,
   "id": "d6d3b8e0",
   "metadata": {},
   "outputs": [
    {
     "name": "stdout",
     "output_type": "stream",
     "text": [
      "(2250, 512, 512, 3)\n",
      "(750, 512, 512, 3)\n"
     ]
    }
   ],
   "source": [
    "X = np.array(images)\n",
    "Y = tumour_labels['binary label']\n",
    "\n",
    "xTrain, xTest, yTrain, yTest = train_test_split(X,Y)\n",
    "\n",
    "print(xTrain.shape)\n",
    "print(xTest.shape)"
   ]
  },
  {
   "cell_type": "markdown",
   "id": "96557079",
   "metadata": {},
   "source": [
    "### Feature extraction + training?"
   ]
  },
  {
   "cell_type": "markdown",
   "id": "c63d8824",
   "metadata": {},
   "source": [
    "### Logistic Regression + Results"
   ]
  },
  {
   "cell_type": "code",
   "execution_count": 8,
   "id": "6fb293cd",
   "metadata": {},
   "outputs": [],
   "source": [
    "xTrain = xTrain.reshape(2250, 512*512*3)"
   ]
  },
  {
   "cell_type": "code",
   "execution_count": 9,
   "id": "bc9d04aa",
   "metadata": {},
   "outputs": [
    {
     "data": {
      "text/plain": [
       "(2250, 786432)"
      ]
     },
     "execution_count": 9,
     "metadata": {},
     "output_type": "execute_result"
    }
   ],
   "source": [
    "xTrain.shape"
   ]
  },
  {
   "cell_type": "markdown",
   "id": "3ddb776b",
   "metadata": {},
   "source": [
    "### Training"
   ]
  },
  {
   "cell_type": "code",
   "execution_count": 10,
   "id": "ad59a035",
   "metadata": {},
   "outputs": [],
   "source": [
    "def LogRegClassification(xTrain, yTrain, xTest):\n",
    "\n",
    "    model = LogisticRegression()\n",
    "    model.fit(xTrain, yTrain)\n",
    "    y_Pred = model.predict(xTest)\n",
    "    \n",
    "    return y_Pred"
   ]
  },
  {
   "cell_type": "code",
   "execution_count": null,
   "id": "8cd4d671",
   "metadata": {},
   "outputs": [],
   "source": [
    "y_Pred = LogRegClassification(xTrain, yTrain, xTest)\n",
    "print('Accuracy on test set: '+str(accuracy_score(yTest,y_Pred)))\n",
    "print(classification_report(yTest,y_Pred))#text report showing the main classification metrics"
   ]
  },
  {
   "cell_type": "markdown",
   "id": "97e6f11c",
   "metadata": {},
   "source": [
    "### Testing and reporting new accuracy score using updated test set uploaded on XX Dec"
   ]
  },
  {
   "cell_type": "code",
   "execution_count": null,
   "id": "f60f7013",
   "metadata": {},
   "outputs": [],
   "source": []
  },
  {
   "cell_type": "markdown",
   "id": "4495fbb7",
   "metadata": {},
   "source": [
    "### Plot the confusion matrix and then show which images were misclassified and see if they are the same each time"
   ]
  },
  {
   "cell_type": "code",
   "execution_count": null,
   "id": "f7a6bd54",
   "metadata": {},
   "outputs": [],
   "source": []
  },
  {
   "cell_type": "markdown",
   "id": "7aeaf25c",
   "metadata": {},
   "source": [
    "### See if any specific techniques can be used to help with the images"
   ]
  },
  {
   "cell_type": "code",
   "execution_count": null,
   "id": "23f9926d",
   "metadata": {},
   "outputs": [],
   "source": []
  },
  {
   "cell_type": "markdown",
   "id": "31adba42",
   "metadata": {},
   "source": [
    "### Training loss, validation loss and hyperpara tuning"
   ]
  },
  {
   "cell_type": "code",
   "execution_count": null,
   "id": "7e849ed4",
   "metadata": {},
   "outputs": [],
   "source": []
  }
 ],
 "metadata": {
  "kernelspec": {
   "display_name": "Python 3 (ipykernel)",
   "language": "python",
   "name": "python3"
  },
  "language_info": {
   "codemirror_mode": {
    "name": "ipython",
    "version": 3
   },
   "file_extension": ".py",
   "mimetype": "text/x-python",
   "name": "python",
   "nbconvert_exporter": "python",
   "pygments_lexer": "ipython3",
   "version": "3.7.11"
  }
 },
 "nbformat": 4,
 "nbformat_minor": 5
}
