{
 "cells": [
  {
   "cell_type": "markdown",
   "id": "519cd17c",
   "metadata": {},
   "source": [
    "# Applied Machine Learning Systems (MLS-1) - ELEC0134\n",
    "\n",
    "# Final Assignment - Classification of Tumours\n",
    "\n",
    "## Task A - Binary Classification using Logistic Regression\n",
    "\n",
    "## Completed by Student Number - 18014580"
   ]
  },
  {
   "cell_type": "markdown",
   "id": "67e3e166",
   "metadata": {},
   "source": [
    "This is a Jupyter Notebook submitted as part of the final assignment for the Applied Machine Learning Systems (MLS-1) coursework which involves tumor classification and identification.\n",
    "\n",
    "This particular notebook tests the logistic regression method on Task A to find the accuracy of logistic regression for this particular task."
   ]
  },
  {
   "cell_type": "markdown",
   "id": "1e793bf4",
   "metadata": {},
   "source": [
    "### Importing different packages\n",
    "\n",
    "Initially, we must import the different packages needed for this task. The packages required to implement logistic regression for this binary task are pandas, sklearn, numpy and scipy."
   ]
  },
  {
   "cell_type": "code",
   "execution_count": 6,
   "id": "879d183f",
   "metadata": {},
   "outputs": [
    {
     "name": "stdout",
     "output_type": "stream",
     "text": [
      "All imports carried out successfully\n"
     ]
    }
   ],
   "source": [
    "import pandas as pd\n",
    "import numpy as np\n",
    "# import tensorflow as tf\n",
    "from sklearn.model_selection import train_test_split\n",
    "from sklearn.linear_model import LogisticRegression\n",
    "from skimage.io import imread, imshow\n",
    "from keras.preprocessing import image\n",
    "\n",
    "import os\n",
    "\n",
    "print(\"All imports carried out successfully\")"
   ]
  },
  {
   "cell_type": "markdown",
   "id": "397c0f4e",
   "metadata": {},
   "source": [
    "### Loading the data from the data sets"
   ]
  },
  {
   "cell_type": "code",
   "execution_count": null,
   "id": "2788f3a9",
   "metadata": {},
   "outputs": [],
   "source": [
    "#Loading the CSV file containing the labels\n",
    "tumour_labels = pd.read_csv('./dataset/label.csv')"
   ]
  },
  {
   "cell_type": "markdown",
   "id": "4ecb9b2b",
   "metadata": {},
   "source": [
    "### Splitting the data into training and testing data"
   ]
  }
 ],
 "metadata": {
  "kernelspec": {
   "display_name": "Python 3 (ipykernel)",
   "language": "python",
   "name": "python3"
  },
  "language_info": {
   "codemirror_mode": {
    "name": "ipython",
    "version": 3
   },
   "file_extension": ".py",
   "mimetype": "text/x-python",
   "name": "python",
   "nbconvert_exporter": "python",
   "pygments_lexer": "ipython3",
   "version": "3.7.11"
  }
 },
 "nbformat": 4,
 "nbformat_minor": 5
}
